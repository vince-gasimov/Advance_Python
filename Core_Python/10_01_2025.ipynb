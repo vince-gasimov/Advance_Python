{
 "cells": [
  {
   "cell_type": "markdown",
   "id": "575014f0",
   "metadata": {},
   "source": [
    "# Tuples\n",
    "\n",
    "- itterable -> the elements can be reached or selected\n",
    "- immutable -> the elements or the tuple itself cannot be changed once created\n",
    "\n",
    "###differences between Tuples and List\n",
    "- list is flexible, it makes it prone to problems\n",
    "- tuples are not flexible but its more reliable\n",
    "\n",
    "like a list, it is a collection data type, it needs at leat two elements or indication of multiple elements"
   ]
  },
  {
   "cell_type": "code",
   "execution_count": 2,
   "id": "07cc9e37",
   "metadata": {},
   "outputs": [
    {
     "data": {
      "text/plain": [
       "(12, 12.9, True, 'vusal')"
      ]
     },
     "execution_count": 2,
     "metadata": {},
     "output_type": "execute_result"
    }
   ],
   "source": [
    "# first way creating tuple\n",
    "(12, 12.90, True, \"vusal\")"
   ]
  },
  {
   "cell_type": "code",
   "execution_count": null,
   "id": "a835750c",
   "metadata": {},
   "outputs": [],
   "source": [
    "(12, 12.90, True, \"vusal\")"
   ]
  },
  {
   "cell_type": "code",
   "execution_count": 3,
   "id": "2f76fac1",
   "metadata": {},
   "outputs": [
    {
     "data": {
      "text/plain": [
       "()"
      ]
     },
     "execution_count": 3,
     "metadata": {},
     "output_type": "execute_result"
    }
   ],
   "source": [
    "# second way creating tuple\n",
    "tuple()\n",
    "# you can create a tuple with this function but only from an iterable data"
   ]
  },
  {
   "cell_type": "code",
   "execution_count": 5,
   "id": "9c4f592d",
   "metadata": {},
   "outputs": [
    {
     "data": {
      "text/plain": [
       "(12, False, 'gasimov')"
      ]
     },
     "execution_count": 5,
     "metadata": {},
     "output_type": "execute_result"
    }
   ],
   "source": [
    "my_list = [12, False, \"gasimov\"]\n",
    "tuple(my_list)\n",
    "# because list is iterable data, I am able to create tuple from it"
   ]
  },
  {
   "cell_type": "code",
   "execution_count": 6,
   "id": "faa26324",
   "metadata": {},
   "outputs": [
    {
     "data": {
      "text/plain": [
       "('V', 'u', 's', 'a', 'l', ' ', 'G', 'a', 's', 'i', 'm', 'o', 'v')"
      ]
     },
     "execution_count": 6,
     "metadata": {},
     "output_type": "execute_result"
    }
   ],
   "source": [
    "tuple('Vusal Gasimov')"
   ]
  },
  {
   "cell_type": "code",
   "execution_count": 8,
   "id": "9fcb3323",
   "metadata": {},
   "outputs": [
    {
     "data": {
      "text/plain": [
       "tuple"
      ]
     },
     "execution_count": 8,
     "metadata": {},
     "output_type": "execute_result"
    }
   ],
   "source": [
    "# third way creating a touple\n",
    "a = 8,9\n",
    "type(a)\n",
    "# do not need to pu () on touple"
   ]
  },
  {
   "cell_type": "markdown",
   "id": "6f8b31c2",
   "metadata": {},
   "source": [
    "#### tuple needs multiple elements\n",
    "- cannot create a tuple with single element"
   ]
  },
  {
   "cell_type": "code",
   "execution_count": 9,
   "id": "105118bd",
   "metadata": {},
   "outputs": [
    {
     "data": {
      "text/plain": [
       "int"
      ]
     },
     "execution_count": 9,
     "metadata": {},
     "output_type": "execute_result"
    }
   ],
   "source": [
    "b = (12)\n",
    "type(b)"
   ]
  },
  {
   "cell_type": "code",
   "execution_count": 11,
   "id": "9826f4c2",
   "metadata": {},
   "outputs": [
    {
     "ename": "TypeError",
     "evalue": "'bool' object is not iterable",
     "output_type": "error",
     "traceback": [
      "\u001b[31m---------------------------------------------------------------------------\u001b[39m",
      "\u001b[31mTypeError\u001b[39m                                 Traceback (most recent call last)",
      "\u001b[36mCell\u001b[39m\u001b[36m \u001b[39m\u001b[32mIn[11]\u001b[39m\u001b[32m, line 1\u001b[39m\n\u001b[32m----> \u001b[39m\u001b[32m1\u001b[39m \u001b[38;5;28;43mtuple\u001b[39;49m\u001b[43m(\u001b[49m\u001b[38;5;28;43;01mTrue\u001b[39;49;00m\u001b[43m)\u001b[49m\n",
      "\u001b[31mTypeError\u001b[39m: 'bool' object is not iterable"
     ]
    }
   ],
   "source": [
    "tuple(True)"
   ]
  },
  {
   "cell_type": "code",
   "execution_count": 12,
   "id": "1cea856f",
   "metadata": {},
   "outputs": [
    {
     "data": {
      "text/plain": [
       "tuple"
      ]
     },
     "execution_count": 12,
     "metadata": {},
     "output_type": "execute_result"
    }
   ],
   "source": [
    "c = 8,\n",
    "type(c)\n",
    "# once you put a comma, it is considered as tuple"
   ]
  },
  {
   "cell_type": "code",
   "execution_count": 13,
   "id": "1cb3efee",
   "metadata": {},
   "outputs": [
    {
     "data": {
      "text/plain": [
       "(1, 2, 3, 4, 5, 6)"
      ]
     },
     "execution_count": 13,
     "metadata": {},
     "output_type": "execute_result"
    }
   ],
   "source": [
    "# concatenation in a tuple\n",
    "(1,2,3)+ (4,5,6)"
   ]
  },
  {
   "cell_type": "code",
   "execution_count": 14,
   "id": "ad601658",
   "metadata": {},
   "outputs": [
    {
     "data": {
      "text/plain": [
       "(1, 2, 3, 1, 2, 3)"
      ]
     },
     "execution_count": 14,
     "metadata": {},
     "output_type": "execute_result"
    }
   ],
   "source": [
    "(1,2,3) * 2"
   ]
  },
  {
   "cell_type": "code",
   "execution_count": 15,
   "id": "e69620fb",
   "metadata": {},
   "outputs": [
    {
     "ename": "TypeError",
     "evalue": "can only concatenate tuple (not \"bool\") to tuple",
     "output_type": "error",
     "traceback": [
      "\u001b[31m---------------------------------------------------------------------------\u001b[39m",
      "\u001b[31mTypeError\u001b[39m                                 Traceback (most recent call last)",
      "\u001b[36mCell\u001b[39m\u001b[36m \u001b[39m\u001b[32mIn[15]\u001b[39m\u001b[32m, line 1\u001b[39m\n\u001b[32m----> \u001b[39m\u001b[32m1\u001b[39m \u001b[43m(\u001b[49m\u001b[32;43m34\u001b[39;49m\u001b[43m,\u001b[49m\u001b[43m \u001b[49m\u001b[33;43m\"\u001b[39;49m\u001b[33;43mvusal\u001b[39;49m\u001b[33;43m\"\u001b[39;49m\u001b[43m,\u001b[49m\u001b[43m \u001b[49m\u001b[38;5;28;43;01mFalse\u001b[39;49;00m\u001b[43m)\u001b[49m\u001b[43m \u001b[49m\u001b[43m+\u001b[49m\u001b[43m \u001b[49m\u001b[43m(\u001b[49m\u001b[38;5;28;43;01mTrue\u001b[39;49;00m\u001b[43m)\u001b[49m\n",
      "\u001b[31mTypeError\u001b[39m: can only concatenate tuple (not \"bool\") to tuple"
     ]
    }
   ],
   "source": [
    "(34, \"vusal\", False) + (True)\n",
    "# () does not mean it is a tuple\n",
    "# True is a single element, it does not have a comma \",\""
   ]
  },
  {
   "cell_type": "code",
   "execution_count": 16,
   "id": "997d09cb",
   "metadata": {},
   "outputs": [
    {
     "data": {
      "text/plain": [
       "(34, 'vusal', False, True)"
      ]
     },
     "execution_count": 16,
     "metadata": {},
     "output_type": "execute_result"
    }
   ],
   "source": [
    "(34, \"vusal\", False) + (True,)"
   ]
  },
  {
   "cell_type": "markdown",
   "id": "1a034750",
   "metadata": {},
   "source": [
    "## indexing and slicing"
   ]
  },
  {
   "cell_type": "code",
   "execution_count": 25,
   "id": "d022179c",
   "metadata": {},
   "outputs": [
    {
     "data": {
      "text/plain": [
       "(False, 432, 'vusal', [2, 4, 3], 0)"
      ]
     },
     "execution_count": 25,
     "metadata": {},
     "output_type": "execute_result"
    }
   ],
   "source": [
    "new_tuple = (False, 432, \"vusal\", [2, 4, 3], 0)\n",
    "new_tuple"
   ]
  },
  {
   "cell_type": "code",
   "execution_count": 21,
   "id": "cbb572c8",
   "metadata": {},
   "outputs": [
    {
     "data": {
      "text/plain": [
       "[2, 4, 3]"
      ]
     },
     "execution_count": 21,
     "metadata": {},
     "output_type": "execute_result"
    }
   ],
   "source": [
    "new_tuple[-1]"
   ]
  },
  {
   "cell_type": "code",
   "execution_count": 22,
   "id": "617d76a3",
   "metadata": {},
   "outputs": [
    {
     "data": {
      "text/plain": [
       "'a'"
      ]
     },
     "execution_count": 22,
     "metadata": {},
     "output_type": "execute_result"
    }
   ],
   "source": [
    "new_tuple[2][3]"
   ]
  },
  {
   "cell_type": "code",
   "execution_count": 26,
   "id": "4ae00efe",
   "metadata": {},
   "outputs": [
    {
     "data": {
      "text/plain": [
       "(432, 'vusal', [2, 4, 3])"
      ]
     },
     "execution_count": 26,
     "metadata": {},
     "output_type": "execute_result"
    }
   ],
   "source": [
    "new_tuple[1:4]"
   ]
  },
  {
   "cell_type": "code",
   "execution_count": 27,
   "id": "bc95797d",
   "metadata": {},
   "outputs": [
    {
     "data": {
      "text/plain": [
       "(0, [2, 4, 3], 'vusal')"
      ]
     },
     "execution_count": 27,
     "metadata": {},
     "output_type": "execute_result"
    }
   ],
   "source": [
    "new_tuple[4:1:-1]"
   ]
  },
  {
   "cell_type": "code",
   "execution_count": 29,
   "id": "79674f87",
   "metadata": {},
   "outputs": [
    {
     "data": {
      "text/plain": [
       "(1, -23, 90, 9732, 'str', [2, 4, 123], (True, False))"
      ]
     },
     "execution_count": 29,
     "metadata": {},
     "output_type": "execute_result"
    }
   ],
   "source": [
    "imp_tuple = (1, -23, 90,9732, \"str\", [2, 4, 123], (True, False))\n",
    "imp_tuple"
   ]
  },
  {
   "cell_type": "code",
   "execution_count": 30,
   "id": "3f591aac",
   "metadata": {},
   "outputs": [
    {
     "ename": "TypeError",
     "evalue": "'tuple' object does not support item assignment",
     "output_type": "error",
     "traceback": [
      "\u001b[31m---------------------------------------------------------------------------\u001b[39m",
      "\u001b[31mTypeError\u001b[39m                                 Traceback (most recent call last)",
      "\u001b[36mCell\u001b[39m\u001b[36m \u001b[39m\u001b[32mIn[30]\u001b[39m\u001b[32m, line 1\u001b[39m\n\u001b[32m----> \u001b[39m\u001b[32m1\u001b[39m \u001b[43mimp_tuple\u001b[49m\u001b[43m[\u001b[49m\u001b[32;43m1\u001b[39;49m\u001b[43m]\u001b[49m = \u001b[33m\"\u001b[39m\u001b[33mnew\u001b[39m\u001b[33m\"\u001b[39m\n",
      "\u001b[31mTypeError\u001b[39m: 'tuple' object does not support item assignment"
     ]
    }
   ],
   "source": [
    "imp_tuple[1] = \"new\"\n",
    "# tuple is immutable, elements cannot be changed"
   ]
  },
  {
   "cell_type": "code",
   "execution_count": 35,
   "id": "cd472796",
   "metadata": {},
   "outputs": [],
   "source": [
    "str_tuple = (32, True, \"vusal\", \"gasimov\", [12, \"string\"])"
   ]
  },
  {
   "cell_type": "code",
   "execution_count": 36,
   "id": "e9bf8b64",
   "metadata": {},
   "outputs": [
    {
     "data": {
      "text/plain": [
       "'VUSAL'"
      ]
     },
     "execution_count": 36,
     "metadata": {},
     "output_type": "execute_result"
    }
   ],
   "source": [
    "str_tuple[2].upper()\n",
    "# because selected element is string, I can perform string methods"
   ]
  },
  {
   "cell_type": "code",
   "execution_count": 40,
   "id": "db72dce5",
   "metadata": {},
   "outputs": [
    {
     "data": {
      "text/plain": [
       "(32, True, 'vusal', 'gasimov', [12, 'new string'])"
      ]
     },
     "execution_count": 40,
     "metadata": {},
     "output_type": "execute_result"
    }
   ],
   "source": [
    "str_tuple[-1][1] = \"new string\"\n",
    "str_tuple"
   ]
  },
  {
   "cell_type": "markdown",
   "id": "e366b59e",
   "metadata": {},
   "source": [
    "### tuple methods\n",
    "\n",
    "- count\n",
    "- index"
   ]
  },
  {
   "cell_type": "code",
   "execution_count": 41,
   "id": "ffb85b79",
   "metadata": {},
   "outputs": [
    {
     "data": {
      "text/plain": [
       "(1, -23, 90, 9732, 'str', [2, 4, 123], (True, False))"
      ]
     },
     "execution_count": 41,
     "metadata": {},
     "output_type": "execute_result"
    }
   ],
   "source": [
    "imp_tuple"
   ]
  },
  {
   "cell_type": "code",
   "execution_count": 44,
   "id": "2f7c5fc4",
   "metadata": {},
   "outputs": [
    {
     "data": {
      "text/plain": [
       "1"
      ]
     },
     "execution_count": 44,
     "metadata": {},
     "output_type": "execute_result"
    }
   ],
   "source": [
    "imp_tuple.count((True, False))"
   ]
  },
  {
   "cell_type": "code",
   "execution_count": 45,
   "id": "fd2e14b3",
   "metadata": {},
   "outputs": [
    {
     "data": {
      "text/plain": [
       "1"
      ]
     },
     "execution_count": 45,
     "metadata": {},
     "output_type": "execute_result"
    }
   ],
   "source": [
    "imp_tuple.index(-23)"
   ]
  },
  {
   "cell_type": "markdown",
   "id": "daccab52",
   "metadata": {},
   "source": [
    "# Range\n",
    "\n",
    "- is a function\n",
    "- creates a range of data\n",
    "- needs functions like tuple or list to open\n",
    "- it has start, stop, and step params"
   ]
  },
  {
   "cell_type": "code",
   "execution_count": 46,
   "id": "ca7f8ff1",
   "metadata": {},
   "outputs": [
    {
     "data": {
      "text/plain": [
       "[1, 2, 3, 4, 5, 6, 7, 8, 9]"
      ]
     },
     "execution_count": 46,
     "metadata": {},
     "output_type": "execute_result"
    }
   ],
   "source": [
    "list(range(1, 10))\n",
    "# 1 is start, 10 is stop"
   ]
  },
  {
   "cell_type": "code",
   "execution_count": 48,
   "id": "eac55c9a",
   "metadata": {},
   "outputs": [
    {
     "data": {
      "text/plain": [
       "(3, 4, 5, 6, 7, 8, 9)"
      ]
     },
     "execution_count": 48,
     "metadata": {},
     "output_type": "execute_result"
    }
   ],
   "source": [
    "tuple(range(3, 10))"
   ]
  },
  {
   "cell_type": "code",
   "execution_count": 49,
   "id": "c329c39d",
   "metadata": {},
   "outputs": [
    {
     "data": {
      "text/plain": [
       "()"
      ]
     },
     "execution_count": 49,
     "metadata": {},
     "output_type": "execute_result"
    }
   ],
   "source": [
    "tuple(range(20, 10))\n",
    "# because logic is similar to slicing operation, start cannot be bigger than stop"
   ]
  },
  {
   "cell_type": "code",
   "execution_count": 50,
   "id": "f7b5a6fb",
   "metadata": {},
   "outputs": [
    {
     "data": {
      "text/plain": [
       "(20, 19, 18, 17, 16, 15, 14, 13, 12, 11)"
      ]
     },
     "execution_count": 50,
     "metadata": {},
     "output_type": "execute_result"
    }
   ],
   "source": [
    "# if the start is bigger than stop, then step needs to be negative\n",
    "tuple(range(20, 10, -1))"
   ]
  },
  {
   "cell_type": "code",
   "execution_count": 52,
   "id": "d64cf372",
   "metadata": {},
   "outputs": [
    {
     "data": {
      "text/plain": [
       "[200, 170, 140, 110, 80, 50, 20]"
      ]
     },
     "execution_count": 52,
     "metadata": {},
     "output_type": "execute_result"
    }
   ],
   "source": [
    "list(range(200, 10, -30))"
   ]
  },
  {
   "cell_type": "code",
   "execution_count": 53,
   "id": "9ccc63ca",
   "metadata": {},
   "outputs": [
    {
     "ename": "TypeError",
     "evalue": "'float' object cannot be interpreted as an integer",
     "output_type": "error",
     "traceback": [
      "\u001b[31m---------------------------------------------------------------------------\u001b[39m",
      "\u001b[31mTypeError\u001b[39m                                 Traceback (most recent call last)",
      "\u001b[36mCell\u001b[39m\u001b[36m \u001b[39m\u001b[32mIn[53]\u001b[39m\u001b[32m, line 1\u001b[39m\n\u001b[32m----> \u001b[39m\u001b[32m1\u001b[39m \u001b[38;5;28mlist\u001b[39m(\u001b[38;5;28;43mrange\u001b[39;49m\u001b[43m(\u001b[49m\u001b[32;43m1.5\u001b[39;49m\u001b[43m,\u001b[49m\u001b[43m \u001b[49m\u001b[32;43m101\u001b[39;49m\u001b[43m,\u001b[49m\u001b[43m \u001b[49m\u001b[32;43m10\u001b[39;49m\u001b[43m)\u001b[49m)\n\u001b[32m      2\u001b[39m \u001b[38;5;66;03m# only works with integers\u001b[39;00m\n",
      "\u001b[31mTypeError\u001b[39m: 'float' object cannot be interpreted as an integer"
     ]
    }
   ],
   "source": [
    "list(range(1.5, 101, 10))\n",
    "# only works with integers"
   ]
  }
 ],
 "metadata": {
  "kernelspec": {
   "display_name": "Python 3",
   "language": "python",
   "name": "python3"
  },
  "language_info": {
   "codemirror_mode": {
    "name": "ipython",
    "version": 3
   },
   "file_extension": ".py",
   "mimetype": "text/x-python",
   "name": "python",
   "nbconvert_exporter": "python",
   "pygments_lexer": "ipython3",
   "version": "3.13.7"
  }
 },
 "nbformat": 4,
 "nbformat_minor": 5
}
