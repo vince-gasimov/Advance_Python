{
 "cells": [
  {
   "cell_type": "markdown",
   "id": "6a9b17a5",
   "metadata": {},
   "source": [
    "# print ()\n",
    "\n",
    "- show the output\n",
    "- the default separator is a single space, python eperates different arguments with signle space"
   ]
  },
  {
   "cell_type": "markdown",
   "id": "e751283c",
   "metadata": {},
   "source": [
    "## sep = \"\""
   ]
  },
  {
   "cell_type": "code",
   "execution_count": null,
   "id": "1b1bb5a3",
   "metadata": {},
   "outputs": [
    {
     "name": "stdout",
     "output_type": "stream",
     "text": [
      "vusal***royal***dilshad\n"
     ]
    }
   ],
   "source": [
    "# show output with ** inbetween them\n",
    "# sep = \"***\"\n",
    "print(\"vusal\", \"royal\", 'dilshad', sep=\"***\")"
   ]
  },
  {
   "cell_type": "code",
   "execution_count": null,
   "id": "c2284735",
   "metadata": {},
   "outputs": [
    {
     "name": "stdout",
     "output_type": "stream",
     "text": [
      "vusal🤑royal🤑dilshad\n"
     ]
    }
   ],
   "source": [
    "# seperate with special char\n",
    "print(\"vusal\", \"royal\", 'dilshad', sep=\"\\U0001F911\")"
   ]
  },
  {
   "cell_type": "markdown",
   "id": "9ca46a32",
   "metadata": {},
   "source": [
    "## end=\"\""
   ]
  },
  {
   "cell_type": "markdown",
   "id": "2d40b095",
   "metadata": {},
   "source": [
    "- python end the print funtions with new line\n",
    "- if you have 2 print function, by defult, it will end first function with new line"
   ]
  },
  {
   "cell_type": "code",
   "execution_count": null,
   "id": "b8060f10",
   "metadata": {},
   "outputs": [
    {
     "name": "stdout",
     "output_type": "stream",
     "text": [
      "vusal-hello world\n",
      "new line\n"
     ]
    }
   ],
   "source": [
    "# by adding end=\"\", you can start the next print function with specific char\n",
    "print(\"vusal\", end=\"-\")\n",
    "print(\"hello world\")\n",
    "print(\"new line\")"
   ]
  },
  {
   "cell_type": "code",
   "execution_count": 4,
   "id": "b208be4a",
   "metadata": {},
   "outputs": [
    {
     "name": "stdout",
     "output_type": "stream",
     "text": [
      "vusal!!royal!!dilshad$$$vusal🤑royal🤑dilshad\n"
     ]
    }
   ],
   "source": [
    "print(\"vusal\", \"royal\", 'dilshad', sep=\"!!\", end=\"$$$\")\n",
    "print(\"vusal\", \"royal\", 'dilshad', sep=\"\\U0001F911\")"
   ]
  },
  {
   "cell_type": "code",
   "execution_count": 6,
   "id": "317759e8",
   "metadata": {},
   "outputs": [
    {
     "ename": "SyntaxError",
     "evalue": "invalid syntax. Perhaps you forgot a comma? (303693363.py, line 2)",
     "output_type": "error",
     "traceback": [
      "  \u001b[36mCell\u001b[39m\u001b[36m \u001b[39m\u001b[32mIn[6]\u001b[39m\u001b[32m, line 2\u001b[39m\n\u001b[31m    \u001b[39m\u001b[31mprint(\"hello\" 23 , \"world\")\u001b[39m\n          ^\n\u001b[31mSyntaxError\u001b[39m\u001b[31m:\u001b[39m invalid syntax. Perhaps you forgot a comma?\n"
     ]
    }
   ],
   "source": [
    "# is variable types are different inside of string, each element needs to be seperated with comma\n",
    "print(\"hello\" 23 , \"world\")"
   ]
  },
  {
   "cell_type": "code",
   "execution_count": 7,
   "id": "a94282af",
   "metadata": {},
   "outputs": [
    {
     "name": "stdout",
     "output_type": "stream",
     "text": [
      "helloworld!\n"
     ]
    }
   ],
   "source": [
    "# if variable types inside of print() function are String, python will concatenate them\n",
    "print(\"hello\" \"world\" \"!\")"
   ]
  },
  {
   "cell_type": "code",
   "execution_count": null,
   "id": "dbb7e61f",
   "metadata": {},
   "outputs": [
    {
     "name": "stdout",
     "output_type": "stream",
     "text": [
      "Laptop,, Compiter,Laptop,***"
     ]
    }
   ],
   "source": [
    "print('Laptop,, ' 'Compiter,' 'Laptop,', sep=\"^^^\", end=\"***\")\n",
    "# python concatenates them because there is no comma, tpyhon sees them as 1 element\n",
    "# sep=\"^^^\" will not added between string because there is no comma"
   ]
  },
  {
   "cell_type": "markdown",
   "id": "f15e7410",
   "metadata": {},
   "source": [
    "# f String\n",
    "- f string is a formatted string, it allows us to embed expressions and varaiables inside string literals using {}"
   ]
  },
  {
   "cell_type": "code",
   "execution_count": 9,
   "id": "b813edd7",
   "metadata": {},
   "outputs": [
    {
     "name": "stdout",
     "output_type": "stream",
     "text": [
      "Gasimov Demir Vusal\n"
     ]
    }
   ],
   "source": [
    "name1 = \"Gasimov\"\n",
    "name2 = \"Demir\"\n",
    "name3 = \"Vusal\"\n",
    "print(name1, name2, name3)"
   ]
  },
  {
   "cell_type": "code",
   "execution_count": 12,
   "id": "c5ebd3f4",
   "metadata": {},
   "outputs": [
    {
     "name": "stdout",
     "output_type": "stream",
     "text": [
      " Vusal, Gasimov, and, Demir, are find and they are, 25, years old\n"
     ]
    }
   ],
   "source": [
    "age = 25\n",
    "print(f' {name3}, {name1}, and, {name2}, are find and they are, {age}, years old')"
   ]
  },
  {
   "cell_type": "markdown",
   "id": "144eecf1",
   "metadata": {},
   "source": [
    "# format()"
   ]
  },
  {
   "cell_type": "code",
   "execution_count": 15,
   "id": "d7d28cde",
   "metadata": {},
   "outputs": [
    {
     "name": "stdout",
     "output_type": "stream",
     "text": [
      "My name is Vusal. I am 30 years old and I am a QA engineer\n"
     ]
    }
   ],
   "source": [
    "# .format()\n",
    "name = \"Vusal\"\n",
    "age = \"30\"\n",
    "job = \"QA engineer\"\n",
    "print(\"My name is {}. I am {} years old and I am a {}\".format(name, age, job))"
   ]
  },
  {
   "cell_type": "code",
   "execution_count": 17,
   "id": "5bc8275e",
   "metadata": {},
   "outputs": [
    {
     "name": "stdout",
     "output_type": "stream",
     "text": [
      "My name is Vusal. I am 30 years old and I am a QA engineer\n"
     ]
    }
   ],
   "source": [
    "# .format()\n",
    "name = \"Vusal\"\n",
    "age = \"30\"\n",
    "job = \"QA engineer\"\n",
    "print(\"My name is {2}. I am {1} years old and I am a {0}\".format(job, age, name))"
   ]
  },
  {
   "cell_type": "markdown",
   "id": "3b109311",
   "metadata": {},
   "source": [
    "# Excape Sequences"
   ]
  },
  {
   "cell_type": "code",
   "execution_count": null,
   "id": "45942f65",
   "metadata": {},
   "outputs": [],
   "source": [
    "print('I'm an ml engineer')"
   ]
  },
  {
   "cell_type": "code",
   "execution_count": null,
   "id": "91e83b0d",
   "metadata": {},
   "outputs": [
    {
     "name": "stdout",
     "output_type": "stream",
     "text": [
      "I'm and ML engineer\n"
     ]
    }
   ],
   "source": [
    "# ' is a special char, that opens and closes a string, to include it in a string we need to escape\n",
    "# \\ is an excape char, it allows us to include special char in a string\n",
    "print('I\\'m and ML engineer')"
   ]
  },
  {
   "cell_type": "code",
   "execution_count": null,
   "id": "3a66bb81",
   "metadata": {},
   "outputs": [
    {
     "name": "stdout",
     "output_type": "stream",
     "text": [
      "My name is Vusal\n",
      "      I am a QA engineer\n",
      "      I am studying data science\n",
      "      I love python\n"
     ]
    }
   ],
   "source": [
    "# if you want the print function to print multiple string in different line, use three double quotes \"\"\"\" \"\"\"\"\n",
    "print(\"\"\"My name is Vusal\n",
    "      I am a QA engineer\n",
    "      I am studying data science\n",
    "      I love python\"\"\")"
   ]
  },
  {
   "cell_type": "code",
   "execution_count": null,
   "id": "8edaffdf",
   "metadata": {},
   "outputs": [
    {
     "name": "stdout",
     "output_type": "stream",
     "text": [
      "My name is Vusal. \n",
      " I am a QA engineer. \n",
      " I am studying data science. I love python\n"
     ]
    }
   ],
   "source": [
    "# if you add the \\n to string. It will break it and print it in new line\n",
    "print(\"My name is Vusal. \\n I am a QA engineer. \\n I am studying data science. I love python\")"
   ]
  },
  {
   "cell_type": "code",
   "execution_count": null,
   "id": "fb214085",
   "metadata": {},
   "outputs": [
    {
     "name": "stdout",
     "output_type": "stream",
     "text": [
      "tech pro \t edd\n"
     ]
    }
   ],
   "source": [
    "# \\t is a tab character, it allows us to add the tab (multiple spaces) between chars\n",
    "print(\"tech pro \\t edd\")"
   ]
  },
  {
   "cell_type": "code",
   "execution_count": null,
   "id": "313be248",
   "metadata": {},
   "outputs": [
    {
     "name": "stdout",
     "output_type": "stream",
     "text": [
      "techpr edd\n"
     ]
    }
   ],
   "source": [
    "# \\b is backspace, it will delete the previoud char\n",
    "print(\"techpro\\b edd\")"
   ]
  },
  {
   "cell_type": "code",
   "execution_count": null,
   "id": "3742efa5",
   "metadata": {},
   "outputs": [],
   "source": []
  }
 ],
 "metadata": {
  "kernelspec": {
   "display_name": "Python 3",
   "language": "python",
   "name": "python3"
  },
  "language_info": {
   "codemirror_mode": {
    "name": "ipython",
    "version": 3
   },
   "file_extension": ".py",
   "mimetype": "text/x-python",
   "name": "python",
   "nbconvert_exporter": "python",
   "pygments_lexer": "ipython3",
   "version": "3.13.7"
  }
 },
 "nbformat": 4,
 "nbformat_minor": 5
}
