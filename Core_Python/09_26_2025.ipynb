{
 "cells": [
  {
   "cell_type": "markdown",
   "id": "9cd2523c",
   "metadata": {},
   "source": [
    "# String\n",
    "\n",
    "- immutable -> elements cannot be chaged without assignment\n",
    "- iterbale -> lements can be accessed"
   ]
  },
  {
   "cell_type": "markdown",
   "id": "303029cb",
   "metadata": {},
   "source": [
    "# Indexing and slicing in Strings\n",
    "\n",
    "a string is a sequence of characters and each character has an index or an addeess\n",
    "\n",
    "index or the address of each character or lement starts from 0"
   ]
  },
  {
   "cell_type": "markdown",
   "id": "d0b85e0f",
   "metadata": {},
   "source": [
    "'Hello' [0] # indexing can be done using square bracket []"
   ]
  },
  {
   "cell_type": "code",
   "execution_count": 1,
   "id": "e89c00a3",
   "metadata": {},
   "outputs": [
    {
     "data": {
      "text/plain": [
       "'H'"
      ]
     },
     "execution_count": 1,
     "metadata": {},
     "output_type": "execute_result"
    }
   ],
   "source": [
    "'Hello' [0] # indexing can be done using square bracket []"
   ]
  },
  {
   "cell_type": "code",
   "execution_count": 2,
   "id": "3e0df518",
   "metadata": {},
   "outputs": [
    {
     "ename": "IndexError",
     "evalue": "string index out of range",
     "output_type": "error",
     "traceback": [
      "\u001b[31m---------------------------------------------------------------------------\u001b[39m",
      "\u001b[31mIndexError\u001b[39m                                Traceback (most recent call last)",
      "\u001b[36mCell\u001b[39m\u001b[36m \u001b[39m\u001b[32mIn[2]\u001b[39m\u001b[32m, line 1\u001b[39m\n\u001b[32m----> \u001b[39m\u001b[32m1\u001b[39m \u001b[33;43m'\u001b[39;49m\u001b[33;43mHello world\u001b[39;49m\u001b[33;43m'\u001b[39;49m\u001b[43m \u001b[49m\u001b[43m[\u001b[49m\u001b[32;43m89\u001b[39;49m\u001b[43m]\u001b[49m \u001b[38;5;66;03m# will give ou an errpr\u001b[39;00m\n",
      "\u001b[31mIndexError\u001b[39m: string index out of range"
     ]
    }
   ],
   "source": [
    "'Hello world' [89] # will give ou an errpr"
   ]
  },
  {
   "cell_type": "code",
   "execution_count": 5,
   "id": "fbf6acd3",
   "metadata": {},
   "outputs": [
    {
     "data": {
      "text/plain": [
       "'a'"
      ]
     },
     "execution_count": 5,
     "metadata": {},
     "output_type": "execute_result"
    }
   ],
   "source": [
    "# indiexing can be directly on the string or in a string variable\n",
    "name = 'Vusal'\n",
    "name [3]"
   ]
  },
  {
   "cell_type": "code",
   "execution_count": 7,
   "id": "2225cc94",
   "metadata": {},
   "outputs": [
    {
     "data": {
      "text/plain": [
       "'Vusal Gasimov Gasimov'"
      ]
     },
     "execution_count": 7,
     "metadata": {},
     "output_type": "execute_result"
    }
   ],
   "source": [
    "name = name + \" Gasimov\"\n",
    "name"
   ]
  },
  {
   "cell_type": "code",
   "execution_count": 8,
   "id": "caa7d80c",
   "metadata": {},
   "outputs": [
    {
     "ename": "TypeError",
     "evalue": "'str' object does not support item assignment",
     "output_type": "error",
     "traceback": [
      "\u001b[31m---------------------------------------------------------------------------\u001b[39m",
      "\u001b[31mTypeError\u001b[39m                                 Traceback (most recent call last)",
      "\u001b[36mCell\u001b[39m\u001b[36m \u001b[39m\u001b[32mIn[8]\u001b[39m\u001b[32m, line 1\u001b[39m\n\u001b[32m----> \u001b[39m\u001b[32m1\u001b[39m \u001b[43mname\u001b[49m\u001b[43m[\u001b[49m\u001b[32;43m0\u001b[39;49m\u001b[43m]\u001b[49m = \u001b[33m\"\u001b[39m\u001b[33mC\u001b[39m\u001b[33m\"\u001b[39m\n",
      "\u001b[31mTypeError\u001b[39m: 'str' object does not support item assignment"
     ]
    }
   ],
   "source": [
    "name[0] = \"C\""
   ]
  },
  {
   "cell_type": "code",
   "execution_count": 9,
   "id": "67af32d1",
   "metadata": {},
   "outputs": [
    {
     "data": {
      "text/plain": [
       "'v'"
      ]
     },
     "execution_count": 9,
     "metadata": {},
     "output_type": "execute_result"
    }
   ],
   "source": [
    "# find the last element\n",
    "name[-1]"
   ]
  },
  {
   "cell_type": "markdown",
   "id": "371e28eb",
   "metadata": {},
   "source": [
    "# Concatenation in Strings"
   ]
  },
  {
   "cell_type": "code",
   "execution_count": 15,
   "id": "03615e83",
   "metadata": {},
   "outputs": [
    {
     "data": {
      "text/plain": [
       "'Apple Apple Apple '"
      ]
     },
     "execution_count": 15,
     "metadata": {},
     "output_type": "execute_result"
    }
   ],
   "source": [
    "'Apple ' * 3\n",
    "# Apple will be displayed 3 times\n",
    "# 'Apple ' + 3 , -3 WILL NOT work"
   ]
  },
  {
   "cell_type": "markdown",
   "id": "12e92df6",
   "metadata": {},
   "source": [
    "# Slicing in String"
   ]
  },
  {
   "cell_type": "code",
   "execution_count": null,
   "id": "59fe05c5",
   "metadata": {},
   "outputs": [],
   "source": [
    "# String[start:stopp:step] -> slicing\n",
    "# start -> start index (inclusive), default value is 0\n",
    "# stop -> ending index (exlusive), default value is len(string)\n",
    "# step -> step size (optional, default is 1)"
   ]
  },
  {
   "cell_type": "code",
   "execution_count": null,
   "id": "ca8c1ee2",
   "metadata": {},
   "outputs": [
    {
     "data": {
      "text/plain": [
       "'yal Ga'"
      ]
     },
     "execution_count": 19,
     "metadata": {},
     "output_type": "execute_result"
    }
   ],
   "source": [
    "name = 'Royal Gasimov'\n",
    "name[2:8]\n",
    "# slice the str starting fron index 3, start from y\n",
    "# stop the index 8, which is exlusive, stop a"
   ]
  },
  {
   "cell_type": "code",
   "execution_count": 6,
   "id": "1796b2a0",
   "metadata": {},
   "outputs": [
    {
     "data": {
      "text/plain": [
       "'h pro education'"
      ]
     },
     "execution_count": 6,
     "metadata": {},
     "output_type": "execute_result"
    }
   ],
   "source": [
    "course = \"tech pro education\"\n",
    "course[3:89] # it will start from index 3 and end it at very end of index"
   ]
  },
  {
   "cell_type": "code",
   "execution_count": null,
   "id": "66c7b6c8",
   "metadata": {},
   "outputs": [
    {
     "data": {
      "text/plain": [
       "'Royal Gasimov'"
      ]
     },
     "execution_count": 9,
     "metadata": {},
     "output_type": "execute_result"
    }
   ],
   "source": [
    "# if you dont provide anything, it will choose the default value\n",
    "name = 'Royal Gasimov'\n",
    "name[:]\n",
    "#default start value is 0, default stop value is len\n"
   ]
  },
  {
   "cell_type": "code",
   "execution_count": null,
   "id": "189b6552",
   "metadata": {},
   "outputs": [
    {
     "data": {
      "text/plain": [
       "''"
      ]
     },
     "execution_count": 10,
     "metadata": {},
     "output_type": "execute_result"
    }
   ],
   "source": [
    "# if index if out of range, it will return empty string\n",
    "name[45:67]"
   ]
  },
  {
   "cell_type": "code",
   "execution_count": null,
   "id": "20f4cd42",
   "metadata": {},
   "outputs": [
    {
     "data": {
      "text/plain": [
       "'ylGs'"
      ]
     },
     "execution_count": 11,
     "metadata": {},
     "output_type": "execute_result"
    }
   ],
   "source": [
    "# step\n",
    "name[2:10:2]\n",
    "# start from index 2\n",
    "# select 2nd after\n",
    "# end on index 9"
   ]
  },
  {
   "cell_type": "code",
   "execution_count": 12,
   "id": "b72982d5",
   "metadata": {},
   "outputs": [
    {
     "data": {
      "text/plain": [
       "'y s'"
      ]
     },
     "execution_count": 12,
     "metadata": {},
     "output_type": "execute_result"
    }
   ],
   "source": [
    "name[2:10:3]\n",
    "# start from index 2\n",
    "# jump 3, select 3rd\n",
    "# end on index 9"
   ]
  },
  {
   "cell_type": "code",
   "execution_count": 19,
   "id": "c25d960b",
   "metadata": {},
   "outputs": [
    {
     "data": {
      "text/plain": [
       "'ysae si nohtyP eroC'"
      ]
     },
     "execution_count": 19,
     "metadata": {},
     "output_type": "execute_result"
    }
   ],
   "source": [
    "\"Core Python is easy\"[::-1]\n",
    "# start from index 0\n",
    "# end at len\n",
    "# when step is negative, it slices from right to left\n"
   ]
  },
  {
   "cell_type": "code",
   "execution_count": 20,
   "id": "68dfe7ea",
   "metadata": {},
   "outputs": [
    {
     "data": {
      "text/plain": [
       "''"
      ]
     },
     "execution_count": 20,
     "metadata": {},
     "output_type": "execute_result"
    }
   ],
   "source": [
    "\"Core Python is easy\"[3:12:-1]\n",
    "# it will start from index 3\n",
    "# it will end in index 11\n",
    "# because we give -1, it will start from right to left and first thing it will see is a stop operation\n",
    "# so it will stop and return empty string"
   ]
  },
  {
   "cell_type": "code",
   "execution_count": 21,
   "id": "7084bcfd",
   "metadata": {},
   "outputs": [
    {
     "data": {
      "text/plain": [
       "'i nohtyP '"
      ]
     },
     "execution_count": 21,
     "metadata": {},
     "output_type": "execute_result"
    }
   ],
   "source": [
    "\"Core Python is easy\"[12:3:-1]\n",
    "# start from index 12\n",
    "# stop at index 2\n",
    "# go from right to left"
   ]
  },
  {
   "cell_type": "code",
   "execution_count": 22,
   "id": "8d78b496",
   "metadata": {},
   "outputs": [
    {
     "data": {
      "text/plain": [
       "''"
      ]
     },
     "execution_count": 22,
     "metadata": {},
     "output_type": "execute_result"
    }
   ],
   "source": [
    "\"Core Python is easy\"[12:3:1]\n",
    "# start from index 12\n",
    "# stop at index 3\n",
    "# because we give 1, it will start from left to right and first thing it will see is a stop operation\n",
    "# so it will stop and return empty string"
   ]
  },
  {
   "cell_type": "code",
   "execution_count": null,
   "id": "5106e29c",
   "metadata": {},
   "outputs": [
    {
     "data": {
      "text/plain": [
       "''"
      ]
     },
     "execution_count": 18,
     "metadata": {},
     "output_type": "execute_result"
    }
   ],
   "source": [
    "\"Core Python is easy\"[-9:-2:-1]\n",
    "# start from index -9 -> n\n",
    "# end at index -3 -> a\n",
    "# because we give -1, it will start from right to left and first thing it will see is a stop operation\n",
    "# so it will stop and return empty string"
   ]
  },
  {
   "cell_type": "code",
   "execution_count": 24,
   "id": "97d9bfca",
   "metadata": {},
   "outputs": [
    {
     "data": {
      "text/plain": [
       "'n is ea'"
      ]
     },
     "execution_count": 24,
     "metadata": {},
     "output_type": "execute_result"
    }
   ],
   "source": [
    "\"Core Python is easy\"[-9:-2:1]\n",
    "# start from index -9 -> n\n",
    "# end at index -3 -> a"
   ]
  },
  {
   "cell_type": "code",
   "execution_count": null,
   "id": "dd56de85",
   "metadata": {},
   "outputs": [
    {
     "data": {
      "text/plain": [
       "'sae'"
      ]
     },
     "execution_count": 26,
     "metadata": {},
     "output_type": "execute_result"
    }
   ],
   "source": [
    "\"Core Python is easy\"[-2:-5:-1]\n",
    "# start from index -2 -> s\n",
    "# end at index -4 -> e"
   ]
  },
  {
   "cell_type": "markdown",
   "id": "85dcf11b",
   "metadata": {},
   "source": [
    "# String Methods"
   ]
  },
  {
   "cell_type": "code",
   "execution_count": 28,
   "id": "f074ef8a",
   "metadata": {},
   "outputs": [
    {
     "data": {
      "text/plain": [
       "'APPLE'"
      ]
     },
     "execution_count": 28,
     "metadata": {},
     "output_type": "execute_result"
    }
   ],
   "source": [
    "\"apple\".upper()"
   ]
  },
  {
   "cell_type": "code",
   "execution_count": 29,
   "id": "190be49c",
   "metadata": {},
   "outputs": [
    {
     "data": {
      "text/plain": [
       "'apple'"
      ]
     },
     "execution_count": 29,
     "metadata": {},
     "output_type": "execute_result"
    }
   ],
   "source": [
    "\"APPLE\".lower()"
   ]
  },
  {
   "cell_type": "code",
   "execution_count": null,
   "id": "41f7508f",
   "metadata": {},
   "outputs": [
    {
     "data": {
      "text/plain": [
       "'EDUCATION'"
      ]
     },
     "execution_count": 30,
     "metadata": {},
     "output_type": "execute_result"
    }
   ],
   "source": [
    "temperarly = 'Education'\n",
    "temperarly.upper()\n",
    "# its performation an operation, its not changing a value"
   ]
  },
  {
   "cell_type": "code",
   "execution_count": 31,
   "id": "88cb5468",
   "metadata": {},
   "outputs": [
    {
     "data": {
      "text/plain": [
       "'Education'"
      ]
     },
     "execution_count": 31,
     "metadata": {},
     "output_type": "execute_result"
    }
   ],
   "source": [
    "temperarly"
   ]
  },
  {
   "cell_type": "code",
   "execution_count": 34,
   "id": "a8754148",
   "metadata": {},
   "outputs": [
    {
     "data": {
      "text/plain": [
       "'EDUCATION'"
      ]
     },
     "execution_count": 34,
     "metadata": {},
     "output_type": "execute_result"
    }
   ],
   "source": [
    "perminant = temperarly.upper()\n",
    "perminant\n",
    "# making the change perminantly"
   ]
  },
  {
   "cell_type": "code",
   "execution_count": 35,
   "id": "1631b913",
   "metadata": {},
   "outputs": [
    {
     "ename": "NameError",
     "evalue": "name 'upper' is not defined",
     "output_type": "error",
     "traceback": [
      "\u001b[31m---------------------------------------------------------------------------\u001b[39m",
      "\u001b[31mNameError\u001b[39m                                 Traceback (most recent call last)",
      "\u001b[36mCell\u001b[39m\u001b[36m \u001b[39m\u001b[32mIn[35]\u001b[39m\u001b[32m, line 4\u001b[39m\n\u001b[32m      1\u001b[39m \u001b[38;5;66;03m# .upper() is a method of string\u001b[39;00m\n\u001b[32m      2\u001b[39m \u001b[38;5;66;03m# it cannpt be used as upper(\"apple\")\u001b[39;00m\n\u001b[32m      3\u001b[39m \u001b[38;5;66;03m# even the help funtion does not understand upper as it is not a function\u001b[39;00m\n\u001b[32m----> \u001b[39m\u001b[32m4\u001b[39m help(\u001b[43mupper\u001b[49m)\n",
      "\u001b[31mNameError\u001b[39m: name 'upper' is not defined"
     ]
    }
   ],
   "source": [
    "# .upper() is a method of string\n",
    "# it cannpt be used as upper(\"apple\")\n",
    "# even the help funtion does not understand upper as it is not a function\n",
    "help(upper)"
   ]
  },
  {
   "cell_type": "code",
   "execution_count": 36,
   "id": "e89efbd5",
   "metadata": {},
   "outputs": [
    {
     "name": "stdout",
     "output_type": "stream",
     "text": [
      "Help on method_descriptor:\n",
      "\n",
      "upper(self, /) unbound builtins.str method\n",
      "    Return a copy of the string converted to uppercase.\n",
      "\n"
     ]
    }
   ],
   "source": [
    "# .upper() is a method of string\n",
    "help(str.upper)"
   ]
  },
  {
   "cell_type": "code",
   "execution_count": null,
   "id": "791e67d9",
   "metadata": {},
   "outputs": [
    {
     "data": {
      "text/plain": [
       "'vUSAL gASIMOV'"
      ]
     },
     "execution_count": 46,
     "metadata": {},
     "output_type": "execute_result"
    }
   ],
   "source": [
    "name = 'Vusal Gasimov'\n",
    "# make the V and G lower case\n",
    "# make the usal and simov upper case\n",
    "\n",
    "name[0].lower() # v\n",
    "name[6].lower() # g\n",
    "name[1:5].upper() # USAL\n",
    "name[-6:].upper() # ASIMOV\n",
    "new_name = name[0].lower() + name[1:5].upper() + \" \" + name[6].lower() + name[-6:].upper()\n",
    "new_name"
   ]
  },
  {
   "cell_type": "code",
   "execution_count": 48,
   "id": "3f6daebd",
   "metadata": {},
   "outputs": [
    {
     "data": {
      "text/plain": [
       "'Hello'"
      ]
     },
     "execution_count": 48,
     "metadata": {},
     "output_type": "execute_result"
    }
   ],
   "source": [
    "# capitalize() -> make ths first char uppercase and rest lowercase\n",
    "'hello'.capitalize()"
   ]
  },
  {
   "cell_type": "code",
   "execution_count": 49,
   "id": "98eba969",
   "metadata": {},
   "outputs": [
    {
     "data": {
      "text/plain": [
       "'Hello World, I Am Learning Python'"
      ]
     },
     "execution_count": 49,
     "metadata": {},
     "output_type": "execute_result"
    }
   ],
   "source": [
    "# title() -> makes the frist char of each word uppercase\n",
    "\"hello world, i am learning python\".title()\n"
   ]
  },
  {
   "cell_type": "code",
   "execution_count": 50,
   "id": "127d4f73",
   "metadata": {},
   "outputs": [
    {
     "data": {
      "text/plain": [
       "'hello baku, i am learning python'"
      ]
     },
     "execution_count": 50,
     "metadata": {},
     "output_type": "execute_result"
    }
   ],
   "source": [
    "# replace() -> replace a substring with another substring\n",
    "\"hello world, i am learning python\".replace(\"world\", \"baku\")"
   ]
  },
  {
   "cell_type": "code",
   "execution_count": null,
   "id": "c9a26422",
   "metadata": {},
   "outputs": [
    {
     "data": {
      "text/plain": [
       "'hi world hi'"
      ]
     },
     "execution_count": 51,
     "metadata": {},
     "output_type": "execute_result"
    }
   ],
   "source": [
    "# will replace every matching string\n",
    "\"hello world hello\".replace(\"hello\", \"hi\")"
   ]
  },
  {
   "cell_type": "code",
   "execution_count": null,
   "id": "3defb032",
   "metadata": {},
   "outputs": [
    {
     "data": {
      "text/plain": [
       "'hi world hello'"
      ]
     },
     "execution_count": 52,
     "metadata": {},
     "output_type": "execute_result"
    }
   ],
   "source": [
    "# will only replace 1\n",
    "\"hello world hello\".replace(\"hello\", \"hi\", 1)"
   ]
  },
  {
   "cell_type": "code",
   "execution_count": 53,
   "id": "2f76fa0e",
   "metadata": {},
   "outputs": [
    {
     "data": {
      "text/plain": [
       "'hello_world_how_are_you_doin'"
      ]
     },
     "execution_count": 53,
     "metadata": {},
     "output_type": "execute_result"
    }
   ],
   "source": [
    "# it will replace char even if they are connected\n",
    "\"hello_world_how_yoall_doin\".replace(\"yoall\", \"are_you\")"
   ]
  },
  {
   "cell_type": "code",
   "execution_count": 54,
   "id": "ac6c6b28",
   "metadata": {},
   "outputs": [
    {
     "data": {
      "text/plain": [
       "'Hello World Hope You Are Doing Ok'"
      ]
     },
     "execution_count": 54,
     "metadata": {},
     "output_type": "execute_result"
    }
   ],
   "source": [
    "\"hello world hope you are doing okay\".replace(\"okay\", \"ok\").title()"
   ]
  },
  {
   "cell_type": "code",
   "execution_count": null,
   "id": "7015eb8f",
   "metadata": {},
   "outputs": [
    {
     "data": {
      "text/plain": [
       "True"
      ]
     },
     "execution_count": 55,
     "metadata": {},
     "output_type": "execute_result"
    }
   ],
   "source": [
    "# endswith() -> checks if the string end with a specified substring\n",
    "# returns boolean\n",
    "\"hello world\".endswith(\"rld\")"
   ]
  },
  {
   "cell_type": "code",
   "execution_count": 56,
   "id": "2c608be3",
   "metadata": {},
   "outputs": [
    {
     "data": {
      "text/plain": [
       "False"
      ]
     },
     "execution_count": 56,
     "metadata": {},
     "output_type": "execute_result"
    }
   ],
   "source": [
    "# startswith() -> checks if the string starts with a specified substring\n",
    "# returns boolean\n",
    "\"hello world\".startswith(\"rld\")"
   ]
  },
  {
   "cell_type": "code",
   "execution_count": null,
   "id": "8b446a31",
   "metadata": {},
   "outputs": [
    {
     "ename": "AttributeError",
     "evalue": "'bool' object has no attribute 'lower'",
     "output_type": "error",
     "traceback": [
      "\u001b[31m---------------------------------------------------------------------------\u001b[39m",
      "\u001b[31mAttributeError\u001b[39m                            Traceback (most recent call last)",
      "\u001b[36mCell\u001b[39m\u001b[36m \u001b[39m\u001b[32mIn[57]\u001b[39m\u001b[32m, line 1\u001b[39m\n\u001b[32m----> \u001b[39m\u001b[32m1\u001b[39m \u001b[33;43m\"\u001b[39;49m\u001b[33;43mhello world\u001b[39;49m\u001b[33;43m\"\u001b[39;49m\u001b[43m.\u001b[49m\u001b[43mstartswith\u001b[49m\u001b[43m(\u001b[49m\u001b[33;43m\"\u001b[39;49m\u001b[33;43mrld\u001b[39;49m\u001b[33;43m\"\u001b[39;49m\u001b[43m)\u001b[49m\u001b[43m.\u001b[49m\u001b[43mlower\u001b[49m()\n",
      "\u001b[31mAttributeError\u001b[39m: 'bool' object has no attribute 'lower'"
     ]
    }
   ],
   "source": [
    "\"hello world\".startswith(\"rld\").lower()\n",
    "# will return error because startswith return boolean not str"
   ]
  },
  {
   "cell_type": "code",
   "execution_count": 58,
   "id": "74f3c1f6",
   "metadata": {},
   "outputs": [
    {
     "data": {
      "text/plain": [
       "1"
      ]
     },
     "execution_count": 58,
     "metadata": {},
     "output_type": "execute_result"
    }
   ],
   "source": [
    "# find() -> returns the lowest index of the substring if found in str\n",
    "# if not found, it retunrs -1\n",
    "\"Vusal\".find(\"u\")"
   ]
  },
  {
   "cell_type": "code",
   "execution_count": null,
   "id": "ca0752e8",
   "metadata": {},
   "outputs": [
    {
     "data": {
      "text/plain": [
       "6"
      ]
     },
     "execution_count": 59,
     "metadata": {},
     "output_type": "execute_result"
    }
   ],
   "source": [
    "\"hello , dear , friends\".find(\",\")\n",
    "# will return first index of \",\""
   ]
  },
  {
   "cell_type": "code",
   "execution_count": null,
   "id": "a6236a36",
   "metadata": {},
   "outputs": [
    {
     "data": {
      "text/plain": [
       "6"
      ]
     },
     "execution_count": 60,
     "metadata": {},
     "output_type": "execute_result"
    }
   ],
   "source": [
    "\"hello , dear , friends\".find(\",\", 3, 20)\n",
    "# you can give the start and end point\n",
    "# start from index 3\n",
    "# end in index 19"
   ]
  },
  {
   "cell_type": "code",
   "execution_count": 61,
   "id": "a4b3847d",
   "metadata": {},
   "outputs": [
    {
     "data": {
      "text/plain": [
       "False"
      ]
     },
     "execution_count": 61,
     "metadata": {},
     "output_type": "execute_result"
    }
   ],
   "source": [
    "# isdecimal() -> checks if all char in str are decimal (numeric) char\n",
    "'1234a'.isdecimal()"
   ]
  },
  {
   "cell_type": "code",
   "execution_count": null,
   "id": "ffecf091",
   "metadata": {},
   "outputs": [
    {
     "data": {
      "text/plain": [
       "True"
      ]
     },
     "execution_count": 62,
     "metadata": {},
     "output_type": "execute_result"
    }
   ],
   "source": [
    "#isalnum() -> checks if all char in str are alphanumeric chars\n",
    "'123456a'.isalnum()"
   ]
  },
  {
   "cell_type": "code",
   "execution_count": 63,
   "id": "3a097adf",
   "metadata": {},
   "outputs": [
    {
     "data": {
      "text/plain": [
       "True"
      ]
     },
     "execution_count": 63,
     "metadata": {},
     "output_type": "execute_result"
    }
   ],
   "source": [
    "# isalpa() -> checks if all chars in str are alphabetic chars\n",
    "'sdkjnsakj'.isalpha()"
   ]
  },
  {
   "cell_type": "code",
   "execution_count": 64,
   "id": "cffa899c",
   "metadata": {},
   "outputs": [
    {
     "data": {
      "text/plain": [
       "True"
      ]
     },
     "execution_count": 64,
     "metadata": {},
     "output_type": "execute_result"
    }
   ],
   "source": [
    "#isdigit() -> checks if all chars in str are digits\n",
    "'332342'.isdigit()"
   ]
  },
  {
   "cell_type": "code",
   "execution_count": 65,
   "id": "ca3bb10b",
   "metadata": {},
   "outputs": [
    {
     "data": {
      "text/plain": [
       "4"
      ]
     },
     "execution_count": 65,
     "metadata": {},
     "output_type": "execute_result"
    }
   ],
   "source": [
    "# count() -> returns num of occurences of substring in the str\n",
    "'hello dear friend, how are you doing'.count(\"o\")"
   ]
  },
  {
   "cell_type": "code",
   "execution_count": 66,
   "id": "bb3413c8",
   "metadata": {},
   "outputs": [
    {
     "data": {
      "text/plain": [
       "['hello,', 'dear,', 'friend,', 'hope,', 'you,', 'are,', 'ok']"
      ]
     },
     "execution_count": 66,
     "metadata": {},
     "output_type": "execute_result"
    }
   ],
   "source": [
    "# split() -> splits the string at the specified separator and retunrs a list\n",
    "# if no separator is specified, it splits at whitespace\n",
    "\"hello, dear, friend, hope, you, are, ok\".split()"
   ]
  },
  {
   "cell_type": "code",
   "execution_count": 67,
   "id": "54f78e96",
   "metadata": {},
   "outputs": [
    {
     "data": {
      "text/plain": [
       "['hello', ' dear', ' friend', ' hope', ' you', ' are', ' ok']"
      ]
     },
     "execution_count": 67,
     "metadata": {},
     "output_type": "execute_result"
    }
   ],
   "source": [
    "\"hello, dear, friend, hope, you, are, ok\".split(\",\")"
   ]
  },
  {
   "cell_type": "code",
   "execution_count": 68,
   "id": "d8e62e81",
   "metadata": {},
   "outputs": [
    {
     "data": {
      "text/plain": [
       "['', 'ello, dear, friend, ', 'ope, you, are, ok']"
      ]
     },
     "execution_count": 68,
     "metadata": {},
     "output_type": "execute_result"
    }
   ],
   "source": [
    "\"hello, dear, friend, hope, you, are, ok\".split(\"h\")"
   ]
  },
  {
   "cell_type": "code",
   "execution_count": 69,
   "id": "703eedda",
   "metadata": {},
   "outputs": [
    {
     "data": {
      "text/plain": [
       "['', 'ello, dear, friend, hope, you, are, ok']"
      ]
     },
     "execution_count": 69,
     "metadata": {},
     "output_type": "execute_result"
    }
   ],
   "source": [
    "\"hello, dear, friend, hope, you, are, ok\".split(\"h\", maxsplit=1)"
   ]
  }
 ],
 "metadata": {
  "kernelspec": {
   "display_name": "Python 3",
   "language": "python",
   "name": "python3"
  },
  "language_info": {
   "codemirror_mode": {
    "name": "ipython",
    "version": 3
   },
   "file_extension": ".py",
   "mimetype": "text/x-python",
   "name": "python",
   "nbconvert_exporter": "python",
   "pygments_lexer": "ipython3",
   "version": "3.13.7"
  }
 },
 "nbformat": 4,
 "nbformat_minor": 5
}
