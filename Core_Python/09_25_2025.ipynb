{
 "cells": [
  {
   "cell_type": "markdown",
   "id": "95a48401",
   "metadata": {},
   "source": [
    "# Comparison Operators"
   ]
  },
  {
   "cell_type": "code",
   "execution_count": null,
   "id": "0c1d2883",
   "metadata": {},
   "outputs": [
    {
     "data": {
      "text/plain": [
       "False"
      ]
     },
     "execution_count": 1,
     "metadata": {},
     "output_type": "execute_result"
    }
   ],
   "source": [
    "# bigger than operator\n",
    "5 > 4\n",
    "# result if True"
   ]
  },
  {
   "cell_type": "code",
   "execution_count": 2,
   "id": "ad8096f9",
   "metadata": {},
   "outputs": [
    {
     "data": {
      "text/plain": [
       "False"
      ]
     },
     "execution_count": 2,
     "metadata": {},
     "output_type": "execute_result"
    }
   ],
   "source": [
    "# smaller than operator\n",
    "5 < 4\n",
    "# result if False"
   ]
  },
  {
   "cell_type": "code",
   "execution_count": 3,
   "id": "1fa0a8d3",
   "metadata": {},
   "outputs": [
    {
     "data": {
      "text/plain": [
       "True"
      ]
     },
     "execution_count": 3,
     "metadata": {},
     "output_type": "execute_result"
    }
   ],
   "source": [
    "# Equal to\n",
    "4 == 4"
   ]
  },
  {
   "cell_type": "code",
   "execution_count": 4,
   "id": "5a0d18a6",
   "metadata": {},
   "outputs": [
    {
     "data": {
      "text/plain": [
       "False"
      ]
     },
     "execution_count": 4,
     "metadata": {},
     "output_type": "execute_result"
    }
   ],
   "source": [
    "# not equal to\n",
    "3 != 3\n",
    "#False"
   ]
  },
  {
   "cell_type": "code",
   "execution_count": 7,
   "id": "24f0e7a2",
   "metadata": {},
   "outputs": [
    {
     "data": {
      "text/plain": [
       "False"
      ]
     },
     "execution_count": 7,
     "metadata": {},
     "output_type": "execute_result"
    }
   ],
   "source": [
    "65 == '65'"
   ]
  },
  {
   "cell_type": "markdown",
   "id": "cba5f401",
   "metadata": {},
   "source": [
    "# Logical Expressions\n",
    "\n",
    "### order of operation:\n",
    "1. not -> opposit\n",
    "2. and -> is perfectionist, it searcher for somthing falsy (error). Also can be consuder as multiplication\n",
    "3. or -> is optimist, it searches for somthing truthy (good). can be considered as addition operation."
   ]
  },
  {
   "cell_type": "code",
   "execution_count": 2,
   "id": "38e4b8f9",
   "metadata": {},
   "outputs": [
    {
     "data": {
      "text/plain": [
       "False"
      ]
     },
     "execution_count": 2,
     "metadata": {},
     "output_type": "execute_result"
    }
   ],
   "source": [
    "not True"
   ]
  },
  {
   "cell_type": "code",
   "execution_count": 3,
   "id": "b7eb18e2",
   "metadata": {},
   "outputs": [
    {
     "data": {
      "text/plain": [
       "False"
      ]
     },
     "execution_count": 3,
     "metadata": {},
     "output_type": "execute_result"
    }
   ],
   "source": [
    "not \"Hello\"\n",
    "# \"Hello\" is True"
   ]
  },
  {
   "cell_type": "code",
   "execution_count": 4,
   "id": "774369ca",
   "metadata": {},
   "outputs": [
    {
     "data": {
      "text/plain": [
       "True"
      ]
     },
     "execution_count": 4,
     "metadata": {},
     "output_type": "execute_result"
    }
   ],
   "source": [
    "not 0\n",
    "# True"
   ]
  },
  {
   "cell_type": "code",
   "execution_count": 5,
   "id": "170432f9",
   "metadata": {},
   "outputs": [
    {
     "data": {
      "text/plain": [
       "'Hello'"
      ]
     },
     "execution_count": 5,
     "metadata": {},
     "output_type": "execute_result"
    }
   ],
   "source": [
    "True and True and 1 and \"Hello\"\n",
    "# and operator returns the first falsy value it encounters\n",
    "# otherwise it returns the last value if all are truthy"
   ]
  },
  {
   "cell_type": "code",
   "execution_count": null,
   "id": "36b50afb",
   "metadata": {},
   "outputs": [
    {
     "data": {
      "text/plain": [
       "False"
      ]
     },
     "execution_count": 9,
     "metadata": {},
     "output_type": "execute_result"
    }
   ],
   "source": [
    "False and True and 0\n",
    "# it will return the first falthy element"
   ]
  },
  {
   "cell_type": "code",
   "execution_count": null,
   "id": "0a692f65",
   "metadata": {},
   "outputs": [
    {
     "data": {
      "text/plain": [
       "True"
      ]
     },
     "execution_count": 6,
     "metadata": {},
     "output_type": "execute_result"
    }
   ],
   "source": [
    "False or True or \"Hello\" or 0 or True\n",
    "# it will return the first truthy value"
   ]
  },
  {
   "cell_type": "code",
   "execution_count": null,
   "id": "f4a7449e",
   "metadata": {},
   "outputs": [
    {
     "data": {
      "text/plain": [
       "0.0"
      ]
     },
     "execution_count": 7,
     "metadata": {},
     "output_type": "execute_result"
    }
   ],
   "source": [
    "0 or False or \"\" or 0.0\n",
    "# it will return first truthy or last falthy element"
   ]
  },
  {
   "cell_type": "code",
   "execution_count": null,
   "id": "05a501ad",
   "metadata": {},
   "outputs": [
    {
     "data": {
      "text/plain": [
       "232"
      ]
     },
     "execution_count": 8,
     "metadata": {},
     "output_type": "execute_result"
    }
   ],
   "source": [
    "0 or 232 or False or [] or '' or 0.0 or True\n",
    "# it will return the first truthy value, which is 232"
   ]
  },
  {
   "cell_type": "code",
   "execution_count": 9,
   "id": "e97c3af9",
   "metadata": {},
   "outputs": [
    {
     "data": {
      "text/plain": [
       "'Science'"
      ]
     },
     "execution_count": 9,
     "metadata": {},
     "output_type": "execute_result"
    }
   ],
   "source": [
    "\"Computer\" and \"Science\""
   ]
  },
  {
   "cell_type": "code",
   "execution_count": 10,
   "id": "e87c6ab2",
   "metadata": {},
   "outputs": [
    {
     "data": {
      "text/plain": [
       "'Computer'"
      ]
     },
     "execution_count": 10,
     "metadata": {},
     "output_type": "execute_result"
    }
   ],
   "source": [
    "\"Computer\" or \"Science\""
   ]
  },
  {
   "cell_type": "markdown",
   "id": "4a8d84be",
   "metadata": {},
   "source": [
    "### Order\n",
    "not > and > or"
   ]
  },
  {
   "cell_type": "code",
   "execution_count": null,
   "id": "1b051a13",
   "metadata": {},
   "outputs": [
    {
     "data": {
      "text/plain": [
       "True"
      ]
     },
     "execution_count": 11,
     "metadata": {},
     "output_type": "execute_result"
    }
   ],
   "source": [
    "False and True or not 0\n",
    "# first not operation -> False and True or True\n",
    "# second and operation -> False or True\n"
   ]
  },
  {
   "cell_type": "code",
   "execution_count": null,
   "id": "3ccad732",
   "metadata": {},
   "outputs": [
    {
     "data": {
      "text/plain": [
       "0"
      ]
     },
     "execution_count": 12,
     "metadata": {},
     "output_type": "execute_result"
    }
   ],
   "source": [
    "True and False or 0\n",
    "# first and operation -> False or 0\n",
    "# or will look first truthy, if there is no truthy value, it will select last Falthy value"
   ]
  },
  {
   "cell_type": "code",
   "execution_count": 11,
   "id": "2fbc8baa",
   "metadata": {},
   "outputs": [
    {
     "data": {
      "text/plain": [
       "True"
      ]
     },
     "execution_count": 11,
     "metadata": {},
     "output_type": "execute_result"
    }
   ],
   "source": [
    "True and 4 and not 0 or 'techpro' or not ''"
   ]
  },
  {
   "cell_type": "code",
   "execution_count": 12,
   "id": "95a63b5a",
   "metadata": {},
   "outputs": [
    {
     "data": {
      "text/plain": [
       "'Ankara'"
      ]
     },
     "execution_count": 12,
     "metadata": {},
     "output_type": "execute_result"
    }
   ],
   "source": [
    "('Ankara' or 'istanbul' and 0 and not '') or not (True and 674 or '')"
   ]
  },
  {
   "cell_type": "code",
   "execution_count": 16,
   "id": "1db17b35",
   "metadata": {},
   "outputs": [
    {
     "data": {
      "text/plain": [
       "4"
      ]
     },
     "execution_count": 16,
     "metadata": {},
     "output_type": "execute_result"
    }
   ],
   "source": [
    "\"Canan\" and None or 4"
   ]
  },
  {
   "cell_type": "code",
   "execution_count": 19,
   "id": "99ffd764",
   "metadata": {},
   "outputs": [],
   "source": [
    "None and \"One\""
   ]
  },
  {
   "cell_type": "code",
   "execution_count": null,
   "id": "f9e2d35b",
   "metadata": {},
   "outputs": [
    {
     "data": {
      "text/plain": [
       "'guzel bir gun'"
      ]
     },
     "execution_count": 20,
     "metadata": {},
     "output_type": "execute_result"
    }
   ],
   "source": [
    "'guzel bir gun' or not(False) and not ('5' and not(not(8)) and 0)\n",
    "# because first operation is or, it will choose the first truthy value\n",
    "# first truthy value is 'guzel bir gun', answer will be 'guzel bir gun'"
   ]
  },
  {
   "cell_type": "markdown",
   "id": "e769adfa",
   "metadata": {},
   "source": [
    "# input()\n",
    "input function is used to take value or data from the user to computer"
   ]
  },
  {
   "cell_type": "code",
   "execution_count": null,
   "id": "9f20bf56",
   "metadata": {},
   "outputs": [
    {
     "data": {
      "text/plain": [
       "'My name is blabla'"
      ]
     },
     "execution_count": 21,
     "metadata": {},
     "output_type": "execute_result"
    }
   ],
   "source": [
    "input('what is your name?')\n",
    "# answer will be takes as String"
   ]
  },
  {
   "cell_type": "code",
   "execution_count": 22,
   "id": "c565aa7f",
   "metadata": {},
   "outputs": [],
   "source": [
    "# assign the input to variable\n",
    "name = input(\"Your name is?\")"
   ]
  },
  {
   "cell_type": "code",
   "execution_count": 23,
   "id": "113989a2",
   "metadata": {},
   "outputs": [
    {
     "name": "stdout",
     "output_type": "stream",
     "text": [
      "Vusal\n"
     ]
    }
   ],
   "source": [
    "print(name)"
   ]
  },
  {
   "cell_type": "code",
   "execution_count": 27,
   "id": "f64924eb",
   "metadata": {},
   "outputs": [],
   "source": [
    "# convert the string to int\n",
    "age = int(input(\"Your age is:\"))"
   ]
  },
  {
   "cell_type": "code",
   "execution_count": 28,
   "id": "1cbba879",
   "metadata": {},
   "outputs": [
    {
     "data": {
      "text/plain": [
       "26"
      ]
     },
     "execution_count": 28,
     "metadata": {},
     "output_type": "execute_result"
    }
   ],
   "source": [
    "age"
   ]
  },
  {
   "cell_type": "code",
   "execution_count": 32,
   "id": "c308f6da",
   "metadata": {},
   "outputs": [
    {
     "name": "stdout",
     "output_type": "stream",
     "text": [
      "Welcome ro the birth year calculator!\n",
      "Please enter your age\n",
      "Your age is 30\n",
      "Your birth year is: 1995\n"
     ]
    }
   ],
   "source": [
    "# ask age variable from the user using input and calculate the year of birth\n",
    "print(\"Welcome ro the birth year calculator!\")\n",
    "print(\"Please enter your age\")\n",
    "new_age = int(input(\"Type your age\"))\n",
    "print(\"Your age is\", new_age)\n",
    "birth_year = print(\"Your birth year is:\", 2025 - new_age)\n"
   ]
  },
  {
   "cell_type": "code",
   "execution_count": null,
   "id": "aaa3053c",
   "metadata": {},
   "outputs": [
    {
     "name": "stdout",
     "output_type": "stream",
     "text": [
      "Welcome to BMI calculator\n",
      "Based on your 70 kg weight and 1.6 meter hight, your BMI  is: 27.343749999999996\n"
     ]
    }
   ],
   "source": [
    "# ask user for thier weight in kg and hight in meter and clculate their BMI\n",
    "print(\"Welcome to BMI calculator\")\n",
    "weight = int(input(\"Enter weight in kg\"))\n",
    "hight = float(input(\"Enter your hight in meter\"))\n",
    "bmi = weight / hight** 2\n",
    "print(f\"Based on your {weight} kg weight and {hight} meter hight, your BMI is: {bmi}\")\n"
   ]
  }
 ],
 "metadata": {
  "kernelspec": {
   "display_name": "Python 3",
   "language": "python",
   "name": "python3"
  },
  "language_info": {
   "codemirror_mode": {
    "name": "ipython",
    "version": 3
   },
   "file_extension": ".py",
   "mimetype": "text/x-python",
   "name": "python",
   "nbconvert_exporter": "python",
   "pygments_lexer": "ipython3",
   "version": "3.13.7"
  }
 },
 "nbformat": 4,
 "nbformat_minor": 5
}
