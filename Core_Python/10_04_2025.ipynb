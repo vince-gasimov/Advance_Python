{
 "cells": [
  {
   "cell_type": "markdown",
   "id": "e0ef5f8f",
   "metadata": {},
   "source": [
    "# Sets\n",
    "\n",
    "- elements are unique or not repetetive\n",
    "- unordered hence no index\n",
    "- mutable\n",
    "- iterable"
   ]
  },
  {
   "cell_type": "code",
   "execution_count": null,
   "id": "4b1d5fef",
   "metadata": {},
   "outputs": [
    {
     "data": {
      "text/plain": [
       "dict"
      ]
     },
     "execution_count": 1,
     "metadata": {},
     "output_type": "execute_result"
    }
   ],
   "source": [
    "# first way creating set\n",
    "# use {}\n",
    "# you must provide more than 1 element otherwise python will think its dictionary\n",
    "variable_1 = {}\n",
    "type(variable_1)"
   ]
  },
  {
   "cell_type": "code",
   "execution_count": 10,
   "id": "d9c620ac",
   "metadata": {},
   "outputs": [
    {
     "data": {
      "text/plain": [
       "{'fierro', 'mine', 'vusal'}"
      ]
     },
     "execution_count": 10,
     "metadata": {},
     "output_type": "execute_result"
    }
   ],
   "source": [
    "variable = {'mine', 'fierro', 'vusal'}\n",
    "variable\n",
    "# unordered\n"
   ]
  },
  {
   "cell_type": "code",
   "execution_count": null,
   "id": "fc9dfb0c",
   "metadata": {},
   "outputs": [
    {
     "name": "stdout",
     "output_type": "stream",
     "text": [
      "{'a', 'd', 'u', 'l', 'b', 'h'}\n"
     ]
    }
   ],
   "source": [
    "print(set('adbullah'))\n",
    "# even though we have 2 a and 2 l, it will return single\n",
    "# elements in set are unique\n",
    "# it does not repate the element twice\n",
    "# elements are mixed as sets are unordered"
   ]
  },
  {
   "cell_type": "code",
   "execution_count": null,
   "id": "5abdd2b1",
   "metadata": {},
   "outputs": [
    {
     "data": {
      "text/plain": [
       "{1, 2.0, 'hello world'}"
      ]
     },
     "execution_count": 7,
     "metadata": {},
     "output_type": "execute_result"
    }
   ],
   "source": [
    "set([1, 2.0, True, 'hello world'])\n",
    "# lists are iterable data, we can create sets out of them\n",
    "# True and 1 are equal so they do not repeat"
   ]
  },
  {
   "cell_type": "code",
   "execution_count": null,
   "id": "d5437e2d",
   "metadata": {},
   "outputs": [
    {
     "data": {
      "text/plain": [
       "{2, False, 'hello world'}"
      ]
     },
     "execution_count": 8,
     "metadata": {},
     "output_type": "execute_result"
    }
   ],
   "source": [
    "set((False, 'hello world', 2, 0.0))\n",
    "# False and 0.0 are same things so they do not repeat"
   ]
  },
  {
   "cell_type": "code",
   "execution_count": 13,
   "id": "2c693bbb",
   "metadata": {},
   "outputs": [
    {
     "ename": "TypeError",
     "evalue": "unhashable type: 'set'",
     "output_type": "error",
     "traceback": [
      "\u001b[31m---------------------------------------------------------------------------\u001b[39m",
      "\u001b[31mTypeError\u001b[39m                                 Traceback (most recent call last)",
      "\u001b[36mCell\u001b[39m\u001b[36m \u001b[39m\u001b[32mIn[13]\u001b[39m\u001b[32m, line 1\u001b[39m\n\u001b[32m----> \u001b[39m\u001b[32m1\u001b[39m {\u001b[32m1\u001b[39m, \u001b[32m2.0\u001b[39m, \u001b[38;5;28;01mFalse\u001b[39;00m, {\u001b[32m1\u001b[39m, \u001b[32m2\u001b[39m, \u001b[32m3\u001b[39m}}\n\u001b[32m      2\u001b[39m \u001b[38;5;66;03m# set is mutable data hence cannot be an element\u001b[39;00m\n",
      "\u001b[31mTypeError\u001b[39m: unhashable type: 'set'"
     ]
    }
   ],
   "source": [
    "{1, 2.0, False, {1, 2, 3}}\n",
    "# set is mutable data hence cannot be an element"
   ]
  },
  {
   "cell_type": "code",
   "execution_count": 14,
   "id": "ae0bf466",
   "metadata": {},
   "outputs": [
    {
     "ename": "TypeError",
     "evalue": "unhashable type: 'dict'",
     "output_type": "error",
     "traceback": [
      "\u001b[31m---------------------------------------------------------------------------\u001b[39m",
      "\u001b[31mTypeError\u001b[39m                                 Traceback (most recent call last)",
      "\u001b[36mCell\u001b[39m\u001b[36m \u001b[39m\u001b[32mIn[14]\u001b[39m\u001b[32m, line 1\u001b[39m\n\u001b[32m----> \u001b[39m\u001b[32m1\u001b[39m {\u001b[32m1\u001b[39m, \u001b[32m2.0\u001b[39m, \u001b[38;5;28;01mFalse\u001b[39;00m, {\u001b[33m'\u001b[39m\u001b[33mtrue\u001b[39m\u001b[33m'\u001b[39m: \u001b[32m3\u001b[39m}}\n\u001b[32m      2\u001b[39m \u001b[38;5;66;03m# dictionary is mutable data hence cannot be an element\u001b[39;00m\n",
      "\u001b[31mTypeError\u001b[39m: unhashable type: 'dict'"
     ]
    }
   ],
   "source": [
    "{1, 2.0, False, {'true': 3}}\n",
    "# dictionary is mutable data hence cannot be an element"
   ]
  },
  {
   "cell_type": "code",
   "execution_count": 16,
   "id": "262d400a",
   "metadata": {},
   "outputs": [
    {
     "name": "stdout",
     "output_type": "stream",
     "text": [
      "{}\n",
      "<class 'dict'>\n"
     ]
    }
   ],
   "source": [
    "# how to create an empty set\n",
    "empty_set = {}\n",
    "print(empty_set)\n",
    "print(type(empty_set))\n",
    "# {} this is a deault symbol for dictionary"
   ]
  },
  {
   "cell_type": "code",
   "execution_count": 18,
   "id": "c65aa2ac",
   "metadata": {},
   "outputs": [
    {
     "name": "stdout",
     "output_type": "stream",
     "text": [
      "set()\n",
      "<class 'set'>\n"
     ]
    }
   ],
   "source": [
    "empty_set_1 = set()\n",
    "print(empty_set_1)\n",
    "print(type(empty_set_1))\n",
    "# {} this is a deault symbol for dictionary"
   ]
  },
  {
   "cell_type": "code",
   "execution_count": 19,
   "id": "2e619b16",
   "metadata": {},
   "outputs": [
    {
     "data": {
      "text/plain": [
       "set"
      ]
     },
     "execution_count": 19,
     "metadata": {},
     "output_type": "execute_result"
    }
   ],
   "source": [
    "b = {'Vusal'}\n",
    "type(b)"
   ]
  },
  {
   "cell_type": "code",
   "execution_count": 24,
   "id": "f63b737d",
   "metadata": {},
   "outputs": [
    {
     "ename": "TypeError",
     "evalue": "'bool' object is not iterable",
     "output_type": "error",
     "traceback": [
      "\u001b[31m---------------------------------------------------------------------------\u001b[39m",
      "\u001b[31mTypeError\u001b[39m                                 Traceback (most recent call last)",
      "\u001b[36mCell\u001b[39m\u001b[36m \u001b[39m\u001b[32mIn[24]\u001b[39m\u001b[32m, line 3\u001b[39m\n\u001b[32m      1\u001b[39m \u001b[38;5;66;03m# it has not iterable\u001b[39;00m\n\u001b[32m      2\u001b[39m \u001b[38;5;66;03m# following will fail\u001b[39;00m\n\u001b[32m----> \u001b[39m\u001b[32m3\u001b[39m failed_set = \u001b[38;5;28;43mset\u001b[39;49m\u001b[43m(\u001b[49m\u001b[38;5;28;43;01mTrue\u001b[39;49;00m\u001b[43m)\u001b[49m\n\u001b[32m      4\u001b[39m failed_set =  \u001b[38;5;28mset\u001b[39m(\u001b[32m1234\u001b[39m)\n",
      "\u001b[31mTypeError\u001b[39m: 'bool' object is not iterable"
     ]
    }
   ],
   "source": [
    "# it has not iterable\n",
    "# following will fail\n",
    "failed_set = set(True)\n",
    "failed_set =  set(1234)"
   ]
  },
  {
   "cell_type": "code",
   "execution_count": null,
   "id": "4c44bb37",
   "metadata": {},
   "outputs": [
    {
     "ename": "TypeError",
     "evalue": "set expected at most 1 argument, got 3",
     "output_type": "error",
     "traceback": [
      "\u001b[31m---------------------------------------------------------------------------\u001b[39m",
      "\u001b[31mTypeError\u001b[39m                                 Traceback (most recent call last)",
      "\u001b[36mCell\u001b[39m\u001b[36m \u001b[39m\u001b[32mIn[31]\u001b[39m\u001b[32m, line 3\u001b[39m\n\u001b[32m      1\u001b[39m \u001b[38;5;66;03m# set() if breaking down the element\u001b[39;00m\n\u001b[32m      2\u001b[39m \u001b[38;5;66;03m# you cannot enter bollean, int, or loaf data types\u001b[39;00m\n\u001b[32m----> \u001b[39m\u001b[32m3\u001b[39m failed_set = \u001b[38;5;28;43mset\u001b[39;49m\u001b[43m(\u001b[49m\u001b[33;43m'\u001b[39;49m\u001b[33;43mvusal\u001b[39;49m\u001b[33;43m'\u001b[39;49m\u001b[43m,\u001b[49m\u001b[43m \u001b[49m\u001b[32;43m1\u001b[39;49m\u001b[43m,\u001b[49m\u001b[43m \u001b[49m\u001b[38;5;28;43;01mTrue\u001b[39;49;00m\u001b[43m)\u001b[49m\n\u001b[32m      4\u001b[39m \u001b[38;5;28mtype\u001b[39m(failed_set)\n",
      "\u001b[31mTypeError\u001b[39m: set expected at most 1 argument, got 3"
     ]
    }
   ],
   "source": [
    "# set() if breaking down the element\n",
    "# you cannot enter bollean, int, or loaf data types\n",
    "# we cannot break them\n",
    "failed_set = set('vusal', 1, True)\n",
    "type(failed_set)"
   ]
  },
  {
   "cell_type": "code",
   "execution_count": null,
   "id": "15b070bd",
   "metadata": {},
   "outputs": [
    {
     "data": {
      "text/plain": [
       "set"
      ]
     },
     "execution_count": 29,
     "metadata": {},
     "output_type": "execute_result"
    }
   ],
   "source": [
    "# we are not breaking them\n",
    "failed_set_4 = {True}\n",
    "type(failed_set_4)"
   ]
  },
  {
   "cell_type": "code",
   "execution_count": 33,
   "id": "02cb1e82",
   "metadata": {},
   "outputs": [
    {
     "name": "stdout",
     "output_type": "stream",
     "text": [
      "{'a': 'b', 'c': 'd'}\n"
     ]
    },
    {
     "data": {
      "text/plain": [
       "dict"
      ]
     },
     "execution_count": 33,
     "metadata": {},
     "output_type": "execute_result"
    }
   ],
   "source": [
    "a = {'a': 'b', 'c': 'd'}\n",
    "print(a)\n",
    "type(a)"
   ]
  },
  {
   "cell_type": "code",
   "execution_count": 35,
   "id": "8ffd19a1",
   "metadata": {},
   "outputs": [
    {
     "data": {
      "text/plain": [
       "{'a', 'c'}"
      ]
     },
     "execution_count": 35,
     "metadata": {},
     "output_type": "execute_result"
    }
   ],
   "source": [
    "set(a)\n",
    "# it only selects keys"
   ]
  },
  {
   "cell_type": "code",
   "execution_count": 36,
   "id": "b0b13c99",
   "metadata": {},
   "outputs": [
    {
     "data": {
      "text/plain": [
       "dict_items([('a', 'b'), ('c', 'd')])"
      ]
     },
     "execution_count": 36,
     "metadata": {},
     "output_type": "execute_result"
    }
   ],
   "source": [
    "a.items()\n",
    "# becuase a is a dictionary, i CAN INSPECT ITS ITEMS OR ELEMENTS"
   ]
  },
  {
   "cell_type": "code",
   "execution_count": 37,
   "id": "1d34dc9b",
   "metadata": {},
   "outputs": [
    {
     "data": {
      "text/plain": [
       "{('a', 'b'), ('c', 'd')}"
      ]
     },
     "execution_count": 37,
     "metadata": {},
     "output_type": "execute_result"
    }
   ],
   "source": [
    "set(a.items())"
   ]
  },
  {
   "cell_type": "code",
   "execution_count": 38,
   "id": "fdd71acc",
   "metadata": {},
   "outputs": [
    {
     "ename": "TypeError",
     "evalue": "unsupported operand type(s) for +: 'set' and 'set'",
     "output_type": "error",
     "traceback": [
      "\u001b[31m---------------------------------------------------------------------------\u001b[39m",
      "\u001b[31mTypeError\u001b[39m                                 Traceback (most recent call last)",
      "\u001b[36mCell\u001b[39m\u001b[36m \u001b[39m\u001b[32mIn[38]\u001b[39m\u001b[32m, line 2\u001b[39m\n\u001b[32m      1\u001b[39m \u001b[38;5;66;03m# no concatination in set\u001b[39;00m\n\u001b[32m----> \u001b[39m\u001b[32m2\u001b[39m \u001b[43m{\u001b[49m\u001b[32;43m1\u001b[39;49m\u001b[43m,\u001b[49m\u001b[43m \u001b[49m\u001b[32;43m2\u001b[39;49m\u001b[43m,\u001b[49m\u001b[43m \u001b[49m\u001b[32;43m3\u001b[39;49m\u001b[43m}\u001b[49m\u001b[43m \u001b[49m\u001b[43m+\u001b[49m\u001b[43m \u001b[49m\u001b[43m{\u001b[49m\u001b[32;43m4\u001b[39;49m\u001b[43m,\u001b[49m\u001b[43m \u001b[49m\u001b[32;43m5\u001b[39;49m\u001b[43m,\u001b[49m\u001b[43m \u001b[49m\u001b[32;43m6\u001b[39;49m\u001b[43m}\u001b[49m\n",
      "\u001b[31mTypeError\u001b[39m: unsupported operand type(s) for +: 'set' and 'set'"
     ]
    }
   ],
   "source": [
    "# no concatination in set\n",
    "{1, 2, 3} + {4, 5, 6}"
   ]
  },
  {
   "cell_type": "code",
   "execution_count": 39,
   "id": "7226898c",
   "metadata": {},
   "outputs": [
    {
     "name": "stderr",
     "output_type": "stream",
     "text": [
      "<>:1: SyntaxWarning: 'set' object is not subscriptable; perhaps you missed a comma?\n",
      "/var/folders/ql/6jtsbr19249bjfqdx_b2n8640000gn/T/ipykernel_13110/1671953569.py:1: SyntaxWarning: 'set' object is not subscriptable; perhaps you missed a comma?\n",
      "  {1, 2, 3}[0]\n"
     ]
    },
    {
     "ename": "TypeError",
     "evalue": "'set' object is not subscriptable",
     "output_type": "error",
     "traceback": [
      "\u001b[31m---------------------------------------------------------------------------\u001b[39m",
      "\u001b[31mTypeError\u001b[39m                                 Traceback (most recent call last)",
      "\u001b[36mCell\u001b[39m\u001b[36m \u001b[39m\u001b[32mIn[39]\u001b[39m\u001b[32m, line 1\u001b[39m\n\u001b[32m----> \u001b[39m\u001b[32m1\u001b[39m \u001b[43m{\u001b[49m\u001b[32;43m1\u001b[39;49m\u001b[43m,\u001b[49m\u001b[43m \u001b[49m\u001b[32;43m2\u001b[39;49m\u001b[43m,\u001b[49m\u001b[43m \u001b[49m\u001b[32;43m3\u001b[39;49m\u001b[43m}\u001b[49m\u001b[43m[\u001b[49m\u001b[32;43m0\u001b[39;49m\u001b[43m]\u001b[49m\n\u001b[32m      2\u001b[39m \u001b[38;5;66;03m# there is no order, we cannot get the element\u001b[39;00m\n",
      "\u001b[31mTypeError\u001b[39m: 'set' object is not subscriptable"
     ]
    }
   ],
   "source": [
    "{1, 2, 3}[0]\n",
    "# there is no order, we cannot get the element"
   ]
  },
  {
   "cell_type": "code",
   "execution_count": null,
   "id": "bf46a0a0",
   "metadata": {},
   "outputs": [
    {
     "data": {
      "text/plain": [
       "5"
      ]
     },
     "execution_count": 40,
     "metadata": {},
     "output_type": "execute_result"
    }
   ],
   "source": [
    "# checking if sets are iterable\n",
    "len({1, 2, 3, 4, 5})\n",
    "# set is iterable as the elements can be reached an counted"
   ]
  },
  {
   "cell_type": "code",
   "execution_count": 41,
   "id": "2641979f",
   "metadata": {},
   "outputs": [
    {
     "data": {
      "text/plain": [
       "('a', 's', 'd', 's', 'a', 'd', 'f', 'd', 'a', 's')"
      ]
     },
     "execution_count": 41,
     "metadata": {},
     "output_type": "execute_result"
    }
   ],
   "source": [
    "# checking if sets are iterable\n",
    "tuple('asdsadfdas')\n",
    "# a function like a list that only takes iterable data inside it"
   ]
  },
  {
   "cell_type": "code",
   "execution_count": 42,
   "id": "3513d0d4",
   "metadata": {},
   "outputs": [
    {
     "ename": "TypeError",
     "evalue": "'int' object is not iterable",
     "output_type": "error",
     "traceback": [
      "\u001b[31m---------------------------------------------------------------------------\u001b[39m",
      "\u001b[31mTypeError\u001b[39m                                 Traceback (most recent call last)",
      "\u001b[36mCell\u001b[39m\u001b[36m \u001b[39m\u001b[32mIn[42]\u001b[39m\u001b[32m, line 1\u001b[39m\n\u001b[32m----> \u001b[39m\u001b[32m1\u001b[39m \u001b[38;5;28;43mlist\u001b[39;49m\u001b[43m(\u001b[49m\u001b[32;43m1234123\u001b[39;49m\u001b[43m)\u001b[49m\n",
      "\u001b[31mTypeError\u001b[39m: 'int' object is not iterable"
     ]
    }
   ],
   "source": [
    "list(1234123)"
   ]
  },
  {
   "cell_type": "code",
   "execution_count": 43,
   "id": "89d77fc9",
   "metadata": {},
   "outputs": [
    {
     "data": {
      "text/plain": [
       "[1, 2, 3]"
      ]
     },
     "execution_count": 43,
     "metadata": {},
     "output_type": "execute_result"
    }
   ],
   "source": [
    "list({1, 2, 3})\n",
    "# proving that sets are iterable"
   ]
  },
  {
   "cell_type": "markdown",
   "id": "da639876",
   "metadata": {},
   "source": [
    "#### Operations on set\n",
    "- unnion\n",
    "- intersections\n",
    "- diff"
   ]
  },
  {
   "cell_type": "markdown",
   "id": "4b0a9e27",
   "metadata": {},
   "source": [
    "##### union\n",
    "- combineing\n",
    "- .union()\n",
    "- using |"
   ]
  },
  {
   "cell_type": "code",
   "execution_count": 44,
   "id": "12945e1c",
   "metadata": {},
   "outputs": [
    {
     "data": {
      "text/plain": [
       "{'a', 'g', 'i', 'l', 'm', 'o', 's', 'u', 'v'}"
      ]
     },
     "execution_count": 44,
     "metadata": {},
     "output_type": "execute_result"
    }
   ],
   "source": [
    "A = set('vusal')\n",
    "B = set('gasimov')\n",
    "A.union(B)\n",
    "# union means combine"
   ]
  },
  {
   "cell_type": "code",
   "execution_count": 45,
   "id": "32ffaadb",
   "metadata": {},
   "outputs": [
    {
     "data": {
      "text/plain": [
       "{'a', 'g', 'i', 'l', 'm', 'o', 's', 'u', 'v'}"
      ]
     },
     "execution_count": 45,
     "metadata": {},
     "output_type": "execute_result"
    }
   ],
   "source": [
    "B.union(A)"
   ]
  },
  {
   "cell_type": "code",
   "execution_count": 46,
   "id": "792e137a",
   "metadata": {},
   "outputs": [
    {
     "data": {
      "text/plain": [
       "{'a', 'g', 'i', 'l', 'm', 'o', 's', 'u', 'v'}"
      ]
     },
     "execution_count": 46,
     "metadata": {},
     "output_type": "execute_result"
    }
   ],
   "source": [
    "A | B"
   ]
  },
  {
   "cell_type": "markdown",
   "id": "1a812499",
   "metadata": {},
   "source": [
    "##### intersection\n",
    "- common elements that are present in both sets"
   ]
  },
  {
   "cell_type": "code",
   "execution_count": null,
   "id": "142778c1",
   "metadata": {},
   "outputs": [
    {
     "data": {
      "text/plain": [
       "{'a', 's', 'v'}"
      ]
     },
     "execution_count": 47,
     "metadata": {},
     "output_type": "execute_result"
    }
   ],
   "source": [
    "A.intersection(B)\n",
    "B.intersection(A)\n",
    "A & B"
   ]
  },
  {
   "cell_type": "markdown",
   "id": "11d4bd7d",
   "metadata": {},
   "source": [
    "##### difference\n",
    "- elements are present on one but not other one\n",
    "- find unique element on one set"
   ]
  },
  {
   "cell_type": "code",
   "execution_count": null,
   "id": "fa11585f",
   "metadata": {},
   "outputs": [
    {
     "data": {
      "text/plain": [
       "{'l', 'u'}"
      ]
     },
     "execution_count": 50,
     "metadata": {},
     "output_type": "execute_result"
    }
   ],
   "source": [
    "A.difference(B)\n",
    "A - B\n",
    "# elements are present at A but not B\n",
    "# uncommen elements of A"
   ]
  },
  {
   "cell_type": "code",
   "execution_count": null,
   "id": "5b746e52",
   "metadata": {},
   "outputs": [
    {
     "data": {
      "text/plain": [
       "{'g', 'i', 'm', 'o'}"
      ]
     },
     "execution_count": 53,
     "metadata": {},
     "output_type": "execute_result"
    }
   ],
   "source": [
    "B.difference(A)\n",
    "B - A\n",
    "# elements are present at B but not A\n",
    "# uncommen elements of B"
   ]
  },
  {
   "cell_type": "markdown",
   "id": "fbb88270",
   "metadata": {},
   "source": [
    "#### finding uncomment element on both sets using fllowing 3 methods"
   ]
  },
  {
   "cell_type": "code",
   "execution_count": 54,
   "id": "bd3ec397",
   "metadata": {},
   "outputs": [
    {
     "data": {
      "text/plain": [
       "{'g', 'i', 'l', 'm', 'o', 'u'}"
      ]
     },
     "execution_count": 54,
     "metadata": {},
     "output_type": "execute_result"
    }
   ],
   "source": [
    "(A - B) | (B-A)"
   ]
  },
  {
   "cell_type": "code",
   "execution_count": 55,
   "id": "c0fe7970",
   "metadata": {},
   "outputs": [
    {
     "data": {
      "text/plain": [
       "{'g', 'i', 'l', 'm', 'o', 'u'}"
      ]
     },
     "execution_count": 55,
     "metadata": {},
     "output_type": "execute_result"
    }
   ],
   "source": [
    "(A | B) - (A & B)"
   ]
  },
  {
   "cell_type": "code",
   "execution_count": 56,
   "id": "fedd4ffa",
   "metadata": {},
   "outputs": [
    {
     "data": {
      "text/plain": [
       "{'g', 'i', 'l', 'm', 'o', 'u'}"
      ]
     },
     "execution_count": 56,
     "metadata": {},
     "output_type": "execute_result"
    }
   ],
   "source": [
    "A.symmetric_difference(B)"
   ]
  },
  {
   "cell_type": "markdown",
   "id": "479756ef",
   "metadata": {},
   "source": [
    "#### clear"
   ]
  },
  {
   "cell_type": "code",
   "execution_count": 59,
   "id": "05bc1b9e",
   "metadata": {},
   "outputs": [],
   "source": [
    "C = {'Vusal Gasimov'}"
   ]
  },
  {
   "cell_type": "code",
   "execution_count": 60,
   "id": "8a3e9375",
   "metadata": {},
   "outputs": [],
   "source": [
    "C.clear()"
   ]
  },
  {
   "cell_type": "code",
   "execution_count": 61,
   "id": "c2f5c246",
   "metadata": {},
   "outputs": [
    {
     "data": {
      "text/plain": [
       "set()"
      ]
     },
     "execution_count": 61,
     "metadata": {},
     "output_type": "execute_result"
    }
   ],
   "source": [
    "C"
   ]
  },
  {
   "cell_type": "markdown",
   "id": "0230fd6a",
   "metadata": {},
   "source": [
    "#### remove\n",
    "- remove given element"
   ]
  },
  {
   "cell_type": "code",
   "execution_count": 69,
   "id": "f4994cf9",
   "metadata": {},
   "outputs": [],
   "source": [
    "D = set('royal gasimov')"
   ]
  },
  {
   "cell_type": "code",
   "execution_count": 70,
   "id": "db26b0d2",
   "metadata": {},
   "outputs": [
    {
     "data": {
      "text/plain": [
       "{' ', 'a', 'g', 'i', 'l', 'm', 'o', 's', 'v', 'y'}"
      ]
     },
     "execution_count": 70,
     "metadata": {},
     "output_type": "execute_result"
    }
   ],
   "source": [
    "D.remove('r')\n",
    "D"
   ]
  },
  {
   "cell_type": "markdown",
   "id": "8619e4a2",
   "metadata": {},
   "source": [
    "#### pop()\n",
    "- randomly removes an element"
   ]
  },
  {
   "cell_type": "code",
   "execution_count": 72,
   "id": "dce54048",
   "metadata": {},
   "outputs": [
    {
     "data": {
      "text/plain": [
       "{' ', 'g', 'i', 'l', 'm', 'o', 'v', 'y'}"
      ]
     },
     "execution_count": 72,
     "metadata": {},
     "output_type": "execute_result"
    }
   ],
   "source": [
    "D.pop()\n",
    "D"
   ]
  },
  {
   "cell_type": "markdown",
   "id": "68519122",
   "metadata": {},
   "source": [
    "#### add"
   ]
  },
  {
   "cell_type": "code",
   "execution_count": 73,
   "id": "1c9291e0",
   "metadata": {},
   "outputs": [
    {
     "data": {
      "text/plain": [
       "{' ', 'K', 'g', 'i', 'l', 'm', 'o', 'v', 'y'}"
      ]
     },
     "execution_count": 73,
     "metadata": {},
     "output_type": "execute_result"
    }
   ],
   "source": [
    "D.add('K')\n",
    "D"
   ]
  },
  {
   "cell_type": "code",
   "execution_count": 74,
   "id": "46ee4862",
   "metadata": {},
   "outputs": [
    {
     "ename": "TypeError",
     "evalue": "set.add() takes exactly one argument (2 given)",
     "output_type": "error",
     "traceback": [
      "\u001b[31m---------------------------------------------------------------------------\u001b[39m",
      "\u001b[31mTypeError\u001b[39m                                 Traceback (most recent call last)",
      "\u001b[36mCell\u001b[39m\u001b[36m \u001b[39m\u001b[32mIn[74]\u001b[39m\u001b[32m, line 2\u001b[39m\n\u001b[32m      1\u001b[39m \u001b[38;5;66;03m# .add() wrequires only one argument\u001b[39;00m\n\u001b[32m----> \u001b[39m\u001b[32m2\u001b[39m \u001b[43mD\u001b[49m\u001b[43m.\u001b[49m\u001b[43madd\u001b[49m\u001b[43m(\u001b[49m\u001b[33;43m'\u001b[39;49m\u001b[33;43mk\u001b[39;49m\u001b[33;43m'\u001b[39;49m\u001b[43m,\u001b[49m\u001b[43m \u001b[49m\u001b[33;43m'\u001b[39;49m\u001b[33;43ms\u001b[39;49m\u001b[33;43m'\u001b[39;49m\u001b[43m)\u001b[49m\n",
      "\u001b[31mTypeError\u001b[39m: set.add() takes exactly one argument (2 given)"
     ]
    }
   ],
   "source": [
    "# .add() wrequires only one argument\n",
    "D.add('k', 's')"
   ]
  },
  {
   "cell_type": "markdown",
   "id": "a9b19d9e",
   "metadata": {},
   "source": [
    "#### issubset()\n",
    "- checks whether a set is a subset of another set\n",
    "- A set for example A is a subset of another set for example B when all elemnts of set A is"
   ]
  },
  {
   "cell_type": "code",
   "execution_count": 75,
   "id": "b01b2c73",
   "metadata": {},
   "outputs": [],
   "source": [
    "X = set('selin')\n",
    "Y = set('enes')"
   ]
  },
  {
   "cell_type": "code",
   "execution_count": 79,
   "id": "d13e8daf",
   "metadata": {},
   "outputs": [
    {
     "data": {
      "text/plain": [
       "{'e', 'i', 'l', 'n', 's'}"
      ]
     },
     "execution_count": 79,
     "metadata": {},
     "output_type": "execute_result"
    }
   ],
   "source": [
    "X"
   ]
  },
  {
   "cell_type": "code",
   "execution_count": 80,
   "id": "7521c40b",
   "metadata": {},
   "outputs": [
    {
     "data": {
      "text/plain": [
       "{'e', 'n', 's'}"
      ]
     },
     "execution_count": 80,
     "metadata": {},
     "output_type": "execute_result"
    }
   ],
   "source": [
    "Y"
   ]
  },
  {
   "cell_type": "code",
   "execution_count": null,
   "id": "f239427e",
   "metadata": {},
   "outputs": [
    {
     "data": {
      "text/plain": [
       "True"
      ]
     },
     "execution_count": 81,
     "metadata": {},
     "output_type": "execute_result"
    }
   ],
   "source": [
    "Y.issubset(X)\n",
    "# all the elements of set is present in set A, set B is subset of set A\n",
    "# Y is smaller one, X is bigger one"
   ]
  },
  {
   "cell_type": "code",
   "execution_count": 85,
   "id": "75f7e0a7",
   "metadata": {},
   "outputs": [
    {
     "data": {
      "text/plain": [
       "False"
      ]
     },
     "execution_count": 85,
     "metadata": {},
     "output_type": "execute_result"
    }
   ],
   "source": [
    "X.issubset(Y)\n",
    "# subset is smaller set"
   ]
  },
  {
   "cell_type": "code",
   "execution_count": 86,
   "id": "536316d0",
   "metadata": {},
   "outputs": [
    {
     "data": {
      "text/plain": [
       "True"
      ]
     },
     "execution_count": 86,
     "metadata": {},
     "output_type": "execute_result"
    }
   ],
   "source": [
    "X.issuperset(Y)\n"
   ]
  },
  {
   "cell_type": "code",
   "execution_count": 84,
   "id": "fe4eda6c",
   "metadata": {},
   "outputs": [
    {
     "data": {
      "text/plain": [
       "False"
      ]
     },
     "execution_count": 84,
     "metadata": {},
     "output_type": "execute_result"
    }
   ],
   "source": [
    "Z = set('Selin')\n",
    "XZ = set('Enes')\n",
    "XZ.issubset(Z)\n",
    "# Z does not have 'E' or 's'"
   ]
  },
  {
   "cell_type": "code",
   "execution_count": null,
   "id": "f851b54c",
   "metadata": {},
   "outputs": [],
   "source": []
  }
 ],
 "metadata": {
  "kernelspec": {
   "display_name": "Python 3",
   "language": "python",
   "name": "python3"
  },
  "language_info": {
   "codemirror_mode": {
    "name": "ipython",
    "version": 3
   },
   "file_extension": ".py",
   "mimetype": "text/x-python",
   "name": "python",
   "nbconvert_exporter": "python",
   "pygments_lexer": "ipython3",
   "version": "3.13.7"
  }
 },
 "nbformat": 4,
 "nbformat_minor": 5
}
