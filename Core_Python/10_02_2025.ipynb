{
 "cells": [
  {
   "cell_type": "markdown",
   "id": "428c1cd6",
   "metadata": {},
   "source": [
    "# Dictionary\n",
    "\n",
    "A member of collection types. One of the most important topics we have seen so far\n",
    "\n",
    "- Store items in key-value paris\n",
    "- mutable (changable)\n",
    "- iterable -> elements can be stores or reached\n",
    "- unordered - not stored as particular order\n",
    "- indexed is performed with keys\n",
    "- key should be unique\n",
    "- key cannot be a mutable data type like list or dictionary because key is unique but mutable data can be changable"
   ]
  },
  {
   "cell_type": "code",
   "execution_count": 3,
   "id": "4dc37f70",
   "metadata": {},
   "outputs": [
    {
     "data": {
      "text/plain": [
       "{'Vusal': 31, 'Fierro': 28}"
      ]
     },
     "execution_count": 3,
     "metadata": {},
     "output_type": "execute_result"
    }
   ],
   "source": [
    "# key has to be unique\n",
    "dict1 = {\n",
    "    'Vusal': 31,\n",
    "    'Fierro': 28\n",
    "}\n",
    "dict1"
   ]
  },
  {
   "cell_type": "code",
   "execution_count": 4,
   "id": "12cf3329",
   "metadata": {},
   "outputs": [
    {
     "data": {
      "text/plain": [
       "{'name': 'Vusal',\n",
       " 'age': 23,\n",
       " 'job': 'data scientist',\n",
       " 'hobbies': ['coding', 'reading book']}"
      ]
     },
     "execution_count": 4,
     "metadata": {},
     "output_type": "execute_result"
    }
   ],
   "source": [
    "student_1 = {\"name\": \"Vusal\", 'age': 23, \"job\": \"data scientist\", \"hobbies\": ['coding', \"reading book\"]}\n",
    "student_1"
   ]
  },
  {
   "cell_type": "code",
   "execution_count": 6,
   "id": "a1cc812e",
   "metadata": {},
   "outputs": [
    {
     "data": {
      "text/plain": [
       "dict_items([('name', 'Vusal'), ('age', 23), ('job', 'data scientist'), ('hobbies', ['coding', 'reading book'])])"
      ]
     },
     "execution_count": 6,
     "metadata": {},
     "output_type": "execute_result"
    }
   ],
   "source": [
    "student_1.items()"
   ]
  },
  {
   "cell_type": "code",
   "execution_count": 7,
   "id": "6d8f1e41",
   "metadata": {},
   "outputs": [
    {
     "data": {
      "text/plain": [
       "4"
      ]
     },
     "execution_count": 7,
     "metadata": {},
     "output_type": "execute_result"
    }
   ],
   "source": [
    "len(student_1)"
   ]
  },
  {
   "cell_type": "code",
   "execution_count": 8,
   "id": "5ce0089d",
   "metadata": {},
   "outputs": [
    {
     "data": {
      "text/plain": [
       "dict_keys(['name', 'age', 'job', 'hobbies'])"
      ]
     },
     "execution_count": 8,
     "metadata": {},
     "output_type": "execute_result"
    }
   ],
   "source": [
    "student_1.keys()"
   ]
  },
  {
   "cell_type": "code",
   "execution_count": 9,
   "id": "5e3d2066",
   "metadata": {},
   "outputs": [
    {
     "data": {
      "text/plain": [
       "dict_values(['Vusal', 23, 'data scientist', ['coding', 'reading book']])"
      ]
     },
     "execution_count": 9,
     "metadata": {},
     "output_type": "execute_result"
    }
   ],
   "source": [
    "student_1.values()"
   ]
  },
  {
   "cell_type": "markdown",
   "id": "ec3317ca",
   "metadata": {},
   "source": [
    "### second way of creating dictionary"
   ]
  },
  {
   "cell_type": "code",
   "execution_count": 12,
   "id": "0da13652",
   "metadata": {},
   "outputs": [
    {
     "data": {
      "text/plain": [
       "{'name': 'Vusal', 'surname': 'Gasimov'}"
      ]
     },
     "execution_count": 12,
     "metadata": {},
     "output_type": "execute_result"
    }
   ],
   "source": [
    "student_2 = dict(name = \"Vusal\", surname = 'Gasimov')\n",
    "student_2"
   ]
  },
  {
   "cell_type": "code",
   "execution_count": null,
   "id": "1a6f1110",
   "metadata": {},
   "outputs": [],
   "source": [
    "# lists, tuples, and strings are ordered data types\n",
    "('str', 'int', 'usa')"
   ]
  },
  {
   "cell_type": "code",
   "execution_count": 15,
   "id": "5a4e12f3",
   "metadata": {},
   "outputs": [
    {
     "ename": "KeyError",
     "evalue": "0",
     "output_type": "error",
     "traceback": [
      "\u001b[31m---------------------------------------------------------------------------\u001b[39m",
      "\u001b[31mKeyError\u001b[39m                                  Traceback (most recent call last)",
      "\u001b[36mCell\u001b[39m\u001b[36m \u001b[39m\u001b[32mIn[15]\u001b[39m\u001b[32m, line 1\u001b[39m\n\u001b[32m----> \u001b[39m\u001b[32m1\u001b[39m \u001b[43mstudent_1\u001b[49m\u001b[43m[\u001b[49m\u001b[32;43m0\u001b[39;49m\u001b[43m]\u001b[49m\n",
      "\u001b[31mKeyError\u001b[39m: 0"
     ]
    }
   ],
   "source": [
    "student_1[0]\n",
    "# because dictionery does not have order, you cannot reach the element"
   ]
  },
  {
   "cell_type": "code",
   "execution_count": 20,
   "id": "a127bce0",
   "metadata": {},
   "outputs": [
    {
     "data": {
      "text/plain": [
       "['coding', 'reading book']"
      ]
     },
     "execution_count": 20,
     "metadata": {},
     "output_type": "execute_result"
    }
   ],
   "source": [
    "student_1['hobbies']\n",
    "# you can get the elements by providing a key"
   ]
  },
  {
   "cell_type": "code",
   "execution_count": 21,
   "id": "9d176146",
   "metadata": {},
   "outputs": [
    {
     "data": {
      "text/plain": [
       "{'city': 'Baku'}"
      ]
     },
     "execution_count": 21,
     "metadata": {},
     "output_type": "execute_result"
    }
   ],
   "source": [
    "dict2 = {\"city\":input(\"please provide your city\")}\n",
    "dict2"
   ]
  },
  {
   "cell_type": "code",
   "execution_count": 24,
   "id": "82fdf55e",
   "metadata": {},
   "outputs": [
    {
     "data": {
      "text/plain": [
       "{'name': 'fierro'}"
      ]
     },
     "execution_count": 24,
     "metadata": {},
     "output_type": "execute_result"
    }
   ],
   "source": [
    "dict3 = {\"name\": \"vusal\", \"name\": \"fierro\"}\n",
    "dict3 \n",
    "# key is not unique, 2 elements cannot have same key\n",
    "# because key is not uniqeue, paython think we are assgning new value to key 'name'"
   ]
  },
  {
   "cell_type": "code",
   "execution_count": 25,
   "id": "49f143ec",
   "metadata": {},
   "outputs": [],
   "source": [
    "# key must be immutable data liek int, tuple, bool float\n",
    "# it cannot be a list or dictionary\n",
    "# value can be anything\n"
   ]
  },
  {
   "cell_type": "code",
   "execution_count": 26,
   "id": "a012b9b2",
   "metadata": {},
   "outputs": [
    {
     "data": {
      "text/plain": [
       "{1: False, 2.3: 4.3, 'hello': 'bye', (123, 23): (23, 65)}"
      ]
     },
     "execution_count": 26,
     "metadata": {},
     "output_type": "execute_result"
    }
   ],
   "source": [
    "dict5 = {1:1, True:False, 2.3:4.3, \"hello\":\"bye\", (123, 23):(23, 65)}\n",
    "dict5"
   ]
  },
  {
   "cell_type": "code",
   "execution_count": 27,
   "id": "4a815e91",
   "metadata": {},
   "outputs": [
    {
     "data": {
      "text/plain": [
       "{1: {21: True, 12: False}}"
      ]
     },
     "execution_count": 27,
     "metadata": {},
     "output_type": "execute_result"
    }
   ],
   "source": [
    "dict6 = {1:[4, 3, 6], True:{21: True, 12:False}}\n",
    "dict6\n",
    "# 2 elements cannot have same key. 1 and True are the same\n",
    "# because of that, python takes the second value"
   ]
  },
  {
   "cell_type": "code",
   "execution_count": 28,
   "id": "83d8a054",
   "metadata": {},
   "outputs": [
    {
     "ename": "TypeError",
     "evalue": "unhashable type: 'list'",
     "output_type": "error",
     "traceback": [
      "\u001b[31m---------------------------------------------------------------------------\u001b[39m",
      "\u001b[31mTypeError\u001b[39m                                 Traceback (most recent call last)",
      "\u001b[36mCell\u001b[39m\u001b[36m \u001b[39m\u001b[32mIn[28]\u001b[39m\u001b[32m, line 2\u001b[39m\n\u001b[32m      1\u001b[39m \u001b[38;5;66;03m# key cannot be a mutable data type like list or dictionary\u001b[39;00m\n\u001b[32m----> \u001b[39m\u001b[32m2\u001b[39m dict6 = {[\u001b[32m1\u001b[39m, \u001b[32m4\u001b[39m, \u001b[32m5\u001b[39m]:\u001b[38;5;28;01mTrue\u001b[39;00m}\n\u001b[32m      3\u001b[39m dict6\n",
      "\u001b[31mTypeError\u001b[39m: unhashable type: 'list'"
     ]
    }
   ],
   "source": [
    "# key cannot be a mutable data type like list or dictionary\n",
    "# because keys are supposed to be unique, so we cannot change them\n",
    "# they are not supposed to be changable\n",
    "dict6 = {[1, 4, 5]:True}\n",
    "dict6"
   ]
  },
  {
   "cell_type": "code",
   "execution_count": 29,
   "id": "53f064fd",
   "metadata": {},
   "outputs": [
    {
     "ename": "TypeError",
     "evalue": "unhashable type: 'dict'",
     "output_type": "error",
     "traceback": [
      "\u001b[31m---------------------------------------------------------------------------\u001b[39m",
      "\u001b[31mTypeError\u001b[39m                                 Traceback (most recent call last)",
      "\u001b[36mCell\u001b[39m\u001b[36m \u001b[39m\u001b[32mIn[29]\u001b[39m\u001b[32m, line 1\u001b[39m\n\u001b[32m----> \u001b[39m\u001b[32m1\u001b[39m dict7 = {{\u001b[32m1\u001b[39m:\u001b[32m2\u001b[39m}:\u001b[38;5;28;01mFalse\u001b[39;00m}\n\u001b[32m      2\u001b[39m dict7\n",
      "\u001b[31mTypeError\u001b[39m: unhashable type: 'dict'"
     ]
    }
   ],
   "source": [
    "dict7 = {{1:2}:False}\n",
    "dict7\n"
   ]
  },
  {
   "cell_type": "code",
   "execution_count": 30,
   "id": "a4a765cf",
   "metadata": {},
   "outputs": [
    {
     "data": {
      "text/plain": [
       "{'one': 1, 'two': 2}"
      ]
     },
     "execution_count": 30,
     "metadata": {},
     "output_type": "execute_result"
    }
   ],
   "source": [
    "dict8 = dict(one = 1, two = 2)\n",
    "dict8\n",
    "# while creating a dictionary using thee dict function with maping method,\n",
    "# the key has to be a variable, so the key cannot be a number"
   ]
  },
  {
   "cell_type": "code",
   "execution_count": 32,
   "id": "70535c6d",
   "metadata": {},
   "outputs": [
    {
     "ename": "SyntaxError",
     "evalue": "expression cannot contain assignment, perhaps you meant \"==\"? (3330546543.py, line 1)",
     "output_type": "error",
     "traceback": [
      "  \u001b[36mCell\u001b[39m\u001b[36m \u001b[39m\u001b[32mIn[32]\u001b[39m\u001b[32m, line 1\u001b[39m\n\u001b[31m    \u001b[39m\u001b[31mdict9 = dict(43 = 1, 21 = 2)\u001b[39m\n                 ^\n\u001b[31mSyntaxError\u001b[39m\u001b[31m:\u001b[39m expression cannot contain assignment, perhaps you meant \"==\"?\n"
     ]
    }
   ],
   "source": [
    "dict9 = dict(43 = 1, 21 = 2)\n",
    "dict9"
   ]
  },
  {
   "cell_type": "code",
   "execution_count": 34,
   "id": "bd77c7b8",
   "metadata": {},
   "outputs": [
    {
     "ename": "SyntaxError",
     "evalue": "expression cannot contain assignment, perhaps you meant \"==\"? (2717878492.py, line 1)",
     "output_type": "error",
     "traceback": [
      "  \u001b[36mCell\u001b[39m\u001b[36m \u001b[39m\u001b[32mIn[34]\u001b[39m\u001b[32m, line 1\u001b[39m\n\u001b[31m    \u001b[39m\u001b[31mdict10 = dict('43' = 1, '21' = 2)\u001b[39m\n                  ^\n\u001b[31mSyntaxError\u001b[39m\u001b[31m:\u001b[39m expression cannot contain assignment, perhaps you meant \"==\"?\n"
     ]
    }
   ],
   "source": [
    "dict10 = dict('43' = 1, '21' = 2)\n",
    "dict10"
   ]
  },
  {
   "cell_type": "code",
   "execution_count": 39,
   "id": "b3210184",
   "metadata": {},
   "outputs": [
    {
     "data": {
      "text/plain": [
       "{'student1': 'vusal', 'student2': 'fierro'}"
      ]
     },
     "execution_count": 39,
     "metadata": {},
     "output_type": "execute_result"
    }
   ],
   "source": [
    "name_list = [['student1', 'vusal'], ['student2', 'fierro']]\n",
    "# each element is a list, it can be converted to dict\n",
    "dict(name_list)"
   ]
  },
  {
   "cell_type": "code",
   "execution_count": 40,
   "id": "fd6371b2",
   "metadata": {},
   "outputs": [
    {
     "ename": "ValueError",
     "evalue": "dictionary update sequence element #0 has length 4; 2 is required",
     "output_type": "error",
     "traceback": [
      "\u001b[31m---------------------------------------------------------------------------\u001b[39m",
      "\u001b[31mValueError\u001b[39m                                Traceback (most recent call last)",
      "\u001b[36mCell\u001b[39m\u001b[36m \u001b[39m\u001b[32mIn[40]\u001b[39m\u001b[32m, line 3\u001b[39m\n\u001b[32m      1\u001b[39m name_list = [[\u001b[33m'\u001b[39m\u001b[33mstudent1\u001b[39m\u001b[33m'\u001b[39m, \u001b[33m'\u001b[39m\u001b[33mvusal\u001b[39m\u001b[33m'\u001b[39m, \u001b[33m'\u001b[39m\u001b[33mstudent3\u001b[39m\u001b[33m'\u001b[39m, \u001b[33m'\u001b[39m\u001b[33mroyal\u001b[39m\u001b[33m'\u001b[39m], [\u001b[33m'\u001b[39m\u001b[33mstudent2\u001b[39m\u001b[33m'\u001b[39m, \u001b[33m'\u001b[39m\u001b[33mfierro\u001b[39m\u001b[33m'\u001b[39m]]\n\u001b[32m      2\u001b[39m \u001b[38;5;66;03m# each element is a list, it can be converted to dict\u001b[39;00m\n\u001b[32m----> \u001b[39m\u001b[32m3\u001b[39m \u001b[38;5;28;43mdict\u001b[39;49m\u001b[43m(\u001b[49m\u001b[43mname_list\u001b[49m\u001b[43m)\u001b[49m\n",
      "\u001b[31mValueError\u001b[39m: dictionary update sequence element #0 has length 4; 2 is required"
     ]
    }
   ],
   "source": [
    "name_list = [['student1', 'vusal', 'student3', 'royal'], ['student2', 'fierro']]\n",
    "# when you are converting the list to dic, you cannot have more than 2 element, 1 key and 1 value\n",
    "dict(name_list)"
   ]
  },
  {
   "cell_type": "code",
   "execution_count": 37,
   "id": "ef776b60",
   "metadata": {},
   "outputs": [
    {
     "data": {
      "text/plain": [
       "{'student1': 'vusal', 'student2': 'fierro'}"
      ]
     },
     "execution_count": 37,
     "metadata": {},
     "output_type": "execute_result"
    }
   ],
   "source": [
    "name_list2 = [('student1', 'vusal'), ('student2', 'fierro')]\n",
    "# each element is a tuple, it can be converted to dict\n",
    "dict(name_list2)"
   ]
  },
  {
   "cell_type": "markdown",
   "id": "a095927b",
   "metadata": {},
   "source": [
    "#### dictionry is mutable (changable)"
   ]
  },
  {
   "cell_type": "code",
   "execution_count": 41,
   "id": "f1f96ca5",
   "metadata": {},
   "outputs": [
    {
     "data": {
      "text/plain": [
       "{'odd': 3, 'even': 14}"
      ]
     },
     "execution_count": 41,
     "metadata": {},
     "output_type": "execute_result"
    }
   ],
   "source": [
    "numbers = {'odd':3, \"even\":4}\n",
    "# need to provide a key to change the element\n",
    "numbers['even'] = 14\n",
    "numbers"
   ]
  },
  {
   "cell_type": "markdown",
   "id": "cfe7fc3c",
   "metadata": {},
   "source": [
    "#### no concatenation in dictionary"
   ]
  },
  {
   "cell_type": "code",
   "execution_count": 46,
   "id": "243f1b3e",
   "metadata": {},
   "outputs": [
    {
     "ename": "TypeError",
     "evalue": "unsupported operand type(s) for +: 'dict' and 'dict'",
     "output_type": "error",
     "traceback": [
      "\u001b[31m---------------------------------------------------------------------------\u001b[39m",
      "\u001b[31mTypeError\u001b[39m                                 Traceback (most recent call last)",
      "\u001b[36mCell\u001b[39m\u001b[36m \u001b[39m\u001b[32mIn[46]\u001b[39m\u001b[32m, line 1\u001b[39m\n\u001b[32m----> \u001b[39m\u001b[32m1\u001b[39m \u001b[43m{\u001b[49m\u001b[33;43m'\u001b[39;49m\u001b[33;43mname\u001b[39;49m\u001b[33;43m'\u001b[39;49m\u001b[43m:\u001b[49m\u001b[43m \u001b[49m\u001b[38;5;28;43;01mTrue\u001b[39;49;00m\u001b[43m}\u001b[49m\u001b[43m \u001b[49m\u001b[43m+\u001b[49m\u001b[43m \u001b[49m\u001b[43m{\u001b[49m\u001b[33;43m'\u001b[39;49m\u001b[33;43mname2\u001b[39;49m\u001b[33;43m'\u001b[39;49m\u001b[43m:\u001b[49m\u001b[38;5;28;43;01mFalse\u001b[39;49;00m\u001b[43m}\u001b[49m\n",
      "\u001b[31mTypeError\u001b[39m: unsupported operand type(s) for +: 'dict' and 'dict'"
     ]
    }
   ],
   "source": [
    "{'name': True} + {'name2':False}"
   ]
  },
  {
   "cell_type": "markdown",
   "id": "4c92d1e3",
   "metadata": {},
   "source": [
    "## operations on dictionary\n",
    "\n",
    "### udate\n",
    "- used to a new element of dictionary\n",
    "- accept a dictionary as a new item or element\n",
    "- can change or update the value of a dic item"
   ]
  },
  {
   "cell_type": "code",
   "execution_count": 42,
   "id": "bc046fd0",
   "metadata": {},
   "outputs": [
    {
     "data": {
      "text/plain": [
       "{'brand1': 'apple', 'brand2': 'samsung', 'brand3': 'google'}"
      ]
     },
     "execution_count": 42,
     "metadata": {},
     "output_type": "execute_result"
    }
   ],
   "source": [
    "brand = {\n",
    "    'brand1': 'apple',\n",
    "    'brand2': 'samsung',\n",
    "    'brand3': 'google'\n",
    "}\n",
    "brand"
   ]
  },
  {
   "cell_type": "code",
   "execution_count": 43,
   "id": "4570c287",
   "metadata": {},
   "outputs": [
    {
     "data": {
      "text/plain": [
       "{'brand1': 'apple', 'brand2': 'samsung', 'brand3': 'google', 'brand5': 'HP'}"
      ]
     },
     "execution_count": 43,
     "metadata": {},
     "output_type": "execute_result"
    }
   ],
   "source": [
    "brand.update({'brand5': 'HP'})\n",
    "brand"
   ]
  },
  {
   "cell_type": "code",
   "execution_count": 44,
   "id": "33299fb5",
   "metadata": {},
   "outputs": [
    {
     "data": {
      "text/plain": [
       "{'brand1': 'apple',\n",
       " 'brand2': 'samsung',\n",
       " 'brand3': 'google',\n",
       " 'brand5': 'HP',\n",
       " 'brand4': 'MSI',\n",
       " 'brand6': 'dell'}"
      ]
     },
     "execution_count": 44,
     "metadata": {},
     "output_type": "execute_result"
    }
   ],
   "source": [
    "new_brand = {'brand4': 'MSI', 'brand6': 'dell'}\n",
    "brand.update(new_brand)\n",
    "brand"
   ]
  },
  {
   "cell_type": "code",
   "execution_count": 45,
   "id": "93643018",
   "metadata": {},
   "outputs": [
    {
     "data": {
      "text/plain": [
       "{'brand1': 'apple',\n",
       " 'brand2': 'samsung',\n",
       " 'brand3': 'google',\n",
       " 'brand5': 'assus',\n",
       " 'brand4': 'MSI',\n",
       " 'brand6': 'dell'}"
      ]
     },
     "execution_count": 45,
     "metadata": {},
     "output_type": "execute_result"
    }
   ],
   "source": [
    "brand.update({'brand5': \"assus\"})\n",
    "brand"
   ]
  },
  {
   "cell_type": "markdown",
   "id": "6d5cee9c",
   "metadata": {},
   "source": [
    "#### pop\n",
    "- used to remove or delete an item from dict\n",
    "- it requires a key"
   ]
  },
  {
   "cell_type": "code",
   "execution_count": 50,
   "id": "b0a6bc53",
   "metadata": {},
   "outputs": [
    {
     "ename": "KeyError",
     "evalue": "''",
     "output_type": "error",
     "traceback": [
      "\u001b[31m---------------------------------------------------------------------------\u001b[39m",
      "\u001b[31mKeyError\u001b[39m                                  Traceback (most recent call last)",
      "\u001b[36mCell\u001b[39m\u001b[36m \u001b[39m\u001b[32mIn[50]\u001b[39m\u001b[32m, line 2\u001b[39m\n\u001b[32m      1\u001b[39m dict10 = {\u001b[33m'\u001b[39m\u001b[33mstudent1\u001b[39m\u001b[33m'\u001b[39m: \u001b[33m'\u001b[39m\u001b[33mnik\u001b[39m\u001b[33m'\u001b[39m, \u001b[33m'\u001b[39m\u001b[33mstudent2\u001b[39m\u001b[33m'\u001b[39m: \u001b[33m'\u001b[39m\u001b[33mnazli\u001b[39m\u001b[33m'\u001b[39m}\n\u001b[32m----> \u001b[39m\u001b[32m2\u001b[39m \u001b[43mdict10\u001b[49m\u001b[43m.\u001b[49m\u001b[43mpop\u001b[49m\u001b[43m(\u001b[49m\u001b[33;43m'\u001b[39;49m\u001b[33;43m'\u001b[39;49m\u001b[43m)\u001b[49m\n\u001b[32m      3\u001b[39m \u001b[38;5;66;03m# it requires a key, it is not like a lost\u001b[39;00m\n\u001b[32m      4\u001b[39m \u001b[38;5;66;03m# it will not remove the last one\u001b[39;00m\n",
      "\u001b[31mKeyError\u001b[39m: ''"
     ]
    }
   ],
   "source": [
    "dict10 = {'student1': 'nik', 'student2': 'nazli'}\n",
    "dict10.pop('')\n",
    "# it requires a key, it is not like a lost\n",
    "# it will not remove the last one\n",
    "# because dic it NOT ordered, it cannot find he last element like in a list"
   ]
  },
  {
   "cell_type": "code",
   "execution_count": 51,
   "id": "2de929aa",
   "metadata": {},
   "outputs": [
    {
     "data": {
      "text/plain": [
       "{'student2': 'nazli'}"
      ]
     },
     "execution_count": 51,
     "metadata": {},
     "output_type": "execute_result"
    }
   ],
   "source": [
    "dict10.pop('student1')\n",
    "dict10"
   ]
  },
  {
   "cell_type": "markdown",
   "id": "0546bbe2",
   "metadata": {},
   "source": [
    "#### clear\n",
    "- removes all the element from dict\n",
    "- return empty dict"
   ]
  },
  {
   "cell_type": "code",
   "execution_count": 52,
   "id": "4aff0ac2",
   "metadata": {},
   "outputs": [
    {
     "data": {
      "text/plain": [
       "{}"
      ]
     },
     "execution_count": 52,
     "metadata": {},
     "output_type": "execute_result"
    }
   ],
   "source": [
    "dict10.clear()\n",
    "dict10"
   ]
  },
  {
   "cell_type": "markdown",
   "id": "15cc3167",
   "metadata": {},
   "source": [
    "#### delt\n",
    "- completly deletes the dic from memory\n",
    "- it will no longer available"
   ]
  },
  {
   "cell_type": "code",
   "execution_count": 53,
   "id": "e7db1a18",
   "metadata": {},
   "outputs": [],
   "source": [
    "del dict10"
   ]
  },
  {
   "cell_type": "markdown",
   "id": "63fa42a4",
   "metadata": {},
   "source": [
    "## nested dictionary"
   ]
  },
  {
   "cell_type": "code",
   "execution_count": 56,
   "id": "7066b70f",
   "metadata": {},
   "outputs": [
    {
     "data": {
      "text/plain": [
       "{'wife': {'name': 'dilshad', 'birthday': 'march', 'job': 'psychologiest'},\n",
       " 'child': {'royal': ['child', 0.5]},\n",
       " 'mesures': [0.5, 23]}"
      ]
     },
     "execution_count": 56,
     "metadata": {},
     "output_type": "execute_result"
    }
   ],
   "source": [
    "my_family = {\n",
    "    'wife': {'name':'dilshad', 'birthday':'march', 'job':'psychologiest'},\n",
    "    'child': {'royal': ['child', 0.5]},\n",
    "                'mesures':[0.5, 23],\n",
    "}\n",
    "my_family "
   ]
  },
  {
   "cell_type": "code",
   "execution_count": 57,
   "id": "ef41d677",
   "metadata": {},
   "outputs": [
    {
     "data": {
      "text/plain": [
       "'march'"
      ]
     },
     "execution_count": 57,
     "metadata": {},
     "output_type": "execute_result"
    }
   ],
   "source": [
    "my_family['wife']['birthday']"
   ]
  },
  {
   "cell_type": "code",
   "execution_count": 58,
   "id": "e783f004",
   "metadata": {},
   "outputs": [
    {
     "data": {
      "text/plain": [
       "'child'"
      ]
     },
     "execution_count": 58,
     "metadata": {},
     "output_type": "execute_result"
    }
   ],
   "source": [
    "my_family['child']['royal'][0]"
   ]
  },
  {
   "cell_type": "markdown",
   "id": "69d693d9",
   "metadata": {},
   "source": [
    "## Ask Python is data is present or not"
   ]
  },
  {
   "cell_type": "code",
   "execution_count": 60,
   "id": "a787ac05",
   "metadata": {},
   "outputs": [
    {
     "data": {
      "text/plain": [
       "False"
      ]
     },
     "execution_count": 60,
     "metadata": {},
     "output_type": "execute_result"
    }
   ],
   "source": [
    "5 in [1, 2, 3, 4]\n",
    "# asking if the data is present"
   ]
  },
  {
   "cell_type": "code",
   "execution_count": 62,
   "id": "1839af3c",
   "metadata": {},
   "outputs": [
    {
     "data": {
      "text/plain": [
       "True"
      ]
     },
     "execution_count": 62,
     "metadata": {},
     "output_type": "execute_result"
    }
   ],
   "source": [
    "1 not in [4, 54, 32]\n",
    "# asking if the data is not present"
   ]
  },
  {
   "cell_type": "code",
   "execution_count": 63,
   "id": "99046d41",
   "metadata": {},
   "outputs": [
    {
     "data": {
      "text/plain": [
       "True"
      ]
     },
     "execution_count": 63,
     "metadata": {},
     "output_type": "execute_result"
    }
   ],
   "source": [
    "'e' in 'hello'"
   ]
  },
  {
   "cell_type": "code",
   "execution_count": 64,
   "id": "42b73f53",
   "metadata": {},
   "outputs": [
    {
     "data": {
      "text/plain": [
       "False"
      ]
     },
     "execution_count": 64,
     "metadata": {},
     "output_type": "execute_result"
    }
   ],
   "source": [
    "'name' in my_family\n",
    "# 'name' is not a key of my_family, its inside the key 'wife'"
   ]
  },
  {
   "cell_type": "code",
   "execution_count": 70,
   "id": "5b126729",
   "metadata": {},
   "outputs": [
    {
     "data": {
      "text/plain": [
       "dict_values(['dilshad', 'march', 'psychologiest'])"
      ]
     },
     "execution_count": 70,
     "metadata": {},
     "output_type": "execute_result"
    }
   ],
   "source": [
    "my_family['wife'].values()"
   ]
  },
  {
   "cell_type": "code",
   "execution_count": 67,
   "id": "328602ba",
   "metadata": {},
   "outputs": [
    {
     "data": {
      "text/plain": [
       "True"
      ]
     },
     "execution_count": 67,
     "metadata": {},
     "output_type": "execute_result"
    }
   ],
   "source": [
    "'name' in my_family['wife']\n",
    "# 'name' is inside the key 'wife"
   ]
  },
  {
   "cell_type": "code",
   "execution_count": 68,
   "id": "d3b441de",
   "metadata": {},
   "outputs": [
    {
     "data": {
      "text/plain": [
       "False"
      ]
     },
     "execution_count": 68,
     "metadata": {},
     "output_type": "execute_result"
    }
   ],
   "source": [
    "'dilshad' in my_family['wife']\n",
    "# in dictionary, it only searches among the keys"
   ]
  },
  {
   "cell_type": "code",
   "execution_count": 69,
   "id": "f2ed8173",
   "metadata": {},
   "outputs": [
    {
     "data": {
      "text/plain": [
       "True"
      ]
     },
     "execution_count": 69,
     "metadata": {},
     "output_type": "execute_result"
    }
   ],
   "source": [
    "'dilshad' in my_family['wife'].values()\n"
   ]
  },
  {
   "cell_type": "code",
   "execution_count": 66,
   "id": "74d371f7",
   "metadata": {},
   "outputs": [
    {
     "ename": "TypeError",
     "evalue": "unhashable type: 'list'",
     "output_type": "error",
     "traceback": [
      "\u001b[31m---------------------------------------------------------------------------\u001b[39m",
      "\u001b[31mTypeError\u001b[39m                                 Traceback (most recent call last)",
      "\u001b[36mCell\u001b[39m\u001b[36m \u001b[39m\u001b[32mIn[66]\u001b[39m\u001b[32m, line 1\u001b[39m\n\u001b[32m----> \u001b[39m\u001b[32m1\u001b[39m \u001b[43m[\u001b[49m\u001b[33;43m'\u001b[39;49m\u001b[33;43mchild\u001b[39;49m\u001b[33;43m'\u001b[39;49m\u001b[43m,\u001b[49m\u001b[43m \u001b[49m\u001b[32;43m0.5\u001b[39;49m\u001b[43m]\u001b[49m\u001b[43m \u001b[49m\u001b[38;5;129;43;01min\u001b[39;49;00m\u001b[43m \u001b[49m\u001b[43mmy_family\u001b[49m\n\u001b[32m      2\u001b[39m \u001b[38;5;66;03m# cannot search for a mutable data\u001b[39;00m\n",
      "\u001b[31mTypeError\u001b[39m: unhashable type: 'list'"
     ]
    }
   ],
   "source": [
    "['child', 0.5] in my_family\n",
    "# cannot search for a mutable data"
   ]
  }
 ],
 "metadata": {
  "kernelspec": {
   "display_name": "Python 3",
   "language": "python",
   "name": "python3"
  },
  "language_info": {
   "codemirror_mode": {
    "name": "ipython",
    "version": 3
   },
   "file_extension": ".py",
   "mimetype": "text/x-python",
   "name": "python",
   "nbconvert_exporter": "python",
   "pygments_lexer": "ipython3",
   "version": "3.13.7"
  }
 },
 "nbformat": 4,
 "nbformat_minor": 5
}
