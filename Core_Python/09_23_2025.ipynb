{
 "cells": [
  {
   "cell_type": "code",
   "execution_count": null,
   "id": "aae210f3",
   "metadata": {},
   "outputs": [],
   "source": []
  },
  {
   "cell_type": "code",
   "execution_count": null,
   "id": "15ea5b09",
   "metadata": {},
   "outputs": [],
   "source": [
    "_name_1 = 'melisa' # works\n",
    "3_name = 'yasin' #fail, variable cannot start with nnumber\n",
    "name-4 = 'caylin' #error, - cannot be used\n",
    "5.name = 'Ali' #error, cannot start with number\n",
    "name$6 = 'selim' #error, cannot use symbol\n",
    "first name = 'Belen'"
   ]
  },
  {
   "cell_type": "code",
   "execution_count": null,
   "id": "8710bca1",
   "metadata": {},
   "outputs": [],
   "source": [
    "print(\"\"\"I have a car'\"\"\"\") # it will fail"
   ]
  },
  {
   "cell_type": "code",
   "execution_count": null,
   "id": "11db20b5",
   "metadata": {},
   "outputs": [],
   "source": [
    "# code will fail because quote will started and ended, string between the quotes are not between qotes\n",
    "print(\"\"If there is a tea, there is no problem\"\")"
   ]
  },
  {
   "cell_type": "markdown",
   "id": "25bb6cc9",
   "metadata": {},
   "source": [
    "# Type Conversion\n",
    "\n",
    "- int() -> converts the data into integer\n",
    "- str() -> to string\n",
    "- float() -> to float\n",
    "- bool() -> to boolean"
   ]
  },
  {
   "cell_type": "code",
   "execution_count": 14,
   "id": "c1930a5a",
   "metadata": {},
   "outputs": [
    {
     "data": {
      "text/plain": [
       "int"
      ]
     },
     "execution_count": 14,
     "metadata": {},
     "output_type": "execute_result"
    }
   ],
   "source": [
    "age = 15\n",
    "type (age)"
   ]
  },
  {
   "cell_type": "code",
   "execution_count": 13,
   "id": "ff882787",
   "metadata": {},
   "outputs": [
    {
     "data": {
      "text/plain": [
       "'15'"
      ]
     },
     "execution_count": 13,
     "metadata": {},
     "output_type": "execute_result"
    }
   ],
   "source": [
    "# convert it temperarly\n",
    "str(age)"
   ]
  },
  {
   "cell_type": "code",
   "execution_count": 12,
   "id": "00f35d3e",
   "metadata": {},
   "outputs": [
    {
     "data": {
      "text/plain": [
       "str"
      ]
     },
     "execution_count": 12,
     "metadata": {},
     "output_type": "execute_result"
    }
   ],
   "source": [
    "# convert it perminantly\n",
    "age = str(age)\n",
    "type(age)"
   ]
  },
  {
   "cell_type": "code",
   "execution_count": 15,
   "id": "06e1d371",
   "metadata": {},
   "outputs": [
    {
     "data": {
      "text/plain": [
       "float"
      ]
     },
     "execution_count": 15,
     "metadata": {},
     "output_type": "execute_result"
    }
   ],
   "source": [
    "bread_price = 4.90\n",
    "type(bread_price)"
   ]
  },
  {
   "cell_type": "code",
   "execution_count": 19,
   "id": "069ac67f",
   "metadata": {},
   "outputs": [
    {
     "data": {
      "text/plain": [
       "str"
      ]
     },
     "execution_count": 19,
     "metadata": {},
     "output_type": "execute_result"
    }
   ],
   "source": [
    "# convert float to string\n",
    "bread_price = str(bread_price)\n",
    "\n",
    "type(bread_price)\n"
   ]
  },
  {
   "cell_type": "code",
   "execution_count": null,
   "id": "16d687a0",
   "metadata": {},
   "outputs": [],
   "source": [
    "# CANNOT convert String to intiger\n",
    "# ERROR\n",
    "first_Name = \"Vusal\"\n",
    "first_Name = int(first_Name)"
   ]
  },
  {
   "cell_type": "code",
   "execution_count": null,
   "id": "10b4c6c6",
   "metadata": {},
   "outputs": [
    {
     "name": "stdout",
     "output_type": "stream",
     "text": [
      "3\n"
     ]
    }
   ],
   "source": [
    "# convert float to intiger\n",
    "new_Price = 3.45\n",
    "new_Price = int(new_Price)\n",
    "print(new_Price)"
   ]
  },
  {
   "cell_type": "code",
   "execution_count": null,
   "id": "bc521e6e",
   "metadata": {},
   "outputs": [],
   "source": [
    "# CANNOT convert String to intiger if it contains dote\n",
    "#ERROR\n",
    "pi = '3.14'\n",
    "int(pi)"
   ]
  },
  {
   "cell_type": "code",
   "execution_count": null,
   "id": "8c064ddb",
   "metadata": {},
   "outputs": [
    {
     "data": {
      "text/plain": [
       "True"
      ]
     },
     "execution_count": 30,
     "metadata": {},
     "output_type": "execute_result"
    }
   ],
   "source": [
    "bool(\"Hello world\")\n",
    "# will return True"
   ]
  },
  {
   "cell_type": "code",
   "execution_count": null,
   "id": "9c4ac24f",
   "metadata": {},
   "outputs": [
    {
     "data": {
      "text/plain": [
       "False"
      ]
     },
     "execution_count": 31,
     "metadata": {},
     "output_type": "execute_result"
    }
   ],
   "source": [
    "bool(\"\")\n",
    "# will return False since its an empty string"
   ]
  },
  {
   "cell_type": "code",
   "execution_count": null,
   "id": "bfc91681",
   "metadata": {},
   "outputs": [
    {
     "data": {
      "text/plain": [
       "1"
      ]
     },
     "execution_count": 27,
     "metadata": {},
     "output_type": "execute_result"
    }
   ],
   "source": [
    "# can convert boolean to intiger\n",
    "isPresent = True\n",
    "int(isPresent)\n",
    "# output will be 1\n",
    "# True = 1 = 1.0\n",
    "\n",
    "isFalse = False\n",
    "int(isFalse)\n",
    "# output will be 0\n",
    "#False = 0 = 0.0"
   ]
  },
  {
   "cell_type": "code",
   "execution_count": null,
   "id": "375d881a",
   "metadata": {},
   "outputs": [
    {
     "data": {
      "text/plain": [
       "2002"
      ]
     },
     "execution_count": 29,
     "metadata": {},
     "output_type": "execute_result"
    }
   ],
   "source": [
    "# find birth year\n",
    "age = 23\n",
    "year = 2025\n",
    "birthYear = year - age\n",
    "birthYear"
   ]
  },
  {
   "cell_type": "markdown",
   "id": "8907d5a0",
   "metadata": {},
   "source": [
    "# Aritmetic Operatiors\n",
    "\n",
    "##### + -> add\n",
    "##### -  -> subtraction\n",
    "##### / -> division\n",
    "##### * -> multiplication\n",
    "##### ** -> exponientation\n",
    "##### // -> floor division\n",
    "##### % -> modulus , remainder"
   ]
  },
  {
   "cell_type": "code",
   "execution_count": 34,
   "id": "a57a63fa",
   "metadata": {},
   "outputs": [
    {
     "data": {
      "text/plain": [
       "9"
      ]
     },
     "execution_count": 34,
     "metadata": {},
     "output_type": "execute_result"
    }
   ],
   "source": [
    "# exponientation\n",
    "3 ** 2\n",
    "# 9"
   ]
  },
  {
   "cell_type": "code",
   "execution_count": null,
   "id": "e0fb04ab",
   "metadata": {},
   "outputs": [
    {
     "data": {
      "text/plain": [
       "27"
      ]
     },
     "execution_count": 35,
     "metadata": {},
     "output_type": "execute_result"
    }
   ],
   "source": [
    "pow(3,3) # pow -> power\n",
    "# 3 to power of 3\n",
    "# 27"
   ]
  },
  {
   "cell_type": "code",
   "execution_count": null,
   "id": "af81182c",
   "metadata": {},
   "outputs": [
    {
     "data": {
      "text/plain": [
       "0"
      ]
     },
     "execution_count": 36,
     "metadata": {},
     "output_type": "execute_result"
    }
   ],
   "source": [
    "8 % 2\n",
    "# % -> remainder\n",
    "# 8/2 = 4 remainder is 0"
   ]
  },
  {
   "cell_type": "code",
   "execution_count": null,
   "id": "f4ba4ee1",
   "metadata": {},
   "outputs": [],
   "source": [
    "9 % 2\n",
    "# 9/2 = 4 remainder is 1"
   ]
  },
  {
   "cell_type": "code",
   "execution_count": 37,
   "id": "f3103fc4",
   "metadata": {},
   "outputs": [
    {
     "data": {
      "text/plain": [
       "4.666666666666667"
      ]
     },
     "execution_count": 37,
     "metadata": {},
     "output_type": "execute_result"
    }
   ],
   "source": [
    "14 / 3"
   ]
  },
  {
   "cell_type": "code",
   "execution_count": null,
   "id": "44e372ba",
   "metadata": {},
   "outputs": [
    {
     "data": {
      "text/plain": [
       "4"
      ]
     },
     "execution_count": 38,
     "metadata": {},
     "output_type": "execute_result"
    }
   ],
   "source": [
    "14 //3 \n",
    "# output is 4\n",
    "# it will return division"
   ]
  },
  {
   "cell_type": "code",
   "execution_count": null,
   "id": "7048358b",
   "metadata": {},
   "outputs": [
    {
     "data": {
      "text/plain": [
       "8"
      ]
     },
     "execution_count": 39,
     "metadata": {},
     "output_type": "execute_result"
    }
   ],
   "source": [
    "# I have $102\n",
    "# each pencil is 12\n",
    "# how many pencil can I buy?\n",
    "102 // 12\n",
    "# 8"
   ]
  },
  {
   "cell_type": "code",
   "execution_count": null,
   "id": "9eebf870",
   "metadata": {},
   "outputs": [
    {
     "data": {
      "text/plain": [
       "6"
      ]
     },
     "execution_count": 40,
     "metadata": {},
     "output_type": "execute_result"
    }
   ],
   "source": [
    "# after buying pencil, how much money we have left\n",
    "102 % 12\n",
    "# 6"
   ]
  },
  {
   "cell_type": "code",
   "execution_count": null,
   "id": "399bec51",
   "metadata": {},
   "outputs": [
    {
     "data": {
      "text/plain": [
       "5.0"
      ]
     },
     "execution_count": 41,
     "metadata": {},
     "output_type": "execute_result"
    }
   ],
   "source": [
    "# find the root of number\n",
    "25 ** (1/2) # -> 5.0\n",
    "25 ** (0.5) # -> 5.0"
   ]
  },
  {
   "cell_type": "markdown",
   "id": "e2660030",
   "metadata": {},
   "source": [
    "# Order Of Operations\n",
    "- parantheses\n",
    "- exponientation\n",
    "- multipilication or division\n",
    "- addition or subtranction"
   ]
  },
  {
   "cell_type": "code",
   "execution_count": null,
   "id": "57efd700",
   "metadata": {},
   "outputs": [
    {
     "name": "stdout",
     "output_type": "stream",
     "text": [
      "36.0\n"
     ]
    }
   ],
   "source": [
    "x = (4 + 2) ** (4 ** (1 * 2 / 2) / 2)\n",
    "#      6    **  2    -> 6 to power of 2  = 36\n",
    "print(x)"
   ]
  },
  {
   "cell_type": "code",
   "execution_count": null,
   "id": "7307950f",
   "metadata": {},
   "outputs": [
    {
     "name": "stdout",
     "output_type": "stream",
     "text": [
      "112.0\n"
     ]
    }
   ],
   "source": [
    "x = (2 ** 3) * (5 * 2 + (2 * 6 / 3))\n",
    "#      8     *  14 = 112\n",
    "print (x)"
   ]
  },
  {
   "cell_type": "code",
   "execution_count": 46,
   "id": "3c566188",
   "metadata": {},
   "outputs": [
    {
     "name": "stdout",
     "output_type": "stream",
     "text": [
      "circumferance or a fircle is 43.96\n"
     ]
    }
   ],
   "source": [
    "# write the python code that find the circumfrence of a circle with radius 7. (find the area is r = 7)\n",
    "# solve by defining a variable\n",
    "\n",
    "raidus = 7\n",
    "pi = 3.14\n",
    "circumferance = 2 * pi * raidus\n",
    "print(\"circumferance or a fircle is\", circumferance)"
   ]
  },
  {
   "cell_type": "code",
   "execution_count": 48,
   "id": "52dffc49",
   "metadata": {},
   "outputs": [
    {
     "name": "stdout",
     "output_type": "stream",
     "text": [
      "13.0\n"
     ]
    }
   ],
   "source": [
    "# write the code that find the hypotenuse of a right triangle with side 5 and side 12\n",
    "side_1 = 5\n",
    "side_2 = 12\n",
    "hypotenuse = (side_1 ** 2 + side_2 ** 2) ** 0.5\n",
    "print(hypotenuse)"
   ]
  }
 ],
 "metadata": {
  "kernelspec": {
   "display_name": "Python 3",
   "language": "python",
   "name": "python3"
  },
  "language_info": {
   "codemirror_mode": {
    "name": "ipython",
    "version": 3
   },
   "file_extension": ".py",
   "mimetype": "text/x-python",
   "name": "python",
   "nbconvert_exporter": "python",
   "pygments_lexer": "ipython3",
   "version": "3.13.7"
  }
 },
 "nbformat": 4,
 "nbformat_minor": 5
}
