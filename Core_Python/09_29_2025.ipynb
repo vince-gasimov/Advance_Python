{
 "cells": [
  {
   "cell_type": "markdown",
   "id": "1b40ba15",
   "metadata": {},
   "source": [
    "# Conditionals in Python (if)\n",
    "\n",
    "### Syntex\n",
    "\n",
    "if cond:\n",
    "- statement"
   ]
  },
  {
   "cell_type": "code",
   "execution_count": 1,
   "id": "ac45affe",
   "metadata": {},
   "outputs": [
    {
     "name": "stdout",
     "output_type": "stream",
     "text": [
      "eight is bigger than five\n"
     ]
    }
   ],
   "source": [
    "if 8>5:\n",
    "    print(\"eight is bigger than five\")"
   ]
  },
  {
   "cell_type": "code",
   "execution_count": 3,
   "id": "9adba0f8",
   "metadata": {},
   "outputs": [],
   "source": [
    "student_1 = 26\n",
    "student_2 = 28\n",
    "if student_1>student_2:\n",
    "    print(\"Student 1 is older than student 2\")"
   ]
  },
  {
   "cell_type": "code",
   "execution_count": null,
   "id": "dc428adb",
   "metadata": {},
   "outputs": [
    {
     "name": "stdout",
     "output_type": "stream",
     "text": [
      "46\n"
     ]
    }
   ],
   "source": [
    "if True:\n",
    "    print(23*2)\n",
    "\n",
    "    # the code will execute only if the statement after if condition is truthy"
   ]
  },
  {
   "cell_type": "code",
   "execution_count": 6,
   "id": "5b89f46c",
   "metadata": {},
   "outputs": [],
   "source": [
    "if 0:\n",
    "    print(\"hello\")"
   ]
  },
  {
   "cell_type": "code",
   "execution_count": 7,
   "id": "d78528b3",
   "metadata": {},
   "outputs": [
    {
     "name": "stdout",
     "output_type": "stream",
     "text": [
      "15\n",
      "15\n"
     ]
    }
   ],
   "source": [
    "x = 9\n",
    "if 6 > 4: # truthy\n",
    "    print(7+8)\n",
    "    x = x + 6\n",
    "    print(x)"
   ]
  },
  {
   "cell_type": "code",
   "execution_count": 8,
   "id": "08442601",
   "metadata": {},
   "outputs": [],
   "source": [
    "x = 2\n",
    "if x > 4: # falsy\n",
    "    print(7+8)\n",
    "    x = x + 6\n",
    "    print(x)"
   ]
  },
  {
   "cell_type": "code",
   "execution_count": 11,
   "id": "437bc7fc",
   "metadata": {},
   "outputs": [
    {
     "name": "stdout",
     "output_type": "stream",
     "text": [
      "2\n"
     ]
    }
   ],
   "source": [
    "x = 2\n",
    "if x > 4: # falsy\n",
    "    print(7+8)\n",
    "    x = x + 6\n",
    "print(x) # this part is not a prt of if statement"
   ]
  },
  {
   "cell_type": "code",
   "execution_count": 12,
   "id": "55629fec",
   "metadata": {},
   "outputs": [
    {
     "name": "stdout",
     "output_type": "stream",
     "text": [
      "12\n",
      "12\n"
     ]
    }
   ],
   "source": [
    "a = 6\n",
    "if a < 10: # truthy\n",
    "    a = a + 6\n",
    "    print(a)\n",
    "print(a)"
   ]
  },
  {
   "cell_type": "code",
   "execution_count": 14,
   "id": "60b71c68",
   "metadata": {},
   "outputs": [
    {
     "name": "stdout",
     "output_type": "stream",
     "text": [
      "10\n"
     ]
    }
   ],
   "source": [
    "x = 8\n",
    "if 0:\n",
    "    print(x * 2)\n",
    "print(x + 2)"
   ]
  },
  {
   "cell_type": "code",
   "execution_count": 15,
   "id": "a75ac2c8",
   "metadata": {},
   "outputs": [
    {
     "name": "stdout",
     "output_type": "stream",
     "text": [
      "I must take the umbrella.\n"
     ]
    }
   ],
   "source": [
    "forecast = 'rainy' # declaring a variable\n",
    "\n",
    "if forecast =='rainy': # checking whether the value of forecast variable is rainy or not\n",
    "    print('I must take the umbrella.')"
   ]
  },
  {
   "cell_type": "code",
   "execution_count": 16,
   "id": "69102817",
   "metadata": {},
   "outputs": [],
   "source": [
    "forecast = 'rainy'\n",
    "\n",
    "if forecast !='rainy':\n",
    "    print('I dont need to take the umbrella.')"
   ]
  },
  {
   "cell_type": "code",
   "execution_count": 17,
   "id": "a31742ec",
   "metadata": {},
   "outputs": [
    {
     "name": "stdout",
     "output_type": "stream",
     "text": [
      "eight is bigger than 5\n"
     ]
    }
   ],
   "source": [
    "if 8 > 5:\n",
    "    print('eight is bigger than 5')\n",
    "else:\n",
    "    print('eight is not bigger than five')"
   ]
  },
  {
   "cell_type": "code",
   "execution_count": 18,
   "id": "03a9d85c",
   "metadata": {},
   "outputs": [
    {
     "name": "stdout",
     "output_type": "stream",
     "text": [
      "welcome to the cinema\n",
      "you are eligible for a horror movie ticket\n"
     ]
    }
   ],
   "source": [
    "print('welcome to the cinema')\n",
    "age = int(input('how old are you'))\n",
    "if age > 15:\n",
    "    print('you are eligible for a horror movie ticket')\n",
    "else:\n",
    "    print('you are not eligible for a horror movie ticket.')"
   ]
  },
  {
   "cell_type": "code",
   "execution_count": 20,
   "id": "8dc9eacf",
   "metadata": {},
   "outputs": [
    {
     "name": "stdout",
     "output_type": "stream",
     "text": [
      "welcome to the cinema\n",
      "you are eligible for a horror movie ticket\n"
     ]
    }
   ],
   "source": [
    "print('welcome to the cinema')\n",
    "age = input('how old are you')\n",
    "if age > '15':\n",
    "    print('you are eligible for a horror movie ticket')\n",
    "else:\n",
    "    print('you are not eligible for a horror movie ticket.')"
   ]
  },
  {
   "cell_type": "markdown",
   "id": "3f0428e4",
   "metadata": {},
   "source": [
    "### if - elif - else\n",
    "\n",
    "#### syntax\n",
    "\n",
    "if cond1:\n",
    "-   statement1\n",
    "\n",
    "elif cond2:\n",
    "-   statement2\n",
    "\n",
    "elif cond3:\n",
    "-   statement3\n",
    "\n",
    "else:\n",
    "-   statement4"
   ]
  },
  {
   "cell_type": "code",
   "execution_count": 23,
   "id": "c69010cf",
   "metadata": {},
   "outputs": [
    {
     "name": "stdout",
     "output_type": "stream",
     "text": [
      "2 is a positive number.\n"
     ]
    }
   ],
   "source": [
    "# write a code that tells whether a given number is positive negative or neutral(0)\n",
    "\n",
    "num = int(input('Please provide a number'))\n",
    "if num > 0:\n",
    "    print(f\"{num} is a positive number.\")\n",
    "elif num == 0:\n",
    "    print(f\"{num} is a zero or neutral\")\n",
    "else:\n",
    "    print(f\"{num} is a negative number\")"
   ]
  },
  {
   "cell_type": "code",
   "execution_count": null,
   "id": "25f1aab8",
   "metadata": {},
   "outputs": [
    {
     "name": "stdout",
     "output_type": "stream",
     "text": [
      "Good job! You got 60, you can do better\n"
     ]
    }
   ],
   "source": [
    "# ask the student to enter his marks:\n",
    "# if the mark is more than 80, say awesome that is a great mark\n",
    "# if it is between 60 to 80, good job, you can do better\n",
    "# if between 40 and 60, you barely passed next time prepare well\n",
    "# if less than 40, you have to study day and night because you couldnt pass the test\n",
    "\n",
    "mark = int(input(\"Hi Dear student, please enter your mark to find out your grade\"))\n",
    "if mark > 80:\n",
    "    print(f\"Awesome, Great marks {mark}, your grade is A\")\n",
    "elif mark > 60:\n",
    "    print(f'good job {mark}, you can do better, your grade is B')\n",
    "elif mark > 40:\n",
    "    print(f'you barely passed the test {mark}. prepare well for the next one, your grade is C')\n",
    "else:\n",
    "    print(f'you have to study day and night as you couldnt pass {mark}, your grade is F')"
   ]
  },
  {
   "cell_type": "code",
   "execution_count": null,
   "id": "f3b62260",
   "metadata": {},
   "outputs": [],
   "source": [
    "# NESTED IFS --> IF inside IF.\n",
    "st_mark = input(\"Hi Dear student, please enter your mark to find out your grade\")\n",
    "if st_mark.isnumeric():\n",
    "    st_mark = int(st_mark)\n",
    "    if st_mark < 0 or st_mark > 100:\n",
    "        print(\"the mark must be between 0 and 100\")\n",
    "    elif st_mark > 80:\n",
    "        print(f\"Awesome, Great marks {st_mark}, your grade is A\")\n",
    "    elif st_mark > 60:\n",
    "        print(f'good job {st_mark}, you can do better, your grade is B')\n",
    "    elif st_mark > 40:\n",
    "        print(f'you barely passed the test {st_mark}. prepare well for the next one, your grade is C')\n",
    "    else:\n",
    "        print(f'you have to study day and night as you couldnt pass {st_mark}, your grade is F')\n",
    "else:\n",
    "    print(\"Please provide a numeric input between 0 and 100\")"
   ]
  },
  {
   "cell_type": "code",
   "execution_count": null,
   "id": "b2fa68f6",
   "metadata": {},
   "outputs": [],
   "source": [
    "age = input(\"Please enter your age\")\n",
    "if age.isnumeric():\n",
    "    age = int(age)\n",
    "    if age < 16:\n",
    "        input(\"You are not allowed to watch the movie\")\n",
    "    elif age >= 16:\n",
    "        input(\"You can watch the movie\")\n",
    "else:\n",
    "    print(\"Please enter valid age\")"
   ]
  },
  {
   "cell_type": "code",
   "execution_count": 33,
   "id": "8ef7b51b",
   "metadata": {},
   "outputs": [
    {
     "name": "stdout",
     "output_type": "stream",
     "text": [
      "Subtraction of 3 and 12 is -9\n"
     ]
    }
   ],
   "source": [
    "number_1 = input(\"Please enter first number\")\n",
    "number_2 = input(\"Please enter second number\")\n",
    "operator = input(\"Please enter one of the following operators: add, subtract, multiply, and divide\")\n",
    "\n",
    "if number_1.isnumeric():\n",
    "    number_1 = int(number_1)\n",
    "else:\n",
    "    print(f\"{number_1} is not a number. Please enter a number only\")\n",
    "\n",
    "if number_2.isnumeric():\n",
    "    number_2 = int(number_2)\n",
    "else:\n",
    "    print(f\"{number_2} is not a number. Please enter a number only\")\n",
    "\n",
    "if operator == \"add\":\n",
    "    calculation = number_1 + number_2\n",
    "    print(f\"Addition of {number_1} and {number_2} is {calculation}\")\n",
    "elif operator == \"subtract\":\n",
    "    calculation = number_1 - number_2\n",
    "    print(f\"Subtraction of {number_1} and {number_2} is {calculation}\")\n",
    "elif operator == \"multiply\":\n",
    "    calculation = number_1 * number_2\n",
    "    print(f\"Multiplication of {number_1} and {number_2} is {calculation}\")\n",
    "elif operator == \"divide\":\n",
    "    calculation = number_1 / number_2\n",
    "    print(f\"Dividion of {number_1} and {number_2} is {calculation}\")\n",
    "else:\n",
    "    print(\"Only following operators are accepted: add, subtract, multiply, and divide\")\n",
    "\n"
   ]
  },
  {
   "cell_type": "code",
   "execution_count": 45,
   "id": "99b1cb8a",
   "metadata": {},
   "outputs": [
    {
     "name": "stdout",
     "output_type": "stream",
     "text": [
      "Number neither can be dived by 3 nor 5\n"
     ]
    }
   ],
   "source": [
    "number_3 = input(\"Please enter a number\")\n",
    "\n",
    "if number_3.isnumeric():\n",
    "    number_3 = int(number_3)\n",
    "    if number_3 % 3 == 0:\n",
    "        if number_3 % 5 == 0:\n",
    "            print(\"tech pro education\")\n",
    "        else:\n",
    "            print(\"Tech\")\n",
    "    elif number_3 % 5 == 0:\n",
    "        print(\"pro\")\n",
    "    else:\n",
    "        print(\"Number neither can be dived by 3 nor 5\")\n",
    "else:\n",
    "    print(\"Print a numeric value\")\n",
    "    "
   ]
  },
  {
   "cell_type": "code",
   "execution_count": 49,
   "id": "9bbefcd4",
   "metadata": {},
   "outputs": [
    {
     "name": "stdout",
     "output_type": "stream",
     "text": [
      "You enter a weekday\n"
     ]
    }
   ],
   "source": [
    "day = input(\"Please enter day of the week\").lower()\n",
    "\n",
    "if day == \"monday\" or day == \"tuesday\" or day == \"wednesday\" or day == \"thursday\" or day == \"friday\":\n",
    "    print(\"You enter a weekday\")\n",
    "elif day == \"saturday\" or day == \"sunday\":\n",
    "    print(\"You entered a weekend\")\n",
    "else:\n",
    "    print(\"Please enter a valid day\")"
   ]
  }
 ],
 "metadata": {
  "kernelspec": {
   "display_name": "Python 3",
   "language": "python",
   "name": "python3"
  },
  "language_info": {
   "codemirror_mode": {
    "name": "ipython",
    "version": 3
   },
   "file_extension": ".py",
   "mimetype": "text/x-python",
   "name": "python",
   "nbconvert_exporter": "python",
   "pygments_lexer": "ipython3",
   "version": "3.13.7"
  }
 },
 "nbformat": 4,
 "nbformat_minor": 5
}
