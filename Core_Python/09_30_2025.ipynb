{
 "cells": [
  {
   "cell_type": "markdown",
   "id": "5cca2ba7",
   "metadata": {},
   "source": [
    "### Practice"
   ]
  },
  {
   "cell_type": "code",
   "execution_count": 11,
   "id": "a2226bcd",
   "metadata": {},
   "outputs": [
    {
     "name": "stdout",
     "output_type": "stream",
     "text": [
      "Welcome to TPEdu Online Banking Services.\n",
      "Welcome dear asdf user\n",
      "Your password doesn't match.\n"
     ]
    }
   ],
   "source": [
    "# Let's write a program that asks the user for their password to enter to \n",
    "# internet banking.\n",
    "\n",
    "print('Welcome to TPEdu Online Banking Services.')\n",
    "username = input(\"Please provide your username: \")\n",
    "print(f\"Welcome dear {username} user\")\n",
    "pass_user = input(\"Please enter your password!\")\n",
    "if pass_user == password:\n",
    "    print(\"Welcome to internet banking.\")\n",
    "else:\n",
    "    print(\"Your password doesn't match.\")"
   ]
  },
  {
   "cell_type": "code",
   "execution_count": 12,
   "id": "c5b3bc43",
   "metadata": {},
   "outputs": [],
   "source": [
    "expected_username = 'vusal'\n",
    "expected_password = 'sadkjA12'"
   ]
  },
  {
   "cell_type": "code",
   "execution_count": 14,
   "id": "719f1bdb",
   "metadata": {},
   "outputs": [
    {
     "name": "stdout",
     "output_type": "stream",
     "text": [
      "Your password is incorrect\n"
     ]
    }
   ],
   "source": [
    "actual_username = input('Please enter your username')\n",
    "actual_password = input('Please enter your password')\n",
    "if expected_username == actual_username:\n",
    "    if expected_password == actual_password:\n",
    "        print('Welcome to the bank')\n",
    "    else:\n",
    "        print('Your password is incorrect')\n",
    "else:\n",
    "    print('User was not found')"
   ]
  },
  {
   "cell_type": "code",
   "execution_count": 15,
   "id": "80b4cc60",
   "metadata": {},
   "outputs": [],
   "source": [
    "expected_username = 'vusal'\n",
    "expected_password = 'sadkjA12'"
   ]
  },
  {
   "cell_type": "code",
   "execution_count": 18,
   "id": "16560b0b",
   "metadata": {},
   "outputs": [
    {
     "name": "stdout",
     "output_type": "stream",
     "text": [
      "Welcome to the bank\n"
     ]
    }
   ],
   "source": [
    "actual_username = input('Please enter your username')\n",
    "if expected_username == actual_username:\n",
    "    actual_password = input('Please enter your password')\n",
    "    if expected_password == actual_password:\n",
    "        print('Welcome to the bank')\n",
    "    else:\n",
    "        print('Your password is incorrect')\n",
    "else:\n",
    "    print('User was not found')"
   ]
  },
  {
   "cell_type": "code",
   "execution_count": 30,
   "id": "19f56b34",
   "metadata": {},
   "outputs": [
    {
     "name": "stdout",
     "output_type": "stream",
     "text": [
      "Welcome to BMI Calculator program.\n",
      "your body mass index is: 17.531044558071585. you are underweight.\n"
     ]
    }
   ],
   "source": [
    "# create a bmi calculator and based on the bmi of users, write appropriate messages\n",
    "print(\"Welcome to BMI Calculator program.\")\n",
    "height = float(input(\"Please provide your height in meters and in numeric format.\"))\n",
    "weight = float(input(\"Please provide your weight in kg and in numeric format.\"))\n",
    "bmi = weight/(height**2)\n",
    "if bmi < 18.5:\n",
    "    print(f\"your body mass index is: {bmi}. you are underweight.\")\n",
    "elif 18.5 <= bmi < 25:\n",
    "    print(f\"your body mass index is: {bmi}. you are normal weight.\")\n",
    "elif 25 <= bmi < 30:\n",
    "    print(f\"your body mass index is: {bmi}. you are over weight.\")\n",
    "else:\n",
    "    print(f\"your body mass index is: {bmi}. you are obese\")"
   ]
  },
  {
   "cell_type": "code",
   "execution_count": null,
   "id": "46a96664",
   "metadata": {},
   "outputs": [
    {
     "name": "stdout",
     "output_type": "stream",
     "text": [
      "Tech\n"
     ]
    }
   ],
   "source": [
    "# HM2 take a number as an input from the user, if the number is divisible by 3 print \n",
    "# Tech,  if it is divisible by 5 print pro and if it is divisible by both, \n",
    "# print tech pro education.\n",
    "num = int(input(\"Please provide a number to check it's divisibility by 3, 5 or both\"))\n",
    "if num % 3 == 0:\n",
    "     print('Tech')\n",
    "elif num % 5 == 0:\n",
    "     print(\"pro\")\n",
    "elif num % 3 == 0 and num % 5 == 0:\n",
    "     print(\"Techpro Educatoin\")\n",
    "else:\n",
    "     print('The given number neither divisible by 3 nor divisible by 5')\n",
    "\n",
    "# the code has flaws, errors, the order must be changed"
   ]
  },
  {
   "cell_type": "code",
   "execution_count": 40,
   "id": "bf447b94",
   "metadata": {},
   "outputs": [
    {
     "name": "stdout",
     "output_type": "stream",
     "text": [
      "The given number neither divisible by 3 nor divisible by 5\n"
     ]
    }
   ],
   "source": [
    "num = int(input(\"Please provide a number to check it's divisibility by 3, 5 or both\"))\n",
    "if num % 3 == 0 and num % 5 == 0:\n",
    "    print('Techpro Education')\n",
    "elif num % 5 == 0:\n",
    "    print(\"pro\")\n",
    "elif num % 3 == 0:\n",
    "    print(\"Tech\")\n",
    "else:\n",
    "    print('The given number neither divisible by 3 nor divisible by 5')"
   ]
  },
  {
   "cell_type": "markdown",
   "id": "530b5fcb",
   "metadata": {},
   "source": [
    "# Lists\n",
    "is a collection data type,, so the elements are any type of data like an int, a string, a boolean or a float or can also be a collection data type.\n",
    "\n",
    "- mutable --> can be changed without assignment\n",
    "- iterable --> elements can be reached or selected."
   ]
  },
  {
   "cell_type": "code",
   "execution_count": null,
   "id": "f4ebedca",
   "metadata": {},
   "outputs": [
    {
     "data": {
      "text/plain": [
       "[]"
      ]
     },
     "execution_count": 52,
     "metadata": {},
     "output_type": "execute_result"
    }
   ],
   "source": [
    "[] # first way"
   ]
  },
  {
   "cell_type": "code",
   "execution_count": 54,
   "id": "185322b7",
   "metadata": {},
   "outputs": [
    {
     "data": {
      "text/plain": [
       "[True, 123, 'Hello', 34.0, [1, 2, 3]]"
      ]
     },
     "execution_count": 54,
     "metadata": {},
     "output_type": "execute_result"
    }
   ],
   "source": [
    "[True, 123, 'Hello', 34.0, [1, 2, 3]]\n",
    "# each element is separated with a comma"
   ]
  },
  {
   "cell_type": "code",
   "execution_count": 2,
   "id": "7290c45b",
   "metadata": {},
   "outputs": [
    {
     "data": {
      "text/plain": [
       "[True, 123, 'Hello', 34.0, [1, 2, 3]]"
      ]
     },
     "execution_count": 2,
     "metadata": {},
     "output_type": "execute_result"
    }
   ],
   "source": [
    "list_data = [True, 123, 'Hello', 34.0, [1, 2, 3]]\n",
    "list_data"
   ]
  },
  {
   "cell_type": "code",
   "execution_count": 3,
   "id": "62adb179",
   "metadata": {},
   "outputs": [
    {
     "data": {
      "text/plain": [
       "list"
      ]
     },
     "execution_count": 3,
     "metadata": {},
     "output_type": "execute_result"
    }
   ],
   "source": [
    "type(list_data)"
   ]
  },
  {
   "cell_type": "code",
   "execution_count": null,
   "id": "838a8cf0",
   "metadata": {},
   "outputs": [
    {
     "data": {
      "text/plain": [
       "[]"
      ]
     },
     "execution_count": 53,
     "metadata": {},
     "output_type": "execute_result"
    }
   ],
   "source": [
    "list() \n",
    "# we can create lists using the list function and it only takes iterable data."
   ]
  },
  {
   "cell_type": "code",
   "execution_count": 57,
   "id": "a497d9b5",
   "metadata": {},
   "outputs": [
    {
     "data": {
      "text/plain": [
       "['h', 'e', 'l', 'l', 'o']"
      ]
     },
     "execution_count": 57,
     "metadata": {},
     "output_type": "execute_result"
    }
   ],
   "source": [
    "list('hello') # string is an iterable data."
   ]
  },
  {
   "cell_type": "code",
   "execution_count": 5,
   "id": "8298ba9d",
   "metadata": {},
   "outputs": [
    {
     "ename": "TypeError",
     "evalue": "'int' object is not iterable",
     "output_type": "error",
     "traceback": [
      "\u001b[31m---------------------------------------------------------------------------\u001b[39m",
      "\u001b[31mTypeError\u001b[39m                                 Traceback (most recent call last)",
      "\u001b[36mCell\u001b[39m\u001b[36m \u001b[39m\u001b[32mIn[5]\u001b[39m\u001b[32m, line 1\u001b[39m\n\u001b[32m----> \u001b[39m\u001b[32m1\u001b[39m \u001b[38;5;28;43mlist\u001b[39;49m\u001b[43m(\u001b[49m\u001b[32;43m2323\u001b[39;49m\u001b[43m)\u001b[49m \u001b[38;5;66;03m# int is not an iterable data, it will fail\u001b[39;00m\n",
      "\u001b[31mTypeError\u001b[39m: 'int' object is not iterable"
     ]
    }
   ],
   "source": [
    "list(2323) # int is not an iterable data, it will fail"
   ]
  },
  {
   "cell_type": "code",
   "execution_count": null,
   "id": "b60026de",
   "metadata": {},
   "outputs": [
    {
     "ename": "TypeError",
     "evalue": "'bool' object is not iterable",
     "output_type": "error",
     "traceback": [
      "\u001b[1;31m---------------------------------------------------------------------------\u001b[0m",
      "\u001b[1;31mTypeError\u001b[0m                                 Traceback (most recent call last)",
      "Cell \u001b[1;32mIn[59], line 1\u001b[0m\n\u001b[1;32m----> 1\u001b[0m \u001b[38;5;28;43mlist\u001b[39;49m\u001b[43m(\u001b[49m\u001b[38;5;28;43;01mTrue\u001b[39;49;00m\u001b[43m)\u001b[49m\n",
      "\u001b[1;31mTypeError\u001b[0m: 'bool' object is not iterable"
     ]
    }
   ],
   "source": [
    "list(True) # boolean is not an iterable data"
   ]
  },
  {
   "cell_type": "code",
   "execution_count": null,
   "id": "c7b81932",
   "metadata": {},
   "outputs": [
    {
     "data": {
      "text/plain": [
       "['rovshen', 'kateryna', 'ebrunur', 'fierro', 'vusal']"
      ]
     },
     "execution_count": 60,
     "metadata": {},
     "output_type": "execute_result"
    }
   ],
   "source": [
    "names_001 = ['rovshen', 'kateryna', 'ebrunur', 'fierro', 'vusal']\n",
    "names_001"
   ]
  },
  {
   "cell_type": "code",
   "execution_count": 6,
   "id": "57cf92a1",
   "metadata": {},
   "outputs": [
    {
     "data": {
      "text/plain": [
       "['Vusal', 29, 'New York', 'Data Scientist', 120000, False, 12.89]"
      ]
     },
     "execution_count": 6,
     "metadata": {},
     "output_type": "execute_result"
    }
   ],
   "source": [
    "person1 = ['Vusal', 29, 'New York', 'Data Scientist', 120000, False, 12.89]\n",
    "person1"
   ]
  },
  {
   "cell_type": "code",
   "execution_count": 8,
   "id": "ab2b15c0",
   "metadata": {},
   "outputs": [
    {
     "data": {
      "text/plain": [
       "7"
      ]
     },
     "execution_count": 8,
     "metadata": {},
     "output_type": "execute_result"
    }
   ],
   "source": [
    "len(person1)"
   ]
  },
  {
   "cell_type": "code",
   "execution_count": 3,
   "id": "17d81b75",
   "metadata": {},
   "outputs": [
    {
     "data": {
      "text/plain": [
       "['Vusal', 29, 'New York', 'Data Scientist', 120000, False, [1, 2, 3]]"
      ]
     },
     "execution_count": 3,
     "metadata": {},
     "output_type": "execute_result"
    }
   ],
   "source": [
    "person2 = ['Vusal', 29, 'New York', 'Data Scientist', 120000, False, [1, 2, 3]]\n",
    "person2"
   ]
  },
  {
   "cell_type": "code",
   "execution_count": 4,
   "id": "a0513aaa",
   "metadata": {},
   "outputs": [
    {
     "data": {
      "text/plain": [
       "7"
      ]
     },
     "execution_count": 4,
     "metadata": {},
     "output_type": "execute_result"
    }
   ],
   "source": [
    "len(person2)"
   ]
  },
  {
   "cell_type": "code",
   "execution_count": 5,
   "id": "5e22a9c9",
   "metadata": {},
   "outputs": [
    {
     "data": {
      "text/plain": [
       "5"
      ]
     },
     "execution_count": 5,
     "metadata": {},
     "output_type": "execute_result"
    }
   ],
   "source": [
    "len('hello')"
   ]
  },
  {
   "cell_type": "code",
   "execution_count": null,
   "id": "1c87abf3",
   "metadata": {},
   "outputs": [
    {
     "ename": "TypeError",
     "evalue": "object of type 'int' has no len()",
     "output_type": "error",
     "traceback": [
      "\u001b[1;31m---------------------------------------------------------------------------\u001b[0m",
      "\u001b[1;31mTypeError\u001b[0m                                 Traceback (most recent call last)",
      "Cell \u001b[1;32mIn[6], line 1\u001b[0m\n\u001b[1;32m----> 1\u001b[0m \u001b[38;5;28;43mlen\u001b[39;49m\u001b[43m(\u001b[49m\u001b[38;5;241;43m425\u001b[39;49m\u001b[43m)\u001b[49m\n",
      "\u001b[1;31mTypeError\u001b[0m: object of type 'int' has no len()"
     ]
    }
   ],
   "source": [
    "len(425) # they don't have elements, or items, and are not iterable."
   ]
  },
  {
   "cell_type": "code",
   "execution_count": null,
   "id": "03a65cb8",
   "metadata": {},
   "outputs": [
    {
     "ename": "TypeError",
     "evalue": "object of type 'bool' has no len()",
     "output_type": "error",
     "traceback": [
      "\u001b[1;31m---------------------------------------------------------------------------\u001b[0m",
      "\u001b[1;31mTypeError\u001b[0m                                 Traceback (most recent call last)",
      "Cell \u001b[1;32mIn[7], line 1\u001b[0m\n\u001b[1;32m----> 1\u001b[0m \u001b[38;5;28;43mlen\u001b[39;49m\u001b[43m(\u001b[49m\u001b[38;5;28;43;01mTrue\u001b[39;49;00m\u001b[43m)\u001b[49m\n",
      "\u001b[1;31mTypeError\u001b[0m: object of type 'bool' has no len()"
     ]
    }
   ],
   "source": [
    "len(True) # they don't have elements, or items, and are not iterable data types."
   ]
  },
  {
   "cell_type": "code",
   "execution_count": 8,
   "id": "e7ae33fa",
   "metadata": {},
   "outputs": [
    {
     "data": {
      "text/plain": [
       "'h'"
      ]
     },
     "execution_count": 8,
     "metadata": {},
     "output_type": "execute_result"
    }
   ],
   "source": [
    "# by iterable we mean, the elements can be reached for example with indexing\n",
    "'hello'[0]"
   ]
  },
  {
   "cell_type": "code",
   "execution_count": 9,
   "id": "67db09fb",
   "metadata": {},
   "outputs": [
    {
     "name": "stderr",
     "output_type": "stream",
     "text": [
      "<>:1: SyntaxWarning: 'int' object is not subscriptable; perhaps you missed a comma?\n",
      "<>:1: SyntaxWarning: 'int' object is not subscriptable; perhaps you missed a comma?\n",
      "C:\\Users\\jawed\\AppData\\Local\\Temp\\ipykernel_15140\\1487017242.py:1: SyntaxWarning: 'int' object is not subscriptable; perhaps you missed a comma?\n",
      "  123211[0]\n"
     ]
    },
    {
     "ename": "TypeError",
     "evalue": "'int' object is not subscriptable",
     "output_type": "error",
     "traceback": [
      "\u001b[1;31m---------------------------------------------------------------------------\u001b[0m",
      "\u001b[1;31mTypeError\u001b[0m                                 Traceback (most recent call last)",
      "Cell \u001b[1;32mIn[9], line 1\u001b[0m\n\u001b[1;32m----> 1\u001b[0m \u001b[38;5;241;43m123211\u001b[39;49m\u001b[43m[\u001b[49m\u001b[38;5;241;43m0\u001b[39;49m\u001b[43m]\u001b[49m\n",
      "\u001b[1;31mTypeError\u001b[0m: 'int' object is not subscriptable"
     ]
    }
   ],
   "source": [
    "123211[0]"
   ]
  },
  {
   "cell_type": "code",
   "execution_count": 10,
   "id": "ec27cb83",
   "metadata": {},
   "outputs": [
    {
     "name": "stderr",
     "output_type": "stream",
     "text": [
      "<>:1: SyntaxWarning: 'bool' object is not subscriptable; perhaps you missed a comma?\n",
      "<>:1: SyntaxWarning: 'bool' object is not subscriptable; perhaps you missed a comma?\n",
      "C:\\Users\\jawed\\AppData\\Local\\Temp\\ipykernel_15140\\128037089.py:1: SyntaxWarning: 'bool' object is not subscriptable; perhaps you missed a comma?\n",
      "  True[0]\n"
     ]
    },
    {
     "ename": "TypeError",
     "evalue": "'bool' object is not subscriptable",
     "output_type": "error",
     "traceback": [
      "\u001b[1;31m---------------------------------------------------------------------------\u001b[0m",
      "\u001b[1;31mTypeError\u001b[0m                                 Traceback (most recent call last)",
      "Cell \u001b[1;32mIn[10], line 1\u001b[0m\n\u001b[1;32m----> 1\u001b[0m \u001b[38;5;28;43;01mTrue\u001b[39;49;00m\u001b[43m[\u001b[49m\u001b[38;5;241;43m0\u001b[39;49m\u001b[43m]\u001b[49m\n",
      "\u001b[1;31mTypeError\u001b[0m: 'bool' object is not subscriptable"
     ]
    }
   ],
   "source": [
    "True[0]"
   ]
  },
  {
   "cell_type": "code",
   "execution_count": 10,
   "id": "ae9e5cd5",
   "metadata": {},
   "outputs": [
    {
     "data": {
      "text/plain": [
       "['nikola', 26, 'data scientist', True, 12.09, [False, 'Hello', 1212]]"
      ]
     },
     "execution_count": 10,
     "metadata": {},
     "output_type": "execute_result"
    }
   ],
   "source": [
    "my_list = ['nikola', 26, 'data scientist', True, 12.09, [False, 'Hello', 1212]]\n",
    "my_list"
   ]
  },
  {
   "cell_type": "code",
   "execution_count": 12,
   "id": "b3af6bf9",
   "metadata": {},
   "outputs": [
    {
     "data": {
      "text/plain": [
       "6"
      ]
     },
     "execution_count": 12,
     "metadata": {},
     "output_type": "execute_result"
    }
   ],
   "source": [
    "len(my_list)"
   ]
  },
  {
   "cell_type": "code",
   "execution_count": 13,
   "id": "4447c0d8",
   "metadata": {},
   "outputs": [
    {
     "data": {
      "text/plain": [
       "'nikola'"
      ]
     },
     "execution_count": 13,
     "metadata": {},
     "output_type": "execute_result"
    }
   ],
   "source": [
    "# lists are iterable, so we can reach it's elements.\n",
    "my_list[0]"
   ]
  },
  {
   "cell_type": "code",
   "execution_count": 11,
   "id": "3caeb7f7",
   "metadata": {},
   "outputs": [
    {
     "data": {
      "text/plain": [
       "[False, 'Hello', 1212]"
      ]
     },
     "execution_count": 11,
     "metadata": {},
     "output_type": "execute_result"
    }
   ],
   "source": [
    "my_list[-1]"
   ]
  },
  {
   "cell_type": "code",
   "execution_count": 15,
   "id": "10c6ee93",
   "metadata": {},
   "outputs": [
    {
     "data": {
      "text/plain": [
       "['nikola', 26, 'data scientist', True, 12.09, [False, 'Hello', 1212]]"
      ]
     },
     "execution_count": 15,
     "metadata": {},
     "output_type": "execute_result"
    }
   ],
   "source": [
    "my_list"
   ]
  },
  {
   "cell_type": "code",
   "execution_count": 16,
   "id": "ffb7e701",
   "metadata": {},
   "outputs": [
    {
     "data": {
      "text/plain": [
       "'data scientist'"
      ]
     },
     "execution_count": 16,
     "metadata": {},
     "output_type": "execute_result"
    }
   ],
   "source": [
    "my_list[2]"
   ]
  },
  {
   "cell_type": "code",
   "execution_count": 12,
   "id": "28783bc3",
   "metadata": {},
   "outputs": [
    {
     "data": {
      "text/plain": [
       "'s'"
      ]
     },
     "execution_count": 12,
     "metadata": {},
     "output_type": "execute_result"
    }
   ],
   "source": [
    "my_list[2][5]\n",
    "# first, it will choose the element in index [2], which is 'data scientist'\n",
    "# then it will choose the element on index [5] which is s"
   ]
  },
  {
   "cell_type": "code",
   "execution_count": null,
   "id": "2a3d592e",
   "metadata": {},
   "outputs": [
    {
     "data": {
      "text/plain": [
       "[False, 'Hello', 1212]"
      ]
     },
     "execution_count": 18,
     "metadata": {},
     "output_type": "execute_result"
    }
   ],
   "source": [
    "my_list[-1] # choose the last element"
   ]
  },
  {
   "cell_type": "code",
   "execution_count": 13,
   "id": "e8814451",
   "metadata": {},
   "outputs": [
    {
     "data": {
      "text/plain": [
       "'Hello'"
      ]
     },
     "execution_count": 13,
     "metadata": {},
     "output_type": "execute_result"
    }
   ],
   "source": [
    "my_list[-1][1]\n",
    "# my_list[-1] will return the last element which is [False, 'Hello', 1212]\n",
    "# then it will return the element on index [1] which is 'Hello\n"
   ]
  },
  {
   "cell_type": "code",
   "execution_count": 20,
   "id": "426ed300",
   "metadata": {},
   "outputs": [
    {
     "data": {
      "text/plain": [
       "'o'"
      ]
     },
     "execution_count": 20,
     "metadata": {},
     "output_type": "execute_result"
    }
   ],
   "source": [
    "my_list[-1][1][-1]"
   ]
  },
  {
   "cell_type": "code",
   "execution_count": 21,
   "id": "91a71abb",
   "metadata": {},
   "outputs": [
    {
     "data": {
      "text/plain": [
       "['nikola', 26, 'data scientist', True, 12.09, [False, 'Hello', 1212]]"
      ]
     },
     "execution_count": 21,
     "metadata": {},
     "output_type": "execute_result"
    }
   ],
   "source": [
    "my_list"
   ]
  },
  {
   "cell_type": "code",
   "execution_count": 22,
   "id": "d839a3d4",
   "metadata": {},
   "outputs": [
    {
     "data": {
      "text/plain": [
       "26"
      ]
     },
     "execution_count": 22,
     "metadata": {},
     "output_type": "execute_result"
    }
   ],
   "source": [
    "my_list[1]"
   ]
  },
  {
   "cell_type": "code",
   "execution_count": null,
   "id": "46a478e7",
   "metadata": {},
   "outputs": [
    {
     "ename": "TypeError",
     "evalue": "'int' object is not subscriptable",
     "output_type": "error",
     "traceback": [
      "\u001b[1;31m---------------------------------------------------------------------------\u001b[0m",
      "\u001b[1;31mTypeError\u001b[0m                                 Traceback (most recent call last)",
      "Cell \u001b[1;32mIn[23], line 1\u001b[0m\n\u001b[1;32m----> 1\u001b[0m \u001b[43mmy_list\u001b[49m\u001b[43m[\u001b[49m\u001b[38;5;241;43m1\u001b[39;49m\u001b[43m]\u001b[49m\u001b[43m[\u001b[49m\u001b[38;5;241;43m1\u001b[39;49m\u001b[43m]\u001b[49m\n",
      "\u001b[1;31mTypeError\u001b[0m: 'int' object is not subscriptable"
     ]
    }
   ],
   "source": [
    "my_list[1][1]\n",
    "# because the selected element of the list is an integer and they are not iterable"
   ]
  },
  {
   "cell_type": "code",
   "execution_count": null,
   "id": "732d14a7",
   "metadata": {},
   "outputs": [
    {
     "data": {
      "text/plain": [
       "[1, 2, 3, 4, 5]"
      ]
     },
     "execution_count": 24,
     "metadata": {},
     "output_type": "execute_result"
    }
   ],
   "source": [
    "# concatenation in lists.\n",
    "[1, 2, 3] + [4, 5]"
   ]
  },
  {
   "cell_type": "code",
   "execution_count": null,
   "id": "72448201",
   "metadata": {},
   "outputs": [
    {
     "data": {
      "text/plain": [
       "[1, 2, 3, 1, 2, 3]"
      ]
     },
     "execution_count": 25,
     "metadata": {},
     "output_type": "execute_result"
    }
   ],
   "source": [
    "[1, 2, 3] * 2\n",
    "# contatinating same list twice"
   ]
  },
  {
   "cell_type": "code",
   "execution_count": 26,
   "id": "f2e99cde",
   "metadata": {},
   "outputs": [
    {
     "data": {
      "text/plain": [
       "['nikola', 26, 'data scientist', True, 12.09, [False, 'Hello', 1212]]"
      ]
     },
     "execution_count": 26,
     "metadata": {},
     "output_type": "execute_result"
    }
   ],
   "source": [
    "my_list"
   ]
  },
  {
   "cell_type": "code",
   "execution_count": 27,
   "id": "78f9596e",
   "metadata": {},
   "outputs": [
    {
     "data": {
      "text/plain": [
       "[26, 'data scientist', True, 12.09, [False, 'Hello', 1212]]"
      ]
     },
     "execution_count": 27,
     "metadata": {},
     "output_type": "execute_result"
    }
   ],
   "source": [
    "my_list[1:]"
   ]
  },
  {
   "cell_type": "code",
   "execution_count": 28,
   "id": "24e952c3",
   "metadata": {},
   "outputs": [
    {
     "data": {
      "text/plain": [
       "[26, 'data scientist', True]"
      ]
     },
     "execution_count": 28,
     "metadata": {},
     "output_type": "execute_result"
    }
   ],
   "source": [
    "my_list[1:4]"
   ]
  },
  {
   "cell_type": "code",
   "execution_count": 29,
   "id": "2c99ca6f",
   "metadata": {},
   "outputs": [
    {
     "data": {
      "text/plain": [
       "['nikola', 'data scientist', 12.09]"
      ]
     },
     "execution_count": 29,
     "metadata": {},
     "output_type": "execute_result"
    }
   ],
   "source": [
    "my_list[::2]"
   ]
  },
  {
   "cell_type": "code",
   "execution_count": null,
   "id": "4e7a4fa1",
   "metadata": {},
   "outputs": [
    {
     "ename": "TypeError",
     "evalue": "'str' object does not support item assignment",
     "output_type": "error",
     "traceback": [
      "\u001b[31m---------------------------------------------------------------------------\u001b[39m",
      "\u001b[31mTypeError\u001b[39m                                 Traceback (most recent call last)",
      "\u001b[36mCell\u001b[39m\u001b[36m \u001b[39m\u001b[32mIn[14]\u001b[39m\u001b[32m, line 3\u001b[39m\n\u001b[32m      1\u001b[39m \u001b[38;5;66;03m# mutable, opposite of string which was immutable.\u001b[39;00m\n\u001b[32m      2\u001b[39m name = \u001b[33m'\u001b[39m\u001b[33mtechpro education\u001b[39m\u001b[33m'\u001b[39m\n\u001b[32m----> \u001b[39m\u001b[32m3\u001b[39m \u001b[43mname\u001b[49m\u001b[43m[\u001b[49m\u001b[32;43m1\u001b[39;49m\u001b[43m]\u001b[49m = \u001b[33m'\u001b[39m\u001b[33mE\u001b[39m\u001b[33m'\u001b[39m \u001b[38;5;66;03m# strings are immutable. \u001b[39;00m\n",
      "\u001b[31mTypeError\u001b[39m: 'str' object does not support item assignment"
     ]
    }
   ],
   "source": [
    "# mutable, opposite of string which was immutable, not changable\n",
    "name = 'techpro education'\n",
    "name[1] = 'E' # strings are immutable. "
   ]
  },
  {
   "cell_type": "code",
   "execution_count": 15,
   "id": "e8e15844",
   "metadata": {},
   "outputs": [
    {
     "data": {
      "text/plain": [
       "'tEchpro education'"
      ]
     },
     "execution_count": 15,
     "metadata": {},
     "output_type": "execute_result"
    }
   ],
   "source": [
    "name = 'techpro education'\n",
    "name = 'tEchpro education'\n",
    "name"
   ]
  },
  {
   "cell_type": "code",
   "execution_count": 34,
   "id": "b4d069ac",
   "metadata": {},
   "outputs": [
    {
     "data": {
      "text/plain": [
       "['nikola', 26, 'data scientist', True, 12.09, [False, 'Hello', 1212]]"
      ]
     },
     "execution_count": 34,
     "metadata": {},
     "output_type": "execute_result"
    }
   ],
   "source": [
    "my_list"
   ]
  },
  {
   "cell_type": "code",
   "execution_count": 16,
   "id": "dfe8da4d",
   "metadata": {},
   "outputs": [
    {
     "data": {
      "text/plain": [
       "['nikola', 26, 'ML Engineer', True, 12.09, [False, 'Hello', 1212]]"
      ]
     },
     "execution_count": 16,
     "metadata": {},
     "output_type": "execute_result"
    }
   ],
   "source": [
    "my_list[2] = 'ML Engineer' # mutable data types\n",
    "my_list"
   ]
  },
  {
   "cell_type": "code",
   "execution_count": 18,
   "id": "aa25a8b0",
   "metadata": {},
   "outputs": [
    {
     "data": {
      "text/plain": [
       "['nikola', 26, 'ML Engineer', True, 12.09, [False, 'Hi', 1212]]"
      ]
     },
     "execution_count": 18,
     "metadata": {},
     "output_type": "execute_result"
    }
   ],
   "source": [
    "my_list[-1][1] = 'Hi'\n",
    "my_list"
   ]
  },
  {
   "cell_type": "markdown",
   "id": "c3dbcb67",
   "metadata": {},
   "source": [
    "## List Operations"
   ]
  },
  {
   "cell_type": "markdown",
   "id": "1bff0869",
   "metadata": {},
   "source": [
    "### append"
   ]
  },
  {
   "cell_type": "code",
   "execution_count": 19,
   "id": "bcc88d10",
   "metadata": {},
   "outputs": [
    {
     "data": {
      "text/plain": [
       "['a', 'b', 1, 2, True, False, 'new string appended']"
      ]
     },
     "execution_count": 19,
     "metadata": {},
     "output_type": "execute_result"
    }
   ],
   "source": [
    "# adds an element at the end of the list\n",
    "list2 = ['a', 'b', 1, 2, True, False]\n",
    "list2.append('new string appended')\n",
    "list2"
   ]
  },
  {
   "cell_type": "code",
   "execution_count": 21,
   "id": "5aa0dfa6",
   "metadata": {},
   "outputs": [
    {
     "data": {
      "text/plain": [
       "['a', 'b', 1, 2, True, False, 'new string appended', 'hi', 'hi']"
      ]
     },
     "execution_count": 21,
     "metadata": {},
     "output_type": "execute_result"
    }
   ],
   "source": [
    "list2.append('hi')\n",
    "# if we run it multiple times, the element will be appended that many times\n",
    "list2"
   ]
  },
  {
   "cell_type": "code",
   "execution_count": 22,
   "id": "267ecaef",
   "metadata": {},
   "outputs": [
    {
     "data": {
      "text/plain": [
       "['a', 'b', 1, 2, True, False, 'new string appended', 'hi', 'hi', 12]"
      ]
     },
     "execution_count": 22,
     "metadata": {},
     "output_type": "execute_result"
    }
   ],
   "source": [
    "list2.append(12)\n",
    "\n",
    "list2"
   ]
  },
  {
   "cell_type": "code",
   "execution_count": null,
   "id": "3bd2cd2f",
   "metadata": {},
   "outputs": [
    {
     "ename": "TypeError",
     "evalue": "list.append() takes exactly one argument (2 given)",
     "output_type": "error",
     "traceback": [
      "\u001b[1;31m---------------------------------------------------------------------------\u001b[0m",
      "\u001b[1;31mTypeError\u001b[0m                                 Traceback (most recent call last)",
      "Cell \u001b[1;32mIn[52], line 1\u001b[0m\n\u001b[1;32m----> 1\u001b[0m \u001b[43mlist2\u001b[49m\u001b[38;5;241;43m.\u001b[39;49m\u001b[43mappend\u001b[49m\u001b[43m(\u001b[49m\u001b[38;5;241;43m12\u001b[39;49m\u001b[43m,\u001b[49m\u001b[43m \u001b[49m\u001b[38;5;241;43m12\u001b[39;49m\u001b[43m)\u001b[49m\n",
      "\u001b[1;31mTypeError\u001b[0m: list.append() takes exactly one argument (2 given)"
     ]
    }
   ],
   "source": [
    "list2.append(12, 12)\n",
    "# the append operation of list, takes only one element or argument."
   ]
  },
  {
   "cell_type": "code",
   "execution_count": 53,
   "id": "899ae66d",
   "metadata": {},
   "outputs": [
    {
     "data": {
      "text/plain": [
       "['a', 'b', 1, 2, True, False, 'new string appended', 'hi', 'hi', 12]"
      ]
     },
     "execution_count": 53,
     "metadata": {},
     "output_type": "execute_result"
    }
   ],
   "source": [
    "list2"
   ]
  },
  {
   "cell_type": "code",
   "execution_count": 32,
   "id": "d7e71f34",
   "metadata": {},
   "outputs": [
    {
     "data": {
      "text/plain": [
       "['a', 'b', 1, 2, True, False, 'new string appended', 'hi', 'hi', 12, [12, 12]]"
      ]
     },
     "execution_count": 32,
     "metadata": {},
     "output_type": "execute_result"
    }
   ],
   "source": [
    "list2.append([12, 12])\n",
    "# an entire list can be considered as one element.\n",
    "list2"
   ]
  },
  {
   "cell_type": "markdown",
   "id": "e42772d7",
   "metadata": {},
   "source": [
    "### insert\n",
    "\n",
    "adds an element in a specific index or address"
   ]
  },
  {
   "cell_type": "code",
   "execution_count": 47,
   "id": "eaaa57dd",
   "metadata": {},
   "outputs": [
    {
     "data": {
      "text/plain": [
       "['rovshen', 'kateryna', 'ebrunur']"
      ]
     },
     "execution_count": 47,
     "metadata": {},
     "output_type": "execute_result"
    }
   ],
   "source": [
    "names_001 = ['rovshen', 'kateryna', 'ebrunur']\n",
    "names_001"
   ]
  },
  {
   "cell_type": "code",
   "execution_count": 48,
   "id": "2020a7d2",
   "metadata": {},
   "outputs": [
    {
     "data": {
      "text/plain": [
       "['rovshen', 'vusal', 'kateryna', 'ebrunur']"
      ]
     },
     "execution_count": 48,
     "metadata": {},
     "output_type": "execute_result"
    }
   ],
   "source": [
    "names_001.insert(1, 'vusal')\n",
    "names_001"
   ]
  },
  {
   "cell_type": "code",
   "execution_count": 49,
   "id": "6fd91111",
   "metadata": {},
   "outputs": [
    {
     "data": {
      "text/plain": [
       "['rovshen', 'vusal', 'kateryna', 'fierro', 'ebrunur']"
      ]
     },
     "execution_count": 49,
     "metadata": {},
     "output_type": "execute_result"
    }
   ],
   "source": [
    "names_001.insert(-1, 'fierro')\n",
    "names_001"
   ]
  },
  {
   "cell_type": "code",
   "execution_count": 50,
   "id": "34b9a152",
   "metadata": {},
   "outputs": [
    {
     "data": {
      "text/plain": [
       "['rovshen', 'vusal', 'kateryna', 'fierro', 'ebrunur', 'nikola']"
      ]
     },
     "execution_count": 50,
     "metadata": {},
     "output_type": "execute_result"
    }
   ],
   "source": [
    "# if you want to add an element at the end of a list using insert operation,\n",
    "# there is a shortcut to it, use len(list) as index.\n",
    "names_001.insert(len(names_001), 'nikola')\n",
    "names_001"
   ]
  },
  {
   "cell_type": "code",
   "execution_count": 51,
   "id": "48a3b3e9",
   "metadata": {},
   "outputs": [],
   "source": [
    "names_001.insert(12, \"new\")"
   ]
  },
  {
   "cell_type": "code",
   "execution_count": 52,
   "id": "2b04a973",
   "metadata": {},
   "outputs": [
    {
     "data": {
      "text/plain": [
       "['rovshen', 'vusal', 'kateryna', 'fierro', 'ebrunur', 'nikola', 'new']"
      ]
     },
     "execution_count": 52,
     "metadata": {},
     "output_type": "execute_result"
    }
   ],
   "source": [
    "names_001"
   ]
  },
  {
   "cell_type": "code",
   "execution_count": 53,
   "id": "e87b4b01",
   "metadata": {},
   "outputs": [
    {
     "data": {
      "text/plain": [
       "['rovshen',\n",
       " 'vusal',\n",
       " 'kateryna',\n",
       " 'fierro',\n",
       " 'ebrunur',\n",
       " 'nikola',\n",
       " 'new',\n",
       " 'nikola']"
      ]
     },
     "execution_count": 53,
     "metadata": {},
     "output_type": "execute_result"
    }
   ],
   "source": [
    "names_001.insert(100, 'nikola')\n",
    "names_001"
   ]
  },
  {
   "cell_type": "code",
   "execution_count": 54,
   "id": "3a35f089",
   "metadata": {},
   "outputs": [
    {
     "data": {
      "text/plain": [
       "['rovshen',\n",
       " 'vusal',\n",
       " 5,\n",
       " 'kateryna',\n",
       " 'fierro',\n",
       " 'ebrunur',\n",
       " 'nikola',\n",
       " 'new',\n",
       " 'nikola']"
      ]
     },
     "execution_count": 54,
     "metadata": {},
     "output_type": "execute_result"
    }
   ],
   "source": [
    "names_001.insert(2, 5)\n",
    "names_001"
   ]
  },
  {
   "cell_type": "code",
   "execution_count": 55,
   "id": "a784aa7d",
   "metadata": {},
   "outputs": [
    {
     "data": {
      "text/plain": [
       "['rovshen',\n",
       " [5, 3, 6],\n",
       " 'vusal',\n",
       " 5,\n",
       " 'kateryna',\n",
       " 'fierro',\n",
       " 'ebrunur',\n",
       " 'nikola',\n",
       " 'new',\n",
       " 'nikola']"
      ]
     },
     "execution_count": 55,
     "metadata": {},
     "output_type": "execute_result"
    }
   ],
   "source": [
    "names_001.insert(1, [5, 3, 6])\n",
    "names_001"
   ]
  },
  {
   "cell_type": "markdown",
   "id": "03842293",
   "metadata": {},
   "source": [
    "### remove\n",
    "- it will remove a specified element and is not related to index"
   ]
  },
  {
   "cell_type": "code",
   "execution_count": 56,
   "id": "2923c552",
   "metadata": {},
   "outputs": [
    {
     "data": {
      "text/plain": [
       "[1, 2, 4, 3, 7, 8]"
      ]
     },
     "execution_count": 56,
     "metadata": {},
     "output_type": "execute_result"
    }
   ],
   "source": [
    "numbers = [1, 2, 4 ,3 ,7, 8]\n",
    "numbers"
   ]
  },
  {
   "cell_type": "code",
   "execution_count": 57,
   "id": "4412e768",
   "metadata": {},
   "outputs": [
    {
     "data": {
      "text/plain": [
       "[1, 4, 3, 7, 8]"
      ]
     },
     "execution_count": 57,
     "metadata": {},
     "output_type": "execute_result"
    }
   ],
   "source": [
    "numbers.remove(2)\n",
    "\n",
    "numbers"
   ]
  },
  {
   "cell_type": "code",
   "execution_count": 62,
   "id": "32c0fbd7",
   "metadata": {},
   "outputs": [
    {
     "data": {
      "text/plain": [
       "[1, 2, 2, 3, 3, 4, 5, 1, 7, 7, 8, 6, 5, 67]"
      ]
     },
     "execution_count": 62,
     "metadata": {},
     "output_type": "execute_result"
    }
   ],
   "source": [
    "numss = [1, 2, 2, 3, 3, 4, 5, 1, 7, 7, 8, 6, 5, 67]\n",
    "numss"
   ]
  },
  {
   "cell_type": "code",
   "execution_count": 63,
   "id": "20ef01b2",
   "metadata": {},
   "outputs": [
    {
     "data": {
      "text/plain": [
       "[2, 2, 3, 3, 4, 5, 1, 7, 7, 8, 6, 5, 67]"
      ]
     },
     "execution_count": 63,
     "metadata": {},
     "output_type": "execute_result"
    }
   ],
   "source": [
    "numss.remove(1)\n",
    "numss\n",
    "# as this cell was run 3 times, in first two times it removed two 1s and in the third \n",
    "# time it couldn't find another one"
   ]
  },
  {
   "cell_type": "code",
   "execution_count": 65,
   "id": "4d283cc8",
   "metadata": {},
   "outputs": [
    {
     "ename": "ValueError",
     "evalue": "list.remove(x): x not in list",
     "output_type": "error",
     "traceback": [
      "\u001b[31m---------------------------------------------------------------------------\u001b[39m",
      "\u001b[31mValueError\u001b[39m                                Traceback (most recent call last)",
      "\u001b[36mCell\u001b[39m\u001b[36m \u001b[39m\u001b[32mIn[65]\u001b[39m\u001b[32m, line 1\u001b[39m\n\u001b[32m----> \u001b[39m\u001b[32m1\u001b[39m \u001b[43mnumss\u001b[49m\u001b[43m.\u001b[49m\u001b[43mremove\u001b[49m\u001b[43m(\u001b[49m\u001b[32;43m1\u001b[39;49m\u001b[43m)\u001b[49m\n\u001b[32m      2\u001b[39m numss\n\u001b[32m      3\u001b[39m \u001b[38;5;66;03m# as this cell was run 3 times, in first two times it removed two 1s and in the third \u001b[39;00m\n\u001b[32m      4\u001b[39m \u001b[38;5;66;03m# time it couldn't find another one\u001b[39;00m\n",
      "\u001b[31mValueError\u001b[39m: list.remove(x): x not in list"
     ]
    }
   ],
   "source": [
    "numss.remove(1)\n",
    "numss\n",
    "# as this cell was run 3 times, in first two times it removed two 1s and in the third \n",
    "# time it couldn't find another one"
   ]
  },
  {
   "cell_type": "code",
   "execution_count": null,
   "id": "9b78634a",
   "metadata": {},
   "outputs": [
    {
     "data": {
      "text/plain": [
       "['rovshen',\n",
       " [5, 3, 6],\n",
       " 'vusal',\n",
       " 5,\n",
       " 'kateryna',\n",
       " 'fierro',\n",
       " 'ebrunur',\n",
       " 'nikola',\n",
       " 'nikola']"
      ]
     },
     "execution_count": 71,
     "metadata": {},
     "output_type": "execute_result"
    }
   ],
   "source": [
    "names_001"
   ]
  },
  {
   "cell_type": "code",
   "execution_count": 66,
   "id": "0d5bac8a",
   "metadata": {},
   "outputs": [
    {
     "data": {
      "text/plain": [
       "['rovshen',\n",
       " [5, 3, 6],\n",
       " 'vusal',\n",
       " 5,\n",
       " 'kateryna',\n",
       " 'fierro',\n",
       " 'ebrunur',\n",
       " 'new',\n",
       " 'nikola']"
      ]
     },
     "execution_count": 66,
     "metadata": {},
     "output_type": "execute_result"
    }
   ],
   "source": [
    "names_001.remove('nikola')\n",
    "names_001"
   ]
  },
  {
   "cell_type": "markdown",
   "id": "81fbb5b1",
   "metadata": {},
   "source": [
    "### pop\n",
    "it removes an element from last"
   ]
  },
  {
   "cell_type": "code",
   "execution_count": 67,
   "id": "a42958f8",
   "metadata": {},
   "outputs": [
    {
     "data": {
      "text/plain": [
       "['rovshen',\n",
       " [5, 3, 6],\n",
       " 'vusal',\n",
       " 5,\n",
       " 'kateryna',\n",
       " 'fierro',\n",
       " 'ebrunur',\n",
       " 'new',\n",
       " 'nikola']"
      ]
     },
     "execution_count": 67,
     "metadata": {},
     "output_type": "execute_result"
    }
   ],
   "source": [
    "names_001"
   ]
  },
  {
   "cell_type": "code",
   "execution_count": 68,
   "id": "f61b6d66",
   "metadata": {},
   "outputs": [
    {
     "data": {
      "text/plain": [
       "['rovshen', [5, 3, 6], 'vusal', 5, 'kateryna', 'fierro', 'ebrunur', 'new']"
      ]
     },
     "execution_count": 68,
     "metadata": {},
     "output_type": "execute_result"
    }
   ],
   "source": [
    "names_001.pop()\n",
    "# remove the element from the end of the list\n",
    "\n",
    "names_001"
   ]
  },
  {
   "cell_type": "code",
   "execution_count": 70,
   "id": "6bc4978d",
   "metadata": {},
   "outputs": [
    {
     "data": {
      "text/plain": [
       "['rovshen', [5, 3, 6], 'vusal', 5, 'kateryna', 'fierro']"
      ]
     },
     "execution_count": 70,
     "metadata": {},
     "output_type": "execute_result"
    }
   ],
   "source": [
    "names_001.pop()\n",
    "names_001\n",
    "# run two times, last two elements were removed"
   ]
  },
  {
   "cell_type": "code",
   "execution_count": 71,
   "id": "57e7ba7a",
   "metadata": {},
   "outputs": [
    {
     "data": {
      "text/plain": [
       "['rovshen', 'vusal', 5, 'kateryna', 'fierro']"
      ]
     },
     "execution_count": 71,
     "metadata": {},
     "output_type": "execute_result"
    }
   ],
   "source": [
    "# you can specify the index\n",
    "# by default, it removes the element index [-1]\n",
    "names_001.pop(1)\n",
    "names_001"
   ]
  },
  {
   "cell_type": "markdown",
   "id": "5c99702e",
   "metadata": {},
   "source": [
    "### clear\n",
    "\n",
    "it clears out the entire list."
   ]
  },
  {
   "cell_type": "code",
   "execution_count": 72,
   "id": "16fca07e",
   "metadata": {},
   "outputs": [
    {
     "data": {
      "text/plain": [
       "['rovshen', 'vusal', 5, 'kateryna', 'fierro']"
      ]
     },
     "execution_count": 72,
     "metadata": {},
     "output_type": "execute_result"
    }
   ],
   "source": [
    "names_001"
   ]
  },
  {
   "cell_type": "code",
   "execution_count": 77,
   "id": "20d913bf",
   "metadata": {},
   "outputs": [
    {
     "data": {
      "text/plain": [
       "[]"
      ]
     },
     "execution_count": 77,
     "metadata": {},
     "output_type": "execute_result"
    }
   ],
   "source": [
    "names_001.clear()\n",
    "\n",
    "names_001"
   ]
  },
  {
   "cell_type": "code",
   "execution_count": 80,
   "id": "45cf5a2f",
   "metadata": {},
   "outputs": [],
   "source": [
    "numbers = '1234'"
   ]
  },
  {
   "cell_type": "code",
   "execution_count": 81,
   "id": "32ac4e8e",
   "metadata": {},
   "outputs": [],
   "source": [
    "# once a variable is deleted, it is no longer stored in the memory\n",
    "del numbers\n"
   ]
  },
  {
   "cell_type": "code",
   "execution_count": null,
   "id": "32d15d47",
   "metadata": {},
   "outputs": [
    {
     "ename": "NameError",
     "evalue": "name 'numbers' is not defined",
     "output_type": "error",
     "traceback": [
      "\u001b[1;31m---------------------------------------------------------------------------\u001b[0m",
      "\u001b[1;31mNameError\u001b[0m                                 Traceback (most recent call last)",
      "Cell \u001b[1;32mIn[110], line 1\u001b[0m\n\u001b[1;32m----> 1\u001b[0m \u001b[43mnumbers\u001b[49m\n",
      "\u001b[1;31mNameError\u001b[0m: name 'numbers' is not defined"
     ]
    }
   ],
   "source": [
    "# if you enter del twice, it will show error because it no longer exists\n",
    "del numbers"
   ]
  },
  {
   "cell_type": "markdown",
   "id": "08569799",
   "metadata": {},
   "source": [
    "### count\n",
    "\n",
    "it tells how many times an element has been repeated in a list"
   ]
  },
  {
   "cell_type": "code",
   "execution_count": 82,
   "id": "7cef18ab",
   "metadata": {},
   "outputs": [
    {
     "data": {
      "text/plain": [
       "[2, 2, 3, 3, 4, 5, 7, 7, 8, 6, 5, 67]"
      ]
     },
     "execution_count": 82,
     "metadata": {},
     "output_type": "execute_result"
    }
   ],
   "source": [
    "numss"
   ]
  },
  {
   "cell_type": "code",
   "execution_count": 83,
   "id": "f6f92a7a",
   "metadata": {},
   "outputs": [
    {
     "data": {
      "text/plain": [
       "0"
      ]
     },
     "execution_count": 83,
     "metadata": {},
     "output_type": "execute_result"
    }
   ],
   "source": [
    "numss.count(11)"
   ]
  },
  {
   "cell_type": "code",
   "execution_count": 93,
   "id": "3d928f86",
   "metadata": {},
   "outputs": [
    {
     "data": {
      "text/plain": [
       "2"
      ]
     },
     "execution_count": 93,
     "metadata": {},
     "output_type": "execute_result"
    }
   ],
   "source": [
    "a = [12, 23, 432, 21, 76, 45, 45, 12, 34]\n",
    "a.count(12)"
   ]
  },
  {
   "cell_type": "code",
   "execution_count": null,
   "id": "048aefcf",
   "metadata": {},
   "outputs": [
    {
     "data": {
      "text/plain": [
       "['nikola', 'kateryna', 'kateryna', 'rovshen', 'ebrunur', 'ebrunur']"
      ]
     },
     "execution_count": 95,
     "metadata": {},
     "output_type": "execute_result"
    }
   ],
   "source": [
    "names_001 = ['nikola', 'kateryna', 'kateryna', 'rovshen', 'ebrunur', 'ebrunur']\n",
    "names_001"
   ]
  },
  {
   "cell_type": "code",
   "execution_count": null,
   "id": "b13e8017",
   "metadata": {},
   "outputs": [
    {
     "data": {
      "text/plain": [
       "1"
      ]
     },
     "execution_count": 96,
     "metadata": {},
     "output_type": "execute_result"
    }
   ],
   "source": [
    "names_001.count(\"nikola\")"
   ]
  },
  {
   "cell_type": "code",
   "execution_count": null,
   "id": "bf35af97",
   "metadata": {},
   "outputs": [
    {
     "data": {
      "text/plain": [
       "0"
      ]
     },
     "execution_count": 98,
     "metadata": {},
     "output_type": "execute_result"
    }
   ],
   "source": [
    "names_001.count(\"vusal\")"
   ]
  },
  {
   "cell_type": "code",
   "execution_count": 85,
   "id": "0ad4abc4",
   "metadata": {},
   "outputs": [
    {
     "data": {
      "text/plain": [
       "['', 0, 0.0, True, 1, False, 1.0, 'Hello']"
      ]
     },
     "execution_count": 85,
     "metadata": {},
     "output_type": "execute_result"
    }
   ],
   "source": [
    "compl = ['', 0, 0.0, True, 1, False, 1.0, 'Hello']\n",
    "compl"
   ]
  },
  {
   "cell_type": "code",
   "execution_count": null,
   "id": "84fc42d6",
   "metadata": {},
   "outputs": [
    {
     "data": {
      "text/plain": [
       "3"
      ]
     },
     "execution_count": 86,
     "metadata": {},
     "output_type": "execute_result"
    }
   ],
   "source": [
    "compl.count(True)\n",
    "# True, 1, and  1.0 == True"
   ]
  },
  {
   "cell_type": "code",
   "execution_count": null,
   "id": "cc56e5a4",
   "metadata": {},
   "outputs": [
    {
     "data": {
      "text/plain": [
       "3"
      ]
     },
     "execution_count": 105,
     "metadata": {},
     "output_type": "execute_result"
    }
   ],
   "source": [
    "compl.count(0)\n",
    "# 0 == 0, 0.00, False"
   ]
  },
  {
   "cell_type": "code",
   "execution_count": null,
   "id": "3887c75c",
   "metadata": {},
   "outputs": [],
   "source": [
    "# True, 1 and 1.0 are the same thing, expressed in different ways, the value they\n",
    "# have are same, that's why they are considered as same, the same thing goes for\n",
    "# 0 and 0.0 and False"
   ]
  },
  {
   "cell_type": "code",
   "execution_count": 87,
   "id": "eb8924ff",
   "metadata": {},
   "outputs": [
    {
     "ename": "TypeError",
     "evalue": "list.count() takes exactly one argument (2 given)",
     "output_type": "error",
     "traceback": [
      "\u001b[31m---------------------------------------------------------------------------\u001b[39m",
      "\u001b[31mTypeError\u001b[39m                                 Traceback (most recent call last)",
      "\u001b[36mCell\u001b[39m\u001b[36m \u001b[39m\u001b[32mIn[87]\u001b[39m\u001b[32m, line 1\u001b[39m\n\u001b[32m----> \u001b[39m\u001b[32m1\u001b[39m \u001b[43mcompl\u001b[49m\u001b[43m.\u001b[49m\u001b[43mcount\u001b[49m\u001b[43m(\u001b[49m\u001b[32;43m0\u001b[39;49m\u001b[43m,\u001b[49m\u001b[43m \u001b[49m\u001b[32;43m1\u001b[39;49m\u001b[43m)\u001b[49m\n\u001b[32m      2\u001b[39m \u001b[38;5;66;03m# count() only takes one argument\u001b[39;00m\n",
      "\u001b[31mTypeError\u001b[39m: list.count() takes exactly one argument (2 given)"
     ]
    }
   ],
   "source": [
    "compl.count(0, 1)\n",
    "# count() only takes one argument"
   ]
  },
  {
   "cell_type": "markdown",
   "id": "15e1e60a",
   "metadata": {},
   "source": [
    "### sort\n",
    "\n",
    "sorts out the data"
   ]
  },
  {
   "cell_type": "code",
   "execution_count": 88,
   "id": "393ddb29",
   "metadata": {},
   "outputs": [
    {
     "data": {
      "text/plain": [
       "[21, 12, 23, 0, -90, 87, True]"
      ]
     },
     "execution_count": 88,
     "metadata": {},
     "output_type": "execute_result"
    }
   ],
   "source": [
    "numbers = [21, 12, 23, 0, -90, 87, True]\n",
    "numbers"
   ]
  },
  {
   "cell_type": "code",
   "execution_count": 89,
   "id": "fb3e71d1",
   "metadata": {},
   "outputs": [
    {
     "data": {
      "text/plain": [
       "[-90, 0, True, 12, 21, 23, 87]"
      ]
     },
     "execution_count": 89,
     "metadata": {},
     "output_type": "execute_result"
    }
   ],
   "source": [
    "numbers.sort()\n",
    "numbers\n",
    "# by default from smallest to largest, in ascending order"
   ]
  },
  {
   "cell_type": "code",
   "execution_count": 90,
   "id": "11a482e3",
   "metadata": {},
   "outputs": [
    {
     "data": {
      "text/plain": [
       "[87, 23, 21, 12, True, 0, -90]"
      ]
     },
     "execution_count": 90,
     "metadata": {},
     "output_type": "execute_result"
    }
   ],
   "source": [
    "numbers.sort(reverse=True)\n",
    "numbers\n",
    "# sort in descending order, meaning from largest to smallest"
   ]
  },
  {
   "cell_type": "code",
   "execution_count": 91,
   "id": "ca8b69b7",
   "metadata": {},
   "outputs": [
    {
     "data": {
      "text/plain": [
       "[]"
      ]
     },
     "execution_count": 91,
     "metadata": {},
     "output_type": "execute_result"
    }
   ],
   "source": [
    "names_001"
   ]
  },
  {
   "cell_type": "code",
   "execution_count": null,
   "id": "b4fefd88",
   "metadata": {},
   "outputs": [
    {
     "data": {
      "text/plain": [
       "['ebrunur', 'ebrunur', 'kateryna', 'kateryna', 'nikola', 'rovshen']"
      ]
     },
     "execution_count": 126,
     "metadata": {},
     "output_type": "execute_result"
    }
   ],
   "source": [
    "names_001.sort()\n",
    "names_001"
   ]
  },
  {
   "cell_type": "code",
   "execution_count": null,
   "id": "cc5d5104",
   "metadata": {},
   "outputs": [
    {
     "data": {
      "text/plain": [
       "['rovshen', 'nikola', 'kateryna', 'kateryna', 'ebrunur', 'ebrunur']"
      ]
     },
     "execution_count": 127,
     "metadata": {},
     "output_type": "execute_result"
    }
   ],
   "source": [
    "names_001.sort(reverse=True)\n",
    "names_001"
   ]
  },
  {
   "cell_type": "code",
   "execution_count": 128,
   "id": "f0af8f83",
   "metadata": {},
   "outputs": [
    {
     "data": {
      "text/plain": [
       "['', 0, 0.0, True, 1, False, 1.0, 'Hello']"
      ]
     },
     "execution_count": 128,
     "metadata": {},
     "output_type": "execute_result"
    }
   ],
   "source": [
    "compl"
   ]
  },
  {
   "cell_type": "code",
   "execution_count": null,
   "id": "265c0b19",
   "metadata": {},
   "outputs": [
    {
     "ename": "TypeError",
     "evalue": "'<' not supported between instances of 'int' and 'str'",
     "output_type": "error",
     "traceback": [
      "\u001b[1;31m---------------------------------------------------------------------------\u001b[0m",
      "\u001b[1;31mTypeError\u001b[0m                                 Traceback (most recent call last)",
      "Cell \u001b[1;32mIn[129], line 1\u001b[0m\n\u001b[1;32m----> 1\u001b[0m \u001b[43mcompl\u001b[49m\u001b[38;5;241;43m.\u001b[39;49m\u001b[43msort\u001b[49m\u001b[43m(\u001b[49m\u001b[43m)\u001b[49m\n",
      "\u001b[1;31mTypeError\u001b[0m: '<' not supported between instances of 'int' and 'str'"
     ]
    }
   ],
   "source": [
    "compl.sort()\n",
    "# sort operation only works when a list has similar data types"
   ]
  },
  {
   "cell_type": "code",
   "execution_count": null,
   "id": "ba309f07",
   "metadata": {},
   "outputs": [],
   "source": []
  }
 ],
 "metadata": {
  "kernelspec": {
   "display_name": "Python 3",
   "language": "python",
   "name": "python3"
  },
  "language_info": {
   "codemirror_mode": {
    "name": "ipython",
    "version": 3
   },
   "file_extension": ".py",
   "mimetype": "text/x-python",
   "name": "python",
   "nbconvert_exporter": "python",
   "pygments_lexer": "ipython3",
   "version": "3.13.7"
  }
 },
 "nbformat": 4,
 "nbformat_minor": 5
}
