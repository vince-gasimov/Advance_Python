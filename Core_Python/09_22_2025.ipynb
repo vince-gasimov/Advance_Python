{
 "cells": [
  {
   "cell_type": "code",
   "execution_count": 22,
   "id": "03030b23",
   "metadata": {},
   "outputs": [
    {
     "name": "stdout",
     "output_type": "stream",
     "text": [
      "Baku 10 - VG - 1001\n"
     ]
    }
   ],
   "source": [
    "city = 'Baku'\n",
    "plateNum = '10 - VG - 1001'\n",
    "print(city + ' ' + plateNum)"
   ]
  },
  {
   "cell_type": "code",
   "execution_count": 17,
   "id": "5f806b32",
   "metadata": {},
   "outputs": [
    {
     "name": "stdout",
     "output_type": "stream",
     "text": [
      "dsfnknsadf'\n"
     ]
    }
   ],
   "source": [
    "print(\"dsfnknsadf'\")"
   ]
  },
  {
   "cell_type": "code",
   "execution_count": 18,
   "id": "5389e4ca",
   "metadata": {},
   "outputs": [
    {
     "name": "stdout",
     "output_type": "stream",
     "text": [
      " hello\n",
      "      world\n",
      "      new\n",
      "      line \n"
     ]
    }
   ],
   "source": [
    "print(\"\"\" hello\n",
    "      world\n",
    "      new\n",
    "      line \"\"\")"
   ]
  },
  {
   "cell_type": "code",
   "execution_count": 19,
   "id": "388e5959",
   "metadata": {},
   "outputs": [],
   "source": [
    "# ' -> single quotes\n",
    "# \" -> double quotes\n",
    "# / -> slash\n",
    "# : -> colon\n",
    "# ; -> semi colon\n",
    "# - -> dash\n",
    "# -> use ''' or \"\"\"\" \n",
    "# Heading 1\n",
    "\n",
    "\n",
    "# Heading 1\n",
    "## Heading 2\n",
    "### Heading 3\n",
    "#### Heading 4\n",
    "##### Heading 5\n",
    "###### Heading 6"
   ]
  },
  {
   "cell_type": "code",
   "execution_count": 10,
   "id": "38917373",
   "metadata": {},
   "outputs": [
    {
     "name": "stdout",
     "output_type": "stream",
     "text": [
      " hello\n",
      "      world\n",
      "      new\n",
      "      line \n"
     ]
    }
   ],
   "source": [
    "print(''' hello\n",
    "      world\n",
    "      new\n",
    "      line ''')"
   ]
  },
  {
   "cell_type": "code",
   "execution_count": 8,
   "id": "c290a0b9",
   "metadata": {},
   "outputs": [
    {
     "ename": "_IncompleteInputError",
     "evalue": "incomplete input (3902156870.py, line 1)",
     "output_type": "error",
     "traceback": [
      "  \u001b[36mCell\u001b[39m\u001b[36m \u001b[39m\u001b[32mIn[8]\u001b[39m\u001b[32m, line 1\u001b[39m\n\u001b[31m    \u001b[39m\u001b[31mprint(''#error\u001b[39m\n                  ^\n\u001b[31m_IncompleteInputError\u001b[39m\u001b[31m:\u001b[39m incomplete input\n"
     ]
    }
   ],
   "source": [
    "print(''#error"
   ]
  },
  {
   "cell_type": "code",
   "execution_count": 3,
   "id": "60f6ef6c",
   "metadata": {},
   "outputs": [
    {
     "name": "stdout",
     "output_type": "stream",
     "text": [
      "Hello World\n"
     ]
    }
   ],
   "source": [
    "print('Hello World')"
   ]
  },
  {
   "cell_type": "code",
   "execution_count": 2,
   "id": "e1c62972",
   "metadata": {},
   "outputs": [
    {
     "data": {
      "text/plain": [
       "9"
      ]
     },
     "execution_count": 2,
     "metadata": {},
     "output_type": "execute_result"
    }
   ],
   "source": [
    "4 + 5"
   ]
  },
  {
   "cell_type": "code",
   "execution_count": 1,
   "id": "6257fe60",
   "metadata": {},
   "outputs": [
    {
     "data": {
      "text/plain": [
       "9"
      ]
     },
     "execution_count": 1,
     "metadata": {},
     "output_type": "execute_result"
    }
   ],
   "source": [
    "4+5"
   ]
  }
 ],
 "metadata": {
  "kernelspec": {
   "display_name": "Python 3",
   "language": "python",
   "name": "python3"
  },
  "language_info": {
   "codemirror_mode": {
    "name": "ipython",
    "version": 3
   },
   "file_extension": ".py",
   "mimetype": "text/x-python",
   "name": "python",
   "nbconvert_exporter": "python",
   "pygments_lexer": "ipython3",
   "version": "3.13.7"
  }
 },
 "nbformat": 4,
 "nbformat_minor": 5
}
