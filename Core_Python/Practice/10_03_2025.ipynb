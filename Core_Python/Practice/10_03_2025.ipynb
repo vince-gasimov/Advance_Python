{
 "cells": [
  {
   "cell_type": "markdown",
   "id": "71545f92",
   "metadata": {},
   "source": [
    "### Question 1. Calculate the area of a triangle with a base length of 5 cm and a height of 10 cm."
   ]
  },
  {
   "cell_type": "code",
   "execution_count": 3,
   "id": "a8e23fdd",
   "metadata": {},
   "outputs": [
    {
     "name": "stdout",
     "output_type": "stream",
     "text": [
      "The base is 5 and hight is 10. Are of triangle is 25.0\n"
     ]
    }
   ],
   "source": [
    "base = 5\n",
    "hight = 10\n",
    "area = (base*hight)/2\n",
    "print(f'The base is {base} and hight is {hight}. Are of triangle is {area}')\n"
   ]
  },
  {
   "cell_type": "markdown",
   "id": "325c95ef",
   "metadata": {},
   "source": [
    "### Question 2. Shopping Invoice Calculation:\n",
    "- Get the product prices and quantities from the user and calculate the total amount."
   ]
  },
  {
   "cell_type": "code",
   "execution_count": null,
   "id": "cca302cb",
   "metadata": {},
   "outputs": [
    {
     "name": "stdout",
     "output_type": "stream",
     "text": [
      "Total amount of the purchase would be $92\n"
     ]
    }
   ],
   "source": [
    "price = float(input(\"Please enter the price of an item\"))\n",
    "quantity = int(input(\"Please enter the quantity of an item\"))\n",
    "total_price = price * quantity\n",
    "print(f'Total amount of the purchase would be ${total_price}')"
   ]
  },
  {
   "cell_type": "markdown",
   "id": "de92dda4",
   "metadata": {},
   "source": [
    "### Question 3:\n",
    "  A university assigns students a 12-digit student number. The first 4 digits represent the year of admission,\n",
    " the 5th and 6th digits represent the faculty number, the 7th and 8th digits represent the department number,\n",
    " the 9th and 10th digits represent the study number, and the 11th and 12th digits represent the student’s admission order.\n",
    "  Write a program that takes the 12-digit student code from the user, separates it into meaningful parts, and displays the result."
   ]
  },
  {
   "cell_type": "code",
   "execution_count": 10,
   "id": "bae37b83",
   "metadata": {},
   "outputs": [
    {
     "name": "stdout",
     "output_type": "stream",
     "text": [
      "Student information are: \n",
      "    Year of admission: 2025\n",
      "    Faculty Numver: 87\n",
      "    Depatment Number: 42\n",
      "    Study Number: 19\n",
      "    Student Admission Order: 40\n"
     ]
    }
   ],
   "source": [
    "student_id = str(input('Please enter the Student ID'))\n",
    "year_of_admission = student_id[0:4]\n",
    "faculty_num = student_id[4:6]\n",
    "department_num = student_id[6:8]\n",
    "study_num = student_id[8:10]\n",
    "student_admission_order = student_id[10:12]\n",
    "print(f'''Student information are: \n",
    "    Year of admission: {year_of_admission}\n",
    "    Faculty Numver: {faculty_num}\n",
    "    Depatment Number: {department_num}\n",
    "    Study Number: {study_num}\n",
    "    Student Admission Order: {student_admission_order}''')"
   ]
  },
  {
   "cell_type": "code",
   "execution_count": 9,
   "id": "eaef1699",
   "metadata": {},
   "outputs": [
    {
     "name": "stdout",
     "output_type": "stream",
     "text": [
      "Student ID that is assigned for the student is 202532431243\n"
     ]
    }
   ],
   "source": [
    "year_of_admission = str(input(\"Please enter the 4 digit year of the admission\"))\n",
    "faculty_num = str(input(\"Please enter the 2 digit faculty number\"))\n",
    "department_num = str(input('Please enter the 2 digit department number'))\n",
    "study_num = str(input('Please enter the 2 digit study number'))\n",
    "student_admission_order = str(input('Please enter the sudent admission order'))\n",
    "student_id = str(year_of_admission + faculty_num + department_num + study_num + student_admission_order)\n",
    "print(f'Student ID that is assigned for the student is {student_id}')"
   ]
  },
  {
   "cell_type": "markdown",
   "id": "5095b517",
   "metadata": {},
   "source": [
    "### Question 4: Text Message Analysis\n",
    "\n",
    "Problem Statement: Create a text message analysis application. The user will provide a text message as input,\n",
    "and the application should determine the number of words, sentences, and characters in the message.\n",
    "\n",
    "Task: By analyzing the text message provided by the user, provide the following information:\n",
    "- Total word count\n",
    "- Total sentence count\n",
    "- Total character count"
   ]
  },
  {
   "cell_type": "code",
   "execution_count": null,
   "id": "871da8ae",
   "metadata": {},
   "outputs": [
    {
     "name": "stdout",
     "output_type": "stream",
     "text": [
      "You have enteret sdfasd sadf sadf. sdfkj sdfs. oijwqe sdnfjksa ininweqf. text, which has 8 words and 3 sentences and 55 characters\n"
     ]
    }
   ],
   "source": [
    "user_text = str(input('Please enter the text'))\n",
    "word_count = int(user_text.count(' ') + 1)\n",
    "sentence_count = int(user_text.count('.') + user_text.count('!') + user_text.count('?'))\n",
    "char_count = int(len(user_text))\n",
    "print(f'You have enteret {user_text} text, which has {word_count} words and {sentence_count} sentences and {char_count} characters')"
   ]
  },
  {
   "cell_type": "markdown",
   "id": "d7946753",
   "metadata": {},
   "source": [
    "### Question 5. Palindrome Checker\n",
    "\n",
    "Problem Statement: Create a palindrome checker application. The user will input a word or a sentence, and the application should check whether the input is a palindrome or not.\n",
    "\n",
    "Task: Take the user’s input and determine whether it is a palindrome. A palindrome is a word or sentence that reads the same\n",
    "forwards and backwards."
   ]
  },
  {
   "cell_type": "code",
   "execution_count": 17,
   "id": "76726830",
   "metadata": {},
   "outputs": [
    {
     "name": "stdout",
     "output_type": "stream",
     "text": [
      "sdafasasdfds is not a Palindrome\n"
     ]
    }
   ],
   "source": [
    "user_input = str(input('Please enter the word to check whether or not its Palindrome'))\n",
    "\n",
    "if user_input[::] == user_input[::-1]:\n",
    "    print(f'{user_input} is a Palindrome')\n",
    "else:\n",
    "    print(f'{user_input} is not a Palindrome')"
   ]
  },
  {
   "cell_type": "markdown",
   "id": "a87ceb05",
   "metadata": {},
   "source": [
    "### Question 6. String Transformation\n",
    "\n",
    "Problem Statement: Write a program that transforms a string in different ways.\n",
    "The user should see the transformed string by providing an input string and selecting a transformation type.\n",
    "\n",
    "Task: Transform the input string provided by the user according to the chosen transformation type.\n",
    "Transformation types may include converting to uppercase, converting to lowercase, capitalizing the first letters, and reversing the string."
   ]
  },
  {
   "cell_type": "code",
   "execution_count": 19,
   "id": "390e33ff",
   "metadata": {},
   "outputs": [
    {
     "name": "stdout",
     "output_type": "stream",
     "text": [
      "Rever of the I am very happy is yppah yrev ma I\n"
     ]
    }
   ],
   "source": [
    "transform_str = str(input('Please enter a word'))\n",
    "transformation_type = str(input('''Please enter the one of the following transformation type:\n",
    "                                uppercase, lowercase, capitalize, reverse'''))\n",
    "\n",
    "if transformation_type == 'uppercase':\n",
    "    print(f'Uppser case of {transform_str} is ' + transform_str.upper())\n",
    "elif transformation_type == 'lowercase':\n",
    "    print(f'Lowercase case of {transform_str} is ' + transform_str.lower())\n",
    "elif transformation_type == 'capitalize':\n",
    "    print(f'Capitalizing the first letters of {transform_str} is ' + transform_str.capitalize())\n",
    "elif transformation_type == 'reverse':\n",
    "    print(f'Rever of the {transform_str} is ' + transform_str[::-1])\n",
    "else:\n",
    "    print(f'''{transformation_type} is not a valid transformation type. Please enter the one of the following transformation type:\n",
    "                                uppercase, lowercase, capitalize, reverse''')"
   ]
  },
  {
   "cell_type": "markdown",
   "id": "83d4b1b0",
   "metadata": {},
   "source": [
    "### Question 7. Email Validation\n",
    "\n",
    "Problem Statement: Write a program that checks the validity of an email address entered by a user.\n",
    "\n",
    "Task: Take an email address from the user and verify whether it is a valid address. A valid email address typically consists of a username, the \"@\" symbol, a domain name, and a top-level domain (e.g., \"example@example.com\"). The program should inform the user whether the email address is valid or not."
   ]
  },
  {
   "cell_type": "code",
   "execution_count": 21,
   "id": "b74ab87b",
   "metadata": {},
   "outputs": [
    {
     "name": "stdout",
     "output_type": "stream",
     "text": [
      "Email address is not valid.\n"
     ]
    }
   ],
   "source": [
    "user_email = str(input('Please enter your email address'))\n",
    "\n",
    "\n",
    "if user_email.count('@') > 1 :\n",
    "    print ('Email address is not valid.')\n",
    "elif user_email.count('@') <= 0:\n",
    "    print('Email address is not valid')\n",
    "elif user_email.endswith('.com'):\n",
    "    print('Email address is valid')"
   ]
  },
  {
   "cell_type": "markdown",
   "id": "c674cc37",
   "metadata": {},
   "source": [
    "### Question 8. Movie List\n",
    "\n",
    "Scenario: A cinema wants to track the genres and showtimes of the movies currently being screened.\n",
    "\n",
    " Instructions:\n",
    " Create a dictionary as follows:\n",
    " film_listesi = {\n",
    "     \"Inception\": {\"tur\": \"Science Fiction\", \"seans_saati\": \"15:00\"},\n",
    "     \"The Godfather\": {\"tur\": \"Drama\", \"seans_saati\": \"18:00\"},\n",
    "     \"Pulp Fiction\": {\"tur\": \"Crime\", \"seans_saati\": \"21:00\"} }\n",
    "\n",
    " Add a new movie called \"Interstellar\" with the genre \"Science Fiction\" and showtime \"17:00\".\n",
    " Update the showtime of \"Inception\" to \"16:00\".\n",
    " Remove the movie \"The Godfather\" from the dictionary.\n",
    " Print the updated movie list."
   ]
  },
  {
   "cell_type": "code",
   "execution_count": 23,
   "id": "de86054e",
   "metadata": {},
   "outputs": [
    {
     "data": {
      "text/plain": [
       "{'Inception': {'tur': 'Science Fiction', 'seans_saati': '15:00'},\n",
       " 'The Godfather': {'tur': 'Drama', 'seans_saati': '18:00'},\n",
       " 'Pulp Fiction': {'tur': 'Crime', 'seans_saati': '21:00'},\n",
       " 'Interstellar': {'tur': 'Science Fiction', 'seans_saati': '17:00'}}"
      ]
     },
     "execution_count": 23,
     "metadata": {},
     "output_type": "execute_result"
    }
   ],
   "source": [
    "film_listesi = {\n",
    "     \"Inception\": {\"tur\": \"Science Fiction\", \"seans_saati\": \"15:00\"},\n",
    "     \"The Godfather\": {\"tur\": \"Drama\", \"seans_saati\": \"18:00\"},\n",
    "     \"Pulp Fiction\": {\"tur\": \"Crime\", \"seans_saati\": \"21:00\"} }\n",
    "\n",
    "updated_film_listesi = {\n",
    "     'Interstellar': {\"tur\": \"Science Fiction\", \"seans_saati\": \"17:00\"},\n",
    "     'Inception': {\"tur\": \"Science Fiction\", \"seans_saati\": \"15:00\"}}\n",
    "\n",
    "film_listesi.update(updated_film_listesi)\n",
    "film_listesi"
   ]
  },
  {
   "cell_type": "markdown",
   "id": "3940cf58",
   "metadata": {},
   "source": [
    "### Question 9. Managing Customer Orders\n",
    " Problem Statement:\n",
    " You are working in a café and need to keep track of customer orders in an organized way.\n",
    "\n",
    "  Each order should include the customer's name, the ordered product, and the product's price.\n",
    "\n",
    " Scenario:\n",
    "\n",
    " A customer orders three different products: coffee, sandwich, and cake. Each product has a different price.\n",
    " You want to store this information and calculate the customer's total bill.\n",
    "\n",
    " Instructions:\n",
    "   - First, create a Python dictionary containing the customer's name, the ordered products, and their prices.\n",
    "   - Then, use this information to calculate the customer's total bill and print it."
   ]
  },
  {
   "cell_type": "code",
   "execution_count": 31,
   "id": "2b662965",
   "metadata": {},
   "outputs": [
    {
     "name": "stdout",
     "output_type": "stream",
     "text": [
      "Total spending of the customer name Vusal is 7.86\n"
     ]
    }
   ],
   "source": [
    "customer_data = {\n",
    "    \"customer_1\": {'name': 'Vusal', 'order': {'Cofee': 4.32, 'Tea': 3.54}},\n",
    "    \"customer_2\": {'Cake': 5.23, 'Coffee': 3.58, \"Sandwich\": 9.65},\n",
    "    \"Gale\": {'Cofee': 8.32, 'Latte': 5.99},\n",
    "    \"Abel\": {'Iced Team': 5.93, 'Tea': 6.29},\n",
    "}\n",
    "\n",
    "customer_1_name = customer_data['customer_1']['name']\n",
    "customer_1_total_price = float(customer_data['customer_1']['order']['Cofee'] + customer_data['customer_1']['order']['Tea'])\n",
    "\n",
    "\n",
    "print(f'Total spending of the customer name {customer_1_name} is {customer_1_total_price}')"
   ]
  },
  {
   "cell_type": "markdown",
   "id": "6654a0a0",
   "metadata": {},
   "source": []
  }
 ],
 "metadata": {
  "kernelspec": {
   "display_name": "Python 3",
   "language": "python",
   "name": "python3"
  },
  "language_info": {
   "codemirror_mode": {
    "name": "ipython",
    "version": 3
   },
   "file_extension": ".py",
   "mimetype": "text/x-python",
   "name": "python",
   "nbconvert_exporter": "python",
   "pygments_lexer": "ipython3",
   "version": "3.13.7"
  }
 },
 "nbformat": 4,
 "nbformat_minor": 5
}
