{
 "cells": [
  {
   "cell_type": "code",
   "execution_count": 1,
   "id": "e490801c",
   "metadata": {},
   "outputs": [
    {
     "name": "stdout",
     "output_type": "stream",
     "text": [
      "Subject: Math and the Grade is : A\n"
     ]
    }
   ],
   "source": [
    "subject = \"Math\"\n",
    "grade = \"A\"\n",
    "print(f'Subject: {subject} and the Grade is : {grade}')"
   ]
  },
  {
   "cell_type": "code",
   "execution_count": null,
   "id": "db2af499",
   "metadata": {},
   "outputs": [
    {
     "data": {
      "text/plain": [
       "5.0"
      ]
     },
     "execution_count": 3,
     "metadata": {},
     "output_type": "execute_result"
    }
   ],
   "source": [
    "y = True\n",
    "5/float(y)\n",
    "# 5/1.0\n",
    "# the result of every division operation is always in float data type"
   ]
  },
  {
   "cell_type": "code",
   "execution_count": 4,
   "id": "86c7f382",
   "metadata": {},
   "outputs": [
    {
     "data": {
      "text/plain": [
       "5"
      ]
     },
     "execution_count": 4,
     "metadata": {},
     "output_type": "execute_result"
    }
   ],
   "source": [
    "int(5/float(y))"
   ]
  },
  {
   "cell_type": "code",
   "execution_count": null,
   "id": "84503050",
   "metadata": {},
   "outputs": [
    {
     "ename": "ValueError",
     "evalue": "invalid literal for int() with base 10: '6.7'",
     "output_type": "error",
     "traceback": [
      "\u001b[31m---------------------------------------------------------------------------\u001b[39m",
      "\u001b[31mValueError\u001b[39m                                Traceback (most recent call last)",
      "\u001b[36mCell\u001b[39m\u001b[36m \u001b[39m\u001b[32mIn[5]\u001b[39m\u001b[32m, line 2\u001b[39m\n\u001b[32m      1\u001b[39m z = \u001b[33m'\u001b[39m\u001b[33m6.7\u001b[39m\u001b[33m'\u001b[39m\n\u001b[32m----> \u001b[39m\u001b[32m2\u001b[39m result = \u001b[38;5;28;43mint\u001b[39;49m\u001b[43m(\u001b[49m\u001b[43mz\u001b[49m\u001b[43m)\u001b[49m + \u001b[38;5;28mfloat\u001b[39m(\u001b[38;5;28;01mFalse\u001b[39;00m)\n",
      "\u001b[31mValueError\u001b[39m: invalid literal for int() with base 10: '6.7'"
     ]
    }
   ],
   "source": [
    "z = '6.7'\n",
    "result = int(z) + float(False)\n",
    "# error, you cannot convert '6.7' to int\n",
    "# because its float\n",
    "# you can convert String to int it String only contains int"
   ]
  },
  {
   "cell_type": "code",
   "execution_count": 10,
   "id": "8e62226e",
   "metadata": {},
   "outputs": [
    {
     "name": "stdout",
     "output_type": "stream",
     "text": [
      "6.0\n"
     ]
    }
   ],
   "source": [
    "# you need to convert it float first\n",
    "result = int(float(z)) + float(False)\n",
    "print(result)"
   ]
  },
  {
   "cell_type": "code",
   "execution_count": 11,
   "id": "503fe58b",
   "metadata": {},
   "outputs": [
    {
     "name": "stdout",
     "output_type": "stream",
     "text": [
      "a-b-c$$$"
     ]
    }
   ],
   "source": [
    "print('a', 'b', \"\"\"c\"\"\", sep='-', end=\"$$$\")"
   ]
  },
  {
   "cell_type": "code",
   "execution_count": 12,
   "id": "480cc103",
   "metadata": {},
   "outputs": [
    {
     "name": "stdout",
     "output_type": "stream",
     "text": [
      "Yellow\n",
      "Brown Blue%Black."
     ]
    }
   ],
   "source": [
    "print(\"Yellow\", sep='---')\n",
    "print(\"Brown\", 'Blue', end=\"%\")\n",
    "print('Black', sep=\"colors\", end=\".\")"
   ]
  },
  {
   "cell_type": "code",
   "execution_count": 15,
   "id": "cadc0e9d",
   "metadata": {},
   "outputs": [
    {
     "name": "stdout",
     "output_type": "stream",
     "text": [
      "Hello''' /\\@#44 World\n"
     ]
    }
   ],
   "source": [
    "# r will treat the entire string as 1 string, will print whatever inside the string as it is\n",
    "print(r\"Hello''' /\\@#44 World\")"
   ]
  },
  {
   "cell_type": "code",
   "execution_count": null,
   "id": "bf6033f7",
   "metadata": {},
   "outputs": [
    {
     "data": {
      "text/plain": [
       "'ankara'"
      ]
     },
     "execution_count": 16,
     "metadata": {},
     "output_type": "execute_result"
    }
   ],
   "source": [
    "('ankara' or not 'Istanbul' and not 0 and not '') or not(True and 679 or '')\n",
    "# if the first operation is or, it will return the first truthy value which is \"Ankara\""
   ]
  },
  {
   "cell_type": "code",
   "execution_count": 17,
   "id": "f99153bb",
   "metadata": {},
   "outputs": [
    {
     "data": {
      "text/plain": [
       "'Hello'"
      ]
     },
     "execution_count": 17,
     "metadata": {},
     "output_type": "execute_result"
    }
   ],
   "source": [
    "not 0 and \"Hello\" or True and not 90 or \"Bye\" and False"
   ]
  },
  {
   "cell_type": "code",
   "execution_count": null,
   "id": "4558343f",
   "metadata": {},
   "outputs": [],
   "source": [
    "color = \"Magnet\"\n",
    "print(color)"
   ]
  },
  {
   "cell_type": "code",
   "execution_count": null,
   "id": "397a40d8",
   "metadata": {},
   "outputs": [
    {
     "data": {
      "text/plain": [
       "''"
      ]
     },
     "execution_count": 19,
     "metadata": {},
     "output_type": "execute_result"
    }
   ],
   "source": [
    "lecture = \"Python Programming\"\n",
    "lecture[-2:-8]\n",
    "# in slicing operations, if the step if not provided, it will take the default value which is 1"
   ]
  },
  {
   "cell_type": "code",
   "execution_count": null,
   "id": "a8087034",
   "metadata": {},
   "outputs": [],
   "source": []
  },
  {
   "cell_type": "code",
   "execution_count": 20,
   "id": "290cadbb",
   "metadata": {},
   "outputs": [
    {
     "data": {
      "text/plain": [
       "'TECHPRO'"
      ]
     },
     "execution_count": 20,
     "metadata": {},
     "output_type": "execute_result"
    }
   ],
   "source": [
    "'techpro'.upper()"
   ]
  },
  {
   "cell_type": "code",
   "execution_count": null,
   "id": "0848a98c",
   "metadata": {},
   "outputs": [
    {
     "data": {
      "text/plain": [
       "True"
      ]
     },
     "execution_count": 21,
     "metadata": {},
     "output_type": "execute_result"
    }
   ],
   "source": [
    "'hello123'.isalnum()\n",
    "# .isalnum() checkes is value has alphabethic and numeric value"
   ]
  },
  {
   "cell_type": "code",
   "execution_count": null,
   "id": "d3fb6b4f",
   "metadata": {},
   "outputs": [
    {
     "data": {
      "text/plain": [
       "False"
      ]
     },
     "execution_count": 22,
     "metadata": {},
     "output_type": "execute_result"
    }
   ],
   "source": [
    "'hello123@@'.isalnum()\n",
    "# it has alphabethic, numeric, and special char"
   ]
  },
  {
   "cell_type": "code",
   "execution_count": 23,
   "id": "99f32014",
   "metadata": {},
   "outputs": [
    {
     "data": {
      "text/plain": [
       "'hello deaR friends'"
      ]
     },
     "execution_count": 23,
     "metadata": {},
     "output_type": "execute_result"
    }
   ],
   "source": [
    "'hello dear friends'.replace('r', \"R\", 1)\n",
    "# number or count not the index or char you want to replace"
   ]
  },
  {
   "cell_type": "code",
   "execution_count": 24,
   "id": "3c6b0422",
   "metadata": {},
   "outputs": [
    {
     "data": {
      "text/plain": [
       "9"
      ]
     },
     "execution_count": 24,
     "metadata": {},
     "output_type": "execute_result"
    }
   ],
   "source": [
    "'hello dear friends'.find('r')\n",
    "#find the index"
   ]
  },
  {
   "cell_type": "code",
   "execution_count": null,
   "id": "15d79dea",
   "metadata": {},
   "outputs": [],
   "source": []
  }
 ],
 "metadata": {
  "kernelspec": {
   "display_name": "Python 3",
   "language": "python",
   "name": "python3"
  },
  "language_info": {
   "codemirror_mode": {
    "name": "ipython",
    "version": 3
   },
   "file_extension": ".py",
   "mimetype": "text/x-python",
   "name": "python",
   "nbconvert_exporter": "python",
   "pygments_lexer": "ipython3",
   "version": "3.13.7"
  }
 },
 "nbformat": 4,
 "nbformat_minor": 5
}
