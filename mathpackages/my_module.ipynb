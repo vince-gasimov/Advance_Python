{
 "cells": [
  {
   "cell_type": "code",
   "execution_count": 1,
   "id": "308fd37c",
   "metadata": {},
   "outputs": [],
   "source": [
    "import my_module"
   ]
  },
  {
   "cell_type": "code",
   "execution_count": 2,
   "id": "70bee6bf",
   "metadata": {},
   "outputs": [
    {
     "data": {
      "text/plain": [
       "2.7"
      ]
     },
     "execution_count": 2,
     "metadata": {},
     "output_type": "execute_result"
    }
   ],
   "source": [
    "my_module.e"
   ]
  },
  {
   "cell_type": "code",
   "execution_count": 3,
   "id": "9d3a1eda",
   "metadata": {},
   "outputs": [],
   "source": [
    "import random"
   ]
  },
  {
   "cell_type": "code",
   "execution_count": 5,
   "id": "1ee2a475",
   "metadata": {},
   "outputs": [],
   "source": [
    "# rock-paper-scessor game\n",
    "\n",
    "def rock_paper_scissor():\n",
    "    '''This function takes two inputs from player and computer\n",
    "    and returns the result of rock-paper-scissor game'''\n",
    "    pc_choise = ['rock', 'paper', 'scissor']\n",
    "    while True:\n",
    "        pc = pc_choise[random.randint(0, 2)]\n",
    "        user = input(\"Enter your choise (rock/paper/scissor) or 'q' to quit: \").lower()\n",
    "        if user == 'q':\n",
    "            print(\"Thanks for playing!\")\n",
    "            break\n",
    "        elif pc == user:\n",
    "            print(f\"Both players selected {user}. It's a tie!\")\n",
    "        elif (pc == 'rock' and user == 'scissor') or (pc == 'scissor' and user == 'paper') or (pc == 'paper' and user == 'rock'):\n",
    "            print(f\"You chose {user}, computer chose {pc}. You lose!\")\n",
    "        elif (user == 'rock' and pc == 'scissor') or (user == 'scissor' and pc == 'paper') or (user == 'paper' and pc == 'rock'):\n",
    "            print(f\"You chose {user}, computer chose {pc}. You win!\")\n",
    "        else:\n",
    "            print(\"Invalid input. Please try again.\")"
   ]
  },
  {
   "cell_type": "code",
   "execution_count": 6,
   "id": "887c8042",
   "metadata": {},
   "outputs": [
    {
     "name": "stdout",
     "output_type": "stream",
     "text": [
      "You chose rock, computer chose scissor. You win!\n",
      "Both players selected paper. It's a tie!\n",
      "You chose scissor, computer chose rock. You lose!\n",
      "Thanks for playing!\n"
     ]
    }
   ],
   "source": [
    "rock_paper_scissor()"
   ]
  },
  {
   "cell_type": "code",
   "execution_count": 1,
   "id": "feb77422",
   "metadata": {},
   "outputs": [],
   "source": [
    "import games"
   ]
  },
  {
   "cell_type": "code",
   "execution_count": 2,
   "id": "fd48c83f",
   "metadata": {},
   "outputs": [
    {
     "name": "stdout",
     "output_type": "stream",
     "text": [
      "You chose rock, computer chose paper. You lose!\n",
      "You chose paper, computer chose rock. You win!\n",
      "Both players selected scissor. It's a tie!\n",
      "Thanks for playing!\n"
     ]
    }
   ],
   "source": [
    "games.rock_paper_scissor()"
   ]
  },
  {
   "cell_type": "code",
   "execution_count": null,
   "id": "3360a957",
   "metadata": {},
   "outputs": [],
   "source": [
    "# we created or initialized two different packages with names:\n",
    "# mathpackages and Modules, both having multiple modules and jupyter nbs\n",
    "# right now we are in mathpackages"
   ]
  },
  {
   "cell_type": "code",
   "execution_count": 4,
   "id": "c2733a3c",
   "metadata": {},
   "outputs": [],
   "source": [
    "import games"
   ]
  },
  {
   "cell_type": "code",
   "execution_count": null,
   "id": "de0d83b9",
   "metadata": {},
   "outputs": [
    {
     "ename": "ModuleNotFoundError",
     "evalue": "No module named 'my_math'",
     "output_type": "error",
     "traceback": [
      "\u001b[31m---------------------------------------------------------------------------\u001b[39m",
      "\u001b[31mModuleNotFoundError\u001b[39m                       Traceback (most recent call last)",
      "\u001b[36mCell\u001b[39m\u001b[36m \u001b[39m\u001b[32mIn[5]\u001b[39m\u001b[32m, line 1\u001b[39m\n\u001b[32m----> \u001b[39m\u001b[32m1\u001b[39m \u001b[38;5;28;01mimport\u001b[39;00m\u001b[38;5;250m \u001b[39m\u001b[34;01mmy_math\u001b[39;00m\n",
      "\u001b[31mModuleNotFoundError\u001b[39m: No module named 'my_math'"
     ]
    }
   ],
   "source": [
    "import my_math\n",
    "# as my_math module is in another location, we are not able to import it directly"
   ]
  },
  {
   "cell_type": "code",
   "execution_count": null,
   "id": "d1735508",
   "metadata": {},
   "outputs": [
    {
     "data": {
      "text/plain": [
       "['/Library/Frameworks/Python.framework/Versions/3.13/lib/python313.zip',\n",
       " '/Library/Frameworks/Python.framework/Versions/3.13/lib/python3.13',\n",
       " '/Library/Frameworks/Python.framework/Versions/3.13/lib/python3.13/lib-dynload',\n",
       " '',\n",
       " '/Users/VG/Library/Python/3.13/lib/python/site-packages',\n",
       " '/Library/Frameworks/Python.framework/Versions/3.13/lib/python3.13/site-packages']"
      ]
     },
     "execution_count": 6,
     "metadata": {},
     "output_type": "execute_result"
    }
   ],
   "source": [
    "import sys\n",
    "sys.path\n",
    "# /Library/Frameworks/Python.framework/Versions/3.13/lib/python3.13' is the library\n",
    "# if we add \"Modules\" module inside the library path, we can import it directly"
   ]
  },
  {
   "cell_type": "code",
   "execution_count": 3,
   "id": "e58f8adb",
   "metadata": {},
   "outputs": [
    {
     "ename": "ModuleNotFoundError",
     "evalue": "No module named 'useful_functions'",
     "output_type": "error",
     "traceback": [
      "\u001b[31m---------------------------------------------------------------------------\u001b[39m",
      "\u001b[31mModuleNotFoundError\u001b[39m                       Traceback (most recent call last)",
      "\u001b[36mCell\u001b[39m\u001b[36m \u001b[39m\u001b[32mIn[3]\u001b[39m\u001b[32m, line 2\u001b[39m\n\u001b[32m      1\u001b[39m \u001b[38;5;66;03m# after addding Modules to library path, we can import games module directly\u001b[39;00m\n\u001b[32m----> \u001b[39m\u001b[32m2\u001b[39m \u001b[38;5;28;01mimport\u001b[39;00m\u001b[38;5;250m \u001b[39m\u001b[34;01museful_functions\u001b[39;00m\n",
      "\u001b[31mModuleNotFoundError\u001b[39m: No module named 'useful_functions'"
     ]
    }
   ],
   "source": [
    "# after addding Modules to library path, we can import games module directly\n",
    "import useful_functions"
   ]
  },
  {
   "cell_type": "code",
   "execution_count": 2,
   "id": "295fef53",
   "metadata": {},
   "outputs": [
    {
     "ename": "AttributeError",
     "evalue": "module 'Modules' has no attribute 'useful_functions'",
     "output_type": "error",
     "traceback": [
      "\u001b[31m---------------------------------------------------------------------------\u001b[39m",
      "\u001b[31mAttributeError\u001b[39m                            Traceback (most recent call last)",
      "\u001b[36mCell\u001b[39m\u001b[36m \u001b[39m\u001b[32mIn[2]\u001b[39m\u001b[32m, line 1\u001b[39m\n\u001b[32m----> \u001b[39m\u001b[32m1\u001b[39m \u001b[43mModules\u001b[49m\u001b[43m.\u001b[49m\u001b[43museful_functions\u001b[49m.fibonacci(\u001b[32m10\u001b[39m)\n",
      "\u001b[31mAttributeError\u001b[39m: module 'Modules' has no attribute 'useful_functions'"
     ]
    }
   ],
   "source": [
    "Modules.useful_functions.fibonacci(10)"
   ]
  },
  {
   "cell_type": "code",
   "execution_count": null,
   "id": "886b1d35",
   "metadata": {},
   "outputs": [],
   "source": []
  }
 ],
 "metadata": {
  "kernelspec": {
   "display_name": "Python 3",
   "language": "python",
   "name": "python3"
  },
  "language_info": {
   "codemirror_mode": {
    "name": "ipython",
    "version": 3
   },
   "file_extension": ".py",
   "mimetype": "text/x-python",
   "name": "python",
   "nbconvert_exporter": "python",
   "pygments_lexer": "ipython3",
   "version": "3.13.7"
  }
 },
 "nbformat": 4,
 "nbformat_minor": 5
}
