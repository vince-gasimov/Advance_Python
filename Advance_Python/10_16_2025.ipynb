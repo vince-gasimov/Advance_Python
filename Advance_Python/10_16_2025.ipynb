{
 "cells": [
  {
   "cell_type": "code",
   "execution_count": 58,
   "id": "8f4428f6",
   "metadata": {},
   "outputs": [
    {
     "name": "stdout",
     "output_type": "stream",
     "text": [
      "techpro\n"
     ]
    }
   ],
   "source": [
    "print('techpro')"
   ]
  },
  {
   "cell_type": "code",
   "execution_count": 59,
   "id": "5948e95f",
   "metadata": {},
   "outputs": [
    {
     "name": "stdout",
     "output_type": "stream",
     "text": [
      "t e c h p r o\n"
     ]
    }
   ],
   "source": [
    "print(*'techpro')\n",
    "# whenever python sees * before an iterable and or a collection data, \n",
    "# it performs the operation of the function before it on the elements rather than entire data"
   ]
  },
  {
   "cell_type": "code",
   "execution_count": 60,
   "id": "49baac85",
   "metadata": {},
   "outputs": [
    {
     "name": "stdout",
     "output_type": "stream",
     "text": [
      "[1, 2, 3, 4]\n"
     ]
    }
   ],
   "source": [
    "print([1, 2, 3, 4])"
   ]
  },
  {
   "cell_type": "code",
   "execution_count": 61,
   "id": "3296b3fb",
   "metadata": {},
   "outputs": [
    {
     "name": "stdout",
     "output_type": "stream",
     "text": [
      "1 2 3 4\n"
     ]
    }
   ],
   "source": [
    "print(*[1, 2, 3, 4])"
   ]
  },
  {
   "cell_type": "code",
   "execution_count": 62,
   "id": "8ec3a3b4",
   "metadata": {},
   "outputs": [],
   "source": [
    "#a function that returns the iterable data in reverse order\n",
    "# by adding *, we can now add as many data as we want\n",
    "# python this that you will add tupple when * added\n",
    "def reverse_iterbale(*iterable_data):\n",
    "    return iterable_data[::-1]"
   ]
  },
  {
   "cell_type": "code",
   "execution_count": 63,
   "id": "bf20c5ca",
   "metadata": {},
   "outputs": [
    {
     "data": {
      "text/plain": [
       "('techpro',)"
      ]
     },
     "execution_count": 63,
     "metadata": {},
     "output_type": "execute_result"
    }
   ],
   "source": [
    "reverse_iterbale('techpro')"
   ]
  },
  {
   "cell_type": "code",
   "execution_count": 64,
   "id": "27465cbe",
   "metadata": {},
   "outputs": [
    {
     "data": {
      "text/plain": [
       "('vusal', 'hello')"
      ]
     },
     "execution_count": 64,
     "metadata": {},
     "output_type": "execute_result"
    }
   ],
   "source": [
    "reverse_iterbale('hello', 'vusal')\n",
    "# python this that you will add tupple when * added"
   ]
  },
  {
   "cell_type": "code",
   "execution_count": 65,
   "id": "3c699ec7",
   "metadata": {},
   "outputs": [
    {
     "data": {
      "text/plain": [
       "('fierro', 'vusal', 'hello')"
      ]
     },
     "execution_count": 65,
     "metadata": {},
     "output_type": "execute_result"
    }
   ],
   "source": [
    "('hello', 'vusal', 'fierro')[::-1]"
   ]
  },
  {
   "cell_type": "code",
   "execution_count": 66,
   "id": "ffb0fbe6",
   "metadata": {},
   "outputs": [
    {
     "data": {
      "text/plain": [
       "('o', 'r', 'p', 'h', 'c', 'e', 't')"
      ]
     },
     "execution_count": 66,
     "metadata": {},
     "output_type": "execute_result"
    }
   ],
   "source": [
    "# if you want to verse the element, you need to provide *\n",
    "reverse_iterbale(*'techpro')"
   ]
  },
  {
   "cell_type": "code",
   "execution_count": 67,
   "id": "2444448a",
   "metadata": {},
   "outputs": [
    {
     "data": {
      "text/plain": [
       "('l', 'a', 's', 'u', 'v', 'o', 'l', 'l', 'e', 'h')"
      ]
     },
     "execution_count": 67,
     "metadata": {},
     "output_type": "execute_result"
    }
   ],
   "source": [
    "reverse_iterbale(*'hello', *'vusal')"
   ]
  },
  {
   "cell_type": "code",
   "execution_count": 68,
   "id": "08f3acfc",
   "metadata": {},
   "outputs": [],
   "source": [
    "def reverse_iterbale_2(*iterable_data):\n",
    "    reverse_list = []\n",
    "    for i in iterable_data:\n",
    "        reverse_list.append(i[::-1])\n",
    "    return reverse_list"
   ]
  },
  {
   "cell_type": "code",
   "execution_count": 69,
   "id": "d4f6c630",
   "metadata": {},
   "outputs": [
    {
     "data": {
      "text/plain": [
       "['lasuV', 'riF', 'aliD']"
      ]
     },
     "execution_count": 69,
     "metadata": {},
     "output_type": "execute_result"
    }
   ],
   "source": [
    "reverse_iterbale_2('Vusal', 'Fir', 'Dila')"
   ]
  },
  {
   "cell_type": "code",
   "execution_count": null,
   "id": "748d9eb9",
   "metadata": {},
   "outputs": [
    {
     "ename": "TypeError",
     "evalue": "reverse_iterbale_2() got an unexpected keyword argument 'name1'",
     "output_type": "error",
     "traceback": [
      "\u001b[31m---------------------------------------------------------------------------\u001b[39m",
      "\u001b[31mTypeError\u001b[39m                                 Traceback (most recent call last)",
      "\u001b[36mCell\u001b[39m\u001b[36m \u001b[39m\u001b[32mIn[77]\u001b[39m\u001b[32m, line 1\u001b[39m\n\u001b[32m----> \u001b[39m\u001b[32m1\u001b[39m \u001b[43mreverse_iterbale_2\u001b[49m\u001b[43m(\u001b[49m\u001b[43mname1\u001b[49m\u001b[43m \u001b[49m\u001b[43m=\u001b[49m\u001b[43m \u001b[49m\u001b[33;43m'\u001b[39;49m\u001b[33;43mtech\u001b[39;49m\u001b[33;43m'\u001b[39;49m\u001b[43m,\u001b[49m\u001b[43m \u001b[49m\u001b[43mname2\u001b[49m\u001b[43m \u001b[49m\u001b[43m=\u001b[49m\u001b[43m \u001b[49m\u001b[33;43m'\u001b[39;49m\u001b[33;43mpro\u001b[39;49m\u001b[33;43m'\u001b[39;49m\u001b[43m,\u001b[49m\u001b[43m \u001b[49m\u001b[43mname3\u001b[49m\u001b[43m \u001b[49m\u001b[43m=\u001b[49m\u001b[43m \u001b[49m\u001b[33;43m'\u001b[39;49m\u001b[33;43med\u001b[39;49m\u001b[33;43m'\u001b[39;49m\u001b[43m)\u001b[49m\n",
      "\u001b[31mTypeError\u001b[39m: reverse_iterbale_2() got an unexpected keyword argument 'name1'"
     ]
    }
   ],
   "source": [
    "reverse_iterbale_2(name1 = 'tech', name2 = 'pro', name3 = 'ed')\n",
    "# it does not expect key and value"
   ]
  },
  {
   "cell_type": "markdown",
   "id": "1d39c14c",
   "metadata": {},
   "source": [
    "# **kwargs\n",
    "\n",
    "- argument with key word\n",
    "- input for the function must be keyword arguments"
   ]
  },
  {
   "cell_type": "code",
   "execution_count": 70,
   "id": "fbb13c88",
   "metadata": {},
   "outputs": [
    {
     "data": {
      "text/plain": [
       "{'name1': 'Vusal', 'name2': 'Dila', 'name3': 'Royal'}"
      ]
     },
     "execution_count": 70,
     "metadata": {},
     "output_type": "execute_result"
    }
   ],
   "source": [
    "dict_1 = {'name1': 'Vusal', 'name2': 'Dila', 'name3': 'Royal'}\n",
    "dict_1"
   ]
  },
  {
   "cell_type": "code",
   "execution_count": 71,
   "id": "56d71334",
   "metadata": {},
   "outputs": [
    {
     "name": "stdout",
     "output_type": "stream",
     "text": [
      "name1\n",
      "name2\n",
      "name3\n"
     ]
    }
   ],
   "source": [
    "for i in dict_1:\n",
    "    print (i)\n",
    "\n",
    "# whie iterating on a dictcionary using for loops, it will only select the key"
   ]
  },
  {
   "cell_type": "code",
   "execution_count": 72,
   "id": "8024c9df",
   "metadata": {},
   "outputs": [
    {
     "data": {
      "text/plain": [
       "dict_items([('name1', 'Vusal'), ('name2', 'Dila'), ('name3', 'Royal')])"
      ]
     },
     "execution_count": 72,
     "metadata": {},
     "output_type": "execute_result"
    }
   ],
   "source": [
    "dict_1.items()"
   ]
  },
  {
   "cell_type": "code",
   "execution_count": 73,
   "id": "a47e3bf1",
   "metadata": {},
   "outputs": [
    {
     "name": "stdout",
     "output_type": "stream",
     "text": [
      "('name1', 'Vusal')\n",
      "('name2', 'Dila')\n",
      "('name3', 'Royal')\n"
     ]
    }
   ],
   "source": [
    "for i in dict_1.items():\n",
    "    print (i)"
   ]
  },
  {
   "cell_type": "code",
   "execution_count": 74,
   "id": "53c2720e",
   "metadata": {},
   "outputs": [
    {
     "name": "stdout",
     "output_type": "stream",
     "text": [
      "name1 Vusal\n",
      "name2 Dila\n",
      "name3 Royal\n"
     ]
    }
   ],
   "source": [
    "for i, j in dict_1.items():\n",
    "    print (i, j)"
   ]
  },
  {
   "cell_type": "code",
   "execution_count": 75,
   "id": "4913f85a",
   "metadata": {},
   "outputs": [
    {
     "ename": "TypeError",
     "evalue": "dict expected at most 1 argument, got 2",
     "output_type": "error",
     "traceback": [
      "\u001b[31m---------------------------------------------------------------------------\u001b[39m",
      "\u001b[31mTypeError\u001b[39m                                 Traceback (most recent call last)",
      "\u001b[36mCell\u001b[39m\u001b[36m \u001b[39m\u001b[32mIn[75]\u001b[39m\u001b[32m, line 1\u001b[39m\n\u001b[32m----> \u001b[39m\u001b[32m1\u001b[39m \u001b[38;5;28;43mdict\u001b[39;49m\u001b[43m(\u001b[49m\u001b[33;43m'\u001b[39;49m\u001b[33;43mname1\u001b[39;49m\u001b[33;43m'\u001b[39;49m\u001b[43m,\u001b[49m\u001b[43m \u001b[49m\u001b[33;43m'\u001b[39;49m\u001b[33;43mname3\u001b[39;49m\u001b[33;43m'\u001b[39;49m\u001b[43m)\u001b[49m\n\u001b[32m      2\u001b[39m \u001b[38;5;66;03m# dic function does not expect any positional arguments\u001b[39;00m\n\u001b[32m      3\u001b[39m \u001b[38;5;66;03m# inpur for dict function has to be keyword arguments\u001b[39;00m\n",
      "\u001b[31mTypeError\u001b[39m: dict expected at most 1 argument, got 2"
     ]
    }
   ],
   "source": [
    "dict('name1', 'name3')\n",
    "# dic function does not expect any positional arguments\n",
    "# inpur for dict function has to be keyword arguments"
   ]
  },
  {
   "cell_type": "code",
   "execution_count": null,
   "id": "c1959fe8",
   "metadata": {},
   "outputs": [],
   "source": [
    "dict(name1 = 'name1')"
   ]
  },
  {
   "cell_type": "code",
   "execution_count": null,
   "id": "dacbd6df",
   "metadata": {},
   "outputs": [
    {
     "ename": "TypeError",
     "evalue": "'dict' object is not callable",
     "output_type": "error",
     "traceback": [
      "\u001b[31m---------------------------------------------------------------------------\u001b[39m",
      "\u001b[31mTypeError\u001b[39m                                 Traceback (most recent call last)",
      "\u001b[36mCell\u001b[39m\u001b[36m \u001b[39m\u001b[32mIn[46]\u001b[39m\u001b[32m, line 1\u001b[39m\n\u001b[32m----> \u001b[39m\u001b[32m1\u001b[39m \u001b[43mdict_1\u001b[49m\u001b[43m(\u001b[49m\u001b[43mname1\u001b[49m\u001b[43m \u001b[49m\u001b[43m=\u001b[49m\u001b[43m \u001b[49m\u001b[33;43m'\u001b[39;49m\u001b[33;43mtech\u001b[39;49m\u001b[33;43m'\u001b[39;49m\u001b[43m,\u001b[49m\u001b[43m \u001b[49m\u001b[43mname2\u001b[49m\u001b[43m \u001b[49m\u001b[43m=\u001b[49m\u001b[43m \u001b[49m\u001b[33;43m'\u001b[39;49m\u001b[33;43mpro\u001b[39;49m\u001b[33;43m'\u001b[39;49m\u001b[43m,\u001b[49m\u001b[43m \u001b[49m\u001b[43mname3\u001b[49m\u001b[43m \u001b[49m\u001b[43m=\u001b[49m\u001b[43m \u001b[49m\u001b[33;43m'\u001b[39;49m\u001b[33;43med\u001b[39;49m\u001b[33;43m'\u001b[39;49m\u001b[43m)\u001b[49m\n\u001b[32m      3\u001b[39m dict_1\n",
      "\u001b[31mTypeError\u001b[39m: 'dict' object is not callable"
     ]
    }
   ],
   "source": [
    "dict_1(name1 = 'tech', name2 = 'pro', name3 = 'ed')\n",
    "dict_2 = {'name1': 'tech', 'name2': 'pro', 'name3': 'ed'}\n",
    "dict_1"
   ]
  },
  {
   "cell_type": "code",
   "execution_count": null,
   "id": "2b125ebf",
   "metadata": {},
   "outputs": [],
   "source": [
    "############ adddd herre "
   ]
  },
  {
   "cell_type": "code",
   "execution_count": null,
   "id": "1916928b",
   "metadata": {},
   "outputs": [],
   "source": [
    "def kwfunction(**kw):\n",
    "    for i in kw:\n",
    "        print(i)"
   ]
  },
  {
   "cell_type": "code",
   "execution_count": null,
   "id": "6affaa0b",
   "metadata": {},
   "outputs": [
    {
     "name": "stdout",
     "output_type": "stream",
     "text": [
      "name1\n",
      "name2\n",
      "name3\n"
     ]
    }
   ],
   "source": [
    "kwfunction(name1 = 'tech', name2 = 'pro', name3 = 'ed')"
   ]
  },
  {
   "cell_type": "code",
   "execution_count": null,
   "id": "da4cbe2f",
   "metadata": {},
   "outputs": [],
   "source": [
    "def kwfunction_2(**kw):\n",
    "    for i, j in kw.items():\n",
    "        print(i, j)"
   ]
  },
  {
   "cell_type": "code",
   "execution_count": null,
   "id": "24a4a229",
   "metadata": {},
   "outputs": [
    {
     "name": "stdout",
     "output_type": "stream",
     "text": [
      "name1 tech\n",
      "name2 pro\n",
      "name3 ed\n"
     ]
    }
   ],
   "source": [
    "kwfunction_2(name1 = 'tech', name2 = 'pro', name3 = 'ed')"
   ]
  },
  {
   "cell_type": "code",
   "execution_count": 76,
   "id": "b190b2a6",
   "metadata": {},
   "outputs": [
    {
     "ename": "TypeError",
     "evalue": "kwfunction_2() takes 0 positional arguments but 3 were given",
     "output_type": "error",
     "traceback": [
      "\u001b[31m---------------------------------------------------------------------------\u001b[39m",
      "\u001b[31mTypeError\u001b[39m                                 Traceback (most recent call last)",
      "\u001b[36mCell\u001b[39m\u001b[36m \u001b[39m\u001b[32mIn[76]\u001b[39m\u001b[32m, line 1\u001b[39m\n\u001b[32m----> \u001b[39m\u001b[32m1\u001b[39m \u001b[43mkwfunction_2\u001b[49m\u001b[43m(\u001b[49m\u001b[33;43m'\u001b[39;49m\u001b[33;43mtech\u001b[39;49m\u001b[33;43m'\u001b[39;49m\u001b[43m,\u001b[49m\u001b[43m \u001b[49m\u001b[33;43m'\u001b[39;49m\u001b[33;43mpro\u001b[39;49m\u001b[33;43m'\u001b[39;49m\u001b[43m,\u001b[49m\u001b[43m \u001b[49m\u001b[33;43m'\u001b[39;49m\u001b[33;43med\u001b[39;49m\u001b[33;43m'\u001b[39;49m\u001b[43m)\u001b[49m\n",
      "\u001b[31mTypeError\u001b[39m: kwfunction_2() takes 0 positional arguments but 3 were given"
     ]
    }
   ],
   "source": [
    "kwfunction_2('tech', 'pro', 'ed')"
   ]
  },
  {
   "cell_type": "code",
   "execution_count": 81,
   "id": "9ef11974",
   "metadata": {},
   "outputs": [],
   "source": [
    "# define a function with **kwargs that takes the input in keyword arguments format\n",
    "# and add keys or keywords of these inputs to keyword list\n",
    "# and arguments or values of these inputs to values or arguments list\n",
    "\n",
    "def keyword_values(**dictionary):\n",
    "    key_list = []\n",
    "    val_list = []\n",
    "    for key, val in dictionary.items():\n",
    "        key_list.append(key)\n",
    "        val_list.append(val)\n",
    "    return f'key list: {key_list} and value list: {val_list}'"
   ]
  },
  {
   "cell_type": "code",
   "execution_count": 82,
   "id": "fbfb42ef",
   "metadata": {},
   "outputs": [
    {
     "data": {
      "text/plain": [
       "\"key list: ['name1', 'name2', 'name3'] and value list: ['tech', 'pro', 'ed']\""
      ]
     },
     "execution_count": 82,
     "metadata": {},
     "output_type": "execute_result"
    }
   ],
   "source": [
    "keyword_values(name1 = 'tech', name2 = 'pro', name3 = 'ed')"
   ]
  },
  {
   "cell_type": "code",
   "execution_count": 85,
   "id": "67bf59d6",
   "metadata": {},
   "outputs": [],
   "source": [
    "def keys (**dictionary):\n",
    "    key_list = []\n",
    "    for keys in dictionary.keys():\n",
    "        key_list.append(keys)\n",
    "    return key_list\n"
   ]
  },
  {
   "cell_type": "code",
   "execution_count": 86,
   "id": "9948ac90",
   "metadata": {},
   "outputs": [
    {
     "data": {
      "text/plain": [
       "['name1', 'name2', 'name3']"
      ]
     },
     "execution_count": 86,
     "metadata": {},
     "output_type": "execute_result"
    }
   ],
   "source": [
    "keys(name1 = 'tech', name2 = 'pro', name3 = 'ed')"
   ]
  },
  {
   "cell_type": "code",
   "execution_count": 89,
   "id": "c4244f76",
   "metadata": {},
   "outputs": [],
   "source": [
    "def value (**dictionary):\n",
    "    value_list = []\n",
    "    for value in dictionary.values():\n",
    "        value_list.append(value)\n",
    "    return value_list\n"
   ]
  },
  {
   "cell_type": "code",
   "execution_count": 90,
   "id": "ce5575cf",
   "metadata": {},
   "outputs": [
    {
     "data": {
      "text/plain": [
       "['tech', 'pro', 'ed']"
      ]
     },
     "execution_count": 90,
     "metadata": {},
     "output_type": "execute_result"
    }
   ],
   "source": [
    "value(name1 = 'tech', name2 = 'pro', name3 = 'ed')"
   ]
  },
  {
   "cell_type": "code",
   "execution_count": 91,
   "id": "f602e9b5",
   "metadata": {},
   "outputs": [],
   "source": [
    "# define a function using **kwargs that writes the argument or the value in reverse order and give it in list\n",
    "# argument = value\n",
    "# parameter = variable = key = keyword\n",
    "def reverse_str_kw(**string):\n",
    "    reverse_values = []\n",
    "    for key, val in string.items():\n",
    "        reverse_values.append(val[::-1])\n",
    "    return reverse_values"
   ]
  },
  {
   "cell_type": "code",
   "execution_count": 92,
   "id": "a57da140",
   "metadata": {},
   "outputs": [
    {
     "data": {
      "text/plain": [
       "['lasuV', 'tsitneicS ataD', 'nwonknu']"
      ]
     },
     "execution_count": 92,
     "metadata": {},
     "output_type": "execute_result"
    }
   ],
   "source": [
    "reverse_str_kw(name = 'Vusal', job = 'Data Scientist', age = \"unknown\")"
   ]
  },
  {
   "cell_type": "code",
   "execution_count": null,
   "id": "6fe7298e",
   "metadata": {},
   "outputs": [],
   "source": [
    "# define a function with **kwargs where the values or inputs are listsor tupples or other collection data types\n",
    "# and function calculates the length of each one of the collection data types which are given as arguments or values\n",
    "\n",
    "def collection_len(**kwargs):\n",
    "    for i in kwargs.values():\n",
    "        print(f'lenth of {i} is {len(i)}')\n",
    "        # return is only performs once\n",
    "        # if you use return instead of print, it will only run once and stop it\n",
    "        # return is used outside of loop\n",
    "        # return gives final result"
   ]
  },
  {
   "cell_type": "code",
   "execution_count": null,
   "id": "28c727da",
   "metadata": {},
   "outputs": [
    {
     "name": "stdout",
     "output_type": "stream",
     "text": [
      "lenth of [1, 2, 3, 4, 5] is 5\n",
      "lenth of ('hi', 'hello') is 2\n",
      "lenth of {0.0, 1, 'bye'} is 3\n"
     ]
    }
   ],
   "source": [
    "collection_len(one = [1, 2, 3, 4, 5], two = ('hi', 'hello'), three = {1, True, 0.0, 'bye'})\n",
    "# because \"three\"  is a set, it will select the unique element"
   ]
  },
  {
   "cell_type": "code",
   "execution_count": 100,
   "id": "48faa0bf",
   "metadata": {},
   "outputs": [],
   "source": [
    "# second way\n",
    "def collection_len_2(**kwargs):\n",
    "    return [f'the lenth of {i} is {len(i)}' for i in kwargs.values()]"
   ]
  },
  {
   "cell_type": "code",
   "execution_count": null,
   "id": "6e22292a",
   "metadata": {},
   "outputs": [
    {
     "name": "stdout",
     "output_type": "stream",
     "text": [
      "lenth of [1, 2, 3, 4, 5] is 5\n",
      "lenth of ('hi', 'hello') is 2\n",
      "lenth of {0.0, 1, 'bye'} is 3\n"
     ]
    }
   ],
   "source": [
    "collection_len(one = [1, 2, 3, 4, 5], two = ('hi', 'hello'), three = {1, True, 0.0, 'bye'})"
   ]
  }
 ],
 "metadata": {
  "kernelspec": {
   "display_name": "Python 3",
   "language": "python",
   "name": "python3"
  },
  "language_info": {
   "codemirror_mode": {
    "name": "ipython",
    "version": 3
   },
   "file_extension": ".py",
   "mimetype": "text/x-python",
   "name": "python",
   "nbconvert_exporter": "python",
   "pygments_lexer": "ipython3",
   "version": "3.13.7"
  }
 },
 "nbformat": 4,
 "nbformat_minor": 5
}
