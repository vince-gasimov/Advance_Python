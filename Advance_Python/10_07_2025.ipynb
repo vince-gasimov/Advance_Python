{
 "cells": [
  {
   "cell_type": "code",
   "execution_count": 4,
   "id": "8f2da0d4",
   "metadata": {},
   "outputs": [
    {
     "name": "stdout",
     "output_type": "stream",
     "text": [
      "You have entered vusal\n",
      "You have entered vusal\n",
      "You have entered vusal\n",
      "You have entered vusal\n",
      "You have entered vusal\n"
     ]
    }
   ],
   "source": [
    "# review\n",
    "# write a program using while loop, ask user for a name\n",
    "# keep printing the input and if the user provides the pey q, it should stop the loop\n",
    "user_input = input('Please enter your name')\n",
    "\n",
    "pass_key = 'q'\n",
    "x = 1\n",
    "\n",
    "while x > 0:\n",
    "    print(f'You have entered {user_input}')\n",
    "    stop_loop = input('Please enter the password to stop the loop')\n",
    "    if stop_loop == pass_key:\n",
    "        break"
   ]
  },
  {
   "cell_type": "code",
   "execution_count": null,
   "id": "2630e740",
   "metadata": {},
   "outputs": [],
   "source": [
    "# another way\n",
    "while True:\n",
    "    word = input(\"Please enter a wor\")\n",
    "    if word == 'q':\n",
    "        print(\"quiting program\")\n",
    "        break\n",
    "    print(f'the word you enteres is {word}')"
   ]
  },
  {
   "cell_type": "code",
   "execution_count": null,
   "id": "3e73a71b",
   "metadata": {},
   "outputs": [
    {
     "name": "stdout",
     "output_type": "stream",
     "text": [
      "You have guessed the bigger num. please guess smaller\n",
      "You have guessed the bigger num. please guess smaller\n",
      "You have guessed the bigger num. please guess smaller\n",
      "You have guessed the bigger num. please guess smaller\n",
      "quiting program\n"
     ]
    }
   ],
   "source": [
    "# write a program that asks user to provide a num\n",
    "# if the num is 0 it should break the loop\n",
    "# else it should print the num and mention whether this num is positive or nrgative\n",
    "\n",
    "while True:\n",
    "    num = int(input(\"Please enter a number\"))\n",
    "    if num == 0:\n",
    "        print(\"quiting program\")\n",
    "        break\n",
    "    elif num > 0:\n",
    "        print(\"You have guessed the bigger num. please guess smaller\")\n",
    "    elif num > 0:\n",
    "        print(\"You have guessed the smaller num. please guess bigger\")\n",
    "    else:\n",
    "        print(\"Please enter a num\")"
   ]
  },
  {
   "cell_type": "code",
   "execution_count": 12,
   "id": "bb74c802",
   "metadata": {},
   "outputs": [
    {
     "name": "stdout",
     "output_type": "stream",
     "text": [
      "[81, 64, 4, 16]\n",
      "[4, 6, 12, 46, 130, 46, 130]\n"
     ]
    }
   ],
   "source": [
    "# using while loops, iterate on elements of the following number list\n",
    "# write prgram that adds square of negative numer to empty list\n",
    "# and twice of the positive numer to an empty list\n",
    "number = [2, 3, 6, -9, -8, 23, 65, -2, -4, 23, 65]\n",
    "negative_list = []\n",
    "positive_list = []\n",
    "index = 0\n",
    "\n",
    "while index < len(number):\n",
    "    if number[index] > 0:\n",
    "        positive_list.append(number[index] * 2)\n",
    "    else:\n",
    "        negative_list.append(number[index] ** 2)\n",
    "    index += 1\n",
    "\n",
    "print(negative_list)\n",
    "print(positive_list)\n"
   ]
  },
  {
   "cell_type": "markdown",
   "id": "d6871351",
   "metadata": {},
   "source": [
    "# Randon Module"
   ]
  },
  {
   "cell_type": "code",
   "execution_count": 13,
   "id": "192f100f",
   "metadata": {},
   "outputs": [],
   "source": [
    "import random\n",
    "# we must import this package to use its functions"
   ]
  },
  {
   "cell_type": "code",
   "execution_count": 14,
   "id": "7b143924",
   "metadata": {},
   "outputs": [
    {
     "data": {
      "text/plain": [
       "0.7628394168233142"
      ]
     },
     "execution_count": 14,
     "metadata": {},
     "output_type": "execute_result"
    }
   ],
   "source": [
    "random.random()\n",
    "# will give a randon number between 0 and 1"
   ]
  },
  {
   "cell_type": "code",
   "execution_count": 15,
   "id": "fced01eb",
   "metadata": {},
   "outputs": [
    {
     "data": {
      "text/plain": [
       "3"
      ]
     },
     "execution_count": 15,
     "metadata": {},
     "output_type": "execute_result"
    }
   ],
   "source": [
    "random.randint(2, 9)\n",
    "# randonmly give int between both end point, 2 and 9 (both included)"
   ]
  },
  {
   "cell_type": "code",
   "execution_count": 16,
   "id": "561052bb",
   "metadata": {},
   "outputs": [
    {
     "data": {
      "text/plain": [
       "81.22390336140643"
      ]
     },
     "execution_count": 16,
     "metadata": {},
     "output_type": "execute_result"
    }
   ],
   "source": [
    "random.random() * 100\n",
    "# by multpying the number with 100, I can get a higher number"
   ]
  },
  {
   "cell_type": "code",
   "execution_count": 21,
   "id": "db1d7145",
   "metadata": {},
   "outputs": [
    {
     "data": {
      "text/plain": [
       "73"
      ]
     },
     "execution_count": 21,
     "metadata": {},
     "output_type": "execute_result"
    }
   ],
   "source": [
    "int(random.random() * 100)\n",
    "# convert to int to get randon int"
   ]
  },
  {
   "cell_type": "code",
   "execution_count": 23,
   "id": "1515a803",
   "metadata": {},
   "outputs": [
    {
     "data": {
      "text/plain": [
       "[97234, 1]"
      ]
     },
     "execution_count": 23,
     "metadata": {},
     "output_type": "execute_result"
    }
   ],
   "source": [
    "random.sample([1, 234, 432, 97234, 12381], 2)\n",
    "# it will select two number from given population which is a list of number"
   ]
  },
  {
   "cell_type": "code",
   "execution_count": 25,
   "id": "5035ab02",
   "metadata": {},
   "outputs": [
    {
     "data": {
      "text/plain": [
       "['hello', 97234]"
      ]
     },
     "execution_count": 25,
     "metadata": {},
     "output_type": "execute_result"
    }
   ],
   "source": [
    "random.sample([1, True, 432, 97234, \"hello\"], 2)"
   ]
  },
  {
   "cell_type": "code",
   "execution_count": 26,
   "id": "7b48fd81",
   "metadata": {},
   "outputs": [
    {
     "data": {
      "text/plain": [
       "[1, 2, 3, 4, 5, 6, 7, 8, 9, 10]"
      ]
     },
     "execution_count": 26,
     "metadata": {},
     "output_type": "execute_result"
    }
   ],
   "source": [
    "list(range(1, 11))\n",
    "# we need functions like list and tuple to open the elements"
   ]
  },
  {
   "cell_type": "code",
   "execution_count": 38,
   "id": "dcf5c769",
   "metadata": {},
   "outputs": [
    {
     "data": {
      "text/plain": [
       "[19, 13, 90]"
      ]
     },
     "execution_count": 38,
     "metadata": {},
     "output_type": "execute_result"
    }
   ],
   "source": [
    "random.sample(range(1, 100), 3)"
   ]
  },
  {
   "cell_type": "code",
   "execution_count": 39,
   "id": "0905077d",
   "metadata": {},
   "outputs": [
    {
     "data": {
      "text/plain": [
       "0.6394267984578837"
      ]
     },
     "execution_count": 39,
     "metadata": {},
     "output_type": "execute_result"
    }
   ],
   "source": [
    "random.seed(42)\n",
    "# it is like a radio frequency, if we set the seed value as same number\n",
    "# we will get same results\n",
    "# if all of us get same number, we need to set the same seed nummber\n",
    "random.random()"
   ]
  },
  {
   "cell_type": "code",
   "execution_count": 44,
   "id": "1f204b62",
   "metadata": {},
   "outputs": [
    {
     "data": {
      "text/plain": [
       "3"
      ]
     },
     "execution_count": 44,
     "metadata": {},
     "output_type": "execute_result"
    }
   ],
   "source": [
    "random.randint(1, 11)"
   ]
  },
  {
   "cell_type": "code",
   "execution_count": null,
   "id": "5df007bf",
   "metadata": {},
   "outputs": [
    {
     "name": "stdout",
     "output_type": "stream",
     "text": [
      "welcome to number guessing program\n",
      "67 is lower than my number. increase your guess\n",
      "45 is lower than my number. increase your guess\n",
      "23 is lower than my number. increase your guess\n",
      "12 is lower than my number. increase your guess\n",
      "96 if higher than my number. Lower your guess\n",
      "GAME OVER\n"
     ]
    }
   ],
   "source": [
    "# create a number guessing randon program\n",
    "x = random.randint(1, 100)\n",
    "counter = 0\n",
    "print(\"welcome to number guessing program\")\n",
    "\n",
    "while True:\n",
    "    counter += 1\n",
    "\n",
    "    user_nummber = int(input(\"guess the int I am thinking\"))\n",
    "    if user_nummber > x:\n",
    "        print(f'{user_nummber} if higher than my number. Lower your guess')\n",
    "    elif user_nummber < x:\n",
    "        print(f'{user_nummber} is lower than my number. increase your guess')\n",
    "    else:\n",
    "        print(f'congrats. you entered correctly after {counter} times') # counter will print how many times the loop run\n",
    "        break # allow you to stop infinitie loop\n",
    "\n",
    "    if counter == 5:\n",
    "        print('GAME OVER')\n",
    "        break"
   ]
  },
  {
   "cell_type": "markdown",
   "id": "152bc702",
   "metadata": {},
   "source": [
    "# break and continue"
   ]
  },
  {
   "cell_type": "code",
   "execution_count": null,
   "id": "4cf2ee57",
   "metadata": {},
   "outputs": [
    {
     "name": "stdout",
     "output_type": "stream",
     "text": [
      "as we came accross a stringm the loop break\n",
      "total of intigers before the string is 10\n"
     ]
    }
   ],
   "source": [
    "# add the intigers in the following list with each other\n",
    "# if come accross a string, end the program\n",
    "nums = [1, 2, 3, 4, 'tech pro', 5, 6]\n",
    "index = 0\n",
    "total = 0\n",
    "while index < len(nums):\n",
    "    if type(nums[index]) == str:\n",
    "        print(\"as we came accross a string, the loop break\")\n",
    "        break\n",
    "    else:\n",
    "        total += nums[index]\n",
    "    index += 1\n",
    "\n",
    "print(f\"total of intigers before the string is {total}\")\n"
   ]
  },
  {
   "cell_type": "code",
   "execution_count": 56,
   "id": "477572d8",
   "metadata": {},
   "outputs": [
    {
     "name": "stdout",
     "output_type": "stream",
     "text": [
      "total of intigers before the string is 21\n"
     ]
    }
   ],
   "source": [
    "# add the intigers in the following list with each other\n",
    "# if come accross a string, move to next one\n",
    "nums = [1, 2, 3, 4, 'tech pro', 5, 6]\n",
    "index = 0\n",
    "total = 0\n",
    "while index < len(nums):\n",
    "    if type(nums[index]) == str:\n",
    "        index += 1\n",
    "        continue\n",
    "    else:\n",
    "        total += nums[index]\n",
    "    index += 1\n",
    "\n",
    "print(f\"total of intigers before the string is {total}\")"
   ]
  },
  {
   "cell_type": "markdown",
   "id": "8fb8646c",
   "metadata": {},
   "source": [
    "- break -> immediately stops the entire cycle or loop\n",
    "- continue -> stop the active loop and starts a loop from beginning "
   ]
  },
  {
   "cell_type": "markdown",
   "id": "b817615e",
   "metadata": {},
   "source": [
    "Homework:\n",
    "\n",
    "- in nums_2 = [1, 2, 3, 4, 'tech pro', 5, 6, 'sena' True, 'Hello] using loops only print tech pro"
   ]
  },
  {
   "cell_type": "markdown",
   "id": "20e7c767",
   "metadata": {},
   "source": [
    "# for loop\n",
    "\n",
    "for variable in iterable data:\n",
    "- operation"
   ]
  },
  {
   "cell_type": "code",
   "execution_count": 57,
   "id": "332b0a8a",
   "metadata": {},
   "outputs": [
    {
     "data": {
      "text/plain": [
       "True"
      ]
     },
     "execution_count": 57,
     "metadata": {},
     "output_type": "execute_result"
    }
   ],
   "source": [
    "'a' in 'apple'\n",
    "# left side we have element\n",
    "# right side is an iterable data"
   ]
  },
  {
   "cell_type": "code",
   "execution_count": 58,
   "id": "f5cbfbbb",
   "metadata": {},
   "outputs": [
    {
     "ename": "SyntaxError",
     "evalue": "cannot assign to literal (996540221.py, line 1)",
     "output_type": "error",
     "traceback": [
      "  \u001b[36mCell\u001b[39m\u001b[36m \u001b[39m\u001b[32mIn[58]\u001b[39m\u001b[32m, line 1\u001b[39m\n\u001b[31m    \u001b[39m\u001b[31mfor 4 in [1, 2, 3, 4]:\u001b[39m\n        ^\n\u001b[31mSyntaxError\u001b[39m\u001b[31m:\u001b[39m cannot assign to literal\n"
     ]
    }
   ],
   "source": [
    "for 4 in [1, 2, 3, 4]:\n",
    "    print('hello')\n",
    "\n",
    "# it cannot assign the value to int\n",
    "# first time the loops runs, it will try to assign the \"1\" value to \"4\""
   ]
  },
  {
   "cell_type": "code",
   "execution_count": 59,
   "id": "86255b09",
   "metadata": {},
   "outputs": [
    {
     "name": "stdout",
     "output_type": "stream",
     "text": [
      "1\n",
      "2\n",
      "3\n",
      "4\n"
     ]
    }
   ],
   "source": [
    "for a in [1, 2, 3, 4]:\n",
    "    print(a)\n",
    "\n",
    "# every time the loop runs, it will asign the value"
   ]
  },
  {
   "cell_type": "code",
   "execution_count": null,
   "id": "e0344f82",
   "metadata": {},
   "outputs": [],
   "source": [
    "# in while loop, in order to select an element of an iterable data, we had to use index\n",
    "# in for loop, we are selecting and assigning each element by default, without any indexing"
   ]
  },
  {
   "cell_type": "code",
   "execution_count": 61,
   "id": "89d5d263",
   "metadata": {},
   "outputs": [
    {
     "name": "stdout",
     "output_type": "stream",
     "text": [
      "T\n",
      "E\n",
      "C\n",
      "H\n",
      "P\n",
      "R\n",
      "O\n"
     ]
    }
   ],
   "source": [
    "for i in 'techpro':\n",
    "    print(i.upper())"
   ]
  },
  {
   "cell_type": "code",
   "execution_count": 62,
   "id": "59e7e745",
   "metadata": {},
   "outputs": [
    {
     "name": "stdout",
     "output_type": "stream",
     "text": [
      "hello\n",
      "67\n",
      "True\n",
      "world\n"
     ]
    }
   ],
   "source": [
    "for element in ['hello', 67, True, 'world']:\n",
    "    print(element)"
   ]
  },
  {
   "cell_type": "code",
   "execution_count": 63,
   "id": "ce063d72",
   "metadata": {},
   "outputs": [
    {
     "name": "stdout",
     "output_type": "stream",
     "text": [
      "24\n",
      "86\n",
      "24\n",
      "8\n",
      "10\n"
     ]
    }
   ],
   "source": [
    "for number in [12, 43, 12, 4, 5]:\n",
    "    print(number *2)"
   ]
  },
  {
   "cell_type": "code",
   "execution_count": 65,
   "id": "3b0770c2",
   "metadata": {},
   "outputs": [
    {
     "name": "stdout",
     "output_type": "stream",
     "text": [
      "4\n",
      "1849\n",
      "1\n",
      "9\n",
      "25\n"
     ]
    }
   ],
   "source": [
    "for k in [2, 43, 1, 3, 5]:\n",
    "    print(k ** 2)"
   ]
  },
  {
   "cell_type": "code",
   "execution_count": 66,
   "id": "656fb815",
   "metadata": {},
   "outputs": [
    {
     "name": "stdout",
     "output_type": "stream",
     "text": [
      "4\n",
      "1849\n",
      "1\n",
      "9\n",
      "25\n"
     ]
    }
   ],
   "source": [
    "num_3 = [2, 43, 1, 3, 5]\n",
    "for k in num_3:\n",
    "    print(k ** 2)"
   ]
  },
  {
   "cell_type": "code",
   "execution_count": 68,
   "id": "32eb4292",
   "metadata": {},
   "outputs": [
    {
     "data": {
      "text/plain": [
       "['Ohio', 'Georgia', 'New york']"
      ]
     },
     "execution_count": 68,
     "metadata": {},
     "output_type": "execute_result"
    }
   ],
   "source": [
    "# capitalize each element of the list and add it to ampty list\n",
    "# using both for and while loop\n",
    "states = ['ohio', 'georgia', 'new york']\n",
    "c_states = []\n",
    "for i in states:\n",
    "    c_states.append(i.capitalize())\n",
    "c_states"
   ]
  },
  {
   "cell_type": "code",
   "execution_count": 69,
   "id": "44fa6373",
   "metadata": {},
   "outputs": [
    {
     "data": {
      "text/plain": [
       "['Ohio', 'Georgia', 'New york']"
      ]
     },
     "execution_count": 69,
     "metadata": {},
     "output_type": "execute_result"
    }
   ],
   "source": [
    "states = ['ohio', 'georgia', 'new york']\n",
    "c_states = []\n",
    "i = 0\n",
    "while i < len(states):\n",
    "    c_states.append(states[i].capitalize())\n",
    "    i += 1\n",
    "c_states"
   ]
  },
  {
   "cell_type": "code",
   "execution_count": 73,
   "id": "2cfda5bd",
   "metadata": {},
   "outputs": [
    {
     "name": "stdout",
     "output_type": "stream",
     "text": [
      "28\n"
     ]
    }
   ],
   "source": [
    "# write a program that adds from 0 to 7 using both while loops and for loops\n",
    "# while loop\n",
    "i = 0\n",
    "total = 0\n",
    "while i < 8:\n",
    "    total += i\n",
    "    i += 1\n",
    "print(total)"
   ]
  },
  {
   "cell_type": "code",
   "execution_count": 75,
   "id": "ce79a43e",
   "metadata": {},
   "outputs": [
    {
     "name": "stdout",
     "output_type": "stream",
     "text": [
      "28\n"
     ]
    }
   ],
   "source": [
    "total = 0\n",
    "for i in range(0, 8):\n",
    "    total += i\n",
    "print(total)"
   ]
  },
  {
   "cell_type": "code",
   "execution_count": 79,
   "id": "fab7fb89",
   "metadata": {},
   "outputs": [
    {
     "name": "stdout",
     "output_type": "stream",
     "text": [
      "odd list: [1, 43, 55, 43]\n",
      "even list: [2]\n"
     ]
    }
   ],
   "source": [
    "# if number is odd, add it to odd list\n",
    "# if even add it to even list\n",
    "number_2 = [2, 1, 43, 55, 43]\n",
    "odd = []\n",
    "even = []\n",
    "for i in number_2:\n",
    "    if i % 2 == 0:\n",
    "        even.append(i)\n",
    "    else:\n",
    "        odd.append(i)\n",
    "\n",
    "print(f'odd list: {odd}')\n",
    "print(f'even list: {even}')"
   ]
  },
  {
   "cell_type": "code",
   "execution_count": 80,
   "id": "d99f830c",
   "metadata": {},
   "outputs": [
    {
     "name": "stdout",
     "output_type": "stream",
     "text": [
      "odd list: [1, 1849, 3025, 1849]\n",
      "even list: [4]\n"
     ]
    }
   ],
   "source": [
    "# if number is odd, add its square to odd list\n",
    "# if even add its double to even list\n",
    "number_2 = [2, 1, 43, 55, 43]\n",
    "odd = []\n",
    "even = []\n",
    "for i in number_2:\n",
    "    if i % 2 == 0:\n",
    "        i = i * 2\n",
    "        even.append(i)\n",
    "    else:\n",
    "        i = i ** 2\n",
    "        odd.append(i)\n",
    "\n",
    "print(f'odd list: {odd}')\n",
    "print(f'even list: {even}')"
   ]
  },
  {
   "cell_type": "code",
   "execution_count": 83,
   "id": "b1cf9181",
   "metadata": {},
   "outputs": [
    {
     "name": "stdout",
     "output_type": "stream",
     "text": [
      "101\n"
     ]
    }
   ],
   "source": [
    "# write a program using while and for loop that adds each element of thie list\n",
    "# for loop\n",
    "number_3 = [23, 21, 23, 34]\n",
    "total = 0\n",
    "for i in number_3:\n",
    "    total += i\n",
    "print(total)"
   ]
  },
  {
   "cell_type": "code",
   "execution_count": 84,
   "id": "dca6d68f",
   "metadata": {},
   "outputs": [
    {
     "name": "stdout",
     "output_type": "stream",
     "text": [
      "101\n"
     ]
    }
   ],
   "source": [
    "# while loop\n",
    "total = 0\n",
    "index = 0\n",
    "while index < len(number_3):\n",
    "    total += number_3[index]\n",
    "    index += 1\n",
    "print(total)"
   ]
  }
 ],
 "metadata": {
  "kernelspec": {
   "display_name": "Python 3",
   "language": "python",
   "name": "python3"
  },
  "language_info": {
   "codemirror_mode": {
    "name": "ipython",
    "version": 3
   },
   "file_extension": ".py",
   "mimetype": "text/x-python",
   "name": "python",
   "nbconvert_exporter": "python",
   "pygments_lexer": "ipython3",
   "version": "3.13.7"
  }
 },
 "nbformat": 4,
 "nbformat_minor": 5
}
