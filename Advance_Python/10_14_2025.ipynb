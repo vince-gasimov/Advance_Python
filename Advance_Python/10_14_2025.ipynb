{
 "cells": [
  {
   "cell_type": "code",
   "execution_count": null,
   "id": "ae54444b",
   "metadata": {},
   "outputs": [
    {
     "data": {
      "text/plain": [
       "3.141592653589793"
      ]
     },
     "execution_count": 2,
     "metadata": {},
     "output_type": "execute_result"
    }
   ],
   "source": [
    "import math\n",
    "\n",
    "math.pi"
   ]
  },
  {
   "cell_type": "code",
   "execution_count": 4,
   "id": "20f3c0a0",
   "metadata": {},
   "outputs": [
    {
     "data": {
      "text/plain": [
       "3.141592653589793"
      ]
     },
     "execution_count": 4,
     "metadata": {},
     "output_type": "execute_result"
    }
   ],
   "source": [
    "math.pi"
   ]
  },
  {
   "cell_type": "code",
   "execution_count": null,
   "id": "3961c5df",
   "metadata": {},
   "outputs": [
    {
     "data": {
      "text/plain": [
       "0.7533839521046178"
      ]
     },
     "execution_count": 5,
     "metadata": {},
     "output_type": "execute_result"
    }
   ],
   "source": [
    "# rename the import library or package\n",
    "import random as rd\n",
    "\n",
    "rd.random()"
   ]
  },
  {
   "cell_type": "code",
   "execution_count": 12,
   "id": "f714a676",
   "metadata": {},
   "outputs": [],
   "source": [
    "def number (list_of_num):\n",
    "    odd_list = []\n",
    "    even_list = []\n",
    "    for i in list_of_num:\n",
    "        if i % 2 == 1:\n",
    "            odd_list.append(i)\n",
    "        elif i % 2 == 0:\n",
    "            even_list.append(i)\n",
    "    return f\"odd numer list: {odd_list}. Even number list: {even_list}\""
   ]
  },
  {
   "cell_type": "code",
   "execution_count": 13,
   "id": "2a5a2a1f",
   "metadata": {},
   "outputs": [
    {
     "data": {
      "text/plain": [
       "'odd numer list: [3, 5, 33]. Even number list: [2, 4, 12, 32]'"
      ]
     },
     "execution_count": 13,
     "metadata": {},
     "output_type": "execute_result"
    }
   ],
   "source": [
    "number([2, 4, 3, 5, 12, 32, 33])"
   ]
  },
  {
   "cell_type": "code",
   "execution_count": 16,
   "id": "2d712fa5",
   "metadata": {},
   "outputs": [],
   "source": [
    "# define a function that performs upper operation on string elements in a given list\n",
    "# and sums the intigers of that list\n",
    "\n",
    "def num_str (num_str_list):\n",
    "    str_list = []\n",
    "    num_list = 0\n",
    "    for i in num_str_list:\n",
    "        if type(i) == str:\n",
    "            str_list.append(i.upper())\n",
    "        elif type(i) == int:\n",
    "            num_list += i\n",
    "    return f\"Upper string list: {str_list} and sum of all numbers are: {num_list}\""
   ]
  },
  {
   "cell_type": "code",
   "execution_count": 17,
   "id": "97eeee40",
   "metadata": {},
   "outputs": [
    {
     "data": {
      "text/plain": [
       "\"Upper string list: ['ALI', 'TECHPRO'] and sum of all numbers are: 42\""
      ]
     },
     "execution_count": 17,
     "metadata": {},
     "output_type": "execute_result"
    }
   ],
   "source": [
    "num_str([1, \"ali\", 23, 'techpro', 4, 8, 6])"
   ]
  },
  {
   "cell_type": "code",
   "execution_count": 18,
   "id": "54bdc03c",
   "metadata": {},
   "outputs": [],
   "source": [
    "# use list comprehension\n",
    "# define a function that performs upper operation on string elements in a given list\n",
    "# and sums the intigers of that list\n",
    "\n",
    "def num_str (num_str_list):\n",
    "    str_list = []\n",
    "    num_list = 0\n",
    "    str_list = [i.upper() for i in num_str_list if isinstance(i, str)]\n",
    "    num_list = sum([i for i in num_str_list if isinstance(i, int)])\n",
    "\n",
    "    return f\"Upper string list: {str_list} and sum of all numbers are: {num_list}\""
   ]
  },
  {
   "cell_type": "code",
   "execution_count": 19,
   "id": "dd63fe40",
   "metadata": {},
   "outputs": [
    {
     "data": {
      "text/plain": [
       "\"Upper string list: ['ALI', 'TECHPRO'] and sum of all numbers are: 42\""
      ]
     },
     "execution_count": 19,
     "metadata": {},
     "output_type": "execute_result"
    }
   ],
   "source": [
    "num_str([1, \"ali\", 23, 'techpro', 4, 8, 6])"
   ]
  }
 ],
 "metadata": {
  "kernelspec": {
   "display_name": "Python 3",
   "language": "python",
   "name": "python3"
  },
  "language_info": {
   "codemirror_mode": {
    "name": "ipython",
    "version": 3
   },
   "file_extension": ".py",
   "mimetype": "text/x-python",
   "name": "python",
   "nbconvert_exporter": "python",
   "pygments_lexer": "ipython3",
   "version": "3.13.7"
  }
 },
 "nbformat": 4,
 "nbformat_minor": 5
}
