{
 "cells": [
  {
   "cell_type": "markdown",
   "id": "361e6e8d",
   "metadata": {},
   "source": [
    "# REGEX\n",
    "\n",
    "- Regular Expression"
   ]
  },
  {
   "cell_type": "code",
   "execution_count": 1,
   "id": "fc16578e",
   "metadata": {},
   "outputs": [],
   "source": [
    "import re\n",
    "# to import regex module"
   ]
  },
  {
   "cell_type": "code",
   "execution_count": null,
   "id": "15950bab",
   "metadata": {},
   "outputs": [
    {
     "data": {
      "text/plain": [
       "'/Library/Frameworks/Python.framework/Versions/3.13/lib/python3.13/re/__init__.py'"
      ]
     },
     "execution_count": 2,
     "metadata": {},
     "output_type": "execute_result"
    }
   ],
   "source": [
    "re.__file__\n",
    "# location of imported file"
   ]
  },
  {
   "cell_type": "code",
   "execution_count": null,
   "id": "c24eb4f6",
   "metadata": {},
   "outputs": [
    {
     "data": {
      "text/plain": [
       "['wo', 'wo']"
      ]
     },
     "execution_count": 6,
     "metadata": {},
     "output_type": "execute_result"
    }
   ],
   "source": [
    "import re\n",
    "string = 'Congratulations! wow! You have won 1,000,000 dollars'\n",
    "re.findall('wo', string)\n",
    "# find all occurrences of 'wo' in the string"
   ]
  },
  {
   "cell_type": "code",
   "execution_count": 7,
   "id": "174db61b",
   "metadata": {},
   "outputs": [
    {
     "data": {
      "text/plain": [
       "['li', 'li']"
      ]
     },
     "execution_count": 7,
     "metadata": {},
     "output_type": "execute_result"
    }
   ],
   "source": [
    "string = 'Tatli dillim, guzel yuzlum, seni cok seviyorum'\n",
    "re.findall('li', string)"
   ]
  },
  {
   "cell_type": "code",
   "execution_count": null,
   "id": "bf683276",
   "metadata": {},
   "outputs": [
    {
     "data": {
      "text/plain": [
       "['Tat', ' dil', 'm, guzel yuzlum, seni cok seviyorum']"
      ]
     },
     "execution_count": 8,
     "metadata": {},
     "output_type": "execute_result"
    }
   ],
   "source": [
    "string = 'Tatli dillim, guzel yuzlum, seni cok seviyorum'\n",
    "re.split('li', string)\n",
    "# split the string at each occurrence of 'li'"
   ]
  },
  {
   "cell_type": "code",
   "execution_count": 10,
   "id": "2ba83853",
   "metadata": {},
   "outputs": [
    {
     "data": {
      "text/plain": [
       "'Congratulations!-wow!-You-have-won-1,000,000-dollars'"
      ]
     },
     "execution_count": 10,
     "metadata": {},
     "output_type": "execute_result"
    }
   ],
   "source": [
    "string_1 = 'Congratulations! wow! You have won 1,000,000 dollars'\n",
    "re.sub(\" \", \"-\", string_1)\n",
    "# replace spaces with hyphens \"-\""
   ]
  },
  {
   "cell_type": "code",
   "execution_count": 11,
   "id": "8650d857",
   "metadata": {},
   "outputs": [
    {
     "name": "stderr",
     "output_type": "stream",
     "text": [
      "/var/folders/ql/6jtsbr19249bjfqdx_b2n8640000gn/T/ipykernel_33930/1491463080.py:1: DeprecationWarning: 'count' is passed as positional argument\n",
      "  re.sub(\" \", \"-\", string_1, 3)\n"
     ]
    },
    {
     "data": {
      "text/plain": [
       "'Congratulations!-wow!-You-have won 1,000,000 dollars'"
      ]
     },
     "execution_count": 11,
     "metadata": {},
     "output_type": "execute_result"
    }
   ],
   "source": [
    "re.sub(\" \", \"-\", string_1, 3)\n",
    "# replace first 3 occurrences of spaces with hyphens \"-\""
   ]
  },
  {
   "cell_type": "code",
   "execution_count": 12,
   "id": "3334bc41",
   "metadata": {},
   "outputs": [
    {
     "data": {
      "text/plain": [
       "'Congratulations! wow! You have won 1,000,000 dollars'"
      ]
     },
     "execution_count": 12,
     "metadata": {},
     "output_type": "execute_result"
    }
   ],
   "source": [
    "re.sub(\"/s\", \"-\", string_1)\n",
    "# replace all whitespace characters with hyphens \"-\""
   ]
  },
  {
   "cell_type": "code",
   "execution_count": 14,
   "id": "40ea7db3",
   "metadata": {},
   "outputs": [
    {
     "name": "stdout",
     "output_type": "stream",
     "text": [
      "<re.Match object; span=(31, 34), match='won'>\n"
     ]
    }
   ],
   "source": [
    "print(re.search(\"won\", string_1))\n",
    "# search for the first occurrence of 'won' in the string\n",
    "# it will return index of string we are looking for"
   ]
  },
  {
   "cell_type": "code",
   "execution_count": 16,
   "id": "0bb1f20b",
   "metadata": {},
   "outputs": [
    {
     "name": "stdout",
     "output_type": "stream",
     "text": [
      "(31, 34)\n"
     ]
    }
   ],
   "source": [
    "print(re.search(\"won\", string_1).span())\n",
    "# span of the matched string"
   ]
  },
  {
   "cell_type": "code",
   "execution_count": null,
   "id": "380c169b",
   "metadata": {},
   "outputs": [
    {
     "name": "stdout",
     "output_type": "stream",
     "text": [
      "(31, 34)\n",
      "31\n",
      "34\n",
      "won\n"
     ]
    }
   ],
   "source": [
    "result = re.search(\"won\", string_1)\n",
    "print(result.span())\n",
    "# find the exact address of the first occurrence of 'won'\n",
    "\n",
    "print(result.start())\n",
    "# starting index of the matched string\n",
    "\n",
    "print(result.end())\n",
    "# ending index of the matched string\n",
    "\n",
    "print(result.group())\n",
    "# what pattern are we looking for, the matched string"
   ]
  },
  {
   "cell_type": "code",
   "execution_count": null,
   "id": "a32a383d",
   "metadata": {},
   "outputs": [
    {
     "name": "stdout",
     "output_type": "stream",
     "text": [
      "['ex', 'ex']\n",
      "['e', 'e', 'x', 'e', 'e', 'e', 'e', 'e', 'e', 'x', 'e', 'e', 'e', 'e', 'e', 'e', 'e', 'e']\n",
      "['e', 'a', 'e', 'e', 'a', 'e', 'e', 'a', 'e', 'f', 'e', 'a', 'e', 'e', 'a', 'e', 'e', 'd', 'd', 'a', 'a', 'c', 'e', 'c', 'e', 'e', 'e', 'c', 'e', 'a', 'd', 'a', 'a']\n",
      "[]\n",
      "['R', 'u', 'r', 'r', 's', 's', 's', 'r', 'r', 'r', 'u', 'R', 'u', 'r', 'r', 's', 's', 's', 'r', 'u', 's', 't', 's', 'T', 't', 't']\n",
      "['R', 'u', 'r', 'r', 's', 's', 's', 'r', 'r', 'r', 'u', 'R', 'u', 'r', 'r', 's', 's', 's', 'r', 'u', 's', 't', 's', '.', 'T', 't', 't', '.']\n",
      "['8', '3', '1', '2', '5', '6', '4']\n"
     ]
    }
   ],
   "source": [
    "string_2 = \"Regular expressions are really powerful! Regular expressions are used in data science. They help to clean data. 8312564\"\n",
    "\n",
    "print(re.findall('ex', string_2))\n",
    "# it will find all occurrences of 'ex' in the string\n",
    "\n",
    "print(re.findall('[ex]', string_2))\n",
    "# it will find all occurrences of either 'e' or 'x' in the string\n",
    "\n",
    "print(re.findall('[a-f]', string_2))\n",
    "# it will find all occurrences of letters between 'a' to 'f' in the string\n",
    "\n",
    "print(re.findall('[A-F]', string_2))\n",
    "# we do not have any uppercase letters between 'A' to 'F' in the string, so it will return an empty list\n",
    "\n",
    "print(re.findall('[q-uQ-U]', string_2))\n",
    "# it will find all occurrences of letters between 'q' to 'u' and 'Q' to 'U' in the string\n",
    "\n",
    "print(re.findall('[q-u.Q-U]', string_2))\n",
    "# it will also return the occurrences of '.' along with letters between 'q' to 'u' and 'Q' to 'U' in the string\n",
    "\n",
    "print(re.findall('[0-9]', string_2))\n",
    "# it will find all occurrences of digits between '0' to '9' in the string"
   ]
  },
  {
   "cell_type": "code",
   "execution_count": null,
   "id": "c89c8573",
   "metadata": {},
   "outputs": [
    {
     "name": "stdout",
     "output_type": "stream",
     "text": [
      "['Reg', 'ula', 'r e', 'xpr', 'ess', 'ion', 's a', 're ', 'rea', 'lly', ' po', 'wer', 'ful', '! R', 'egu', 'lar', ' ex', 'pre', 'ssi', 'ons', ' ar', 'e u', 'sed', ' in', ' da', 'ta ', 'sci', 'enc', 'e. ', 'The', 'y h', 'elp', ' to', ' cl', 'ean', ' da', 'ta.', ' 83', '125']\n",
      "['.', '.']\n"
     ]
    }
   ],
   "source": [
    "print(re.findall('...', string_2))\n",
    "# it will devide the string into parts of 3 characters each\n",
    "\n",
    "print(re.findall('[.]', string_2))\n",
    "# it will find all occurrences of '.' in the string"
   ]
  },
  {
   "cell_type": "code",
   "execution_count": null,
   "id": "c9c37c39",
   "metadata": {},
   "outputs": [
    {
     "name": "stdout",
     "output_type": "stream",
     "text": [
      "['Aber', 'Anar', 'Amir', 'Anor']\n",
      "['ee']\n",
      "['23', '23', '29']\n",
      "['2', '3', '2', '3', '2', '9']\n",
      "['23', '23', '29']\n"
     ]
    }
   ],
   "source": [
    "string_3 = 'Vusal Gasimov Aber Ardeen 23 Royal Dilshad 23 Fierro Anar John 29 Amir Doe Jane Doe Anor'\n",
    "# create name that starts with A and is 4 characters long and ends with r\n",
    "\n",
    "print(re.findall('A..r', string_3))\n",
    "# it will find all occurrences of names that start with A and is 4 characters long and ends with r\n",
    "\n",
    "print(re.findall('e{2}', string_3))\n",
    "# it will find all occurrences of 'e' given in pairs\n",
    "\n",
    "print(re.findall('[0-9]{2}', string_3))\n",
    "# numeric chars given in pairs\n",
    "\n",
    "print(re.findall(r'\\d', string_3))\n",
    "# it will find all occurrences of digits in the string\n",
    "# r means entire string is a raw string\n",
    "\n",
    "print(re.findall(r'\\d+', string_3))\n",
    "#return digits as it is"
   ]
  },
  {
   "cell_type": "code",
   "execution_count": null,
   "id": "4b5a5855",
   "metadata": {},
   "outputs": [
    {
     "ename": "SyntaxError",
     "evalue": "unterminated string literal (detected at line 1); perhaps you escaped the end quote? (133159321.py, line 1)",
     "output_type": "error",
     "traceback": [
      "  \u001b[36mCell\u001b[39m\u001b[36m \u001b[39m\u001b[32mIn[37]\u001b[39m\u001b[32m, line 1\u001b[39m\n\u001b[31m    \u001b[39m\u001b[31m'hello\\'\u001b[39m\n    ^\n\u001b[31mSyntaxError\u001b[39m\u001b[31m:\u001b[39m unterminated string literal (detected at line 1); perhaps you escaped the end quote?\n"
     ]
    }
   ],
   "source": [
    "'hello\\'\n",
    "# \\ is used as an escape the next character"
   ]
  },
  {
   "cell_type": "code",
   "execution_count": null,
   "id": "77b09e06",
   "metadata": {},
   "outputs": [
    {
     "data": {
      "text/plain": [
       "['10/24/2025', '11/25/2025']"
      ]
     },
     "execution_count": 39,
     "metadata": {},
     "output_type": "execute_result"
    }
   ],
   "source": [
    "string_4 = 'the meeting dates are 10/24/2025 and 11/25/2025. Let us meet at 10:30 am'\n",
    "re.findall(r'\\d{2}/\\d{2}/\\d{4}', string_4)\n",
    "# d{2} means double digit\n",
    "# finding any data that has 2 digits/2 digits/4 digits"
   ]
  },
  {
   "cell_type": "code",
   "execution_count": null,
   "id": "bb2728d6",
   "metadata": {},
   "outputs": [
    {
     "data": {
      "text/plain": [
       "['123-45-6789']"
      ]
     },
     "execution_count": 40,
     "metadata": {},
     "output_type": "execute_result"
    }
   ],
   "source": [
    "# extract social security number from the string\n",
    "string_5 = 'hi, my social security number is 123-45-6789'\n",
    "re.findall(r'\\d{3}-\\d{2}-\\d{4}', string_5)\n",
    "# finding any data that has 3 digits-2 digits-4 digits"
   ]
  },
  {
   "cell_type": "markdown",
   "id": "f8db45b3",
   "metadata": {},
   "source": [
    "# File Management\n",
    "\n",
    "modes:\n",
    "- w --> write mode, used to start writing on a blanck file\n",
    "- r --> read mode\n",
    "- a --> append mode, to add text at the end of given file\n",
    "\n",
    "functions:\n",
    "- write function\n",
    "- read function\n",
    "- open function\n",
    "- close function"
   ]
  },
  {
   "cell_type": "code",
   "execution_count": 42,
   "id": "473b1077",
   "metadata": {},
   "outputs": [
    {
     "ename": "FileNotFoundError",
     "evalue": "[Errno 2] No such file or directory: '10_23_2025_filemanegement.txt'",
     "output_type": "error",
     "traceback": [
      "\u001b[31m---------------------------------------------------------------------------\u001b[39m",
      "\u001b[31mFileNotFoundError\u001b[39m                         Traceback (most recent call last)",
      "\u001b[36mCell\u001b[39m\u001b[36m \u001b[39m\u001b[32mIn[42]\u001b[39m\u001b[32m, line 1\u001b[39m\n\u001b[32m----> \u001b[39m\u001b[32m1\u001b[39m result_1 = \u001b[38;5;28;43mopen\u001b[39;49m\u001b[43m(\u001b[49m\u001b[33;43m'\u001b[39;49m\u001b[33;43m10_23_2025_filemanegement.txt\u001b[39;49m\u001b[33;43m'\u001b[39;49m\u001b[43m)\u001b[49m\n\u001b[32m      2\u001b[39m \u001b[38;5;66;03m# if there is a file witht the smae name, open function will allow us to open it\u001b[39;00m\n\u001b[32m      3\u001b[39m \u001b[38;5;66;03m# and bring it in jupiter notebook \u001b[39;00m\n\u001b[32m      4\u001b[39m \u001b[38;5;28mprint\u001b[39m(result_1)\n",
      "\u001b[36mFile \u001b[39m\u001b[32m~/Library/Python/3.13/lib/python/site-packages/IPython/core/interactiveshell.py:343\u001b[39m, in \u001b[36m_modified_open\u001b[39m\u001b[34m(file, *args, **kwargs)\u001b[39m\n\u001b[32m    336\u001b[39m \u001b[38;5;28;01mif\u001b[39;00m file \u001b[38;5;129;01min\u001b[39;00m {\u001b[32m0\u001b[39m, \u001b[32m1\u001b[39m, \u001b[32m2\u001b[39m}:\n\u001b[32m    337\u001b[39m     \u001b[38;5;28;01mraise\u001b[39;00m \u001b[38;5;167;01mValueError\u001b[39;00m(\n\u001b[32m    338\u001b[39m         \u001b[33mf\u001b[39m\u001b[33m\"\u001b[39m\u001b[33mIPython won\u001b[39m\u001b[33m'\u001b[39m\u001b[33mt let you open fd=\u001b[39m\u001b[38;5;132;01m{\u001b[39;00mfile\u001b[38;5;132;01m}\u001b[39;00m\u001b[33m by default \u001b[39m\u001b[33m\"\u001b[39m\n\u001b[32m    339\u001b[39m         \u001b[33m\"\u001b[39m\u001b[33mas it is likely to crash IPython. If you know what you are doing, \u001b[39m\u001b[33m\"\u001b[39m\n\u001b[32m    340\u001b[39m         \u001b[33m\"\u001b[39m\u001b[33myou can use builtins\u001b[39m\u001b[33m'\u001b[39m\u001b[33m open.\u001b[39m\u001b[33m\"\u001b[39m\n\u001b[32m    341\u001b[39m     )\n\u001b[32m--> \u001b[39m\u001b[32m343\u001b[39m \u001b[38;5;28;01mreturn\u001b[39;00m \u001b[43mio_open\u001b[49m\u001b[43m(\u001b[49m\u001b[43mfile\u001b[49m\u001b[43m,\u001b[49m\u001b[43m \u001b[49m\u001b[43m*\u001b[49m\u001b[43margs\u001b[49m\u001b[43m,\u001b[49m\u001b[43m \u001b[49m\u001b[43m*\u001b[49m\u001b[43m*\u001b[49m\u001b[43mkwargs\u001b[49m\u001b[43m)\u001b[49m\n",
      "\u001b[31mFileNotFoundError\u001b[39m: [Errno 2] No such file or directory: '10_23_2025_filemanegement.txt'"
     ]
    }
   ],
   "source": [
    "result_1 = open('10_23_2025_filemanegement.txt')\n",
    "# if there is a file witht the smae name, open function will allow us to open it\n",
    "# and bring it in jupiter notebook \n",
    "print(result_1)\n",
    "result_1.close()\n",
    "# if we are oppening file using open function, we must lose it\n",
    "# otherwise it will consume memory"
   ]
  },
  {
   "cell_type": "code",
   "execution_count": 43,
   "id": "75605f32",
   "metadata": {},
   "outputs": [
    {
     "name": "stdout",
     "output_type": "stream",
     "text": [
      "<_io.TextIOWrapper name='10_23_2025_filemanegement.txt' mode='w' encoding='utf-8'>\n"
     ]
    }
   ],
   "source": [
    "result_1 = open('10_23_2025_filemanegement.txt', 'w')\n",
    "# w or write mode will check if there is a file with the same name\n",
    "# is there is one, it will clear the data inside it\n",
    "# otherwise it will create a new file\n",
    "print(result_1)\n",
    "result_1.close()\n"
   ]
  },
  {
   "cell_type": "code",
   "execution_count": 44,
   "id": "6fbadb8c",
   "metadata": {},
   "outputs": [],
   "source": [
    "result_1 = open('10_23_2025_filemanegement.txt', 'w')\n",
    "result_1.write('This is my first line in the file.\\n')\n",
    "result_1.write('This is my second line in the file.\\n')\n",
    "result_1.close()"
   ]
  },
  {
   "cell_type": "code",
   "execution_count": 47,
   "id": "b2b79ecb",
   "metadata": {},
   "outputs": [],
   "source": [
    "result_1 = open('10_23_2025_filemanegement.txt', 'a')\n",
    "# a is append mode, it will not clear the data inside the file\n",
    "result_1.write('Hello World!\\n')\n",
    "result_1.close()"
   ]
  },
  {
   "cell_type": "code",
   "execution_count": null,
   "id": "22340b76",
   "metadata": {},
   "outputs": [
    {
     "name": "stdout",
     "output_type": "stream",
     "text": [
      "T\n",
      "h\n",
      "i\n",
      "s\n",
      " \n",
      "i\n",
      "s\n",
      " \n",
      "m\n",
      "y\n",
      " \n",
      "f\n",
      "i\n",
      "r\n",
      "s\n",
      "t\n",
      " \n",
      "l\n",
      "i\n",
      "n\n",
      "e\n",
      " \n",
      "i\n",
      "n\n",
      " \n",
      "t\n",
      "h\n",
      "e\n",
      " \n",
      "f\n",
      "i\n",
      "l\n",
      "e\n",
      ".\n",
      "\n",
      "\n",
      "T\n",
      "h\n",
      "i\n",
      "s\n",
      " \n",
      "i\n",
      "s\n",
      " \n",
      "m\n",
      "y\n",
      " \n",
      "s\n",
      "e\n",
      "c\n",
      "o\n",
      "n\n",
      "d\n",
      " \n",
      "l\n",
      "i\n",
      "n\n",
      "e\n",
      " \n",
      "i\n",
      "n\n",
      " \n",
      "t\n",
      "h\n",
      "e\n",
      " \n",
      "f\n",
      "i\n",
      "l\n",
      "e\n",
      ".\n",
      "\n",
      "\n",
      "H\n",
      "e\n",
      "l\n",
      "l\n",
      "o\n",
      " \n",
      "W\n",
      "o\n",
      "r\n",
      "l\n",
      "d\n",
      "!\n",
      "\n",
      "\n",
      "H\n",
      "e\n",
      "l\n",
      "l\n",
      "o\n",
      " \n",
      "W\n",
      "o\n",
      "r\n",
      "l\n",
      "d\n",
      "!\n",
      "\n",
      "\n",
      "H\n",
      "e\n",
      "l\n",
      "l\n",
      "o\n",
      " \n",
      "W\n",
      "o\n",
      "r\n",
      "l\n",
      "d\n",
      "!\n",
      "\n",
      "\n"
     ]
    }
   ],
   "source": [
    "file = open('10_23_2025_filemanegement.txt', 'r')\n",
    "text = file.read()\n",
    "# read function allows us to read the entire file and conteqnt inside the file\n",
    "# read function reads the characters one by one\n",
    "\n",
    "for i in text:\n",
    "    print(i)\n",
    "file.close()\n",
    "# we have to use print function to see the results"
   ]
  },
  {
   "cell_type": "code",
   "execution_count": 52,
   "id": "fa332fdc",
   "metadata": {},
   "outputs": [
    {
     "name": "stdout",
     "output_type": "stream",
     "text": [
      "This is my first line in the file.\n",
      "\n",
      "This is my second line in the file.\n",
      "\n",
      "Hello World!\n",
      "\n",
      "Hello World!\n",
      "\n",
      "Hello World!\n",
      "\n"
     ]
    }
   ],
   "source": [
    "file_2 = open('10_23_2025_filemanegement.txt', 'r')\n",
    "text_2 = file_2.readlines()\n",
    "# read function allows us to read the entire file and conteqnt inside the file\n",
    "# readline function reads the line by line\n",
    "\n",
    "for i in text_2:\n",
    "    print(i)\n",
    "file_2.close()"
   ]
  },
  {
   "cell_type": "code",
   "execution_count": 53,
   "id": "21f8a5af",
   "metadata": {},
   "outputs": [],
   "source": [
    "result_1 = open('10_23_2025_filemanegement.txt', 'a')\n",
    "# a is append mode, it will not clear the data inside the file\n",
    "result_1.write('Lets try new technique\\n')\n",
    "result_1.close()"
   ]
  },
  {
   "cell_type": "code",
   "execution_count": 54,
   "id": "e2a496f0",
   "metadata": {},
   "outputs": [],
   "source": [
    "with open('10_23_2025_filemanegement.txt', 'a') as file_3:\n",
    "    file_3.write('Add this text\\n')\n",
    "# with statement automatically closes the file after loop finishes"
   ]
  },
  {
   "cell_type": "code",
   "execution_count": 55,
   "id": "cbcc1be2",
   "metadata": {},
   "outputs": [],
   "source": [
    "file_4 = open('10_23_2025_withexamples.txt', 'a')\n",
    "file_4.write('This is a new file\\n')\n",
    "file_4.close()"
   ]
  },
  {
   "cell_type": "code",
   "execution_count": 56,
   "id": "3d79ff17",
   "metadata": {},
   "outputs": [],
   "source": [
    "with open('10_23_2025_withexamples.txt', 'a') as file_5:\n",
    "    file_5.write('This is another line in the new file\\n')"
   ]
  },
  {
   "cell_type": "code",
   "execution_count": 57,
   "id": "f9496b97",
   "metadata": {},
   "outputs": [
    {
     "name": "stdout",
     "output_type": "stream",
     "text": [
      "This is a new file\n",
      "This is another line in the new file\n",
      "\n"
     ]
    }
   ],
   "source": [
    "with open('10_23_2025_withexamples.txt', 'r') as file:\n",
    "    print(file.read())\n",
    "    # # we have to use print function to see the results"
   ]
  }
 ],
 "metadata": {
  "kernelspec": {
   "display_name": "Python 3",
   "language": "python",
   "name": "python3"
  },
  "language_info": {
   "codemirror_mode": {
    "name": "ipython",
    "version": 3
   },
   "file_extension": ".py",
   "mimetype": "text/x-python",
   "name": "python",
   "nbconvert_exporter": "python",
   "pygments_lexer": "ipython3",
   "version": "3.13.7"
  }
 },
 "nbformat": 4,
 "nbformat_minor": 5
}
