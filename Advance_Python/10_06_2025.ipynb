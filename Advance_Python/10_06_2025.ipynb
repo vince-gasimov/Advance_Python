{
 "cells": [
  {
   "cell_type": "markdown",
   "id": "5c41cb93",
   "metadata": {},
   "source": [
    "# Loops\n",
    "\n",
    "- something that repeates itself\n",
    "- repeating cycle"
   ]
  },
  {
   "cell_type": "markdown",
   "id": "c90d3f75",
   "metadata": {},
   "source": [
    "### while loops\n",
    "- type of loop or cycle that repeates itself as long as given condition is true\n",
    "- stops the moment the condition turns False"
   ]
  },
  {
   "cell_type": "code",
   "execution_count": 1,
   "id": "f2a1f683",
   "metadata": {},
   "outputs": [],
   "source": [
    "# syntex or the grammer of while loops\n",
    "# while cond(or and argument):\n",
    "#       statement or operation"
   ]
  },
  {
   "cell_type": "code",
   "execution_count": null,
   "id": "ba105bc6",
   "metadata": {},
   "outputs": [],
   "source": [
    "# infinite loop\n",
    "# do not run it\n",
    "while 10 > 5:\n",
    "    print(\"Hello\")"
   ]
  },
  {
   "cell_type": "code",
   "execution_count": 2,
   "id": "1346b0a4",
   "metadata": {},
   "outputs": [
    {
     "name": "stdout",
     "output_type": "stream",
     "text": [
      "hello\n",
      "hello\n",
      "hello\n",
      "hello\n"
     ]
    }
   ],
   "source": [
    "x = 10\n",
    "while x > 6:\n",
    "    print(\"hello\")\n",
    "    x = x - 1"
   ]
  },
  {
   "cell_type": "code",
   "execution_count": 3,
   "id": "6d435678",
   "metadata": {},
   "outputs": [
    {
     "name": "stdout",
     "output_type": "stream",
     "text": [
      "1\n",
      "2\n",
      "3\n",
      "4\n",
      "5\n",
      "6\n",
      "7\n",
      "8\n",
      "9\n",
      "10\n"
     ]
    }
   ],
   "source": [
    "x = 1\n",
    "while x<11:\n",
    "    print(x)\n",
    "    x = x + 1"
   ]
  },
  {
   "cell_type": "code",
   "execution_count": 4,
   "id": "a8476b4a",
   "metadata": {},
   "outputs": [
    {
     "name": "stdout",
     "output_type": "stream",
     "text": [
      "1\n",
      "2\n",
      "3\n",
      "4\n",
      "5\n",
      "6\n",
      "7\n",
      "8\n",
      "9\n",
      "10\n"
     ]
    }
   ],
   "source": [
    "# another way writing the code\n",
    "# shortvut of increasing the value by 1\n",
    "x = 1\n",
    "while x<11:\n",
    "    print(x)\n",
    "    x +=  1"
   ]
  },
  {
   "cell_type": "code",
   "execution_count": 5,
   "id": "2e89528c",
   "metadata": {},
   "outputs": [
    {
     "name": "stdout",
     "output_type": "stream",
     "text": [
      "1\n",
      "2\n",
      "3\n",
      "4\n",
      "5\n",
      "6\n",
      "7\n",
      "8\n",
      "9\n",
      "10\n",
      "hello world\n"
     ]
    }
   ],
   "source": [
    "x = 1\n",
    "while x<11:\n",
    "    print(x)\n",
    "    x +=  1\n",
    "print(\"hello world\") # this is outside of the loop"
   ]
  },
  {
   "cell_type": "code",
   "execution_count": 7,
   "id": "50d03491",
   "metadata": {},
   "outputs": [
    {
     "name": "stdout",
     "output_type": "stream",
     "text": [
      "1\n",
      "hello world\n",
      "4\n",
      "hello world\n",
      "7\n",
      "hello world\n",
      "10\n",
      "hello world\n"
     ]
    }
   ],
   "source": [
    "x = 1\n",
    "while x<11:\n",
    "    print(x)\n",
    "    x +=  3\n",
    "    print(\"hello world\") # this is outside of the loop"
   ]
  },
  {
   "cell_type": "code",
   "execution_count": 9,
   "id": "12d2061f",
   "metadata": {},
   "outputs": [],
   "source": [
    "while False:\n",
    "    print(\"hello\")\n",
    "    # as the given statement if Falsy, the loop does not start"
   ]
  },
  {
   "cell_type": "code",
   "execution_count": 10,
   "id": "e8a0351e",
   "metadata": {},
   "outputs": [
    {
     "name": "stdout",
     "output_type": "stream",
     "text": [
      "hello world\n"
     ]
    }
   ],
   "source": [
    "while False:\n",
    "    print(\"hello\")\n",
    "    # as the given statement if Falsy, the loop does not start\n",
    "print(\"hello world\") # this will print because its outside of the loop"
   ]
  },
  {
   "cell_type": "code",
   "execution_count": null,
   "id": "fb57aec5",
   "metadata": {},
   "outputs": [],
   "source": [
    "# dont run infinite loop\n",
    "while True:\n",
    "    print(\"hello\")\n",
    "    x += 1 # this part wont print\n",
    "# it will keep printing 'hello'"
   ]
  },
  {
   "cell_type": "code",
   "execution_count": 12,
   "id": "7dabc332",
   "metadata": {},
   "outputs": [
    {
     "name": "stdout",
     "output_type": "stream",
     "text": [
      "loop will only run once\n"
     ]
    }
   ],
   "source": [
    "a = True\n",
    "while a:\n",
    "    print(\"loop will only run once\")\n",
    "    a = False"
   ]
  },
  {
   "cell_type": "code",
   "execution_count": 13,
   "id": "010bcac5",
   "metadata": {},
   "outputs": [
    {
     "name": "stdout",
     "output_type": "stream",
     "text": [
      "loop will only run once\n"
     ]
    }
   ],
   "source": [
    "a = True\n",
    "while a:\n",
    "    a = False # it will go to next line and print only once because this condition will only be true once\n",
    "    print(\"loop will only run once\")\n",
    "\n"
   ]
  },
  {
   "cell_type": "code",
   "execution_count": 14,
   "id": "27d3b4de",
   "metadata": {},
   "outputs": [
    {
     "name": "stdout",
     "output_type": "stream",
     "text": [
      "1\n",
      "2\n",
      "3\n",
      "4\n"
     ]
    }
   ],
   "source": [
    "x = 1\n",
    "while x <= 3:\n",
    "    print(x)\n",
    "    x += 1\n",
    "print(x)"
   ]
  },
  {
   "cell_type": "code",
   "execution_count": 17,
   "id": "49609d4c",
   "metadata": {},
   "outputs": [
    {
     "name": "stdout",
     "output_type": "stream",
     "text": [
      "2\n",
      "4\n",
      "6\n",
      "8\n",
      "10\n",
      "12\n",
      "14\n",
      "16\n",
      "18\n",
      "20\n"
     ]
    }
   ],
   "source": [
    "# print twice the value of number starting from 1 to 10, both included\n",
    "# using while loop\n",
    "x = 1\n",
    "while x <= 10:\n",
    "    print(x * 2)\n",
    "    x += 1\n",
    "    "
   ]
  },
  {
   "cell_type": "code",
   "execution_count": 19,
   "id": "5f4a9060",
   "metadata": {},
   "outputs": [
    {
     "name": "stdout",
     "output_type": "stream",
     "text": [
      "25\n",
      "16\n",
      "9\n",
      "4\n",
      "1\n",
      "0\n"
     ]
    }
   ],
   "source": [
    "# write a program that prints the square of numbers starting from 5 to 0\n",
    "x = 5\n",
    "while x > -1:\n",
    "    print (x*x)\n",
    "    x -= 1"
   ]
  },
  {
   "cell_type": "code",
   "execution_count": 2,
   "id": "0567bb58",
   "metadata": {},
   "outputs": [
    {
     "name": "stdout",
     "output_type": "stream",
     "text": [
      "welcome to number guessing program\n",
      "54 if higher than my number. Lower your guess\n",
      "65 if higher than my number. Lower your guess\n",
      "congrats\n"
     ]
    }
   ],
   "source": [
    "# create a number guessing program\n",
    "x = 5\n",
    "start = True\n",
    "print(\"welcome to number guessing program\")\n",
    "\n",
    "while start:\n",
    "    user_nummber = int(input(\"guess the int I am thinking: \"))\n",
    "    if user_nummber > x:\n",
    "        print(f'{user_nummber} if higher than my number. Lower your guess')\n",
    "    elif user_nummber < x:\n",
    "        print(f'{user_nummber} is lower than my number. increase your guess')\n",
    "    elif user_nummber == x:\n",
    "        print(f'congrats')\n",
    "        start = False # this will stop the loop\n",
    "    else:\n",
    "        print(f'{user_nummber} is not an int. please enter int')"
   ]
  },
  {
   "cell_type": "code",
   "execution_count": null,
   "id": "9c3e8882",
   "metadata": {},
   "outputs": [
    {
     "name": "stdout",
     "output_type": "stream",
     "text": [
      "welcome to number guessing program\n",
      "54 if higher than my number. Lower your guess\n",
      "23 if higher than my number. Lower your guess\n",
      "4 is lower than my number. increase your guess\n",
      "congrats. you entered correctly after 9 times\n"
     ]
    }
   ],
   "source": [
    "# create a number guessing program\n",
    "x = 5\n",
    "counter = 0\n",
    "start = True\n",
    "print(\"welcome to number guessing program\")\n",
    "\n",
    "while start:\n",
    "    counter += 1\n",
    "    user_nummber = int(input(\"guess the int I am thinking: \"))\n",
    "    if user_nummber > x:\n",
    "        print(f'{user_nummber} if higher than my number. Lower your guess')\n",
    "    elif user_nummber < x:\n",
    "        print(f'{user_nummber} is lower than my number. increase your guess')\n",
    "    elif user_nummber == x:\n",
    "        print(f'congrats. you entered correctly after {counter} times') # counter will print how many times the loop run\n",
    "        start = False # this will stop the loop\n",
    "    else:\n",
    "        print(f'{user_nummber} is not an int. please enter int')"
   ]
  },
  {
   "cell_type": "code",
   "execution_count": 7,
   "id": "f1b308f3",
   "metadata": {},
   "outputs": [
    {
     "name": "stdout",
     "output_type": "stream",
     "text": [
      "welcome to number guessing program\n",
      "54 if higher than my number. Lower your guess\n",
      "65 if higher than my number. Lower your guess\n",
      "76 if higher than my number. Lower your guess\n",
      "45 if higher than my number. Lower your guess\n",
      "65 if higher than my number. Lower your guess\n",
      "GAME OVER\n"
     ]
    }
   ],
   "source": [
    "# create a number guessing program\n",
    "x = 5\n",
    "counter = 0\n",
    "print(\"welcome to number guessing program\")\n",
    "\n",
    "while True:\n",
    "    counter += 1\n",
    "\n",
    "    user_nummber = int(input(\"guess the int I am thinking: \"))\n",
    "    if user_nummber > x:\n",
    "        print(f'{user_nummber} if higher than my number. Lower your guess')\n",
    "    elif user_nummber < x:\n",
    "        print(f'{user_nummber} is lower than my number. increase your guess')\n",
    "    else:\n",
    "        print(f'congrats. you entered correctly after {counter} times') # counter will print how many times the loop run\n",
    "        break # allow you to stop infinitie loop\n",
    "\n",
    "    if counter == 5:\n",
    "        print('GAME OVER')\n",
    "        break"
   ]
  },
  {
   "cell_type": "code",
   "execution_count": null,
   "id": "d014c0f6",
   "metadata": {},
   "outputs": [
    {
     "name": "stdout",
     "output_type": "stream",
     "text": [
      "welcome to number guessing program\n",
      "54 if higher than my number. Lower your guess\n",
      "65 if higher than my number. Lower your guess\n",
      "34 if higher than my number. Lower your guess\n",
      "65 if higher than my number. Lower your guess\n",
      "congrats. you entered correctly after 5 times\n",
      "GAME OVER\n"
     ]
    }
   ],
   "source": [
    "# replacing break with False\n",
    "# after 5 guesses start = False but it wil not break\n",
    "# break is more stong, it breaks the loop immediatly\n",
    "\n",
    "x = 5\n",
    "counter = 0\n",
    "start = True\n",
    "print(\"welcome to number guessing program\")\n",
    "\n",
    "while start:\n",
    "    counter += 1\n",
    "\n",
    "    user_nummber = int(input(\"guess the int I am thinking: \"))\n",
    "    if user_nummber > x:\n",
    "        print(f'{user_nummber} if higher than my number. Lower your guess')\n",
    "    elif user_nummber < x:\n",
    "        print(f'{user_nummber} is lower than my number. increase your guess')\n",
    "    else:\n",
    "        print(f'congrats. you entered correctly after {counter} times') # counter will print how many times the loop run\n",
    "        start = False # this operation is not able to stop the loop\n",
    "                        # it wait for the next loop to starts\n",
    "\n",
    "    if counter == 5:\n",
    "        print('GAME OVER')\n",
    "        start = False"
   ]
  },
  {
   "cell_type": "code",
   "execution_count": 11,
   "id": "554c4f2b",
   "metadata": {},
   "outputs": [
    {
     "data": {
      "text/plain": [
       "8"
      ]
     },
     "execution_count": 11,
     "metadata": {},
     "output_type": "execute_result"
    }
   ],
   "source": [
    "number = [2, 7, 4, 6, 1, 0, 3, 9]\n",
    "len(number)\n",
    "# 8element in total, index will be between 0 and 7\n",
    "# index will be once less than the length"
   ]
  },
  {
   "cell_type": "code",
   "execution_count": 12,
   "id": "e407b5aa",
   "metadata": {},
   "outputs": [
    {
     "data": {
      "text/plain": [
       "1"
      ]
     },
     "execution_count": 12,
     "metadata": {},
     "output_type": "execute_result"
    }
   ],
   "source": [
    "# to select an element from this given list, we perform index\n",
    "number[4]"
   ]
  },
  {
   "cell_type": "code",
   "execution_count": null,
   "id": "be271391",
   "metadata": {},
   "outputs": [
    {
     "name": "stdout",
     "output_type": "stream",
     "text": [
      "The number is 2 and its square is 4\n",
      "The number is 7 and its square is 49\n",
      "The number is 4 and its square is 16\n",
      "The number is 6 and its square is 36\n",
      "The number is 1 and its square is 1\n",
      "The number is 0 and its square is 0\n",
      "The number is 3 and its square is 9\n",
      "The number is 9 and its square is 81\n"
     ]
    }
   ],
   "source": [
    "# using while loops, print each element of the following list and their squares\n",
    "numbers = [2, 7, 4, 6, 1, 0, 3, 9]\n",
    "# to interate on elements of a list we first start declare an index\n",
    "x = 0\n",
    "while x < len(numbers): # len is 8, so this mean x < 8, index is 1 less than len\n",
    "    print(f'The number is {number[x]} and its square is {number[x] ** 2}')\n",
    "    x += 1"
   ]
  },
  {
   "cell_type": "code",
   "execution_count": 21,
   "id": "1502e1e5",
   "metadata": {},
   "outputs": [
    {
     "name": "stdout",
     "output_type": "stream",
     "text": [
      "The square of numbers are [4, 49, 16, 36, 1, 0, 9, 81]\n"
     ]
    }
   ],
   "source": [
    "# using while loo;, iterate on elements of the following number list\n",
    "# ad the square of these number to an empty list called square\n",
    "numbers = [2, 7, 4, 6, 1, 0, 3, 9]\n",
    "square_list = []\n",
    "x = 0\n",
    "while x < len(numbers): # len is 8, so this mean x < 8, index is 1 less than len\n",
    "    square_list.append(number[x] ** 2)\n",
    "    x += 1\n",
    "print(f'The square of numbers are {square_list}')"
   ]
  },
  {
   "cell_type": "code",
   "execution_count": 25,
   "id": "7e32b3d6",
   "metadata": {},
   "outputs": [
    {
     "name": "stdout",
     "output_type": "stream",
     "text": [
      "Even list [2, 4, 6, 0]\n",
      "Odd list [7, 1, 3, 9]\n"
     ]
    }
   ],
   "source": [
    "# using while loo;, iterate on elements of the following number list\n",
    "# add the odd numbers to \"odd\" list and even numbers to \"even\" list\n",
    "numbers = [2, 7, 4, 6, 1, 0, 3, 9]\n",
    "even_list = []\n",
    "odd_list = []\n",
    "x = 0\n",
    "while x < len(numbers): # len is 8, so this mean x < 8, index is 1 less than len\n",
    "    if number[x] % 2 == 0: # even numbers\n",
    "        even_list.append(number[x])\n",
    "    else:\n",
    "        odd_list.append(number[x])\n",
    "    x += 1\n",
    "\n",
    "print(f'Even list {even_list}')\n",
    "print(f'Odd list {odd_list}')"
   ]
  }
 ],
 "metadata": {
  "kernelspec": {
   "display_name": "Python 3",
   "language": "python",
   "name": "python3"
  },
  "language_info": {
   "codemirror_mode": {
    "name": "ipython",
    "version": 3
   },
   "file_extension": ".py",
   "mimetype": "text/x-python",
   "name": "python",
   "nbconvert_exporter": "python",
   "pygments_lexer": "ipython3",
   "version": "3.13.7"
  }
 },
 "nbformat": 4,
 "nbformat_minor": 5
}
