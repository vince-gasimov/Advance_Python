{
 "cells": [
  {
   "cell_type": "code",
   "execution_count": 1,
   "id": "044eb8af",
   "metadata": {},
   "outputs": [
    {
     "name": "stdout",
     "output_type": "stream",
     "text": [
      "0\n",
      "1\n",
      "2\n",
      "3\n",
      "4\n",
      "5\n",
      "6\n",
      "7\n"
     ]
    }
   ],
   "source": [
    "# print numbers from 0 to 7 in consule\n",
    "for i in range(8):\n",
    "    print(i)"
   ]
  },
  {
   "cell_type": "code",
   "execution_count": 2,
   "id": "63e53264",
   "metadata": {},
   "outputs": [
    {
     "name": "stdout",
     "output_type": "stream",
     "text": [
      "28\n"
     ]
    }
   ],
   "source": [
    "# print the total number from 0 to 7\n",
    "\n",
    "total = 0\n",
    "for i in range(8):\n",
    "    total += i\n",
    "print(total)"
   ]
  },
  {
   "cell_type": "code",
   "execution_count": 6,
   "id": "9360fac2",
   "metadata": {},
   "outputs": [
    {
     "name": "stdout",
     "output_type": "stream",
     "text": [
      "[1, 2, 4, 8]\n"
     ]
    }
   ],
   "source": [
    "# write a python program to find the intiger of given number\n",
    "# intigers are numbers that can be divded without reminder\n",
    "\n",
    "num = 8\n",
    "divisible = []\n",
    "i = 1\n",
    "while num >=i:\n",
    "    if num % i == 0:\n",
    "        divisible.append(i)\n",
    "    else:\n",
    "        i += 1\n",
    "        continue\n",
    "    i += 1\n",
    "\n",
    "print(divisible)\n"
   ]
  },
  {
   "cell_type": "code",
   "execution_count": null,
   "id": "6a6bfef6",
   "metadata": {},
   "outputs": [],
   "source": [
    "print('Welcome! Please enter 2 numbers to find out if number can be divided without reminder')\n",
    "user_number_1 = int(input('Please enter first number'))\n",
    "user_number_2 = int(input('please enter second number'))\n",
    "\n",
    "if user_number_1 % user_number_2 == 0:\n",
    "    print(f'{user_number_1} can be divded by {user_number_2} without remainder')\n",
    "else:\n",
    "    print(f'{user_number_1} can not be divded by {user_number_2} without remainder')"
   ]
  },
  {
   "cell_type": "code",
   "execution_count": 12,
   "id": "289fd6ce",
   "metadata": {},
   "outputs": [
    {
     "name": "stdout",
     "output_type": "stream",
     "text": [
      "The fruit is: banana. It contains 3 vowels.\n",
      "The fruit is: iowefnva. It contains 4 vowels.\n",
      "The fruit is: njnewfaasdf. It contains 3 vowels.\n",
      "The fruit is: . It contains 0 vowels.\n",
      "Logging out\n"
     ]
    }
   ],
   "source": [
    "# get the fruit names from user till user types exit \n",
    "# print the fruits ns how many vowels does the fuit name include\n",
    "\n",
    "while True:\n",
    "    fruit = input('Please enter a fruit name. Type `e` to exit: ')\n",
    "    if fruit == 'e':\n",
    "        print('Logging out')\n",
    "        break\n",
    "    else:\n",
    "        vowels = 'aeiouAEIOU'\n",
    "        vowel_count = 0\n",
    "        for char in fruit:\n",
    "            if char in vowels:\n",
    "                vowel_count += 1\n",
    "        print(f\"The fruit is: {fruit}. It contains {vowel_count} vowels.\")"
   ]
  },
  {
   "cell_type": "code",
   "execution_count": 25,
   "id": "3e77db5c",
   "metadata": {},
   "outputs": [
    {
     "name": "stdout",
     "output_type": "stream",
     "text": [
      "Congrats! Greece capital is Athens\n",
      "Your score is 10\n",
      "Congrats! France capital is Paris\n",
      "Your score is 20\n",
      "Sweden capital is Stockholm. Please try again\n",
      "Your score is 20\n",
      "Exiting...\n"
     ]
    }
   ],
   "source": [
    "# # Capital Guessing Game\n",
    "# A random country is drawn, we write the capital, and if you guessed correctly, we ask you to try again.\n",
    "# And this loop continues.\n",
    "\n",
    "country_capitals = {\n",
    "'Turkey': 'Ankara',\n",
    "'France': 'Paris',\n",
    "'Germany': 'Berlin',\n",
    "'Italy': 'Rome',\n",
    "'Spain': 'Madrid',\n",
    "'Portugal': 'Lisbon',\n",
    "'Netherlands': 'Amsterdam',\n",
    "'Belgium': 'Brussels',\n",
    "'Switzerland': 'Bern',\n",
    "'Austria': 'Vienna',\n",
    "'Greece': 'Athens',\n",
    "'England': 'London',\n",
    "'Sweden': 'Stockholm',\n",
    "'Norway': 'Oslo',\n",
    "'Denmark': 'Copenhagen',\n",
    "'Finland': 'Helsinki',\n",
    "'Russia': 'Moscow',\n",
    "'China': 'Beijing',\n",
    "'Japan': 'Tokyo',\n",
    "'India': 'New Delhi'\n",
    "}\n",
    "\n",
    "import random\n",
    "\n",
    "score = 0\n",
    "while True:\n",
    "    country, capital = random.choice(list(country_capitals.items()))\n",
    "    capital_guess = input(f'Please enter the capital of this {country}. Press \"q\" to exist')\n",
    "\n",
    "    if capital_guess == 'q':\n",
    "        print('Exiting...')\n",
    "        break\n",
    "    elif capital_guess.title() == capital:\n",
    "        score += 10\n",
    "        print(f'Congrats! {country} capital is {capital}')\n",
    "    elif capital_guess.title() != capital:\n",
    "        print(f'{country} capital is {capital}. Please try again')\n",
    "    else:\n",
    "        print('Something went wrong')\n",
    "    \n",
    "    print(f'Your score is {score}')\n"
   ]
  },
  {
   "cell_type": "code",
   "execution_count": 28,
   "id": "17ecedc9",
   "metadata": {},
   "outputs": [
    {
     "name": "stdout",
     "output_type": "stream",
     "text": [
      "['AdAnA', 'kebAp', 'bAhce']\n"
     ]
    }
   ],
   "source": [
    "\n",
    "# Capitalizing Specific Letters in a String\n",
    "# - Description: Create a new list by capitalizing only the letter \"a\" in each word in a word list.\n",
    "words = ['adana','kebap','bahce']\n",
    "\n",
    "capitalized_a_words = []\n",
    "for word in words:\n",
    "    capitalized_a_words.append(word.replace('a', 'A'))\n",
    "\n",
    "print(capitalized_a_words)"
   ]
  },
  {
   "cell_type": "code",
   "execution_count": 32,
   "id": "04d27dc4",
   "metadata": {},
   "outputs": [
    {
     "name": "stdout",
     "output_type": "stream",
     "text": [
      "220 and 284 is amicable numbers, num1 divisors sum: 284, num2 divisors sum: 220 \n"
     ]
    }
   ],
   "source": [
    "# Amicable Numbers\n",
    "# - If the sum of the positive divisors of two numbers is equal, they are called amicable numbers.\n",
    "# - For example, 220 and 284 are amicable numbers because:\n",
    "# - The sum of the divisors of 220 is 284\n",
    "# - The sum of the divisors of 284 is 220\n",
    "# except the number itself\n",
    "## 220 , 284 \n",
    "#1184, 1210\n",
    "num1 = 220 \n",
    "num2 = 284 \n",
    "num1_divisors = []\n",
    "num2_divisors = []\n",
    "\n",
    "for i in range(1,num1):\n",
    "    if num1 % i == 0:\n",
    "        num1_divisors.append(i)\n",
    "\n",
    "for i in range(1,num2):\n",
    "    if num2 % i == 0:\n",
    "        num2_divisors.append(i)\n",
    "\n",
    "if sum(num1_divisors) == num2 and sum(num2_divisors) == num1:\n",
    "    print(f'{num1} and {num2} is amicable numbers, num1 divisors sum: {sum(num1_divisors)}, num2 divisors sum: {sum(num2_divisors)} ')\n",
    "else:\n",
    "    print(f'{num1} and {num2} arent amicable numbers')"
   ]
  },
  {
   "cell_type": "code",
   "execution_count": 42,
   "id": "7c497098",
   "metadata": {},
   "outputs": [
    {
     "data": {
      "text/plain": [
       "{'Ali': 'success', 'Ayşe': 'failed', 'Mehmet': 'success', 'Zeynep': 'failed'}"
      ]
     },
     "execution_count": 42,
     "metadata": {},
     "output_type": "execute_result"
    }
   ],
   "source": [
    "# Calculating Student Grade Averages with Nested Lists\n",
    "# - Description: Calculate grade point averages for each student and separate successful (average 60 or above) and unsuccessful students.\n",
    "\n",
    "# first way\n",
    "\n",
    "students_grades = {\n",
    "    \"Ali\": [70, 85, 90],\n",
    "    \"Ayşe\": [45, 60, 55],\n",
    "    \"Mehmet\": [80, 95, 92],\n",
    "    \"Zeynep\": [50, 40, 65]\n",
    "}\n",
    "{name:'success' if round(sum(notes) / 3) >= 60 else 'failed' for name, notes in students_grades.items()}"
   ]
  },
  {
   "cell_type": "code",
   "execution_count": 43,
   "id": "b1ab0758",
   "metadata": {},
   "outputs": [
    {
     "data": {
      "text/plain": [
       "{'Ali': 'passed', 'Ayşe': 'failed', 'Mehmet': 'passed', 'Zeynep': 'failed'}"
      ]
     },
     "execution_count": 43,
     "metadata": {},
     "output_type": "execute_result"
    }
   ],
   "source": [
    "\n",
    "students_grades = {\n",
    "    \"Ali\": [70, 85, 90],\n",
    "    \"Ayşe\": [45, 60, 55],\n",
    "    \"Mehmet\": [80, 95, 92],\n",
    "    \"Zeynep\": [50, 40, 65]\n",
    "}\n",
    "\n",
    "for name,notes in students_grades.items():\n",
    "    if round(sum(notes)) / 3 >= 60:\n",
    "        students_grades.update({name:'passed'})\n",
    "    else:\n",
    "        students_grades.update({name:'failed'})\n",
    "\n",
    "students_grades"
   ]
  },
  {
   "cell_type": "code",
   "execution_count": 47,
   "id": "dd6e0e11",
   "metadata": {},
   "outputs": [
    {
     "name": "stdout",
     "output_type": "stream",
     "text": [
      "Vehicles that havent passed the checkpoint:\n",
      "07JKL101\n",
      "34XYZ606\n",
      "38LMN707\n"
     ]
    }
   ],
   "source": [
    "# Vehicles in Traffic and Those Passing the Checkpoint\n",
    "# Question:\n",
    "# Consider a traffic system. You track two sets of vehicles: \n",
    "# those currently on the road and those passing through the checkpoint. \n",
    "# Find the vehicles that haven't passed the checkpoint.\n",
    "\n",
    "on_the_road= {\n",
    "    '34ABC123', '06DEF456', '35GHI789', '07JKL101', '41MNO202', \n",
    "    '34PQR303', '45STU404', '32VWX505', '34XYZ606', '38LMN707'\n",
    "}\n",
    "checkpoint= {\n",
    "    '34ABC123', '06DEF456', '41MNO202', '34PQR303', '45STU404', \n",
    "    '35GHI789', '32VWX505'\n",
    "}\n",
    "\n",
    "not_passed = on_the_road - checkpoint\n",
    "print(\"Vehicles that havent passed the checkpoint:\")\n",
    "for vehicle in not_passed:\n",
    "    print(vehicle)\n",
    "    "
   ]
  },
  {
   "cell_type": "markdown",
   "id": "1174ef20",
   "metadata": {},
   "source": [
    "### Homework"
   ]
  },
  {
   "cell_type": "code",
   "execution_count": 13,
   "id": "d62e032a",
   "metadata": {},
   "outputs": [
    {
     "name": "stdout",
     "output_type": "stream",
     "text": [
      "{'Mediterranean Sea': {'Temperture': 26, 'Condition': 'Stormy'}, 'Aegean Sea': {'Temperture': 23, 'Condition': 'Stormy'}, 'Black Sea': {'Temperture': 18, 'Condition': 'Stormy'}, 'Marmara Sea': {'Temperture': 12, 'Condition': 'Stormy'}, 'Adriatic Sea': {'Temperture': 18, 'Condition': 'Stormy'}}\n"
     ]
    }
   ],
   "source": [
    "# Question:\n",
    "# Create a list of seas.\n",
    "# seas = ['Mediterranean Sea', 'Aegean Sea', 'Black Sea', 'Marmara Sea', 'Adriatic Sea']\n",
    "# conditions = ['Calm', 'Waves', 'Stormy']\n",
    "# For each sea, select a random temperature value (between 10°C and 30°C) and condition (calm, wavy, stormy).\n",
    "#  Store the temperatures and sea condition in a dictionary. Print the temperature value left-justified, 10 characters wide.\n",
    "# {Mediterranean Sea = {temperature = 25, condition = calm}, Black Sea = {}}\n",
    "import random\n",
    "\n",
    "seas = ['Mediterranean Sea', 'Aegean Sea', 'Black Sea', 'Marmara Sea', 'Adriatic Sea']\n",
    "conditions = ['Calm', 'Waves', 'Stormy']\n",
    "sea_dict = {}\n",
    "\n",
    "for sea in seas:\n",
    "    temperature = random.randint(10, 31)\n",
    "    random_condition = random.choice(conditions)\n",
    "    sea_dict[sea] = {\"Temperture\": temperature, \"Condition\": random_condition} \n",
    "print(sea_dict)\n"
   ]
  },
  {
   "cell_type": "code",
   "execution_count": 48,
   "id": "5008bc2f",
   "metadata": {},
   "outputs": [
    {
     "name": "stdout",
     "output_type": "stream",
     "text": [
      "Sea Temperature Forecast:\n",
      "\n",
      "Mediterranean Sea: Temp: 29°C       | Condition: Waves\n",
      "Aegean Sea: Temp: 16°C       | Condition: Waves\n",
      "Black Sea: Temp: 26°C       | Condition: Stormy\n",
      "Marmara Sea: Temp: 21°C       | Condition: Stormy\n",
      "Adriatic Sea: Temp: 28°C       | Condition: Stormy\n"
     ]
    }
   ],
   "source": [
    "import random\n",
    "\n",
    "# List of seas and conditions\n",
    "seas = ['Mediterranean Sea', 'Aegean Sea', 'Black Sea', 'Marmara Sea', 'Adriatic Sea']\n",
    "conditions = ['Calm', 'Waves', 'Stormy']\n",
    "\n",
    "# Dictionary to store sea data\n",
    "sea_forecast = {}\n",
    "\n",
    "# Generate random temperature and condition for each sea\n",
    "for sea in seas:\n",
    "    temp = random.randint(10, 30)\n",
    "    condition = random.choice(conditions)\n",
    "    sea_forecast[sea] = {'temperature': temp, 'condition': condition}\n",
    "\n",
    "# Print the forecast\n",
    "print(\"Sea Temperature Forecast:\\n\")\n",
    "for sea, data in sea_forecast.items():\n",
    "    # Left-justify the temperature in a field 10 characters wide\n",
    "    temp_str = f\"{str(data['temperature']) + '°C':<10}\"\n",
    "    print(f\"{sea}: Temp: {temp_str} | Condition: {data['condition']}\")\n"
   ]
  }
 ],
 "metadata": {
  "kernelspec": {
   "display_name": "Python 3",
   "language": "python",
   "name": "python3"
  },
  "language_info": {
   "codemirror_mode": {
    "name": "ipython",
    "version": 3
   },
   "file_extension": ".py",
   "mimetype": "text/x-python",
   "name": "python",
   "nbconvert_exporter": "python",
   "pygments_lexer": "ipython3",
   "version": "3.13.7"
  }
 },
 "nbformat": 4,
 "nbformat_minor": 5
}
