{
 "cells": [
  {
   "cell_type": "code",
   "execution_count": 9,
   "id": "fb29b511",
   "metadata": {},
   "outputs": [
    {
     "name": "stdout",
     "output_type": "stream",
     "text": [
      "These are [23, 198, 87281, 917] number in the list\n",
      "There are [-54, -249, -9823489, -1.231414] negative number in the list\n",
      "There are [0] zero number in the list\n"
     ]
    }
   ],
   "source": [
    "# Question #7\n",
    "# Write a program that counts how many positive and negative numbers are in a given list.\n",
    "\n",
    "numbers = [23, -54, 198, -249, 0, 87281, 917, -9823489, -1.231414]\n",
    "positive = []\n",
    "negative = []\n",
    "zero = []\n",
    "i = 0\n",
    "while i <len(numbers):\n",
    "    if numbers[i] > 0:\n",
    "        positive.append(numbers[i]) \n",
    "\n",
    "    elif numbers[i] < 0:\n",
    "        negative.append(numbers[i]) \n",
    "    else:\n",
    "        numbers[i] == 0\n",
    "        zero.append(numbers[i]) \n",
    "    i += 1\n",
    "\n",
    "print(f'These are {positive} number in the list')\n",
    "print(f'There are {negative} negative number in the list')\n",
    "print(f'There are {zero} zero number in the list')"
   ]
  },
  {
   "cell_type": "code",
   "execution_count": 20,
   "id": "02edd605",
   "metadata": {},
   "outputs": [
    {
     "name": "stdout",
     "output_type": "stream",
     "text": [
      "Dice doll has not stoped becase 1 and 6 is equal to 7\n"
     ]
    }
   ],
   "source": [
    "# Question 12\n",
    "# Write a program that simulates rolling two dice until the sum equals 7.\n",
    "import random\n",
    "dec_1 = 0\n",
    "dec_2 = 0\n",
    "total = 0\n",
    "\n",
    "while total != 7:\n",
    "    dec_1 = random.randint(1, 6)\n",
    "    dec_2 = random.randint(1, 6)\n",
    "    total = dec_1 + dec_2\n",
    "\n",
    "print(f'Dice doll has not stoped becase {dec_1} and {dec_2} is equal to 7')"
   ]
  },
  {
   "cell_type": "code",
   "execution_count": null,
   "id": "3c32bc90",
   "metadata": {},
   "outputs": [
    {
     "name": "stdout",
     "output_type": "stream",
     "text": [
      "Total number of heads are: 4\n",
      "Total number of tails are: 6\n"
     ]
    }
   ],
   "source": [
    "#Create a program that flips a coin (\"Heads\" or \"Tails\") 10 times and counts how many times each appears.\n",
    "\n",
    "import random\n",
    "heads = 0\n",
    "tails = 0\n",
    "count = 0\n",
    "while count < 10:\n",
    "    choise = random.choice([\"Heads\", \"Tails\"])\n",
    "    if choise == \"Heads\":\n",
    "        heads += 1\n",
    "    else:\n",
    "        tails +=1\n",
    "    count += 1\n",
    "\n",
    "print(f\"Total number of heads are: {heads}\")\n",
    "print(f\"Total number of tails are: {tails}\")"
   ]
  },
  {
   "cell_type": "code",
   "execution_count": null,
   "id": "9ab09528",
   "metadata": {},
   "outputs": [
    {
     "name": "stdout",
     "output_type": "stream",
     "text": [
      "['apple', 'elephant', 'tiger']\n",
      "['apple', 'elephant', 'turtle']\n",
      "['elephant', 'tiger', 'rabbit']\n",
      "['elephant', 'turtle', 'elephant']\n",
      "['tiger', 'rabbit', 'tiger']\n",
      "['tiger', 'rabbit', 'turtle']\n",
      "['rabbit', 'tiger', 'rabbit']\n",
      "['rabbit', 'turtle', 'elephant']\n",
      "['turtle', 'elephant', 'tiger']\n",
      "['turtle', 'elephant', 'turtle']\n"
     ]
    }
   ],
   "source": [
    "# Create a function find_word_chains(words, length) that finds all possible word chains of specified length \n",
    "# where each word starts with the last letter of the previous word. \n",
    "# Use loops for chain building and list comprehension for filtering valid chains.\n",
    "# words = ['apple', 'elephant', 'tiger', 'rabbit', 'turtle']\n",
    "# find_word_chains(words, 3)  \n",
    "# Could return [['apple', 'elephant', 'tiger'], ['elephant', 'turtle', 'elephant']\n",
    "\n",
    "def find_word_chains(words, length):\n",
    "    \"\"\"\n",
    "    Finds all possible word chains of a specified length.\n",
    "    \"\"\"\n",
    "    \n",
    "    def find_chains_recursive(current_chain, remaining_words):\n",
    "\n",
    "        if len(current_chain) == length:\n",
    "            # Base case: The chain has reached the desired length\n",
    "            return [current_chain]\n",
    "        \n",
    "        last_word = current_chain[-1]\n",
    "        last_letter = last_word[-1]\n",
    "\n",
    "        # Use a list comprehension to filter the next possible words\n",
    "        next_words = [\n",
    "            word for word in remaining_words \n",
    "            if word[0] == last_letter\n",
    "        ]\n",
    "        \n",
    "        chains = []\n",
    "        for next_word in next_words:\n",
    "            # Build the new chain by adding the valid word\n",
    "            new_chain = current_chain + [next_word]\n",
    "            \n",
    "            # Remove the chosen word for the next recursive call\n",
    "            new_remaining_words = [\n",
    "                word for word in remaining_words \n",
    "                if word != next_word\n",
    "            ]\n",
    "            \n",
    "            # Recursively find chains from the new state\n",
    "            chains.extend(find_chains_recursive(new_chain, new_remaining_words))\n",
    "            \n",
    "        return chains\n",
    "    \n",
    "    # Start the process by initiating a chain with each word in the list\n",
    "    all_chains = []\n",
    "    for word in words:\n",
    "        all_chains.extend(find_chains_recursive([word], [w for w in words if w != word]))\n",
    "        \n",
    "    return all_chains\n"
   ]
  }
 ],
 "metadata": {
  "kernelspec": {
   "display_name": "Python 3",
   "language": "python",
   "name": "python3"
  },
  "language_info": {
   "codemirror_mode": {
    "name": "ipython",
    "version": 3
   },
   "file_extension": ".py",
   "mimetype": "text/x-python",
   "name": "python",
   "nbconvert_exporter": "python",
   "pygments_lexer": "ipython3",
   "version": "3.13.7"
  }
 },
 "nbformat": 4,
 "nbformat_minor": 5
}
