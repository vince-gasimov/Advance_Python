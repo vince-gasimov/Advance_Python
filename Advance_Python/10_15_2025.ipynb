{
 "cells": [
  {
   "cell_type": "code",
   "execution_count": 13,
   "id": "1c8a294b",
   "metadata": {},
   "outputs": [],
   "source": [
    "# define a function that checks whether a given number is armstrong number\n",
    "# armstrong number is when square root of each number is equal to a number itself\n",
    "\n",
    "def armstrong (number):\n",
    "    '''This function checks whether a given number is armstrong or not'''\n",
    "    total = 0\n",
    "    number = str(number)\n",
    "    digit = len(number)\n",
    "    \n",
    "    for i in number:\n",
    "        total += int(i) ** digit # as we are itering for loops, every time the loops runs, we have 1 elements\n",
    "    if total == int(number):\n",
    "        return f'{number} is an armstrong number'\n",
    "    else:\n",
    "        return f'{number} is NOT an armstrong number'"
   ]
  },
  {
   "cell_type": "code",
   "execution_count": 10,
   "id": "78340c0d",
   "metadata": {},
   "outputs": [
    {
     "data": {
      "text/plain": [
       "'153 is an armstrong number'"
      ]
     },
     "execution_count": 10,
     "metadata": {},
     "output_type": "execute_result"
    }
   ],
   "source": [
    "armstrong(153)"
   ]
  },
  {
   "cell_type": "code",
   "execution_count": 19,
   "id": "e5067857",
   "metadata": {},
   "outputs": [],
   "source": [
    "# define a function that checks whether a given number is armstrong number\n",
    "# armstrong number is when square root of each number is equal to a number itself\n",
    "\n",
    "def armstrong_1 (numbe_1):\n",
    "    '''This function checks whether a given number is armstrong or not'''\n",
    "    numbe_1 = str(numbe_1)\n",
    "    digit = len(numbe_1)\n",
    "\n",
    "    total = sum([int(i) ** digit for i in numbe_1 ])\n",
    "    \n",
    "    if total == int(numbe_1):\n",
    "        return f'{numbe_1} is an armstrong number'\n",
    "    else:\n",
    "        return f'{numbe_1} is NOT an armstrong number'"
   ]
  },
  {
   "cell_type": "code",
   "execution_count": 20,
   "id": "fa575f41",
   "metadata": {},
   "outputs": [
    {
     "data": {
      "text/plain": [
       "'153 is an armstrong number'"
      ]
     },
     "execution_count": 20,
     "metadata": {},
     "output_type": "execute_result"
    }
   ],
   "source": [
    "armstrong_1(153)"
   ]
  },
  {
   "cell_type": "code",
   "execution_count": 23,
   "id": "5d658414",
   "metadata": {},
   "outputs": [],
   "source": [
    "# using for loops find all armstrong numbers between 1 and 1001\n",
    "\n",
    "\n",
    "\n",
    "\n",
    "\n",
    "\n",
    "def armstrong_3 ():\n",
    "    '''This function checks whether a given number is armstrong or not'''\n",
    "    number = range(1, 1001)\n",
    "    digit = len(number)\n",
    "    total = 0\n",
    "    \n",
    "    for i in number:\n",
    "        total += int(i) ** digit # as we are itering for loops, every time the loops runs, we have 1 elements\n",
    "    if total == int(number):\n",
    "        return f'{number} is an armstrong number'\n",
    "    else:\n",
    "        return f'{number} is NOT an armstrong number'"
   ]
  },
  {
   "cell_type": "code",
   "execution_count": 24,
   "id": "eab6c6c7",
   "metadata": {},
   "outputs": [
    {
     "ename": "TypeError",
     "evalue": "int() argument must be a string, a bytes-like object or a real number, not 'range'",
     "output_type": "error",
     "traceback": [
      "\u001b[31m---------------------------------------------------------------------------\u001b[39m",
      "\u001b[31mTypeError\u001b[39m                                 Traceback (most recent call last)",
      "\u001b[36mCell\u001b[39m\u001b[36m \u001b[39m\u001b[32mIn[24]\u001b[39m\u001b[32m, line 1\u001b[39m\n\u001b[32m----> \u001b[39m\u001b[32m1\u001b[39m \u001b[43marmstrong_3\u001b[49m\u001b[43m(\u001b[49m\u001b[43m)\u001b[49m\n",
      "\u001b[36mCell\u001b[39m\u001b[36m \u001b[39m\u001b[32mIn[23]\u001b[39m\u001b[32m, line 16\u001b[39m, in \u001b[36marmstrong_3\u001b[39m\u001b[34m()\u001b[39m\n\u001b[32m     14\u001b[39m \u001b[38;5;28;01mfor\u001b[39;00m i \u001b[38;5;129;01min\u001b[39;00m number:\n\u001b[32m     15\u001b[39m     total += \u001b[38;5;28mint\u001b[39m(i) ** digit \u001b[38;5;66;03m# as we are itering for loops, every time the loops runs, we have 1 elements\u001b[39;00m\n\u001b[32m---> \u001b[39m\u001b[32m16\u001b[39m \u001b[38;5;28;01mif\u001b[39;00m total == \u001b[38;5;28;43mint\u001b[39;49m\u001b[43m(\u001b[49m\u001b[43mnumber\u001b[49m\u001b[43m)\u001b[49m:\n\u001b[32m     17\u001b[39m     \u001b[38;5;28;01mreturn\u001b[39;00m \u001b[33mf\u001b[39m\u001b[33m'\u001b[39m\u001b[38;5;132;01m{\u001b[39;00mnumber\u001b[38;5;132;01m}\u001b[39;00m\u001b[33m is an armstrong number\u001b[39m\u001b[33m'\u001b[39m\n\u001b[32m     18\u001b[39m \u001b[38;5;28;01melse\u001b[39;00m:\n",
      "\u001b[31mTypeError\u001b[39m: int() argument must be a string, a bytes-like object or a real number, not 'range'"
     ]
    }
   ],
   "source": [
    "armstrong_3()"
   ]
  },
  {
   "cell_type": "code",
   "execution_count": null,
   "id": "f2cc1e4e",
   "metadata": {},
   "outputs": [],
   "source": [
    "def armstrong_num2(num):\n",
    "    # num is given as parameter to this function, meaning this function will expect\n",
    "    # an input or value which will be assigned to variable or parameter num\n",
    "    '''This function checks whether a given number is armstrong or not?'''\n",
    "    num = str(num)\n",
    "    digits = len(num)\n",
    "    if int(num) == sum([int(i) ** digits for i in num]):\n",
    "        return int(num)"
   ]
  },
  {
   "cell_type": "code",
   "execution_count": null,
   "id": "f70f95d5",
   "metadata": {},
   "outputs": [
    {
     "name": "stdout",
     "output_type": "stream",
     "text": [
      "1\n",
      "2\n",
      "3\n",
      "4\n",
      "5\n",
      "6\n",
      "7\n",
      "8\n",
      "9\n",
      "153\n",
      "370\n",
      "371\n",
      "407\n"
     ]
    }
   ],
   "source": [
    "# using for loops find all armstrong numbers between 1 and 1001\n",
    "arm_num = []\n",
    "for i in range(1, 1001):\n",
    "    if type(armstrong_num2(i)) == int:\n",
    "        print(i)"
   ]
  },
  {
   "cell_type": "markdown",
   "id": "b91ea200",
   "metadata": {},
   "source": [
    "# Positional and Keywprd arguments in python functions"
   ]
  },
  {
   "cell_type": "code",
   "execution_count": 33,
   "id": "5e74485e",
   "metadata": {},
   "outputs": [],
   "source": [
    "def name(firs_name, last_name):\n",
    "    return f'My name is {firs_name} {last_name}'"
   ]
  },
  {
   "cell_type": "code",
   "execution_count": 34,
   "id": "53c9e7ef",
   "metadata": {},
   "outputs": [
    {
     "data": {
      "text/plain": [
       "'My name is Vusal Gasimov'"
      ]
     },
     "execution_count": 34,
     "metadata": {},
     "output_type": "execute_result"
    }
   ],
   "source": [
    "name('Vusal', 'Gasimov')"
   ]
  },
  {
   "cell_type": "code",
   "execution_count": 35,
   "id": "825ff735",
   "metadata": {},
   "outputs": [
    {
     "data": {
      "text/plain": [
       "'My name is Vusal Gasimov'"
      ]
     },
     "execution_count": 35,
     "metadata": {},
     "output_type": "execute_result"
    }
   ],
   "source": [
    "name(last_name='Gasimov', firs_name='Vusal')"
   ]
  },
  {
   "cell_type": "code",
   "execution_count": 36,
   "id": "351edbf9",
   "metadata": {},
   "outputs": [
    {
     "ename": "TypeError",
     "evalue": "name() missing 1 required positional argument: 'last_name'",
     "output_type": "error",
     "traceback": [
      "\u001b[31m---------------------------------------------------------------------------\u001b[39m",
      "\u001b[31mTypeError\u001b[39m                                 Traceback (most recent call last)",
      "\u001b[36mCell\u001b[39m\u001b[36m \u001b[39m\u001b[32mIn[36]\u001b[39m\u001b[32m, line 2\u001b[39m\n\u001b[32m      1\u001b[39m \u001b[38;5;66;03m# you cannot add 1 value of function expects 2 values\u001b[39;00m\n\u001b[32m----> \u001b[39m\u001b[32m2\u001b[39m \u001b[43mname\u001b[49m\u001b[43m(\u001b[49m\u001b[33;43m'\u001b[39;49m\u001b[33;43mVusal\u001b[39;49m\u001b[33;43m'\u001b[39;49m\u001b[43m)\u001b[49m\n",
      "\u001b[31mTypeError\u001b[39m: name() missing 1 required positional argument: 'last_name'"
     ]
    }
   ],
   "source": [
    "# you cannot add 1 value of function expects 2 values\n",
    "name('Vusal')"
   ]
  },
  {
   "cell_type": "code",
   "execution_count": 40,
   "id": "2a9b512d",
   "metadata": {},
   "outputs": [],
   "source": [
    "# you can provide a default value for a parameter\n",
    "def name_2 (first_name, last_name='Gasimov'):\n",
    "    return f'My name is {first_name} {last_name}'"
   ]
  },
  {
   "cell_type": "code",
   "execution_count": null,
   "id": "93c49b0c",
   "metadata": {},
   "outputs": [
    {
     "data": {
      "text/plain": [
       "'My name is Vusal Royal'"
      ]
     },
     "execution_count": 41,
     "metadata": {},
     "output_type": "execute_result"
    }
   ],
   "source": [
    "# you can provide new value for last_name\n",
    "name_2('Vusal', 'Royal')"
   ]
  },
  {
   "cell_type": "code",
   "execution_count": null,
   "id": "ff957390",
   "metadata": {},
   "outputs": [
    {
     "data": {
      "text/plain": [
       "'My name is Vusal Gasimov'"
      ]
     },
     "execution_count": 42,
     "metadata": {},
     "output_type": "execute_result"
    }
   ],
   "source": [
    "# you do not need to provide for last_name\n",
    "name_2('Vusal')"
   ]
  },
  {
   "cell_type": "code",
   "execution_count": null,
   "id": "d45dbd80",
   "metadata": {},
   "outputs": [
    {
     "ename": "SyntaxError",
     "evalue": "positional argument follows keyword argument (752759164.py, line 1)",
     "output_type": "error",
     "traceback": [
      "  \u001b[36mCell\u001b[39m\u001b[36m \u001b[39m\u001b[32mIn[43]\u001b[39m\u001b[32m, line 1\u001b[39m\n\u001b[31m    \u001b[39m\u001b[31mname_2(last_name='Gasimov', 'Vusal')\u001b[39m\n                                       ^\n\u001b[31mSyntaxError\u001b[39m\u001b[31m:\u001b[39m positional argument follows keyword argument\n"
     ]
    }
   ],
   "source": [
    "name_2(last_name='Gasimov', 'Vusal')\n",
    "# if you enter positinal argument (last_name='Gasimov'), you cannot add keyword argument ('Vusal')"
   ]
  },
  {
   "cell_type": "code",
   "execution_count": 44,
   "id": "7d9729f0",
   "metadata": {},
   "outputs": [
    {
     "ename": "TypeError",
     "evalue": "name_2() got multiple values for argument 'first_name'",
     "output_type": "error",
     "traceback": [
      "\u001b[31m---------------------------------------------------------------------------\u001b[39m",
      "\u001b[31mTypeError\u001b[39m                                 Traceback (most recent call last)",
      "\u001b[36mCell\u001b[39m\u001b[36m \u001b[39m\u001b[32mIn[44]\u001b[39m\u001b[32m, line 1\u001b[39m\n\u001b[32m----> \u001b[39m\u001b[32m1\u001b[39m \u001b[43mname_2\u001b[49m\u001b[43m(\u001b[49m\u001b[33;43m'\u001b[39;49m\u001b[33;43mGasimov\u001b[39;49m\u001b[33;43m'\u001b[39;49m\u001b[43m,\u001b[49m\u001b[43m \u001b[49m\u001b[43mfirst_name\u001b[49m\u001b[43m=\u001b[49m\u001b[33;43m'\u001b[39;49m\u001b[33;43mVusal\u001b[39;49m\u001b[33;43m'\u001b[39;49m\u001b[43m)\u001b[49m\n",
      "\u001b[31mTypeError\u001b[39m: name_2() got multiple values for argument 'first_name'"
     ]
    }
   ],
   "source": [
    "name_2('Gasimov', first_name='Vusal')\n"
   ]
  },
  {
   "cell_type": "code",
   "execution_count": null,
   "id": "0f7fe563",
   "metadata": {},
   "outputs": [],
   "source": [
    "def name_3 (first_name, last_name, oglu='Vusal'):\n",
    "    return f'My name is {first_name} {last_name} {oglu} oglu'"
   ]
  },
  {
   "cell_type": "code",
   "execution_count": 48,
   "id": "cace500d",
   "metadata": {},
   "outputs": [
    {
     "data": {
      "text/plain": [
       "'My name is Royal Gasimov Vusal oglu'"
      ]
     },
     "execution_count": 48,
     "metadata": {},
     "output_type": "execute_result"
    }
   ],
   "source": [
    "name_3('Royal', 'Gasimov')"
   ]
  },
  {
   "cell_type": "code",
   "execution_count": null,
   "id": "66037195",
   "metadata": {},
   "outputs": [
    {
     "ename": "SyntaxError",
     "evalue": "parameter without a default follows parameter with a default (4249192460.py, line 3)",
     "output_type": "error",
     "traceback": [
      "  \u001b[36mCell\u001b[39m\u001b[36m \u001b[39m\u001b[32mIn[49]\u001b[39m\u001b[32m, line 3\u001b[39m\n\u001b[31m    \u001b[39m\u001b[31mdef name_3 (first_name, last_name='Gasimov', oglu):\u001b[39m\n                                                 ^\n\u001b[31mSyntaxError\u001b[39m\u001b[31m:\u001b[39m parameter without a default follows parameter with a default\n"
     ]
    }
   ],
   "source": [
    "# default parameter has not be at the end\n",
    "# positional argument cannot follow the keyword argument\n",
    "# non-default argument cannot follow the default argument\n",
    "def name_3 (first_name, last_name='Gasimov', oglu):\n",
    "    return f'My name is {first_name} {last_name} {oglu} oglu'"
   ]
  },
  {
   "cell_type": "code",
   "execution_count": 50,
   "id": "3f31416a",
   "metadata": {},
   "outputs": [],
   "source": [
    "def name_4 (first_name, last_name='Gasimov', ata='Vusal', oglu='oglu'):\n",
    "    return f'My name is {first_name} {last_name} {ata} {oglu}'"
   ]
  },
  {
   "cell_type": "code",
   "execution_count": 51,
   "id": "3d738af9",
   "metadata": {},
   "outputs": [],
   "source": [
    "# the following function takes 5 inputs and provides the off number of the input list\n",
    "def odd_nums(a, s, d, f, g):\n",
    "    odd_list = []\n",
    "    for i in a, s, d, f, g:\n",
    "        if i % 2 == 1:\n",
    "            odd_list.append(i)\n",
    "    return odd_list"
   ]
  },
  {
   "cell_type": "code",
   "execution_count": 52,
   "id": "f9f5bcaa",
   "metadata": {},
   "outputs": [
    {
     "data": {
      "text/plain": [
       "[3, 1]"
      ]
     },
     "execution_count": 52,
     "metadata": {},
     "output_type": "execute_result"
    }
   ],
   "source": [
    "odd_nums(2, 3, 1, 82, 98)"
   ]
  },
  {
   "cell_type": "code",
   "execution_count": 53,
   "id": "18392022",
   "metadata": {},
   "outputs": [],
   "source": [
    "# the following function takes 5 inputs and provides the off number of the input list\n",
    "def odd_nums_2(num_list):\n",
    "    odd_list = []\n",
    "    for i in num_list:\n",
    "        if i % 2 == 1:\n",
    "            odd_list.append(i)\n",
    "    return odd_list"
   ]
  },
  {
   "cell_type": "code",
   "execution_count": null,
   "id": "62d49b74",
   "metadata": {},
   "outputs": [
    {
     "data": {
      "text/plain": [
       "[3, 1]"
      ]
     },
     "execution_count": 55,
     "metadata": {},
     "output_type": "execute_result"
    }
   ],
   "source": [
    "odd_nums_2([2, 3, 1, 82, 98])"
   ]
  },
  {
   "cell_type": "markdown",
   "id": "aae19c58",
   "metadata": {},
   "source": [
    "## Arbitrary number of arguments(*argument, **keyword_argument)"
   ]
  },
  {
   "cell_type": "code",
   "execution_count": null,
   "id": "5dc5b817",
   "metadata": {},
   "outputs": [],
   "source": [
    "print(12, True, \"str\")\n",
    "# print function expect positional argument"
   ]
  },
  {
   "cell_type": "code",
   "execution_count": 57,
   "id": "8cdf6d28",
   "metadata": {},
   "outputs": [],
   "source": [
    "def odd_nums_3(*numbers):\n",
    "    odd_list = []\n",
    "    for i in numbers:\n",
    "        if i % 2 == 1:\n",
    "            odd_list.append(i)\n",
    "    return odd_list"
   ]
  },
  {
   "cell_type": "code",
   "execution_count": null,
   "id": "f0aab23d",
   "metadata": {},
   "outputs": [
    {
     "data": {
      "text/plain": [
       "[1, 3, 5, 7]"
      ]
     },
     "execution_count": 58,
     "metadata": {},
     "output_type": "execute_result"
    }
   ],
   "source": [
    "# we can provide as many element as we want\n",
    "odd_nums_3(1, 2, 3, 4, 5, 6, 7)"
   ]
  },
  {
   "cell_type": "code",
   "execution_count": 63,
   "id": "c5752783",
   "metadata": {},
   "outputs": [],
   "source": [
    "# define a function that tales arbitrary inputs and sqaure the ven number\n",
    "def odd_even(*numbers):\n",
    "    odd_list = []\n",
    "    even_list = []\n",
    "    for i in numbers:\n",
    "        if i % 2 == 1:\n",
    "            odd_list.append(i * 2)\n",
    "        else:\n",
    "            even_list.append(i ** 2)\n",
    "    return f'The double of odd numbers are: {odd_list}, double of the even numbers are: {even_list}'"
   ]
  },
  {
   "cell_type": "code",
   "execution_count": null,
   "id": "bc881671",
   "metadata": {},
   "outputs": [
    {
     "data": {
      "text/plain": [
       "'The double of odd numbers are: [2, 6], double of the even numbers are: [4, 16, 36, 16, 64]'"
      ]
     },
     "execution_count": 64,
     "metadata": {},
     "output_type": "execute_result"
    }
   ],
   "source": [
    "odd_even(1, 3, 2, 4, 6, 4, 8)"
   ]
  },
  {
   "cell_type": "code",
   "execution_count": null,
   "id": "b11dbc7f",
   "metadata": {},
   "outputs": [
    {
     "ename": "TypeError",
     "evalue": "unsupported operand type(s) for %: 'list' and 'int'",
     "output_type": "error",
     "traceback": [
      "\u001b[31m---------------------------------------------------------------------------\u001b[39m",
      "\u001b[31mTypeError\u001b[39m                                 Traceback (most recent call last)",
      "\u001b[36mCell\u001b[39m\u001b[36m \u001b[39m\u001b[32mIn[67]\u001b[39m\u001b[32m, line 1\u001b[39m\n\u001b[32m----> \u001b[39m\u001b[32m1\u001b[39m \u001b[43modd_even\u001b[49m\u001b[43m(\u001b[49m\u001b[43m[\u001b[49m\u001b[32;43m1\u001b[39;49m\u001b[43m,\u001b[49m\u001b[43m \u001b[49m\u001b[32;43m3\u001b[39;49m\u001b[43m,\u001b[49m\u001b[43m \u001b[49m\u001b[32;43m2\u001b[39;49m\u001b[43m,\u001b[49m\u001b[43m \u001b[49m\u001b[32;43m4\u001b[39;49m\u001b[43m,\u001b[49m\u001b[43m \u001b[49m\u001b[32;43m6\u001b[39;49m\u001b[43m,\u001b[49m\u001b[43m \u001b[49m\u001b[32;43m4\u001b[39;49m\u001b[43m,\u001b[49m\u001b[43m \u001b[49m\u001b[32;43m8\u001b[39;49m\u001b[43m]\u001b[49m\u001b[43m)\u001b[49m\n",
      "\u001b[36mCell\u001b[39m\u001b[36m \u001b[39m\u001b[32mIn[63]\u001b[39m\u001b[32m, line 6\u001b[39m, in \u001b[36modd_even\u001b[39m\u001b[34m(*numbers)\u001b[39m\n\u001b[32m      4\u001b[39m even_list = []\n\u001b[32m      5\u001b[39m \u001b[38;5;28;01mfor\u001b[39;00m i \u001b[38;5;129;01min\u001b[39;00m numbers:\n\u001b[32m----> \u001b[39m\u001b[32m6\u001b[39m     \u001b[38;5;28;01mif\u001b[39;00m \u001b[43mi\u001b[49m\u001b[43m \u001b[49m\u001b[43m%\u001b[49m\u001b[43m \u001b[49m\u001b[32;43m2\u001b[39;49m == \u001b[32m1\u001b[39m:\n\u001b[32m      7\u001b[39m         odd_list.append(i * \u001b[32m2\u001b[39m)\n\u001b[32m      8\u001b[39m     \u001b[38;5;28;01melse\u001b[39;00m:\n",
      "\u001b[31mTypeError\u001b[39m: unsupported operand type(s) for %: 'list' and 'int'"
     ]
    }
   ],
   "source": [
    "odd_even([1, 3, 2, 4, 6, 4, 8])\n",
    "# python is tring to check if the entire list is even or odd\n",
    "# it does not look at the each element of the list"
   ]
  },
  {
   "cell_type": "code",
   "execution_count": 68,
   "id": "104760b8",
   "metadata": {},
   "outputs": [
    {
     "data": {
      "text/plain": [
       "'The double of odd numbers are: [2, 6], double of the even numbers are: [4, 16, 36, 16, 64]'"
      ]
     },
     "execution_count": 68,
     "metadata": {},
     "output_type": "execute_result"
    }
   ],
   "source": [
    "# add * at the beggining of element\n",
    "# by adding the * before the collection, we are telling that check the elements inside it\n",
    "odd_even(*[1, 3, 2, 4, 6, 4, 8])"
   ]
  },
  {
   "cell_type": "code",
   "execution_count": 69,
   "id": "f027dcab",
   "metadata": {},
   "outputs": [
    {
     "data": {
      "text/plain": [
       "'The double of odd numbers are: [6, 10, 14, 18], double of the even numbers are: [4, 16, 36, 64]'"
      ]
     },
     "execution_count": 69,
     "metadata": {},
     "output_type": "execute_result"
    }
   ],
   "source": [
    "odd_even(*range(2, 10))"
   ]
  },
  {
   "cell_type": "code",
   "execution_count": 70,
   "id": "20cef5b3",
   "metadata": {},
   "outputs": [],
   "source": [
    "def sq_double(*numbers):\n",
    "    list = [(i*2) if i %2 == 1 else i**2 for i in numbers]\n",
    "    return list"
   ]
  },
  {
   "cell_type": "code",
   "execution_count": 71,
   "id": "2da3bab9",
   "metadata": {},
   "outputs": [
    {
     "data": {
      "text/plain": [
       "[4, 16, 4, 10, 14, 144]"
      ]
     },
     "execution_count": 71,
     "metadata": {},
     "output_type": "execute_result"
    }
   ],
   "source": [
    "sq_double(2, 4, 2, 5, 7, 12)"
   ]
  }
 ],
 "metadata": {
  "kernelspec": {
   "display_name": "Python 3",
   "language": "python",
   "name": "python3"
  },
  "language_info": {
   "codemirror_mode": {
    "name": "ipython",
    "version": 3
   },
   "file_extension": ".py",
   "mimetype": "text/x-python",
   "name": "python",
   "nbconvert_exporter": "python",
   "pygments_lexer": "ipython3",
   "version": "3.13.7"
  }
 },
 "nbformat": 4,
 "nbformat_minor": 5
}
