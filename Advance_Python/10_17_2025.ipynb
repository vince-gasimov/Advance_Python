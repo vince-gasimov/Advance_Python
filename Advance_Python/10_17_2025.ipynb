{
 "cells": [
  {
   "cell_type": "markdown",
   "id": "e3b39670",
   "metadata": {},
   "source": [
    "# filter()\n",
    "\n",
    "- has 2 parameter: function or None and iterable data"
   ]
  },
  {
   "cell_type": "code",
   "execution_count": 1,
   "id": "07549e1e",
   "metadata": {},
   "outputs": [
    {
     "name": "stdout",
     "output_type": "stream",
     "text": [
      "Help on class filter in module builtins:\n",
      "\n",
      "class filter(object)\n",
      " |  filter(function, iterable, /)\n",
      " |\n",
      " |  Return an iterator yielding those items of iterable for which function(item)\n",
      " |  is true. If function is None, return the items that are true.\n",
      " |\n",
      " |  Methods defined here:\n",
      " |\n",
      " |  __getattribute__(self, name, /)\n",
      " |      Return getattr(self, name).\n",
      " |\n",
      " |  __iter__(self, /)\n",
      " |      Implement iter(self).\n",
      " |\n",
      " |  __next__(self, /)\n",
      " |      Implement next(self).\n",
      " |\n",
      " |  __reduce__(self, /)\n",
      " |      Return state information for pickling.\n",
      " |\n",
      " |  ----------------------------------------------------------------------\n",
      " |  Static methods defined here:\n",
      " |\n",
      " |  __new__(*args, **kwargs)\n",
      " |      Create and return a new object.  See help(type) for accurate signature.\n",
      "\n"
     ]
    }
   ],
   "source": [
    "help(filter)"
   ]
  },
  {
   "cell_type": "code",
   "execution_count": null,
   "id": "5d8b87b5",
   "metadata": {},
   "outputs": [
    {
     "data": {
      "text/plain": [
       "<filter at 0x1186814b0>"
      ]
     },
     "execution_count": 3,
     "metadata": {},
     "output_type": "execute_result"
    }
   ],
   "source": [
    "filter(None, 'hello')\n",
    "# filter does not return the reult itself"
   ]
  },
  {
   "cell_type": "code",
   "execution_count": null,
   "id": "73bb9fbd",
   "metadata": {},
   "outputs": [
    {
     "data": {
      "text/plain": [
       "('h', 'e', 'l', 'l', 'o')"
      ]
     },
     "execution_count": 4,
     "metadata": {},
     "output_type": "execute_result"
    }
   ],
   "source": [
    "# need to use inside of list or tuple or set (iterable data)\n",
    "tuple(filter(None, 'hello'))\n",
    "# it will iterate the data, because we did not gave function ( we gave None), it will iterate the data"
   ]
  },
  {
   "cell_type": "code",
   "execution_count": null,
   "id": "faed9b5d",
   "metadata": {},
   "outputs": [
    {
     "data": {
      "text/plain": [
       "(1, 2, True, 'dskjfdk')"
      ]
     },
     "execution_count": 5,
     "metadata": {},
     "output_type": "execute_result"
    }
   ],
   "source": [
    "tuple(filter(None, [1, 2, 0, 0.0, True, False, 'dskjfdk', '']))\n",
    "# because we did not give function, it will return Truthy values"
   ]
  },
  {
   "cell_type": "code",
   "execution_count": 6,
   "id": "e0259a6c",
   "metadata": {},
   "outputs": [],
   "source": [
    "def odd_finder(x):\n",
    "    if x % 2 == 1:\n",
    "        return True\n",
    "    else:\n",
    "        return False"
   ]
  },
  {
   "cell_type": "code",
   "execution_count": 8,
   "id": "59e39a37",
   "metadata": {},
   "outputs": [
    {
     "data": {
      "text/plain": [
       "True"
      ]
     },
     "execution_count": 8,
     "metadata": {},
     "output_type": "execute_result"
    }
   ],
   "source": [
    "odd_finder(3)"
   ]
  },
  {
   "cell_type": "code",
   "execution_count": 9,
   "id": "fee11d48",
   "metadata": {},
   "outputs": [
    {
     "data": {
      "text/plain": [
       "False"
      ]
     },
     "execution_count": 9,
     "metadata": {},
     "output_type": "execute_result"
    }
   ],
   "source": [
    "odd_finder(2)"
   ]
  },
  {
   "cell_type": "code",
   "execution_count": null,
   "id": "92cfc2f5",
   "metadata": {},
   "outputs": [
    {
     "ename": "TypeError",
     "evalue": "unsupported operand type(s) for %: 'list' and 'int'",
     "output_type": "error",
     "traceback": [
      "\u001b[31m---------------------------------------------------------------------------\u001b[39m",
      "\u001b[31mTypeError\u001b[39m                                 Traceback (most recent call last)",
      "\u001b[36mCell\u001b[39m\u001b[36m \u001b[39m\u001b[32mIn[10]\u001b[39m\u001b[32m, line 1\u001b[39m\n\u001b[32m----> \u001b[39m\u001b[32m1\u001b[39m \u001b[43modd_finder\u001b[49m\u001b[43m(\u001b[49m\u001b[43m[\u001b[49m\u001b[32;43m1\u001b[39;49m\u001b[43m,\u001b[49m\u001b[43m \u001b[49m\u001b[32;43m2\u001b[39;49m\u001b[43m,\u001b[49m\u001b[43m \u001b[49m\u001b[32;43m3\u001b[39;49m\u001b[43m]\u001b[49m\u001b[43m)\u001b[49m\n",
      "\u001b[36mCell\u001b[39m\u001b[36m \u001b[39m\u001b[32mIn[6]\u001b[39m\u001b[32m, line 2\u001b[39m, in \u001b[36modd_finder\u001b[39m\u001b[34m(x)\u001b[39m\n\u001b[32m      1\u001b[39m \u001b[38;5;28;01mdef\u001b[39;00m\u001b[38;5;250m \u001b[39m\u001b[34modd_finder\u001b[39m(x):\n\u001b[32m----> \u001b[39m\u001b[32m2\u001b[39m     \u001b[38;5;28;01mif\u001b[39;00m \u001b[43mx\u001b[49m\u001b[43m \u001b[49m\u001b[43m%\u001b[49m\u001b[43m \u001b[49m\u001b[32;43m2\u001b[39;49m == \u001b[32m1\u001b[39m:\n\u001b[32m      3\u001b[39m         \u001b[38;5;28;01mreturn\u001b[39;00m \u001b[38;5;28;01mTrue\u001b[39;00m\n\u001b[32m      4\u001b[39m     \u001b[38;5;28;01melse\u001b[39;00m:\n",
      "\u001b[31mTypeError\u001b[39m: unsupported operand type(s) for %: 'list' and 'int'"
     ]
    }
   ],
   "source": [
    "odd_finder([1, 2, 3])\n",
    "# you cannot apply to list of number\n",
    "# when the function was defined, it saied we neeed to apply only 1 element"
   ]
  },
  {
   "cell_type": "code",
   "execution_count": null,
   "id": "6d99ac9d",
   "metadata": {},
   "outputs": [
    {
     "data": {
      "text/plain": [
       "(1, 3, 5, 7)"
      ]
     },
     "execution_count": 13,
     "metadata": {},
     "output_type": "execute_result"
    }
   ],
   "source": [
    "tuple(filter(odd_finder, [1, 2, 3, 4, 5, 6, 7, 8]))\n",
    "# based on the function, it will return the truthy values"
   ]
  },
  {
   "cell_type": "code",
   "execution_count": 14,
   "id": "db2b68b9",
   "metadata": {},
   "outputs": [
    {
     "data": {
      "text/plain": [
       "{1, 3, 5, 7}"
      ]
     },
     "execution_count": 14,
     "metadata": {},
     "output_type": "execute_result"
    }
   ],
   "source": [
    "set(filter(odd_finder, [1, 2, 3, 4, 5, 6, 7, 8]))"
   ]
  },
  {
   "cell_type": "code",
   "execution_count": 15,
   "id": "d593f6b9",
   "metadata": {},
   "outputs": [
    {
     "data": {
      "text/plain": [
       "(1, 3, 5, 7)"
      ]
     },
     "execution_count": 15,
     "metadata": {},
     "output_type": "execute_result"
    }
   ],
   "source": [
    "tuple(filter(odd_finder, {1, 2, 3, 4, 5, 6, 7, 8}))"
   ]
  },
  {
   "cell_type": "code",
   "execution_count": 20,
   "id": "5d095826",
   "metadata": {},
   "outputs": [],
   "source": [
    "def odd_finder_2(x):\n",
    "    if x % 2 == 1:\n",
    "        return 1\n",
    "    else:\n",
    "        return 0"
   ]
  },
  {
   "cell_type": "code",
   "execution_count": 21,
   "id": "77c90775",
   "metadata": {},
   "outputs": [
    {
     "data": {
      "text/plain": [
       "(1, 3, 5, 7)"
      ]
     },
     "execution_count": 21,
     "metadata": {},
     "output_type": "execute_result"
    }
   ],
   "source": [
    "tuple(filter(odd_finder_2, [1, 2, 3, 4, 5, 6, 7, 8]))"
   ]
  },
  {
   "cell_type": "code",
   "execution_count": 23,
   "id": "4d8262ab",
   "metadata": {},
   "outputs": [],
   "source": [
    "def odd_finder_3(x):\n",
    "    if x % 2 == 1:\n",
    "        return \"sdfsdg\"\n",
    "    else:\n",
    "        return ''"
   ]
  },
  {
   "cell_type": "code",
   "execution_count": 25,
   "id": "f5cd9243",
   "metadata": {},
   "outputs": [
    {
     "data": {
      "text/plain": [
       "(1, 3, 5, 7)"
      ]
     },
     "execution_count": 25,
     "metadata": {},
     "output_type": "execute_result"
    }
   ],
   "source": [
    "tuple(filter(odd_finder_3, [1, 2, 3, 4, 5, 6, 7, 8]))\n",
    "# filter function does not look at true and false, \n",
    "# it checks what cunditions the function results truthy or falsy\n",
    "# result does not necesserily have to be True or False it can work with any Truthy and falsy data"
   ]
  },
  {
   "cell_type": "code",
   "execution_count": 26,
   "id": "771b7ce8",
   "metadata": {},
   "outputs": [],
   "source": [
    "def odd_finder_4(x):\n",
    "    if x % 2 == 1:\n",
    "        return -90.87\n",
    "    else:\n",
    "        return None"
   ]
  },
  {
   "cell_type": "code",
   "execution_count": 28,
   "id": "dd41a2f3",
   "metadata": {},
   "outputs": [
    {
     "data": {
      "text/plain": [
       "(1, 3, 5, 7)"
      ]
     },
     "execution_count": 28,
     "metadata": {},
     "output_type": "execute_result"
    }
   ],
   "source": [
    "tuple(filter(odd_finder_4, [1, 2, 3, 4, 5, 6, 7, 8]))"
   ]
  },
  {
   "cell_type": "code",
   "execution_count": null,
   "id": "f47c55df",
   "metadata": {},
   "outputs": [
    {
     "data": {
      "text/plain": [
       "[<filter at 0x118709ba0>]"
      ]
     },
     "execution_count": 29,
     "metadata": {},
     "output_type": "execute_result"
    }
   ],
   "source": [
    "\n",
    "# although we wrote the function inside a list, it will not return a result, we need functions like list or tuple\n",
    "[filter(odd_finder_4, [1, 2, 3, 4, 5, 6, 7, 8])]"
   ]
  },
  {
   "cell_type": "code",
   "execution_count": null,
   "id": "2ef93370",
   "metadata": {},
   "outputs": [
    {
     "data": {
      "text/plain": [
       "('filter', 'helo', 'bye', [1, 2, 3])"
      ]
     },
     "execution_count": 35,
     "metadata": {},
     "output_type": "execute_result"
    }
   ],
   "source": [
    "tuple(filter(len, ('filter', 'helo', '', [], 'bye', [1, 2, 3])))\n",
    "# we will still get the Truthy values"
   ]
  },
  {
   "cell_type": "code",
   "execution_count": null,
   "id": "4f379f36",
   "metadata": {},
   "outputs": [],
   "source": [
    "# function that finds iterable data with 5 elements\n",
    "def len_5(x):\n",
    "    if len(x) == 5:\n",
    "        return True\n",
    "    else:\n",
    "        False"
   ]
  },
  {
   "cell_type": "code",
   "execution_count": 37,
   "id": "410e76f1",
   "metadata": {},
   "outputs": [
    {
     "data": {
      "text/plain": [
       "True"
      ]
     },
     "execution_count": 37,
     "metadata": {},
     "output_type": "execute_result"
    }
   ],
   "source": [
    "len_5('hello')"
   ]
  },
  {
   "cell_type": "code",
   "execution_count": 38,
   "id": "d5f7f856",
   "metadata": {},
   "outputs": [
    {
     "data": {
      "text/plain": [
       "True"
      ]
     },
     "execution_count": 38,
     "metadata": {},
     "output_type": "execute_result"
    }
   ],
   "source": [
    "len_5([1, 2, 3, 4, 5])"
   ]
  },
  {
   "cell_type": "code",
   "execution_count": 40,
   "id": "bd7264ac",
   "metadata": {},
   "outputs": [],
   "source": [
    "names = ['Vusal', 'Dila', 'Royal', 'aefa', 'wedafc']"
   ]
  },
  {
   "cell_type": "code",
   "execution_count": 42,
   "id": "141b46e4",
   "metadata": {},
   "outputs": [
    {
     "data": {
      "text/plain": [
       "True"
      ]
     },
     "execution_count": 42,
     "metadata": {},
     "output_type": "execute_result"
    }
   ],
   "source": [
    "len_5(names)\n",
    "# it performs the 5 element finding on the entire list\n",
    "# it does not loop at the each element"
   ]
  },
  {
   "cell_type": "code",
   "execution_count": null,
   "id": "fab2f130",
   "metadata": {},
   "outputs": [
    {
     "data": {
      "text/plain": [
       "{'Royal', 'Vusal'}"
      ]
     },
     "execution_count": 43,
     "metadata": {},
     "output_type": "execute_result"
    }
   ],
   "source": [
    "set(filter(len_5, names))\n",
    "# use filter function, we can look up each element inside the list and return if element has more than 5 chars"
   ]
  },
  {
   "cell_type": "code",
   "execution_count": 118,
   "id": "a13ccf96",
   "metadata": {},
   "outputs": [],
   "source": [
    "# define a function that find if the number is a prime number\n",
    "def prime_finder(x):\n",
    "    for i in range (2, x): # we are excluding 1 and exlucding number itself\n",
    "        if x % i == 0:\n",
    "            return False\n",
    "            break\n",
    "    return True"
   ]
  },
  {
   "cell_type": "code",
   "execution_count": 50,
   "id": "bb927af2",
   "metadata": {},
   "outputs": [
    {
     "data": {
      "text/plain": [
       "True"
      ]
     },
     "execution_count": 50,
     "metadata": {},
     "output_type": "execute_result"
    }
   ],
   "source": [
    "prime_finder(3)"
   ]
  },
  {
   "cell_type": "code",
   "execution_count": 119,
   "id": "66845efa",
   "metadata": {},
   "outputs": [
    {
     "data": {
      "text/plain": [
       "[3,\n",
       " 5,\n",
       " 7,\n",
       " 11,\n",
       " 13,\n",
       " 17,\n",
       " 19,\n",
       " 23,\n",
       " 29,\n",
       " 31,\n",
       " 37,\n",
       " 41,\n",
       " 43,\n",
       " 47,\n",
       " 53,\n",
       " 59,\n",
       " 61,\n",
       " 67,\n",
       " 71,\n",
       " 73,\n",
       " 79,\n",
       " 83,\n",
       " 89,\n",
       " 97]"
      ]
     },
     "execution_count": 119,
     "metadata": {},
     "output_type": "execute_result"
    }
   ],
   "source": [
    "list(filter(prime_finder, range(3, 100)))"
   ]
  },
  {
   "cell_type": "markdown",
   "id": "b23dca7d",
   "metadata": {},
   "source": [
    "# lambda()\n",
    " - simple way of defining a temporary function, specially one use\n",
    "- syntex: (lambda parameters/variables:operation)(arguments/values)"
   ]
  },
  {
   "cell_type": "code",
   "execution_count": 54,
   "id": "45061b9d",
   "metadata": {},
   "outputs": [],
   "source": [
    "# define a function using def and lambda technuqies to calculate sum of squares of two values\n",
    "\n",
    "def sum_squares(x, y):\n",
    "    return x**2 + y**2"
   ]
  },
  {
   "cell_type": "code",
   "execution_count": 55,
   "id": "eeb32cfd",
   "metadata": {},
   "outputs": [
    {
     "data": {
      "text/plain": [
       "25"
      ]
     },
     "execution_count": 55,
     "metadata": {},
     "output_type": "execute_result"
    }
   ],
   "source": [
    "sum_squares(3, 4)"
   ]
  },
  {
   "cell_type": "code",
   "execution_count": 57,
   "id": "82957ea7",
   "metadata": {},
   "outputs": [
    {
     "name": "stdout",
     "output_type": "stream",
     "text": [
      "Help on function sum_squares in module __main__:\n",
      "\n",
      "sum_squares(x, y)\n",
      "\n"
     ]
    }
   ],
   "source": [
    "help(sum_squares)\n",
    "# it takes up space"
   ]
  },
  {
   "cell_type": "code",
   "execution_count": 59,
   "id": "e6c50a0b",
   "metadata": {},
   "outputs": [
    {
     "data": {
      "text/plain": [
       "25"
      ]
     },
     "execution_count": 59,
     "metadata": {},
     "output_type": "execute_result"
    }
   ],
   "source": [
    "# if you dont want to take up spce, use lambda\n",
    "(lambda x, y: x**2 + y**2)(3, 4)"
   ]
  },
  {
   "cell_type": "code",
   "execution_count": 60,
   "id": "d8614423",
   "metadata": {},
   "outputs": [
    {
     "data": {
      "text/plain": [
       "490"
      ]
     },
     "execution_count": 60,
     "metadata": {},
     "output_type": "execute_result"
    }
   ],
   "source": [
    "(lambda x, y: x**2 + y**2)(21, 7)"
   ]
  },
  {
   "cell_type": "code",
   "execution_count": 61,
   "id": "97b72fa4",
   "metadata": {},
   "outputs": [
    {
     "data": {
      "text/plain": [
       "1"
      ]
     },
     "execution_count": 61,
     "metadata": {},
     "output_type": "execute_result"
    }
   ],
   "source": [
    "(lambda x, y: x**2 + y**2)(True, False)\n",
    "# True = 1 and False = 0"
   ]
  },
  {
   "cell_type": "code",
   "execution_count": 63,
   "id": "5570425c",
   "metadata": {},
   "outputs": [
    {
     "ename": "TypeError",
     "evalue": "<lambda>() missing 1 required positional argument: 'y'",
     "output_type": "error",
     "traceback": [
      "\u001b[31m---------------------------------------------------------------------------\u001b[39m",
      "\u001b[31mTypeError\u001b[39m                                 Traceback (most recent call last)",
      "\u001b[36mCell\u001b[39m\u001b[36m \u001b[39m\u001b[32mIn[63]\u001b[39m\u001b[32m, line 1\u001b[39m\n\u001b[32m----> \u001b[39m\u001b[32m1\u001b[39m \u001b[43m(\u001b[49m\u001b[38;5;28;43;01mlambda\u001b[39;49;00m\u001b[43m \u001b[49m\u001b[43mx\u001b[49m\u001b[43m,\u001b[49m\u001b[43m \u001b[49m\u001b[43my\u001b[49m\u001b[43m:\u001b[49m\u001b[43m \u001b[49m\u001b[43mx\u001b[49m\u001b[43m*\u001b[49m\u001b[43m*\u001b[49m\u001b[32;43m2\u001b[39;49m\u001b[43m \u001b[49m\u001b[43m+\u001b[49m\u001b[43m \u001b[49m\u001b[43my\u001b[49m\u001b[43m*\u001b[49m\u001b[43m*\u001b[49m\u001b[32;43m2\u001b[39;49m\u001b[43m)\u001b[49m\u001b[43m(\u001b[49m\u001b[32;43m21\u001b[39;49m\u001b[43m)\u001b[49m\n\u001b[32m      2\u001b[39m \u001b[38;5;66;03m# while defining lambda function, we provided 2 parameters or variables\u001b[39;00m\n",
      "\u001b[31mTypeError\u001b[39m: <lambda>() missing 1 required positional argument: 'y'"
     ]
    }
   ],
   "source": [
    "(lambda x, y: x**2 + y**2)(21)\n",
    "# while defining lambda function, we provided 2 parameters or variables"
   ]
  },
  {
   "cell_type": "code",
   "execution_count": null,
   "id": "45503de8",
   "metadata": {},
   "outputs": [
    {
     "data": {
      "text/plain": [
       "False"
      ]
     },
     "execution_count": 65,
     "metadata": {},
     "output_type": "execute_result"
    }
   ],
   "source": [
    "# checking if the number of element of given string equals to 5\n",
    "(lambda x: len(x)==5)('techpro')"
   ]
  },
  {
   "cell_type": "code",
   "execution_count": 66,
   "id": "fc5aa820",
   "metadata": {},
   "outputs": [
    {
     "data": {
      "text/plain": [
       "True"
      ]
     },
     "execution_count": 66,
     "metadata": {},
     "output_type": "execute_result"
    }
   ],
   "source": [
    "(lambda x: len(x)==5)('vusal')"
   ]
  },
  {
   "cell_type": "code",
   "execution_count": null,
   "id": "8d73c5d5",
   "metadata": {},
   "outputs": [
    {
     "data": {
      "text/plain": [
       "True"
      ]
     },
     "execution_count": 67,
     "metadata": {},
     "output_type": "execute_result"
    }
   ],
   "source": [
    "(lambda x: len(x)==5)((1, 2, 3, 4, 5))\n",
    "# inside the tuple, we have 5 elements"
   ]
  },
  {
   "cell_type": "code",
   "execution_count": 69,
   "id": "b5303087",
   "metadata": {},
   "outputs": [],
   "source": [
    "names = ['Vusal', 'Dila', 'Royal', 'Gasimov']"
   ]
  },
  {
   "cell_type": "code",
   "execution_count": null,
   "id": "868a76eb",
   "metadata": {},
   "outputs": [
    {
     "data": {
      "text/plain": [
       "False"
      ]
     },
     "execution_count": 70,
     "metadata": {},
     "output_type": "execute_result"
    }
   ],
   "source": [
    "# it will check if the number of elements inside entire 'names' list equals to 5\n",
    "(lambda x: len(x)==5)(names)\n"
   ]
  },
  {
   "cell_type": "code",
   "execution_count": null,
   "id": "83ab4d16",
   "metadata": {},
   "outputs": [
    {
     "data": {
      "text/plain": [
       "['Vusal', 'Royal']"
      ]
     },
     "execution_count": 73,
     "metadata": {},
     "output_type": "execute_result"
    }
   ],
   "source": [
    "# check if number of EACH ellement inside  'names' list equals to 5\n",
    "# use filter function\n",
    "(filter((lambda x: len(x)==5), names)) # instead of pre defined function, we use lambda\n",
    "list(filter((lambda x: len(x)==5), names))\n"
   ]
  },
  {
   "cell_type": "code",
   "execution_count": 75,
   "id": "fcbc3a50",
   "metadata": {},
   "outputs": [
    {
     "data": {
      "text/plain": [
       "'lasuV'"
      ]
     },
     "execution_count": 75,
     "metadata": {},
     "output_type": "execute_result"
    }
   ],
   "source": [
    "# define a lambda function that reverses a given iterable data\n",
    "# syntex: (lambda parameters/variables:operation)(arguments/values)\n",
    "(lambda x: x[::-1])('Vusal')"
   ]
  },
  {
   "cell_type": "code",
   "execution_count": 76,
   "id": "ddfcabdc",
   "metadata": {},
   "outputs": [
    {
     "data": {
      "text/plain": [
       "[4, 3, 2, 1]"
      ]
     },
     "execution_count": 76,
     "metadata": {},
     "output_type": "execute_result"
    }
   ],
   "source": [
    "(lambda x: x[::-1])([1, 2, 3, 4])"
   ]
  },
  {
   "cell_type": "code",
   "execution_count": 79,
   "id": "f8412522",
   "metadata": {},
   "outputs": [
    {
     "data": {
      "text/plain": [
       "True"
      ]
     },
     "execution_count": 79,
     "metadata": {},
     "output_type": "execute_result"
    }
   ],
   "source": [
    "# write a lambda function that checks if given iterable data is palindrome\n",
    "(lambda x: x == x[::-1])('nalan')\n",
    "# x == x[::1] means data and reverse of the data is equal"
   ]
  },
  {
   "cell_type": "code",
   "execution_count": 80,
   "id": "28a26e91",
   "metadata": {},
   "outputs": [
    {
     "data": {
      "text/plain": [
       "True"
      ]
     },
     "execution_count": 80,
     "metadata": {},
     "output_type": "execute_result"
    }
   ],
   "source": [
    "(lambda x: x == x[::-1])('12321')\n"
   ]
  },
  {
   "cell_type": "code",
   "execution_count": 81,
   "id": "0cd6ae2d",
   "metadata": {},
   "outputs": [
    {
     "ename": "TypeError",
     "evalue": "'int' object is not subscriptable",
     "output_type": "error",
     "traceback": [
      "\u001b[31m---------------------------------------------------------------------------\u001b[39m",
      "\u001b[31mTypeError\u001b[39m                                 Traceback (most recent call last)",
      "\u001b[36mCell\u001b[39m\u001b[36m \u001b[39m\u001b[32mIn[81]\u001b[39m\u001b[32m, line 1\u001b[39m\n\u001b[32m----> \u001b[39m\u001b[32m1\u001b[39m \u001b[43m(\u001b[49m\u001b[38;5;28;43;01mlambda\u001b[39;49;00m\u001b[43m \u001b[49m\u001b[43mx\u001b[49m\u001b[43m:\u001b[49m\u001b[43m \u001b[49m\u001b[43mx\u001b[49m\u001b[43m \u001b[49m\u001b[43m==\u001b[49m\u001b[43m \u001b[49m\u001b[43mx\u001b[49m\u001b[43m[\u001b[49m\u001b[43m:\u001b[49m\u001b[43m:\u001b[49m\u001b[43m-\u001b[49m\u001b[32;43m1\u001b[39;49m\u001b[43m]\u001b[49m\u001b[43m)\u001b[49m\u001b[43m(\u001b[49m\u001b[32;43m12321\u001b[39;49m\u001b[43m)\u001b[49m\n\u001b[32m      2\u001b[39m \u001b[38;5;66;03m# x[::-1] is slicing operation, it can only be applied to iterable data\u001b[39;00m\n",
      "\u001b[36mCell\u001b[39m\u001b[36m \u001b[39m\u001b[32mIn[81]\u001b[39m\u001b[32m, line 1\u001b[39m, in \u001b[36m<lambda>\u001b[39m\u001b[34m(x)\u001b[39m\n\u001b[32m----> \u001b[39m\u001b[32m1\u001b[39m (\u001b[38;5;28;01mlambda\u001b[39;00m x: x == \u001b[43mx\u001b[49m\u001b[43m[\u001b[49m\u001b[43m:\u001b[49m\u001b[43m:\u001b[49m\u001b[43m-\u001b[49m\u001b[32;43m1\u001b[39;49m\u001b[43m]\u001b[49m)(\u001b[32m12321\u001b[39m)\n\u001b[32m      2\u001b[39m \u001b[38;5;66;03m# x[::-1] is slicing operation, it can only be applied to iterable data\u001b[39;00m\n",
      "\u001b[31mTypeError\u001b[39m: 'int' object is not subscriptable"
     ]
    }
   ],
   "source": [
    "(lambda x: x == x[::-1])(12321)\n",
    "# x[::-1] is slicing operation, it can only be applied to iterable data\n"
   ]
  },
  {
   "cell_type": "code",
   "execution_count": 82,
   "id": "559f44de",
   "metadata": {},
   "outputs": [
    {
     "data": {
      "text/plain": [
       "True"
      ]
     },
     "execution_count": 82,
     "metadata": {},
     "output_type": "execute_result"
    }
   ],
   "source": [
    "(lambda x: x == x[::-1])([1, 2, 3, 2, 1])\n"
   ]
  },
  {
   "cell_type": "code",
   "execution_count": 83,
   "id": "f4dbc02d",
   "metadata": {},
   "outputs": [],
   "source": [
    "names = ['eve', 'adam', 'nalan', 'Vusal']"
   ]
  },
  {
   "cell_type": "code",
   "execution_count": 84,
   "id": "ae0effe8",
   "metadata": {},
   "outputs": [
    {
     "data": {
      "text/plain": [
       "False"
      ]
     },
     "execution_count": 84,
     "metadata": {},
     "output_type": "execute_result"
    }
   ],
   "source": [
    "# following is checking if entire list is palindrom\n",
    "(lambda x: x == x[::-1])(names)"
   ]
  },
  {
   "cell_type": "code",
   "execution_count": 85,
   "id": "08842203",
   "metadata": {},
   "outputs": [
    {
     "data": {
      "text/plain": [
       "['eve', 'nalan']"
      ]
     },
     "execution_count": 85,
     "metadata": {},
     "output_type": "execute_result"
    }
   ],
   "source": [
    "# we need to apply filter function if we want to check each element of the list\n",
    "list(filter(lambda x: x == x[::-1], names))"
   ]
  },
  {
   "cell_type": "code",
   "execution_count": null,
   "id": "16fe9d0c",
   "metadata": {},
   "outputs": [
    {
     "data": {
      "text/plain": [
       "144"
      ]
     },
     "execution_count": 86,
     "metadata": {},
     "output_type": "execute_result"
    }
   ],
   "source": [
    "# define a malbda function that squalres the even number and dcoubles the odd number\n",
    "# (lambda var/par: result_if if_condition else result_else)\n",
    "\n",
    "(lambda x: x**2 if x%2==0 else x*2)(12)\n",
    "# 12 is even, it sqared the number"
   ]
  },
  {
   "cell_type": "code",
   "execution_count": 87,
   "id": "169df1af",
   "metadata": {},
   "outputs": [
    {
     "data": {
      "text/plain": [
       "18"
      ]
     },
     "execution_count": 87,
     "metadata": {},
     "output_type": "execute_result"
    }
   ],
   "source": [
    "(lambda x: x**2 if x%2==0 else x*2)(9)\n"
   ]
  },
  {
   "cell_type": "code",
   "execution_count": 89,
   "id": "ddd2715c",
   "metadata": {},
   "outputs": [],
   "source": [
    "number = [1, 2, 3, 4, 5, 6, 7, 8, 9, 10]"
   ]
  },
  {
   "cell_type": "code",
   "execution_count": null,
   "id": "ed54f3e0",
   "metadata": {},
   "outputs": [
    {
     "data": {
      "text/plain": [
       "[1, 2, 3, 4, 5, 6, 7, 8, 9, 10]"
      ]
     },
     "execution_count": 91,
     "metadata": {},
     "output_type": "execute_result"
    }
   ],
   "source": [
    "list(filter((lambda x: x**2 if x%2==0 else x*2), number))\n",
    "# while aplying lambda function that has if and else part using filter on an iterable data like a ist of numbers,\n",
    "# filter only checks the conditions, not the result"
   ]
  },
  {
   "cell_type": "code",
   "execution_count": null,
   "id": "9943919e",
   "metadata": {},
   "outputs": [
    {
     "data": {
      "text/plain": [
       "[2, 4, 6, 8, 10]"
      ]
     },
     "execution_count": 94,
     "metadata": {},
     "output_type": "execute_result"
    }
   ],
   "source": [
    "# return the number that are even number by filtering number list\n",
    "list(filter((lambda x: x%2==0), number))"
   ]
  },
  {
   "cell_type": "code",
   "execution_count": null,
   "id": "c98a7371",
   "metadata": {},
   "outputs": [
    {
     "data": {
      "text/plain": [
       "[1, 3, 5, 7, 9]"
      ]
     },
     "execution_count": 95,
     "metadata": {},
     "output_type": "execute_result"
    }
   ],
   "source": [
    "# return the number that are odd number by filtering number list\n",
    "list(filter((lambda x: x%2==1), number))"
   ]
  },
  {
   "cell_type": "code",
   "execution_count": 96,
   "id": "91474e14",
   "metadata": {},
   "outputs": [
    {
     "data": {
      "text/plain": [
       "[2, 4, 6, 16, 10, 36, 14, 64, 18, 100]"
      ]
     },
     "execution_count": 96,
     "metadata": {},
     "output_type": "execute_result"
    }
   ],
   "source": [
    "# filter function does not allow transformation, it only filters the truthy elements\n",
    "(lambda x: [i ** 2 if i%2==0 else i*2 for i in x])(number)"
   ]
  },
  {
   "cell_type": "code",
   "execution_count": null,
   "id": "f1cf348e",
   "metadata": {},
   "outputs": [
    {
     "data": {
      "text/plain": [
       "True"
      ]
     },
     "execution_count": 97,
     "metadata": {},
     "output_type": "execute_result"
    }
   ],
   "source": [
    "# define a lambda function that checks if a number is positive and even\n",
    "(lambda x: x > 0 and x%2==0)(2)\n",
    "# first criteria is that it must be positive number\n",
    "# second critera that is has to be even"
   ]
  },
  {
   "cell_type": "code",
   "execution_count": 98,
   "id": "5f21c870",
   "metadata": {},
   "outputs": [
    {
     "data": {
      "text/plain": [
       "False"
      ]
     },
     "execution_count": 98,
     "metadata": {},
     "output_type": "execute_result"
    }
   ],
   "source": [
    "(lambda x: x > 0 and x%2==0)(-4)"
   ]
  },
  {
   "cell_type": "code",
   "execution_count": 99,
   "id": "af132316",
   "metadata": {},
   "outputs": [
    {
     "data": {
      "text/plain": [
       "True"
      ]
     },
     "execution_count": 99,
     "metadata": {},
     "output_type": "execute_result"
    }
   ],
   "source": [
    "# define a lambda function that checks if a number is positive por even\n",
    "(lambda x: x > 0 or x%2==0)(1)\n",
    "# first criteria is that it must be positive number\n",
    "# second critera that is has to be even\n",
    "# if wither one if correct, it will return true"
   ]
  },
  {
   "cell_type": "code",
   "execution_count": 100,
   "id": "96fd6679",
   "metadata": {},
   "outputs": [
    {
     "data": {
      "text/plain": [
       "True"
      ]
     },
     "execution_count": 100,
     "metadata": {},
     "output_type": "execute_result"
    }
   ],
   "source": [
    "(lambda x: x > 0 or x%2==0)(18)"
   ]
  },
  {
   "cell_type": "code",
   "execution_count": 101,
   "id": "bfdd9daf",
   "metadata": {},
   "outputs": [
    {
     "data": {
      "text/plain": [
       "True"
      ]
     },
     "execution_count": 101,
     "metadata": {},
     "output_type": "execute_result"
    }
   ],
   "source": [
    "(lambda x: x > 0 or x%2==0)(-2)"
   ]
  },
  {
   "cell_type": "markdown",
   "id": "4d6c04e0",
   "metadata": {},
   "source": [
    "# map()"
   ]
  },
  {
   "cell_type": "code",
   "execution_count": 102,
   "id": "eba96fa8",
   "metadata": {},
   "outputs": [
    {
     "name": "stdout",
     "output_type": "stream",
     "text": [
      "Help on class map in module builtins:\n",
      "\n",
      "class map(object)\n",
      " |  map(function, iterable, /, *iterables)\n",
      " |\n",
      " |  Make an iterator that computes the function using arguments from\n",
      " |  each of the iterables.  Stops when the shortest iterable is exhausted.\n",
      " |\n",
      " |  Methods defined here:\n",
      " |\n",
      " |  __getattribute__(self, name, /)\n",
      " |      Return getattr(self, name).\n",
      " |\n",
      " |  __iter__(self, /)\n",
      " |      Implement iter(self).\n",
      " |\n",
      " |  __next__(self, /)\n",
      " |      Implement next(self).\n",
      " |\n",
      " |  __reduce__(self, /)\n",
      " |      Return state information for pickling.\n",
      " |\n",
      " |  ----------------------------------------------------------------------\n",
      " |  Static methods defined here:\n",
      " |\n",
      " |  __new__(*args, **kwargs)\n",
      " |      Create and return a new object.  See help(type) for accurate signature.\n",
      "\n"
     ]
    }
   ],
   "source": [
    "help(map)"
   ]
  },
  {
   "cell_type": "code",
   "execution_count": 106,
   "id": "f731b0db",
   "metadata": {},
   "outputs": [],
   "source": [
    "def square (x):\n",
    "    return x**2"
   ]
  },
  {
   "cell_type": "code",
   "execution_count": null,
   "id": "11fc26a4",
   "metadata": {},
   "outputs": [
    {
     "data": {
      "text/plain": [
       "4"
      ]
     },
     "execution_count": 107,
     "metadata": {},
     "output_type": "execute_result"
    }
   ],
   "source": [
    "square(2)\n",
    "# data transformation\n",
    "# making calculation and computation"
   ]
  },
  {
   "cell_type": "code",
   "execution_count": 108,
   "id": "ea0e439e",
   "metadata": {},
   "outputs": [],
   "source": [
    "number_2 = [0, 12, 43, 25, 20, 17]"
   ]
  },
  {
   "cell_type": "code",
   "execution_count": null,
   "id": "02838719",
   "metadata": {},
   "outputs": [
    {
     "data": {
      "text/plain": [
       "[12, 43, 25, 20, 17]"
      ]
     },
     "execution_count": 109,
     "metadata": {},
     "output_type": "execute_result"
    }
   ],
   "source": [
    "list(filter(sqaure, number_2))\n",
    "# filter only return the truthy data\n",
    "# it does not perform transformation\n",
    "# 0**2 return 0 which is Falsy value so filter does not return"
   ]
  },
  {
   "cell_type": "code",
   "execution_count": null,
   "id": "32113785",
   "metadata": {},
   "outputs": [
    {
     "data": {
      "text/plain": [
       "[0, 144, 1849, 625, 400, 289]"
      ]
     },
     "execution_count": 110,
     "metadata": {},
     "output_type": "execute_result"
    }
   ],
   "source": [
    "list(map(sqaure, number_2))\n",
    "# map function does the valculation instead of returning Truthy values"
   ]
  },
  {
   "cell_type": "code",
   "execution_count": null,
   "id": "7851278a",
   "metadata": {},
   "outputs": [
    {
     "data": {
      "text/plain": [
       "[12, 43, 25, 20, 17]"
      ]
     },
     "execution_count": 111,
     "metadata": {},
     "output_type": "execute_result"
    }
   ],
   "source": [
    "list(filter(lambda x: x**2 if x%2==0 else x*2, number_2))\n",
    "# filter the element with truthy results  "
   ]
  },
  {
   "cell_type": "code",
   "execution_count": null,
   "id": "960189ed",
   "metadata": {},
   "outputs": [
    {
     "data": {
      "text/plain": [
       "[0, 144, 86, 50, 400, 34]"
      ]
     },
     "execution_count": 112,
     "metadata": {},
     "output_type": "execute_result"
    }
   ],
   "source": [
    "list(map(lambda x: x**2 if x%2==0 else x*2, number_2))\n",
    "# applyinh square function and calculating result"
   ]
  },
  {
   "cell_type": "code",
   "execution_count": 113,
   "id": "e61707dd",
   "metadata": {},
   "outputs": [],
   "source": [
    "name_3 = ['techpro', '', 'data', 'science', 'vusal']"
   ]
  },
  {
   "cell_type": "code",
   "execution_count": 114,
   "id": "5376a816",
   "metadata": {},
   "outputs": [
    {
     "data": {
      "text/plain": [
       "7"
      ]
     },
     "execution_count": 114,
     "metadata": {},
     "output_type": "execute_result"
    }
   ],
   "source": [
    "len(name_3[0])"
   ]
  },
  {
   "cell_type": "code",
   "execution_count": null,
   "id": "2ec3dda3",
   "metadata": {},
   "outputs": [
    {
     "data": {
      "text/plain": [
       "['techpro', 'data', 'science', 'vusal']"
      ]
     },
     "execution_count": 115,
     "metadata": {},
     "output_type": "execute_result"
    }
   ],
   "source": [
    "# find the len of each element\n",
    "list(filter(len, name_3))\n",
    "# when you apply len function, it will return truthy values\n",
    "# len of empty string '' is 0 so it wont return\n",
    "# "
   ]
  },
  {
   "cell_type": "code",
   "execution_count": null,
   "id": "349103cb",
   "metadata": {},
   "outputs": [
    {
     "data": {
      "text/plain": [
       "[7, 0, 4, 7, 5]"
      ]
     },
     "execution_count": 117,
     "metadata": {},
     "output_type": "execute_result"
    }
   ],
   "source": [
    "# find the len of each element\n",
    "list(map(len, name_3))\n",
    "# using map function, it will return length of each element inside of list"
   ]
  },
  {
   "cell_type": "code",
   "execution_count": null,
   "id": "eb678dfd",
   "metadata": {},
   "outputs": [],
   "source": []
  }
 ],
 "metadata": {
  "kernelspec": {
   "display_name": "Python 3",
   "language": "python",
   "name": "python3"
  },
  "language_info": {
   "codemirror_mode": {
    "name": "ipython",
    "version": 3
   },
   "file_extension": ".py",
   "mimetype": "text/x-python",
   "name": "python",
   "nbconvert_exporter": "python",
   "pygments_lexer": "ipython3",
   "version": "3.13.7"
  }
 },
 "nbformat": 4,
 "nbformat_minor": 5
}
