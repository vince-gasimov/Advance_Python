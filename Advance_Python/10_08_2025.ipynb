{
 "cells": [
  {
   "cell_type": "code",
   "execution_count": 3,
   "id": "0b30c20a",
   "metadata": {},
   "outputs": [
    {
     "name": "stdout",
     "output_type": "stream",
     "text": [
      "Tech Pro\n"
     ]
    }
   ],
   "source": [
    "# practice of previous session\n",
    "# in nums [1, 2, 3, 4, 'Tech Pro', 5, 6, 7, True]\n",
    "# using while loop, only print Tech Pro\n",
    "\n",
    "nums = [1, 2, 3, 4, 'Tech Pro', 5, 6, 7, True]\n",
    "index = 0 # selecting element\n",
    "while index <len(nums):\n",
    "    if nums[index] == 'Tech Pro':\n",
    "        print(nums[index])\n",
    "        index += 1\n",
    "    else:\n",
    "        index += 1\n",
    "\n"
   ]
  },
  {
   "cell_type": "markdown",
   "id": "28666df5",
   "metadata": {},
   "source": [
    "# dict unsing with loop"
   ]
  },
  {
   "cell_type": "code",
   "execution_count": 6,
   "id": "b7afc49a",
   "metadata": {},
   "outputs": [
    {
     "data": {
      "text/plain": [
       "dict_items([('name', 'Vusal'), ('job', 'Data scientist'), ('age', 28)])"
      ]
     },
     "execution_count": 6,
     "metadata": {},
     "output_type": "execute_result"
    }
   ],
   "source": [
    "dict_01 = {'name': 'Vusal', 'job': 'Data scientist', 'age': 28}\n",
    "dict_01.items()\n"
   ]
  },
  {
   "cell_type": "code",
   "execution_count": 7,
   "id": "c817f01f",
   "metadata": {},
   "outputs": [
    {
     "name": "stdout",
     "output_type": "stream",
     "text": [
      "name\n",
      "job\n",
      "age\n"
     ]
    }
   ],
   "source": [
    "# returns key\n",
    "for i in dict_01:\n",
    "    print(i)\n",
    "    # while selecting the lement of a dict, it returns the key"
   ]
  },
  {
   "cell_type": "code",
   "execution_count": 8,
   "id": "0085e281",
   "metadata": {},
   "outputs": [
    {
     "name": "stdout",
     "output_type": "stream",
     "text": [
      "Vusal\n",
      "Data scientist\n",
      "28\n"
     ]
    }
   ],
   "source": [
    "# returns value\n",
    "for i in dict_01.values():\n",
    "    print(i)"
   ]
  },
  {
   "cell_type": "code",
   "execution_count": null,
   "id": "c1845968",
   "metadata": {},
   "outputs": [
    {
     "name": "stdout",
     "output_type": "stream",
     "text": [
      "('name', 'Vusal')\n",
      "('job', 'Data scientist')\n",
      "('age', 28)\n"
     ]
    }
   ],
   "source": [
    "# returns  key and value pair\n",
    "for i in dict_01.items():\n",
    "    print(i)"
   ]
  },
  {
   "cell_type": "code",
   "execution_count": 10,
   "id": "9b72524c",
   "metadata": {},
   "outputs": [
    {
     "name": "stdout",
     "output_type": "stream",
     "text": [
      "name Vusal\n",
      "job Data scientist\n",
      "age 28\n"
     ]
    }
   ],
   "source": [
    "\n",
    "for i, j in dict_01.items():\n",
    "    print(i, j)"
   ]
  },
  {
   "cell_type": "code",
   "execution_count": 11,
   "id": "867d7316",
   "metadata": {},
   "outputs": [
    {
     "name": "stdout",
     "output_type": "stream",
     "text": [
      "age\n",
      "28\n"
     ]
    }
   ],
   "source": [
    "print(i)\n",
    "print(j)"
   ]
  },
  {
   "cell_type": "code",
   "execution_count": 13,
   "id": "225f17be",
   "metadata": {},
   "outputs": [
    {
     "name": "stdout",
     "output_type": "stream",
     "text": [
      "key: name and value: Vusal\n",
      "key: job and value: Data scientist\n",
      "key: age and value: 28\n"
     ]
    }
   ],
   "source": [
    "for i, j in dict_01.items():\n",
    "    print(f'key: {i} and value: {j}')"
   ]
  },
  {
   "cell_type": "code",
   "execution_count": 16,
   "id": "a7ce1a86",
   "metadata": {},
   "outputs": [
    {
     "name": "stdout",
     "output_type": "stream",
     "text": [
      "key:       name and value:           Vusal\n",
      "key:        job and value:  Data scientist\n",
      "key:        age and value:              28\n"
     ]
    }
   ],
   "source": [
    "for i, j in dict_01.items():\n",
    "    print(f'key: {i:>10} and value: {j:>15}')\n",
    "    # allocating 10 spaces for i (key)\n",
    "    # allocating 10 spaces for j (value)\n",
    "    # allignment is right"
   ]
  },
  {
   "cell_type": "code",
   "execution_count": 17,
   "id": "45cf05cc",
   "metadata": {},
   "outputs": [
    {
     "name": "stdout",
     "output_type": "stream",
     "text": [
      "key: name       and value: Vusal          \n",
      "key: job        and value: Data scientist \n",
      "key: age        and value: 28             \n"
     ]
    }
   ],
   "source": [
    "for i, j in dict_01.items():\n",
    "    print(f'key: {i:<10} and value: {j:<15}')\n",
    "    # allocating 10 spaces for i (key)\n",
    "    # allocating 10 spaces for j (value)\n",
    "    # allignment is left"
   ]
  },
  {
   "cell_type": "code",
   "execution_count": 18,
   "id": "10e0551a",
   "metadata": {},
   "outputs": [
    {
     "name": "stdout",
     "output_type": "stream",
     "text": [
      "key:    name    and value:      Vusal     \n",
      "key:    job     and value: Data scientist \n",
      "key:    age     and value:       28       \n"
     ]
    }
   ],
   "source": [
    "for i, j in dict_01.items():\n",
    "    print(f'key: {i:^10} and value: {j:^15}')\n",
    "    # allocating 10 spaces for i (key)\n",
    "    # allocating 10 spaces for j (value)\n",
    "    # allignment is center"
   ]
  },
  {
   "cell_type": "code",
   "execution_count": 20,
   "id": "5f91aa3f",
   "metadata": {},
   "outputs": [
    {
     "data": {
      "text/plain": [
       "'       fierro       '"
      ]
     },
     "execution_count": 20,
     "metadata": {},
     "output_type": "execute_result"
    }
   ],
   "source": [
    "# allignment on string\n",
    "'fierro'.center(20)\n",
    "# allocate 20 spaces, allignment in middle"
   ]
  },
  {
   "cell_type": "code",
   "execution_count": null,
   "id": "d9b53ae7",
   "metadata": {},
   "outputs": [],
   "source": [
    "# how to create infinite loop with for loop\n",
    "# do not run\n",
    "a = ['a']\n",
    "for i in a:\n",
    "    print(i)\n",
    "    a.append(i)"
   ]
  },
  {
   "cell_type": "code",
   "execution_count": 22,
   "id": "9e1fa2c6",
   "metadata": {},
   "outputs": [
    {
     "name": "stdout",
     "output_type": "stream",
     "text": [
      "[1, 2, 3, 4, 5, 6, 7, 8, 9, 10, 11, 12, 13, 14, 15, 16, 17, 18, 19, 20, 21, 22, 23, 24, 25, 26, 27, 28, 29, 30, 31, 32, 33, 34, 35, 36, 37, 38, 39, 40, 41, 42, 43, 44, 45, 46, 47, 48, 49, 50]\n"
     ]
    }
   ],
   "source": [
    "# in range, if you do not specify beggining point, it will begin from 0\n",
    "# we specified betweening point, which is 1. it will start from 1\n",
    "print(list(range(1, 51)))"
   ]
  },
  {
   "cell_type": "code",
   "execution_count": 23,
   "id": "1a9f2073",
   "metadata": {},
   "outputs": [
    {
     "name": "stdout",
     "output_type": "stream",
     "text": [
      "[0, 1, 2, 3, 4, 5, 6, 7, 8, 9, 10, 11, 12, 13, 14, 15, 16, 17, 18, 19, 20, 21, 22, 23, 24, 25, 26, 27, 28, 29, 30, 31, 32, 33, 34, 35, 36, 37, 38, 39, 40, 41, 42, 43, 44, 45, 46, 47, 48, 49, 50]\n"
     ]
    }
   ],
   "source": [
    "# in range, if you do not specify beggining point, it will begin from 0\n",
    "print(list(range(51)))"
   ]
  },
  {
   "cell_type": "code",
   "execution_count": 24,
   "id": "f7d798de",
   "metadata": {},
   "outputs": [
    {
     "name": "stdout",
     "output_type": "stream",
     "text": [
      "1275\n"
     ]
    }
   ],
   "source": [
    "# write a for loop to calculate the sum of number between 1 and 50\n",
    "# both included\n",
    "total = 0\n",
    "for i in range(51):\n",
    "    total += i # i is the selected element which is numbers range from 1 to 50\n",
    "print(total)"
   ]
  },
  {
   "cell_type": "code",
   "execution_count": 33,
   "id": "15f47670",
   "metadata": {},
   "outputs": [
    {
     "name": "stdout",
     "output_type": "stream",
     "text": [
      "1275\n"
     ]
    }
   ],
   "source": [
    "# second way\n",
    "total = 0\n",
    "index = 0\n",
    "while index <51:\n",
    "    total += index\n",
    "    index += 1\n",
    "print(total)\n"
   ]
  },
  {
   "cell_type": "code",
   "execution_count": 34,
   "id": "0469fd1a",
   "metadata": {},
   "outputs": [
    {
     "name": "stdout",
     "output_type": "stream",
     "text": [
      "650\n"
     ]
    }
   ],
   "source": [
    "# even number\n",
    "total = 0\n",
    "index = 0\n",
    "while index <51:\n",
    "    total += index\n",
    "    index += 2 # by increasing 2, we are only getting even numbers\n",
    "print(total)\n"
   ]
  },
  {
   "cell_type": "code",
   "execution_count": 25,
   "id": "7be22af1",
   "metadata": {},
   "outputs": [
    {
     "name": "stdout",
     "output_type": "stream",
     "text": [
      "625\n"
     ]
    }
   ],
   "source": [
    "# write a for loop to calculate the sum of odd between 1 and 50\n",
    "# both included\n",
    "# first way\n",
    "odd_total = 0\n",
    "for i in range(51):\n",
    "    if i % 2 == 1:\n",
    "        odd_total += i # i is the selected element which is numbers range from 1 to 50\n",
    "print(odd_total)"
   ]
  },
  {
   "cell_type": "code",
   "execution_count": 29,
   "id": "0a958972",
   "metadata": {},
   "outputs": [
    {
     "name": "stdout",
     "output_type": "stream",
     "text": [
      "625\n"
     ]
    }
   ],
   "source": [
    "# second way\n",
    "odd_total = 0\n",
    "for i in range(1, 51, 2): # it will start from 1 and jump 2, which will chose add numbers\n",
    "    odd_total += i # i is the selected element which is numbers range from 1 to 50\n",
    "print(odd_total)"
   ]
  },
  {
   "cell_type": "code",
   "execution_count": 28,
   "id": "39ac4f9e",
   "metadata": {},
   "outputs": [
    {
     "name": "stdout",
     "output_type": "stream",
     "text": [
      "650\n"
     ]
    }
   ],
   "source": [
    "# write a for loop to calculate the sum of even numbers between 1 and 50\n",
    "# both included\n",
    "even_total = 0\n",
    "for i in range(0, 51, 2): # it will start from 0 and jump 2, which will chose even numbers\n",
    "    even_total += i # i is the selected element which is numbers range from 1 to 50\n",
    "print(even_total)"
   ]
  },
  {
   "cell_type": "code",
   "execution_count": 35,
   "id": "16529c70",
   "metadata": {},
   "outputs": [
    {
     "data": {
      "text/plain": [
       "11"
      ]
     },
     "execution_count": 35,
     "metadata": {},
     "output_type": "execute_result"
    }
   ],
   "source": [
    "sum([1, 2, 3, 5])"
   ]
  },
  {
   "cell_type": "code",
   "execution_count": 36,
   "id": "a303b0b7",
   "metadata": {},
   "outputs": [
    {
     "data": {
      "text/plain": [
       "1275"
      ]
     },
     "execution_count": 36,
     "metadata": {},
     "output_type": "execute_result"
    }
   ],
   "source": [
    "sum(range(1, 51))"
   ]
  },
  {
   "cell_type": "markdown",
   "id": "5075eaf7",
   "metadata": {},
   "source": [
    "# zip"
   ]
  },
  {
   "cell_type": "code",
   "execution_count": 38,
   "id": "6f7acdf4",
   "metadata": {},
   "outputs": [
    {
     "data": {
      "text/plain": [
       "(('Alabama', 'Baku'), ('Alaska', 'Bursa'), ('Arkansas', 'Berde'))"
      ]
     },
     "execution_count": 38,
     "metadata": {},
     "output_type": "execute_result"
    }
   ],
   "source": [
    "a = ['Alabama', 'Alaska', 'Arkansas']\n",
    "b = ['Baku', 'Bursa', 'Berde']\n",
    "tuple(zip(a, b))"
   ]
  },
  {
   "cell_type": "code",
   "execution_count": 39,
   "id": "18d412ac",
   "metadata": {},
   "outputs": [
    {
     "data": {
      "text/plain": [
       "{('Baku', 'Alabama'), ('Berde', 'Arkansas'), ('Bursa', 'Alaska')}"
      ]
     },
     "execution_count": 39,
     "metadata": {},
     "output_type": "execute_result"
    }
   ],
   "source": [
    "set(zip(b, a))"
   ]
  },
  {
   "cell_type": "code",
   "execution_count": 40,
   "id": "8362c18f",
   "metadata": {},
   "outputs": [
    {
     "data": {
      "text/plain": [
       "{'Baku': 'Alabama', 'Bursa': 'Alaska', 'Berde': 'Arkansas'}"
      ]
     },
     "execution_count": 40,
     "metadata": {},
     "output_type": "execute_result"
    }
   ],
   "source": [
    "dict(zip(b, a))"
   ]
  },
  {
   "cell_type": "code",
   "execution_count": 48,
   "id": "700f019f",
   "metadata": {},
   "outputs": [
    {
     "name": "stdout",
     "output_type": "stream",
     "text": [
      "[('Vusal', 30, 'Psychology', 'V'), ('Dilshad', 31, 'Business Owner', 'u'), ('Royal', 1, 'Data Scientist', 's')]\n",
      "(('Vusal', 30, 'Psychology', 'V'), ('Dilshad', 31, 'Business Owner', 'u'), ('Royal', 1, 'Data Scientist', 's'))\n",
      "{('Dilshad', 31, 'Business Owner', 'u'), ('Royal', 1, 'Data Scientist', 's'), ('Vusal', 30, 'Psychology', 'V')}\n"
     ]
    }
   ],
   "source": [
    "name = ['Vusal', 'Dilshad', 'Royal']\n",
    "age = [30, 31, 1]\n",
    "occupation = {'Data Scientist', 'Psychology', 'Business Owner'}\n",
    "string = 'Vusal'\n",
    "print(list(zip(name, age, occupation, string)))\n",
    "print(tuple(zip(name, age, occupation, string)))\n",
    "print(set(zip(name, age, occupation, string)))"
   ]
  },
  {
   "cell_type": "code",
   "execution_count": 46,
   "id": "92dbf394",
   "metadata": {},
   "outputs": [
    {
     "ename": "ValueError",
     "evalue": "dictionary update sequence element #0 has length 4; 2 is required",
     "output_type": "error",
     "traceback": [
      "\u001b[31m---------------------------------------------------------------------------\u001b[39m",
      "\u001b[31mValueError\u001b[39m                                Traceback (most recent call last)",
      "\u001b[36mCell\u001b[39m\u001b[36m \u001b[39m\u001b[32mIn[46]\u001b[39m\u001b[32m, line 1\u001b[39m\n\u001b[32m----> \u001b[39m\u001b[32m1\u001b[39m \u001b[38;5;28;43mdict\u001b[39;49m\u001b[43m(\u001b[49m\u001b[38;5;28;43mzip\u001b[39;49m\u001b[43m(\u001b[49m\u001b[43mname\u001b[49m\u001b[43m,\u001b[49m\u001b[43m \u001b[49m\u001b[43mage\u001b[49m\u001b[43m,\u001b[49m\u001b[43m \u001b[49m\u001b[43moccupation\u001b[49m\u001b[43m,\u001b[49m\u001b[43m \u001b[49m\u001b[43mstring\u001b[49m\u001b[43m)\u001b[49m\u001b[43m)\u001b[49m\n",
      "\u001b[31mValueError\u001b[39m: dictionary update sequence element #0 has length 4; 2 is required"
     ]
    }
   ],
   "source": [
    "dict(zip(name, age, occupation, string))\n",
    "# we can only create dictionary by zipping only 2 data"
   ]
  },
  {
   "cell_type": "code",
   "execution_count": 51,
   "id": "e2cfc287",
   "metadata": {},
   "outputs": [
    {
     "name": "stdout",
     "output_type": "stream",
     "text": [
      "[('Vusal', 30, 'Manager', 'V'), ('Dilshad', 31, 'QA', 'u')]\n",
      "(('Vusal', 30, 'Manager', 'V'), ('Dilshad', 31, 'QA', 'u'))\n",
      "{('Vusal', 30, 'Manager', 'V'), ('Dilshad', 31, 'QA', 'u')}\n"
     ]
    }
   ],
   "source": [
    "# if the iterable data being zipper has different num of chars\n",
    "# it will zipped based on smallest number of elements in either of the iterable data\n",
    "name = ['Vusal', 'Dilshad']\n",
    "age = [30, 31, 1, 21]\n",
    "occupation = {'Data Scientist', 'QA', 'Engineer', 'Manager'}\n",
    "string = 'Vusal'\n",
    "print(list(zip(name, age, occupation, string)))\n",
    "print(tuple(zip(name, age, occupation, string)))\n",
    "print(set(zip(name, age, occupation, string)))"
   ]
  },
  {
   "cell_type": "code",
   "execution_count": 52,
   "id": "6633800d",
   "metadata": {},
   "outputs": [
    {
     "data": {
      "text/plain": [
       "[('Vusal', 30, 'Manager', 'V'), ('Dilshad', 31, 'QA', 'u')]"
      ]
     },
     "execution_count": 52,
     "metadata": {},
     "output_type": "execute_result"
    }
   ],
   "source": [
    "student_1 = list(zip(name, age, occupation, string))\n",
    "student_1"
   ]
  },
  {
   "cell_type": "code",
   "execution_count": 56,
   "id": "ecce5375",
   "metadata": {},
   "outputs": [
    {
     "name": "stdout",
     "output_type": "stream",
     "text": [
      "name: Vusal   , age: 30, occ: Manager\n",
      "name: Dilshad , age: 31, occ: QA     \n"
     ]
    }
   ],
   "source": [
    "for a, b, c, d in student_1:\n",
    "    print(f'name: {a:<8}, age: {b:<2}, occ: {c:<7}')"
   ]
  },
  {
   "cell_type": "code",
   "execution_count": 58,
   "id": "48e1b58b",
   "metadata": {},
   "outputs": [
    {
     "data": {
      "text/plain": [
       "[('Ohio', 1), ('New York', 2), ('Georgia', 3)]"
      ]
     },
     "execution_count": 58,
     "metadata": {},
     "output_type": "execute_result"
    }
   ],
   "source": [
    "q = ['Ohio', 'New York', 'Georgia']\n",
    "w = [1, 2, 3]\n",
    "states = list(zip(q, w))\n",
    "states"
   ]
  },
  {
   "cell_type": "code",
   "execution_count": 59,
   "id": "dffaf311",
   "metadata": {},
   "outputs": [
    {
     "name": "stdout",
     "output_type": "stream",
     "text": [
      "State: Ohio, number: 1\n",
      "State: New York, number: 2\n",
      "State: Georgia, number: 3\n"
     ]
    }
   ],
   "source": [
    "for q, w in states:\n",
    "    print(f'State: {q}, number: {w}')"
   ]
  },
  {
   "cell_type": "markdown",
   "id": "99591c74",
   "metadata": {},
   "source": [
    "## enumerate\n",
    "- assigns a number to element of iterable data"
   ]
  },
  {
   "cell_type": "code",
   "execution_count": 60,
   "id": "2df9df42",
   "metadata": {},
   "outputs": [
    {
     "data": {
      "text/plain": [
       "['Vusal', 'mehmet', 'ahmet']"
      ]
     },
     "execution_count": 60,
     "metadata": {},
     "output_type": "execute_result"
    }
   ],
   "source": [
    "name = ['Vusal', 'mehmet', 'ahmet']\n",
    "name"
   ]
  },
  {
   "cell_type": "code",
   "execution_count": 61,
   "id": "d57f9c64",
   "metadata": {},
   "outputs": [
    {
     "data": {
      "text/plain": [
       "[(0, 'Vusal'), (1, 'mehmet'), (2, 'ahmet')]"
      ]
     },
     "execution_count": 61,
     "metadata": {},
     "output_type": "execute_result"
    }
   ],
   "source": [
    "list(enumerate(name))\n",
    "# just like a range and zip sunction, we have to use list, tuple, dict, or set function\n",
    "# by default, it numerates from 0"
   ]
  },
  {
   "cell_type": "code",
   "execution_count": 62,
   "id": "63fcfed2",
   "metadata": {},
   "outputs": [
    {
     "name": "stdout",
     "output_type": "stream",
     "text": [
      "[(0, 'Vusal'), (1, 'mehmet'), (2, 'ahmet')]\n",
      "((0, 'Vusal'), (1, 'mehmet'), (2, 'ahmet'))\n",
      "{0: 'Vusal', 1: 'mehmet', 2: 'ahmet'}\n",
      "{(1, 'mehmet'), (2, 'ahmet'), (0, 'Vusal')}\n"
     ]
    }
   ],
   "source": [
    "print(list(enumerate(name)))\n",
    "print(tuple(enumerate(name)))\n",
    "print(dict(enumerate(name)))\n",
    "print(set(enumerate(name)))"
   ]
  },
  {
   "cell_type": "code",
   "execution_count": 63,
   "id": "5e1af758",
   "metadata": {},
   "outputs": [
    {
     "name": "stdout",
     "output_type": "stream",
     "text": [
      "6\n"
     ]
    }
   ],
   "source": [
    "# ask user to provide a numeric data, preferably int\n",
    "# write program that sums each one of the digit. \n",
    "# make sure to solve it as string and as element of list\n",
    "# for list, first add the digits to a list called num_list, then add them\n",
    "\n",
    "data = input('Please provide a numeric data')\n",
    "total_01 = 0\n",
    "for i in str(data):\n",
    "    total_01 += int(i)\n",
    "print(total_01)"
   ]
  },
  {
   "cell_type": "code",
   "execution_count": 64,
   "id": "a62a68fc",
   "metadata": {},
   "outputs": [
    {
     "name": "stdout",
     "output_type": "stream",
     "text": [
      "sum of the digits of 432 is 9\n"
     ]
    }
   ],
   "source": [
    "data = input('Please provide a numeric data')\n",
    "total_01 = 0\n",
    "if data.isnumeric():\n",
    "    for i in str(data):\n",
    "        total_01 += int(i)\n",
    "    print(f'sum of the digits of {data} is {total_01}')\n",
    "else:\n",
    "    print('please provider a numerical as an input')"
   ]
  },
  {
   "cell_type": "code",
   "execution_count": 65,
   "id": "d3cfd001",
   "metadata": {},
   "outputs": [
    {
     "name": "stdout",
     "output_type": "stream",
     "text": [
      "sum of the digits of 234 is 9\n"
     ]
    }
   ],
   "source": [
    "# solve it with while loop\n",
    "data = input('Please provide a numeric data')\n",
    "i = 0\n",
    "total_01 = 0\n",
    "if data.isnumeric():\n",
    "    while i<len(data):\n",
    "        total_01 += int(data[i])\n",
    "        i += 1\n",
    "    print(f'sum of the digits of {data} is {total_01}')\n",
    "else:\n",
    "    print('please provider a numerical as an input')"
   ]
  },
  {
   "cell_type": "code",
   "execution_count": 69,
   "id": "c9aba654",
   "metadata": {},
   "outputs": [
    {
     "name": "stdout",
     "output_type": "stream",
     "text": [
      "sum of the digits of 1234 is 10\n",
      "[1, 2, 3, 4]\n"
     ]
    }
   ],
   "source": [
    "# list solution\n",
    "data = input('Please provide a numeric data')\n",
    "num_list= []\n",
    "for i in str(data):\n",
    "    num_list.append(int(i))\n",
    "    total = sum(num_list)\n",
    "    # as sum function is able to add elements of a list with one another,\n",
    "    # we dont need to devlare a zero valued variable called total\n",
    "print(f'sum of the digits of {data} is {total}')\n",
    "print(num_list)"
   ]
  },
  {
   "cell_type": "code",
   "execution_count": 74,
   "id": "067054b9",
   "metadata": {},
   "outputs": [
    {
     "name": "stdout",
     "output_type": "stream",
     "text": [
      "sum of the digits of 324 is 9\n"
     ]
    }
   ],
   "source": [
    "# list solution with while loop\n",
    "data = input('Please provide a numeric data')\n",
    "num_list = []\n",
    "i = 0\n",
    "while i < len(data):\n",
    "    num_list.append(int(data[i]))\n",
    "    total_02 = sum(num_list)\n",
    "    i += 1\n",
    "print(f'sum of the digits of {data} is {total_02}')"
   ]
  },
  {
   "cell_type": "markdown",
   "id": "5153c13b",
   "metadata": {},
   "source": [
    "#### homework"
   ]
  },
  {
   "cell_type": "code",
   "execution_count": 77,
   "id": "cddd85e9",
   "metadata": {},
   "outputs": [
    {
     "name": "stdout",
     "output_type": "stream",
     "text": [
      "0 * 6 = 0\n",
      "1 * 6 = 6\n",
      "2 * 6 = 12\n",
      "3 * 6 = 18\n",
      "4 * 6 = 24\n",
      "5 * 6 = 30\n",
      "6 * 6 = 36\n",
      "7 * 6 = 42\n",
      "8 * 6 = 48\n",
      "9 * 6 = 54\n",
      "10 * 6 = 60\n"
     ]
    }
   ],
   "source": [
    "# ask the user to provide a number between 1 and 10\n",
    "# create a multiplication table for it\n",
    "\n",
    "user_data = int(input('Please provide a number to get a miltiplication table'))\n",
    "\n",
    "for i in range(11):\n",
    "    if 0 < user_data < 11:\n",
    "        calculation = i * user_data\n",
    "        print(f'{i} * {user_data} = {calculation}')\n",
    "    else:\n",
    "        print(f'Please provide a numeric value between 1-10')"
   ]
  }
 ],
 "metadata": {
  "kernelspec": {
   "display_name": "Python 3",
   "language": "python",
   "name": "python3"
  },
  "language_info": {
   "codemirror_mode": {
    "name": "ipython",
    "version": 3
   },
   "file_extension": ".py",
   "mimetype": "text/x-python",
   "name": "python",
   "nbconvert_exporter": "python",
   "pygments_lexer": "ipython3",
   "version": "3.13.7"
  }
 },
 "nbformat": 4,
 "nbformat_minor": 5
}
