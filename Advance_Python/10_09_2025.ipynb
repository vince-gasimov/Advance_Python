{
 "cells": [
  {
   "cell_type": "code",
   "execution_count": 1,
   "id": "90c1a4cb",
   "metadata": {},
   "outputs": [
    {
     "name": "stdout",
     "output_type": "stream",
     "text": [
      "5 x 0 = 0\n",
      "5 x 1 = 5\n",
      "5 x 2 = 10\n",
      "5 x 3 = 15\n",
      "5 x 4 = 20\n",
      "5 x 5 = 25\n",
      "5 x 6 = 30\n",
      "5 x 7 = 35\n",
      "5 x 8 = 40\n",
      "5 x 9 = 45\n",
      "5 x 10 = 50\n"
     ]
    }
   ],
   "source": [
    "# homework\n",
    "num = int(input(\"Please enter a number between 1 and 10: \"))\n",
    "for i in range(11):\n",
    "    print(f\"{num} x {i} = {num * i}\")"
   ]
  },
  {
   "cell_type": "markdown",
   "id": "567ed728",
   "metadata": {},
   "source": [
    "# list comprehension\n",
    "\n",
    "- simple way of preforming for loops to speed up the operations\n",
    "- performs the append operation in the background\n",
    "\n",
    "- simple syntax: [operation for i in interable_data]\n",
    "- if syntax: [i for i in iterable_Data_if_condition]\n",
    "- if else syntax: [operation_if if_cont else for i in iterable_data]\n",
    "- nested loop: [operation for i in interable_data_1 for j in iterable_data_2]"
   ]
  },
  {
   "cell_type": "code",
   "execution_count": 2,
   "id": "7e374fb4",
   "metadata": {},
   "outputs": [
    {
     "name": "stdout",
     "output_type": "stream",
     "text": [
      "[1, 16, 36, 4, 81, 64]\n"
     ]
    }
   ],
   "source": [
    "# using for loops, add the square of the following elements of the following list in another list\n",
    "nums = [1, 4, 6, 2, 9, 8]\n",
    "num_squared = []\n",
    "for i in nums:\n",
    "    num_squared.append(i ** 2)\n",
    "print(num_squared)"
   ]
  },
  {
   "cell_type": "code",
   "execution_count": 4,
   "id": "51d11152",
   "metadata": {},
   "outputs": [
    {
     "data": {
      "text/plain": [
       "[1, 16, 36, 4, 81, 64]"
      ]
     },
     "execution_count": 4,
     "metadata": {},
     "output_type": "execute_result"
    }
   ],
   "source": [
    "# list comprehension\n",
    "[i ** 2 for i in nums]"
   ]
  },
  {
   "cell_type": "code",
   "execution_count": 5,
   "id": "79f8a06c",
   "metadata": {},
   "outputs": [
    {
     "data": {
      "text/plain": [
       "[1, 16, 36, 4, 81, 64]"
      ]
     },
     "execution_count": 5,
     "metadata": {},
     "output_type": "execute_result"
    }
   ],
   "source": [
    "# assign in to variable\n",
    "num_sq = [i ** 2 for i in nums]\n",
    "num_sq"
   ]
  },
  {
   "cell_type": "code",
   "execution_count": 6,
   "id": "edb67619",
   "metadata": {},
   "outputs": [
    {
     "data": {
      "text/plain": [
       "['ROVSHEN', 'VUSAL', 'FIERRO']"
      ]
     },
     "execution_count": 6,
     "metadata": {},
     "output_type": "execute_result"
    }
   ],
   "source": [
    "# capitalize (upper) each string element of the following list\n",
    "names = ['rovshen', 'vusal', 'fierro']\n",
    "[i.upper() for i in names]"
   ]
  },
  {
   "cell_type": "code",
   "execution_count": 8,
   "id": "b1c616bf",
   "metadata": {},
   "outputs": [
    {
     "name": "stdout",
     "output_type": "stream",
     "text": [
      "rovshen\n",
      "vusal\n",
      "fierro\n"
     ]
    },
    {
     "data": {
      "text/plain": [
       "[None, None, None]"
      ]
     },
     "execution_count": 8,
     "metadata": {},
     "output_type": "execute_result"
    }
   ],
   "source": [
    "# you cannot use print function\n",
    "# as print function just providers an output and does not return element\n",
    "# we dont have any element in the new list we created\n",
    "[print(i) for i in names]"
   ]
  },
  {
   "cell_type": "code",
   "execution_count": 14,
   "id": "095c429d",
   "metadata": {},
   "outputs": [
    {
     "name": "stdout",
     "output_type": "stream",
     "text": [
      "[45, 9, 63, 79]\n"
     ]
    }
   ],
   "source": [
    "# write a program to add the odd elements of the following list in another epmty list\n",
    "numbers = [12, 32, 45, 2, 9, 8, 63, 79, 88]\n",
    "odd = []\n",
    "\n",
    "for i in numbers:\n",
    "    if i % 2 == 1:\n",
    "        odd.append(i)\n",
    "print(odd)"
   ]
  },
  {
   "cell_type": "code",
   "execution_count": 15,
   "id": "30f965c9",
   "metadata": {},
   "outputs": [
    {
     "name": "stdout",
     "output_type": "stream",
     "text": [
      "[45, 9, 63, 79]\n"
     ]
    }
   ],
   "source": [
    "# if i % 2 will also gives odd list because i % 2 == 1 is truthy value and for will continue if the value is truthy\n",
    "# for even number i % 2 will result == 0, it falthy value so loop will fail to add even numbers\n",
    "numbers = [12, 32, 45, 2, 9, 8, 63, 79, 88]\n",
    "odd = []\n",
    "\n",
    "for i in numbers:\n",
    "    if i % 2:\n",
    "        odd.append(i)\n",
    "print(odd)"
   ]
  },
  {
   "cell_type": "code",
   "execution_count": 13,
   "id": "e02c9209",
   "metadata": {},
   "outputs": [
    {
     "data": {
      "text/plain": [
       "[45, 9, 63, 79]"
      ]
     },
     "execution_count": 13,
     "metadata": {},
     "output_type": "execute_result"
    }
   ],
   "source": [
    "# write suing list comprehension\n",
    "[i for i in numbers if i % 2 ==1]\n",
    "# we dont need oppen operation since list comprehension automatically performs append operation in the background\n",
    "# we dont need to create an empty list"
   ]
  },
  {
   "cell_type": "code",
   "execution_count": 17,
   "id": "7e2941da",
   "metadata": {},
   "outputs": [
    {
     "data": {
      "text/plain": [
       "[' tech pro', ' educatiotion']"
      ]
     },
     "execution_count": 17,
     "metadata": {},
     "output_type": "execute_result"
    }
   ],
   "source": [
    "# using the list comprehention, remove unccessary characters from the following string\n",
    "list_1 = ['.... tech pro', '... educatio.tion...']\n",
    "clean_strings = []\n",
    "for i in list_1:\n",
    "    clean_strings.append(i.replace('.', '')) # replacing '.' with empty string ''\n",
    "clean_strings"
   ]
  },
  {
   "cell_type": "code",
   "execution_count": 19,
   "id": "873e8626",
   "metadata": {},
   "outputs": [
    {
     "data": {
      "text/plain": [
       "[' tech pro', ' educatiotion']"
      ]
     },
     "execution_count": 19,
     "metadata": {},
     "output_type": "execute_result"
    }
   ],
   "source": [
    "# write suing list comprehension\n",
    "[i.replace('.', '') for i in list_1]"
   ]
  },
  {
   "cell_type": "code",
   "execution_count": 21,
   "id": "8f36c2ab",
   "metadata": {},
   "outputs": [
    {
     "data": {
      "text/plain": [
       "['tech pro', 'educatio.tion']"
      ]
     },
     "execution_count": 21,
     "metadata": {},
     "output_type": "execute_result"
    }
   ],
   "source": [
    "# reomving char with strip\n",
    "list_1 = ['.... tech pro', '... educatio.tion...']\n",
    "clean_strings = []\n",
    "for i in list_1:\n",
    "    clean_strings.append(i.strip('. ')) # replacing '.' with empty string ''\n",
    "clean_strings"
   ]
  },
  {
   "cell_type": "code",
   "execution_count": 22,
   "id": "f2c91db2",
   "metadata": {},
   "outputs": [
    {
     "data": {
      "text/plain": [
       "True"
      ]
     },
     "execution_count": 22,
     "metadata": {},
     "output_type": "execute_result"
    }
   ],
   "source": [
    "isinstance('aaa', str)\n",
    "# it tells you whether given data or object matches the data type of the function you write\n",
    "# is following data str or not"
   ]
  },
  {
   "cell_type": "code",
   "execution_count": 23,
   "id": "5bdf78e6",
   "metadata": {},
   "outputs": [
    {
     "data": {
      "text/plain": [
       "True"
      ]
     },
     "execution_count": 23,
     "metadata": {},
     "output_type": "execute_result"
    }
   ],
   "source": [
    "isinstance(['aaa'], list)"
   ]
  },
  {
   "cell_type": "code",
   "execution_count": 24,
   "id": "0a33498c",
   "metadata": {},
   "outputs": [
    {
     "name": "stdout",
     "output_type": "stream",
     "text": [
      "[232, True, 123243213, 0]\n"
     ]
    }
   ],
   "source": [
    "# add intiger elements of the following list into another one\n",
    "list_2 = [232, 'sdfs', True, 123243213, 'vusal', 'fierro', 0]\n",
    "int_list = []\n",
    "for i in list_2:\n",
    "    if isinstance(i, int):\n",
    "        int_list.append(i)\n",
    "print(int_list)"
   ]
  },
  {
   "cell_type": "code",
   "execution_count": 28,
   "id": "b5f2f379",
   "metadata": {},
   "outputs": [
    {
     "data": {
      "text/plain": [
       "[232, True, 123243213, 0]"
      ]
     },
     "execution_count": 28,
     "metadata": {},
     "output_type": "execute_result"
    }
   ],
   "source": [
    "[i for i in int_list if isinstance(i, int)]"
   ]
  },
  {
   "cell_type": "code",
   "execution_count": 30,
   "id": "9a93fb57",
   "metadata": {},
   "outputs": [
    {
     "name": "stdout",
     "output_type": "stream",
     "text": [
      "[9, 16, 4225, 6084, 5329, 9409, 4356, 100, 4, 25]\n"
     ]
    }
   ],
   "source": [
    "# write a program to sqaure the odd eleemnts and keep the even onces\n",
    "# add them in empty list\n",
    "list_3 = [3, 4, 65, 78, 73, 97, 66, 10, 2, 5]\n",
    "empty_llist = []\n",
    "for i in list_3:\n",
    "    if 1 % 2:\n",
    "        empty_llist.append(i ** 2)\n",
    "    else:\n",
    "        empty_llist.append(i)\n",
    "print(empty_llist)"
   ]
  },
  {
   "cell_type": "code",
   "execution_count": 31,
   "id": "b939a572",
   "metadata": {},
   "outputs": [
    {
     "data": {
      "text/plain": [
       "[9, 4, 4225, 78, 5329, 9409, 66, 10, 2, 25]"
      ]
     },
     "execution_count": 31,
     "metadata": {},
     "output_type": "execute_result"
    }
   ],
   "source": [
    "# if else\n",
    "[i ** 2 if i % 2 else i for i in list_3]"
   ]
  },
  {
   "cell_type": "code",
   "execution_count": 33,
   "id": "6966c8b4",
   "metadata": {},
   "outputs": [
    {
     "name": "stdout",
     "output_type": "stream",
     "text": [
      "['VUSAL', 'FIERRO', 'Can', 'NAZIM', 'Vus']\n"
     ]
    }
   ],
   "source": [
    "# if the length of following list is more than 4, it should upper it\n",
    "# otherwise capitilize it\n",
    "names_1 = ['vusal', 'fierro', 'can', 'nazim', 'vus']\n",
    "result_list = []\n",
    "for i in names_1:\n",
    "    if len(i) >= 5:\n",
    "        result_list.append(i.upper())\n",
    "    else:\n",
    "        result_list.append(i.capitalize())\n",
    "print(result_list)"
   ]
  },
  {
   "cell_type": "code",
   "execution_count": 34,
   "id": "036e9f3d",
   "metadata": {},
   "outputs": [
    {
     "data": {
      "text/plain": [
       "['VUSAL', 'FIERRO', 'Can', 'NAZIM', 'Vus']"
      ]
     },
     "execution_count": 34,
     "metadata": {},
     "output_type": "execute_result"
    }
   ],
   "source": [
    "[i.upper() if len(i) >= 5 else i.capitalize() for i in names_1]"
   ]
  },
  {
   "cell_type": "code",
   "execution_count": 35,
   "id": "37bb6d42",
   "metadata": {},
   "outputs": [
    {
     "name": "stdout",
     "output_type": "stream",
     "text": [
      "homework of fierro - math checked\n",
      "homework of fierro - science checked\n",
      "homework of vusal - math checked\n",
      "homework of vusal - science checked\n",
      "homework of royal - math checked\n",
      "homework of royal - science checked\n"
     ]
    }
   ],
   "source": [
    "# nested loops and nested loops inside list comprehension\n",
    "# write a program using nested loops\n",
    "# check assignment related to two subjects of three student\n",
    "student = ['fierro', 'vusal', 'royal']\n",
    "subject = ['math', 'science']\n",
    "for i in student:\n",
    "    for j in subject:\n",
    "        print(f'homework of {i} - {j} checked')"
   ]
  },
  {
   "cell_type": "code",
   "execution_count": 36,
   "id": "2a8e693c",
   "metadata": {},
   "outputs": [
    {
     "data": {
      "text/plain": [
       "['homework fierro - math checked',\n",
       " 'homework fierro - science checked',\n",
       " 'homework vusal - math checked',\n",
       " 'homework vusal - science checked',\n",
       " 'homework royal - math checked',\n",
       " 'homework royal - science checked']"
      ]
     },
     "execution_count": 36,
     "metadata": {},
     "output_type": "execute_result"
    }
   ],
   "source": [
    "# nested loop: [operation for i in interable_data_1 for j in iterable_data_2]\n",
    "[f'homework {i} - {j} checked' for i in student for j in subject]"
   ]
  },
  {
   "cell_type": "code",
   "execution_count": 41,
   "id": "4b0c0582",
   "metadata": {},
   "outputs": [
    {
     "name": "stdout",
     "output_type": "stream",
     "text": [
      "153 is an armstrong number\n"
     ]
    }
   ],
   "source": [
    "# create a code to find if number is armstrong number\n",
    "user_number = input('Please provide a number to find if the number is armstrong number')\n",
    "digit = len(user_number)\n",
    "total = 0\n",
    "\n",
    "for i in user_number:\n",
    "    total += int(i) ** digit # we want it to complete first, otherwise if condition will repeate 3 time instead of 1\n",
    "if total == int(user_number):\n",
    "        print(f'{user_number} is an armstrong number')\n",
    "else:\n",
    "        print(f'{user_number} is NOT an armstrong number')"
   ]
  },
  {
   "cell_type": "code",
   "execution_count": 45,
   "id": "8eb1fba0",
   "metadata": {},
   "outputs": [
    {
     "name": "stdout",
     "output_type": "stream",
     "text": [
      "123 is NOT an armstrong number\n"
     ]
    }
   ],
   "source": [
    "# write it with list comprehension\n",
    "user_number = input('Please provide a number to find if the number is armstrong number')\n",
    "digit = len(user_number)\n",
    "total = 0\n",
    "total += sum([int(i) ** digit for i in user_number])\n",
    "if total == int(user_number):\n",
    "        print(f'{user_number} is an armstrong number')\n",
    "else:\n",
    "        print(f'{user_number} is NOT an armstrong number')"
   ]
  },
  {
   "cell_type": "code",
   "execution_count": null,
   "id": "cfe5a612",
   "metadata": {},
   "outputs": [],
   "source": []
  }
 ],
 "metadata": {
  "kernelspec": {
   "display_name": "Python 3",
   "language": "python",
   "name": "python3"
  },
  "language_info": {
   "codemirror_mode": {
    "name": "ipython",
    "version": 3
   },
   "file_extension": ".py",
   "mimetype": "text/x-python",
   "name": "python",
   "nbconvert_exporter": "python",
   "pygments_lexer": "ipython3",
   "version": "3.13.7"
  }
 },
 "nbformat": 4,
 "nbformat_minor": 5
}
