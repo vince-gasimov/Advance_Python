{
 "cells": [
  {
   "cell_type": "markdown",
   "id": "0156d504",
   "metadata": {},
   "source": [
    "# Functions\n",
    "\n",
    "- we define a function using def\n",
    "- can we defined with or withour parameter\n",
    "- we have to call functions to perform the operation with ()\n",
    "- we cann the variable of functions wehile defining as parameters\n",
    "- values after calling the functions are arguments"
   ]
  },
  {
   "cell_type": "code",
   "execution_count": null,
   "id": "4475be46",
   "metadata": {},
   "outputs": [],
   "source": [
    "# syntax of function\n",
    "# def function_name(parameters):\n",
    "#     \"\"\"docstring\"\"\"\n",
    "#     statement(s) or function body\n",
    "#     return expression # optional, used only when want to return a value"
   ]
  },
  {
   "cell_type": "code",
   "execution_count": 2,
   "id": "168e9b9f",
   "metadata": {},
   "outputs": [],
   "source": [
    "def greet():\n",
    "    \"\"\"A simple function that greets the user\"\"\" # information about function\n",
    "    print(\"Hello! Welcome!\") # function body"
   ]
  },
  {
   "cell_type": "code",
   "execution_count": null,
   "id": "43d260c4",
   "metadata": {},
   "outputs": [
    {
     "name": "stdout",
     "output_type": "stream",
     "text": [
      "Hello! Welcome!\n"
     ]
    }
   ],
   "source": [
    "greet() # calling a function\n",
    "# when you hower over, you can see the docstring (information)"
   ]
  },
  {
   "cell_type": "code",
   "execution_count": 4,
   "id": "c6c14a53",
   "metadata": {},
   "outputs": [
    {
     "name": "stdout",
     "output_type": "stream",
     "text": [
      "Hello! Welcome!\n"
     ]
    }
   ],
   "source": [
    "def greet_1():\n",
    "    print(\"Hello! Welcome!\") # function body\n",
    "\n",
    "greet_1()"
   ]
  },
  {
   "cell_type": "code",
   "execution_count": 6,
   "id": "9044c8a3",
   "metadata": {},
   "outputs": [
    {
     "name": "stdout",
     "output_type": "stream",
     "text": [
      "New value\n"
     ]
    }
   ],
   "source": [
    "# print function in development woold, does not return anything\n",
    "# just prints to the console\n",
    "# print dos not return value\n",
    "print_value = print('New value')"
   ]
  },
  {
   "cell_type": "code",
   "execution_count": 7,
   "id": "23e5628e",
   "metadata": {},
   "outputs": [],
   "source": [
    "print_value"
   ]
  },
  {
   "cell_type": "code",
   "execution_count": 10,
   "id": "e03cb626",
   "metadata": {},
   "outputs": [],
   "source": [
    "def greet_3():\n",
    "    \"\"\"A simple function that greets the user\"\"\" # information about function\n",
    "    return \"Hellow world\""
   ]
  },
  {
   "cell_type": "code",
   "execution_count": 12,
   "id": "8e67ffb2",
   "metadata": {},
   "outputs": [
    {
     "data": {
      "text/plain": [
       "'Hellow world'"
      ]
     },
     "execution_count": 12,
     "metadata": {},
     "output_type": "execute_result"
    }
   ],
   "source": [
    "greeting = greet_3()\n",
    "greeting"
   ]
  },
  {
   "cell_type": "code",
   "execution_count": null,
   "id": "35ebf7e4",
   "metadata": {},
   "outputs": [],
   "source": [
    "# define function with parameters (its optional to create with parameters)\n",
    "# define a function that sums the square of two number\n",
    "def sum_of_sqaures(a, b): # a and b are parameters\n",
    "    \"\"\"Print sum of sqaures\"\"\"\n",
    "    print(a**2 + b**2)"
   ]
  },
  {
   "cell_type": "code",
   "execution_count": 15,
   "id": "4674efa3",
   "metadata": {},
   "outputs": [
    {
     "name": "stdout",
     "output_type": "stream",
     "text": [
      "25\n"
     ]
    }
   ],
   "source": [
    "sum_of_sqaures(3, 4) # 3 and 4 are arguments or the values assigned to the parameters"
   ]
  },
  {
   "cell_type": "code",
   "execution_count": null,
   "id": "37b24266",
   "metadata": {},
   "outputs": [
    {
     "name": "stdout",
     "output_type": "stream",
     "text": [
      "25\n"
     ]
    }
   ],
   "source": [
    "sos_3_4 = sum_of_sqaures(3, 4)"
   ]
  },
  {
   "cell_type": "code",
   "execution_count": null,
   "id": "29a40485",
   "metadata": {},
   "outputs": [],
   "source": [
    "sos_3_4\n",
    "# because we use print, it did not assigned the value"
   ]
  },
  {
   "cell_type": "code",
   "execution_count": null,
   "id": "49ad7ec3",
   "metadata": {},
   "outputs": [],
   "source": [
    "# you need to assign a value to funtion, use return\n",
    "def sum_of_sqaures_2(a, b): # a and b are parameters\n",
    "    \"\"\"Print sum of sqaures\"\"\"\n",
    "    return(a**2 + b**2)"
   ]
  },
  {
   "cell_type": "code",
   "execution_count": 23,
   "id": "b3fe1d3a",
   "metadata": {},
   "outputs": [],
   "source": [
    "sos_3_4_01 = sum_of_sqaures_2(3, 4)"
   ]
  },
  {
   "cell_type": "code",
   "execution_count": 24,
   "id": "bd344062",
   "metadata": {},
   "outputs": [
    {
     "data": {
      "text/plain": [
       "25"
      ]
     },
     "execution_count": 24,
     "metadata": {},
     "output_type": "execute_result"
    }
   ],
   "source": [
    "sos_3_4_01"
   ]
  },
  {
   "cell_type": "code",
   "execution_count": null,
   "id": "02538f35",
   "metadata": {},
   "outputs": [
    {
     "ename": "TypeError",
     "evalue": "sum_of_sqaures_2() missing 2 required positional arguments: 'a' and 'b'",
     "output_type": "error",
     "traceback": [
      "\u001b[31m---------------------------------------------------------------------------\u001b[39m",
      "\u001b[31mTypeError\u001b[39m                                 Traceback (most recent call last)",
      "\u001b[36mCell\u001b[39m\u001b[36m \u001b[39m\u001b[32mIn[25]\u001b[39m\u001b[32m, line 1\u001b[39m\n\u001b[32m----> \u001b[39m\u001b[32m1\u001b[39m \u001b[43msum_of_sqaures_2\u001b[49m\u001b[43m(\u001b[49m\u001b[43m)\u001b[49m\n",
      "\u001b[31mTypeError\u001b[39m: sum_of_sqaures_2() missing 2 required positional arguments: 'a' and 'b'"
     ]
    }
   ],
   "source": [
    "sum_of_sqaures_2() \n",
    "# if defining a fcuntion with parameters, must provide arguments when calling"
   ]
  },
  {
   "cell_type": "code",
   "execution_count": null,
   "id": "a12834fd",
   "metadata": {},
   "outputs": [
    {
     "name": "stdout",
     "output_type": "stream",
     "text": [
      "Help on function sum_of_sqaures_2 in module __main__:\n",
      "\n",
      "sum_of_sqaures_2(a, b)\n",
      "    Print sum of sqaures\n",
      "\n"
     ]
    }
   ],
   "source": [
    "help(sum_of_sqaures_2)\n",
    "# functions we define are stores in memory or main module"
   ]
  },
  {
   "cell_type": "code",
   "execution_count": 27,
   "id": "84f98a7f",
   "metadata": {},
   "outputs": [
    {
     "data": {
      "text/plain": [
       "'Print sum of sqaures'"
      ]
     },
     "execution_count": 27,
     "metadata": {},
     "output_type": "execute_result"
    }
   ],
   "source": [
    "sum_of_sqaures_2.__doc__\n",
    "# returns the docstring of the function"
   ]
  },
  {
   "cell_type": "code",
   "execution_count": 28,
   "id": "5b32ec14",
   "metadata": {},
   "outputs": [],
   "source": [
    "def sum_of_sqaures_3(c, d):\n",
    "    return c * d"
   ]
  },
  {
   "cell_type": "code",
   "execution_count": 30,
   "id": "3d6db5ea",
   "metadata": {},
   "outputs": [],
   "source": [
    "sum_of_sqaures_3.__doc__\n",
    "# this will not return anything because we did not add docsting when defining function"
   ]
  },
  {
   "cell_type": "code",
   "execution_count": 35,
   "id": "07973294",
   "metadata": {},
   "outputs": [],
   "source": [
    "# define a calculator function that performs 4 basic arithmetic operatios\n",
    "def calculator():\n",
    "    \"\"\"Simple calculator that performs addition, subtraction, multiplication, and division\"\"\"\n",
    "    num_1 = float(input(\"Enter the first number: \"))\n",
    "    operation = input(\"Enter following operations: (+, -, *, /)\")\n",
    "    num_2 = float(input(\"Enter the second number: \"))\n",
    "    if operation == '+':\n",
    "        result = f'{num_1} + {num_2} = {num_1+num_2}'\n",
    "    elif operation == '-':\n",
    "        result = f'{num_1} - {num_2} = {num_1-num_2}'\n",
    "    elif operation == '*':\n",
    "        result = f'{num_1} * {num_2} = {num_1*num_2}'\n",
    "    elif operation == '/': # we have to modify function in a way that it prevents 0 devision error\n",
    "        if num_2 == 0:\n",
    "            result = \"Error: Division by 0 is not allowed\"\n",
    "        else:\n",
    "            result = f'{num_1} / {num_2} = {num_1/num_2}' \n",
    "    else:\n",
    "        result = \"Invalid operation\"\n",
    "    return result"
   ]
  },
  {
   "cell_type": "code",
   "execution_count": 34,
   "id": "bb45618d",
   "metadata": {},
   "outputs": [
    {
     "ename": "ZeroDivisionError",
     "evalue": "float division by zero",
     "output_type": "error",
     "traceback": [
      "\u001b[31m---------------------------------------------------------------------------\u001b[39m",
      "\u001b[31mZeroDivisionError\u001b[39m                         Traceback (most recent call last)",
      "\u001b[36mCell\u001b[39m\u001b[36m \u001b[39m\u001b[32mIn[34]\u001b[39m\u001b[32m, line 1\u001b[39m\n\u001b[32m----> \u001b[39m\u001b[32m1\u001b[39m \u001b[43mcalculator\u001b[49m\u001b[43m(\u001b[49m\u001b[43m)\u001b[49m\n\u001b[32m      2\u001b[39m \u001b[38;5;66;03m# we have to modify function in a way that it prevents 0 devision error\u001b[39;00m\n",
      "\u001b[36mCell\u001b[39m\u001b[36m \u001b[39m\u001b[32mIn[31]\u001b[39m\u001b[32m, line 14\u001b[39m, in \u001b[36mcalculator\u001b[39m\u001b[34m()\u001b[39m\n\u001b[32m     12\u001b[39m     result = \u001b[33mf\u001b[39m\u001b[33m'\u001b[39m\u001b[38;5;132;01m{\u001b[39;00mnum_1\u001b[38;5;132;01m}\u001b[39;00m\u001b[33m * \u001b[39m\u001b[38;5;132;01m{\u001b[39;00mnum_2\u001b[38;5;132;01m}\u001b[39;00m\u001b[33m = \u001b[39m\u001b[38;5;132;01m{\u001b[39;00mnum_1*num_2\u001b[38;5;132;01m}\u001b[39;00m\u001b[33m'\u001b[39m\n\u001b[32m     13\u001b[39m \u001b[38;5;28;01melif\u001b[39;00m operation == \u001b[33m'\u001b[39m\u001b[33m/\u001b[39m\u001b[33m'\u001b[39m:\n\u001b[32m---> \u001b[39m\u001b[32m14\u001b[39m     result = \u001b[33mf\u001b[39m\u001b[33m'\u001b[39m\u001b[38;5;132;01m{\u001b[39;00mnum_1\u001b[38;5;132;01m}\u001b[39;00m\u001b[33m / \u001b[39m\u001b[38;5;132;01m{\u001b[39;00mnum_2\u001b[38;5;132;01m}\u001b[39;00m\u001b[33m = \u001b[39m\u001b[38;5;132;01m{\u001b[39;00m\u001b[43mnum_1\u001b[49m\u001b[43m/\u001b[49m\u001b[43mnum_2\u001b[49m\u001b[38;5;132;01m}\u001b[39;00m\u001b[33m'\u001b[39m\n\u001b[32m     15\u001b[39m \u001b[38;5;28;01melse\u001b[39;00m:\n\u001b[32m     16\u001b[39m     result = \u001b[33m\"\u001b[39m\u001b[33mInvalid operation\u001b[39m\u001b[33m\"\u001b[39m\n",
      "\u001b[31mZeroDivisionError\u001b[39m: float division by zero"
     ]
    }
   ],
   "source": [
    "calculator()\n",
    "# we have to modify function in a way that it prevents 0 devision error"
   ]
  },
  {
   "cell_type": "code",
   "execution_count": null,
   "id": "6ac7e336",
   "metadata": {},
   "outputs": [
    {
     "data": {
      "text/plain": [
       "'Error: Division by 0 is not allowed'"
      ]
     },
     "execution_count": 36,
     "metadata": {},
     "output_type": "execute_result"
    }
   ],
   "source": [
    "calculator()\n",
    "# because second number is 0, it prevenst 0 number devision error"
   ]
  },
  {
   "cell_type": "code",
   "execution_count": 38,
   "id": "61d89163",
   "metadata": {},
   "outputs": [],
   "source": [
    "# define a calculator function that performs 4 basic arithmetic operatios, with parameters\n",
    "def calculator_2(num_1, operation, num_2):\n",
    "    \"\"\"Simple calculator that performs addition, subtraction, multiplication, and division\"\"\"\n",
    "    if operation == '+':\n",
    "        result = f'{num_1} + {num_2} = {num_1+num_2}'\n",
    "    elif operation == '-':\n",
    "        result = f'{num_1} - {num_2} = {num_1-num_2}'\n",
    "    elif operation == '*':\n",
    "        result = f'{num_1} * {num_2} = {num_1*num_2}'\n",
    "    elif operation == '/': # we have to modify function in a way that it prevents 0 devision error\n",
    "        if num_2 == 0:\n",
    "            result = \"Error: Division by 0 is not allowed\"\n",
    "        else:\n",
    "            result = f'{num_1} / {num_2} = {num_1/num_2}' \n",
    "    else:\n",
    "        result = \"Invalid operation\"\n",
    "    return result"
   ]
  },
  {
   "cell_type": "code",
   "execution_count": 39,
   "id": "c195f71e",
   "metadata": {},
   "outputs": [
    {
     "data": {
      "text/plain": [
       "'3 + 4 = 7'"
      ]
     },
     "execution_count": 39,
     "metadata": {},
     "output_type": "execute_result"
    }
   ],
   "source": [
    "calculator_2(3, '+', 4)"
   ]
  },
  {
   "cell_type": "code",
   "execution_count": null,
   "id": "f41abc51",
   "metadata": {},
   "outputs": [],
   "source": [
    "# define a calculator function that performs 4 basic arithmetic operatios, with parameters\n",
    "def calculator_3(num_1, operation, num_2):\n",
    "    \"\"\"Simple calculator that performs addition, subtraction, multiplication, and division\"\"\"\n",
    "    if operation == '+':\n",
    "        return float(f'{num_1} + {num_2} = {num_1+num_2}')\n",
    "    elif operation == '-':\n",
    "        return f'{num_1} - {num_2} = {num_1-num_2}'\n",
    "    elif operation == '*':\n",
    "        return f'{num_1} * {num_2} = {num_1*num_2}'\n",
    "    elif operation == '/': # we have to modify function in a way that it prevents 0 devision error\n",
    "        if num_2 == 0:\n",
    "            return \"Error: Division by 0 is not allowed\"\n",
    "        else:\n",
    "            return f'{num_1} / {num_2} = {num_1/num_2}' \n",
    "    else:\n",
    "        return \"Invalid operation\""
   ]
  },
  {
   "cell_type": "code",
   "execution_count": 41,
   "id": "067bfb68",
   "metadata": {},
   "outputs": [
    {
     "data": {
      "text/plain": [
       "'Error: Division by 0 is not allowed'"
      ]
     },
     "execution_count": 41,
     "metadata": {},
     "output_type": "execute_result"
    }
   ],
   "source": [
    "calculator_3(2, '/', 0)"
   ]
  },
  {
   "cell_type": "code",
   "execution_count": 42,
   "id": "c4bf442e",
   "metadata": {},
   "outputs": [
    {
     "ename": "TypeError",
     "evalue": "object of type 'function' has no len()",
     "output_type": "error",
     "traceback": [
      "\u001b[31m---------------------------------------------------------------------------\u001b[39m",
      "\u001b[31mTypeError\u001b[39m                                 Traceback (most recent call last)",
      "\u001b[36mCell\u001b[39m\u001b[36m \u001b[39m\u001b[32mIn[42]\u001b[39m\u001b[32m, line 1\u001b[39m\n\u001b[32m----> \u001b[39m\u001b[32m1\u001b[39m \u001b[38;5;28;43mlen\u001b[39;49m\u001b[43m(\u001b[49m\u001b[43mcalculator_3\u001b[49m\u001b[43m)\u001b[49m\n",
      "\u001b[31mTypeError\u001b[39m: object of type 'function' has no len()"
     ]
    }
   ],
   "source": [
    "len(calculator_3)"
   ]
  },
  {
   "cell_type": "code",
   "execution_count": 43,
   "id": "fc93c0ba",
   "metadata": {},
   "outputs": [],
   "source": [
    "# define a function that returns the lenth of intiger as digits\n",
    "def int_len(num):\n",
    "    \"\"\"returns the number of digits in an intiger\"\"\"\n",
    "    return len(str(num))"
   ]
  },
  {
   "cell_type": "code",
   "execution_count": 44,
   "id": "c8ed2831",
   "metadata": {},
   "outputs": [
    {
     "data": {
      "text/plain": [
       "5"
      ]
     },
     "execution_count": 44,
     "metadata": {},
     "output_type": "execute_result"
    }
   ],
   "source": [
    "int_len(12345)"
   ]
  },
  {
   "cell_type": "code",
   "execution_count": 45,
   "id": "7075944c",
   "metadata": {},
   "outputs": [],
   "source": [
    "# second way\n",
    "def int_len_2(num):\n",
    "    \"\"\"returns the number of digits in an intiger\"\"\"\n",
    "    counter = 0\n",
    "    for digit in str(num):\n",
    "        counter += 1\n",
    "    return counter"
   ]
  },
  {
   "cell_type": "code",
   "execution_count": 46,
   "id": "cc03fafe",
   "metadata": {},
   "outputs": [
    {
     "data": {
      "text/plain": [
       "7"
      ]
     },
     "execution_count": 46,
     "metadata": {},
     "output_type": "execute_result"
    }
   ],
   "source": [
    "int_len_2(3245234)"
   ]
  },
  {
   "cell_type": "code",
   "execution_count": 47,
   "id": "9a3179f6",
   "metadata": {},
   "outputs": [],
   "source": [
    "# define a function that returns elements of an iterable data in reverse order\n",
    "def reverse_iterable(data):\n",
    "    \"\"\"Returns the elements of an iterable in reverse order\"\"\"\n",
    "    return data [::-1]"
   ]
  },
  {
   "cell_type": "code",
   "execution_count": 48,
   "id": "b8c56bd1",
   "metadata": {},
   "outputs": [
    {
     "data": {
      "text/plain": [
       "'lasuV'"
      ]
     },
     "execution_count": 48,
     "metadata": {},
     "output_type": "execute_result"
    }
   ],
   "source": [
    "reverse_iterable('Vusal')"
   ]
  },
  {
   "cell_type": "code",
   "execution_count": 52,
   "id": "df09f2ae",
   "metadata": {},
   "outputs": [],
   "source": [
    "# define a function that takes an iterable data\n",
    "# and adds off elements in odd list and even elements to even list\n",
    "def off_even_numbers(numbers):\n",
    "    \"\"\"This function takes collective data type like a list or a tuple as value that has numbers as elements\"\"\"\n",
    "    odd_list = []\n",
    "    even_list = []\n",
    "    for i in numbers:\n",
    "        if i % 2:\n",
    "            return odd_list.append(i)\n",
    "        else:\n",
    "            return even_list.append(i)\n",
    "    return f'''list of odd numbers: {odd_list} \\n\n",
    "            list of even numbers: {even_list}'''"
   ]
  },
  {
   "cell_type": "code",
   "execution_count": 53,
   "id": "81032cf6",
   "metadata": {},
   "outputs": [],
   "source": [
    "off_even_numbers([2, 3, 5, 10, 18, 19])"
   ]
  },
  {
   "cell_type": "code",
   "execution_count": 54,
   "id": "77b71aa7",
   "metadata": {},
   "outputs": [],
   "source": [
    "# define a function that takes two side of a right triangle and calculates the hypotenuse and perimeter of a right triangle\n",
    "def hyp_perimeter (a, b):\n",
    "    \"\"\"Claculate hypotenuse using the pythagoras theorem\"\"\"\n",
    "    hyp = (a ** 2 + b ** 2) ** 0.5\n",
    "    perimeter = a + b + hyp\n",
    "    return f'the hypotenuse is {hyp} and perimeter is {perimeter}'"
   ]
  },
  {
   "cell_type": "code",
   "execution_count": 55,
   "id": "b59352fa",
   "metadata": {},
   "outputs": [
    {
     "data": {
      "text/plain": [
       "'the hypotenuse is 5.0 and perimeter is 12.0'"
      ]
     },
     "execution_count": 55,
     "metadata": {},
     "output_type": "execute_result"
    }
   ],
   "source": [
    "hyp_perimeter(3, 4)"
   ]
  },
  {
   "cell_type": "code",
   "execution_count": 56,
   "id": "4207743d",
   "metadata": {},
   "outputs": [],
   "source": [
    "# second way\n",
    "# define a function that takes two side of a right triangle and calculates the hypotenuse and perimeter of a right triangle\n",
    "import math\n",
    "\n",
    "def hyp_perimeter_02 (a, b):\n",
    "    \"\"\"Claculate hypotenuse using the pythagoras theorem\"\"\"\n",
    "    hyp = math.sqrt(a ** 2 + b ** 2)\n",
    "    perimeter = a + b + hyp\n",
    "    return f'the hypotenuse is {hyp} and perimeter is {perimeter}'"
   ]
  },
  {
   "cell_type": "code",
   "execution_count": 57,
   "id": "feaf6b9b",
   "metadata": {},
   "outputs": [
    {
     "data": {
      "text/plain": [
       "'the hypotenuse is 13.0 and perimeter is 30.0'"
      ]
     },
     "execution_count": 57,
     "metadata": {},
     "output_type": "execute_result"
    }
   ],
   "source": [
    "hyp_perimeter_02(5, 12)"
   ]
  },
  {
   "cell_type": "code",
   "execution_count": 64,
   "id": "1e7b8f20",
   "metadata": {},
   "outputs": [],
   "source": [
    "# define a function that donates dollars based on the vowels in users name\n",
    "def donation (name_user):\n",
    "    vovwels = 'aeiouAUIOE'\n",
    "    vowel_counter = 0\n",
    "    for char in name_user:\n",
    "        if char in vovwels:\n",
    "            vowel_counter += 1\n",
    "    return f'Your donation is ${vowel_counter * 10}'"
   ]
  },
  {
   "cell_type": "code",
   "execution_count": 65,
   "id": "8532760a",
   "metadata": {},
   "outputs": [
    {
     "data": {
      "text/plain": [
       "'Your donation is $20'"
      ]
     },
     "execution_count": 65,
     "metadata": {},
     "output_type": "execute_result"
    }
   ],
   "source": [
    "donation (\"Vusal\")"
   ]
  },
  {
   "cell_type": "code",
   "execution_count": 67,
   "id": "59d9976f",
   "metadata": {},
   "outputs": [],
   "source": [
    "# define a function that checks if given number is prime or not\n",
    "\n",
    "def prime_nuber (number):\n",
    "    if number <=1:\n",
    "        return 'Not a prime number'\n",
    "    for i in range (2, number):\n",
    "        if number % i == 0:\n",
    "            return f'{number} is not a prime number'\n",
    "        else:\n",
    "            return f'{number} is a prime number'"
   ]
  },
  {
   "cell_type": "code",
   "execution_count": 69,
   "id": "419ce376",
   "metadata": {},
   "outputs": [
    {
     "data": {
      "text/plain": [
       "'44 is not a prime number'"
      ]
     },
     "execution_count": 69,
     "metadata": {},
     "output_type": "execute_result"
    }
   ],
   "source": [
    "prime_nuber(44)"
   ]
  },
  {
   "cell_type": "code",
   "execution_count": null,
   "id": "4a4bb82b",
   "metadata": {},
   "outputs": [],
   "source": []
  },
  {
   "cell_type": "code",
   "execution_count": null,
   "id": "ba839a9e",
   "metadata": {},
   "outputs": [],
   "source": []
  }
 ],
 "metadata": {
  "kernelspec": {
   "display_name": "Python 3",
   "language": "python",
   "name": "python3"
  },
  "language_info": {
   "codemirror_mode": {
    "name": "ipython",
    "version": 3
   },
   "file_extension": ".py",
   "mimetype": "text/x-python",
   "name": "python",
   "nbconvert_exporter": "python",
   "pygments_lexer": "ipython3",
   "version": "3.13.7"
  }
 },
 "nbformat": 4,
 "nbformat_minor": 5
}
