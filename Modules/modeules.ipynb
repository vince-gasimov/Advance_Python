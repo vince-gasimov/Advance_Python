{
 "cells": [
  {
   "cell_type": "markdown",
   "id": "d024f3e1",
   "metadata": {},
   "source": [
    "# Modules\n",
    "\n",
    "- python files used to store functions, variables, paramethers\n",
    "\n",
    "### package is collection of modules, has lots of modules\n",
    "### libraryies are collection of package, has lots of package"
   ]
  },
  {
   "cell_type": "code",
   "execution_count": 1,
   "id": "e69c6038",
   "metadata": {},
   "outputs": [
    {
     "data": {
      "text/plain": [
       "0.17209903717745056"
      ]
     },
     "execution_count": 1,
     "metadata": {},
     "output_type": "execute_result"
    }
   ],
   "source": [
    "import random\n",
    "random.random()"
   ]
  },
  {
   "cell_type": "code",
   "execution_count": 2,
   "id": "3ff44d4e",
   "metadata": {},
   "outputs": [
    {
     "data": {
      "text/plain": [
       "0.1964535286798309"
      ]
     },
     "execution_count": 2,
     "metadata": {},
     "output_type": "execute_result"
    }
   ],
   "source": [
    "# reaname the modules\n",
    "import random as rd\n",
    "rd.random()"
   ]
  },
  {
   "cell_type": "code",
   "execution_count": null,
   "id": "211a9831",
   "metadata": {},
   "outputs": [
    {
     "ename": "ModuleNotFoundError",
     "evalue": "No module named 'numpy'",
     "output_type": "error",
     "traceback": [
      "\u001b[31m---------------------------------------------------------------------------\u001b[39m",
      "\u001b[31mModuleNotFoundError\u001b[39m                       Traceback (most recent call last)",
      "\u001b[36mCell\u001b[39m\u001b[36m \u001b[39m\u001b[32mIn[4]\u001b[39m\u001b[32m, line 1\u001b[39m\n\u001b[32m----> \u001b[39m\u001b[32m1\u001b[39m \u001b[38;5;28;01mimport\u001b[39;00m\u001b[38;5;250m \u001b[39m\u001b[34;01mnumpy\u001b[39;00m\u001b[38;5;250m \u001b[39m\u001b[38;5;28;01mas\u001b[39;00m\u001b[38;5;250m \u001b[39m\u001b[34;01mnp\u001b[39;00m\n",
      "\u001b[31mModuleNotFoundError\u001b[39m: No module named 'numpy'"
     ]
    }
   ],
   "source": [
    "import numpy as np\n",
    "# numpy is numeric python\n"
   ]
  },
  {
   "cell_type": "code",
   "execution_count": 9,
   "id": "1f7a4783",
   "metadata": {},
   "outputs": [],
   "source": [
    "import math"
   ]
  },
  {
   "cell_type": "code",
   "execution_count": null,
   "id": "1ab41c82",
   "metadata": {},
   "outputs": [
    {
     "data": {
      "text/plain": [
       "9"
      ]
     },
     "execution_count": 10,
     "metadata": {},
     "output_type": "execute_result"
    }
   ],
   "source": [
    "math.ceil(8.1)\n",
    "# ceil function returns the nearest integer greater than or equal to a given float number"
   ]
  },
  {
   "cell_type": "code",
   "execution_count": 12,
   "id": "5239cab4",
   "metadata": {},
   "outputs": [
    {
     "data": {
      "text/plain": [
       "8"
      ]
     },
     "execution_count": 12,
     "metadata": {},
     "output_type": "execute_result"
    }
   ],
   "source": [
    "math.floor(8.1)\n",
    "# floor function returns the nearest integer less than or equal to a given float number"
   ]
  },
  {
   "cell_type": "code",
   "execution_count": 13,
   "id": "d8639913",
   "metadata": {},
   "outputs": [
    {
     "data": {
      "text/plain": [
       "24"
      ]
     },
     "execution_count": 13,
     "metadata": {},
     "output_type": "execute_result"
    }
   ],
   "source": [
    "math.factorial(4)"
   ]
  },
  {
   "cell_type": "code",
   "execution_count": 14,
   "id": "f8916f9d",
   "metadata": {},
   "outputs": [
    {
     "ename": "ModuleNotFoundError",
     "evalue": "No module named 'pyautogui'",
     "output_type": "error",
     "traceback": [
      "\u001b[31m---------------------------------------------------------------------------\u001b[39m",
      "\u001b[31mModuleNotFoundError\u001b[39m                       Traceback (most recent call last)",
      "\u001b[36mCell\u001b[39m\u001b[36m \u001b[39m\u001b[32mIn[14]\u001b[39m\u001b[32m, line 1\u001b[39m\n\u001b[32m----> \u001b[39m\u001b[32m1\u001b[39m \u001b[38;5;28;01mimport\u001b[39;00m\u001b[38;5;250m \u001b[39m\u001b[34;01mpyautogui\u001b[39;00m\n",
      "\u001b[31mModuleNotFoundError\u001b[39m: No module named 'pyautogui'"
     ]
    }
   ],
   "source": [
    "import pyautogui"
   ]
  },
  {
   "cell_type": "code",
   "execution_count": 15,
   "id": "e01ed4b3",
   "metadata": {},
   "outputs": [
    {
     "name": "stdout",
     "output_type": "stream",
     "text": [
      "Collecting pyautogui\n",
      "  Downloading PyAutoGUI-0.9.54.tar.gz (61 kB)\n",
      "  Installing build dependencies ... \u001b[?25ldone\n",
      "\u001b[?25h  Getting requirements to build wheel ... \u001b[?25ldone\n",
      "\u001b[?25h  Preparing metadata (pyproject.toml) ... \u001b[?25ldone\n",
      "\u001b[?25hCollecting pyobjc-core (from pyautogui)\n",
      "  Downloading pyobjc_core-12.0-cp313-cp313-macosx_10_13_universal2.whl.metadata (2.8 kB)\n",
      "Collecting pyobjc-framework-quartz (from pyautogui)\n",
      "  Downloading pyobjc_framework_quartz-12.0-cp313-cp313-macosx_10_13_universal2.whl.metadata (3.7 kB)\n",
      "Collecting pymsgbox (from pyautogui)\n",
      "  Downloading pymsgbox-2.0.1-py3-none-any.whl.metadata (4.4 kB)\n",
      "Collecting pytweening>=1.0.4 (from pyautogui)\n",
      "  Downloading pytweening-1.2.0.tar.gz (171 kB)\n",
      "  Installing build dependencies ... \u001b[?25ldone\n",
      "\u001b[?25h  Getting requirements to build wheel ... \u001b[?25ldone\n",
      "\u001b[?25h  Preparing metadata (pyproject.toml) ... \u001b[?25ldone\n",
      "\u001b[?25hCollecting pyscreeze>=0.1.21 (from pyautogui)\n",
      "  Downloading pyscreeze-1.0.1.tar.gz (27 kB)\n",
      "  Installing build dependencies ... \u001b[?25ldone\n",
      "\u001b[?25h  Getting requirements to build wheel ... \u001b[?25ldone\n",
      "\u001b[?25h  Preparing metadata (pyproject.toml) ... \u001b[?25ldone\n",
      "\u001b[?25hCollecting pygetwindow>=0.0.5 (from pyautogui)\n",
      "  Downloading PyGetWindow-0.0.9.tar.gz (9.7 kB)\n",
      "  Installing build dependencies ... \u001b[?25ldone\n",
      "\u001b[?25h  Getting requirements to build wheel ... \u001b[?25ldone\n",
      "\u001b[?25h  Preparing metadata (pyproject.toml) ... \u001b[?25ldone\n",
      "\u001b[?25hCollecting mouseinfo (from pyautogui)\n",
      "  Downloading MouseInfo-0.1.3.tar.gz (10 kB)\n",
      "  Installing build dependencies ... \u001b[?25ldone\n",
      "\u001b[?25h  Getting requirements to build wheel ... \u001b[?25ldone\n",
      "\u001b[?25h  Preparing metadata (pyproject.toml) ... \u001b[?25ldone\n",
      "\u001b[?25hCollecting pyrect (from pygetwindow>=0.0.5->pyautogui)\n",
      "  Downloading PyRect-0.2.0.tar.gz (17 kB)\n",
      "  Installing build dependencies ... \u001b[?25ldone\n",
      "\u001b[?25h  Getting requirements to build wheel ... \u001b[?25ldone\n",
      "\u001b[?25h  Preparing metadata (pyproject.toml) ... \u001b[?25ldone\n",
      "\u001b[?25hCollecting rubicon-objc (from mouseinfo->pyautogui)\n",
      "  Downloading rubicon_objc-0.5.2-py3-none-any.whl.metadata (5.4 kB)\n",
      "Collecting pyperclip (from mouseinfo->pyautogui)\n",
      "  Downloading pyperclip-1.11.0-py3-none-any.whl.metadata (2.4 kB)\n",
      "Collecting pyobjc-framework-Cocoa>=12.0 (from pyobjc-framework-quartz->pyautogui)\n",
      "  Downloading pyobjc_framework_cocoa-12.0-cp313-cp313-macosx_10_13_universal2.whl.metadata (2.6 kB)\n",
      "Downloading pymsgbox-2.0.1-py3-none-any.whl (10.0 kB)\n",
      "Downloading pyobjc_core-12.0-cp313-cp313-macosx_10_13_universal2.whl (679 kB)\n",
      "\u001b[2K   \u001b[90m━━━━━━━━━━━━━━━━━━━━━━━━━━━━━━━━━━━━━━━━\u001b[0m \u001b[32m679.7/679.7 kB\u001b[0m \u001b[31m25.8 MB/s\u001b[0m  \u001b[33m0:00:00\u001b[0m\n",
      "\u001b[?25hDownloading pyobjc_framework_quartz-12.0-cp313-cp313-macosx_10_13_universal2.whl (219 kB)\n",
      "Downloading pyobjc_framework_cocoa-12.0-cp313-cp313-macosx_10_13_universal2.whl (384 kB)\n",
      "Downloading pyperclip-1.11.0-py3-none-any.whl (11 kB)\n",
      "Downloading rubicon_objc-0.5.2-py3-none-any.whl (63 kB)\n",
      "Building wheels for collected packages: pyautogui, pygetwindow, pyscreeze, pytweening, mouseinfo, pyrect\n",
      "  Building wheel for pyautogui (pyproject.toml) ... \u001b[?25ldone\n",
      "\u001b[?25h  Created wheel for pyautogui: filename=pyautogui-0.9.54-py3-none-any.whl size=37684 sha256=fae8fd8bb38e79861283d2bf3b1ddbd49ff6b4c232722b1909bbac08d8799eb0\n",
      "  Stored in directory: /Users/VG/Library/Caches/pip/wheels/9c/22/e7/c97f656d0790ef69feae4fcc7bbc1fc648f1b37879f52e7480\n",
      "  Building wheel for pygetwindow (pyproject.toml) ... \u001b[?25ldone\n",
      "\u001b[?25h  Created wheel for pygetwindow: filename=pygetwindow-0.0.9-py3-none-any.whl size=11118 sha256=3e7b16baddc5f7b98c84fa66ec81208c90bb3bbbe55b90b50036ab0c6753f842\n",
      "  Stored in directory: /Users/VG/Library/Caches/pip/wheels/87/94/20/4e4ddd07e7276e44a38ac39d5b6c919d38ef27b9ebc5041e0f\n",
      "  Building wheel for pyscreeze (pyproject.toml) ... \u001b[?25ldone\n",
      "\u001b[?25h  Created wheel for pyscreeze: filename=pyscreeze-1.0.1-py3-none-any.whl size=14459 sha256=98b66b6a1c7661173dadf35bd879e4e7bf34a998c3611136b601b3b98fb2e8f0\n",
      "  Stored in directory: /Users/VG/Library/Caches/pip/wheels/1c/6e/d7/0acfbc5116e11006753649efc7cb40bb9df98990798a21960d\n",
      "  Building wheel for pytweening (pyproject.toml) ... \u001b[?25ldone\n",
      "\u001b[?25h  Created wheel for pytweening: filename=pytweening-1.2.0-py3-none-any.whl size=8113 sha256=b5b4bbf194885722c94cae366e98a471bad772b3e3ab5fd7c022675bd30041fd\n",
      "  Stored in directory: /Users/VG/Library/Caches/pip/wheels/e7/89/f5/71248cbe0cc120d985c1976f8f2f31675069644c23ff03abfc\n",
      "  Building wheel for mouseinfo (pyproject.toml) ... \u001b[?25ldone\n",
      "\u001b[?25h  Created wheel for mouseinfo: filename=mouseinfo-0.1.3-py3-none-any.whl size=10951 sha256=1a48d5119a7e2649803bfa24230688d4dbb5c0d31d9bad51d719715a0aaf8498\n",
      "  Stored in directory: /Users/VG/Library/Caches/pip/wheels/61/5c/24/7d8ed078555f30e8f23fbc97f6361242a2cb4437ddd0384389\n",
      "  Building wheel for pyrect (pyproject.toml) ... \u001b[?25ldone\n",
      "\u001b[?25h  Created wheel for pyrect: filename=pyrect-0.2.0-py2.py3-none-any.whl size=11280 sha256=df0ed1866f8528e215b0dea5c2799f953bf1be38587d32bacbe837c9be267355\n",
      "  Stored in directory: /Users/VG/Library/Caches/pip/wheels/1e/84/e3/83782b4a92f3d4d5b7fff5c36bf8c31922719e0695ee854cf0\n",
      "Successfully built pyautogui pygetwindow pyscreeze pytweening mouseinfo pyrect\n",
      "Installing collected packages: pytweening, pyscreeze, pyrect, pyperclip, rubicon-objc, pyobjc-core, pymsgbox, pygetwindow, pyobjc-framework-Cocoa, mouseinfo, pyobjc-framework-quartz, pyautogui\n",
      "\u001b[2K   \u001b[90m━━━━━━━━━━━━━━━━━━━━━━━━━━━━━━━━━━━━━━━━\u001b[0m \u001b[32m12/12\u001b[0m [pyautogui]12\u001b[0m [pyobjc-framework-Cocoa]\n",
      "\u001b[1A\u001b[2KSuccessfully installed mouseinfo-0.1.3 pyautogui-0.9.54 pygetwindow-0.0.9 pymsgbox-2.0.1 pyobjc-core-12.0 pyobjc-framework-Cocoa-12.0 pyobjc-framework-quartz-12.0 pyperclip-1.11.0 pyrect-0.2.0 pyscreeze-1.0.1 pytweening-1.2.0 rubicon-objc-0.5.2\n",
      "Note: you may need to restart the kernel to use updated packages.\n"
     ]
    }
   ],
   "source": [
    "pip install pyautogui"
   ]
  },
  {
   "cell_type": "code",
   "execution_count": 16,
   "id": "536518ea",
   "metadata": {},
   "outputs": [],
   "source": [
    "import pyautogui"
   ]
  },
  {
   "cell_type": "code",
   "execution_count": 17,
   "id": "365fef2e",
   "metadata": {},
   "outputs": [
    {
     "data": {
      "text/plain": [
       "Point(x=918, y=626)"
      ]
     },
     "execution_count": 17,
     "metadata": {},
     "output_type": "execute_result"
    }
   ],
   "source": [
    "# location of mouse pointer\n",
    "pyautogui.position()"
   ]
  },
  {
   "cell_type": "code",
   "execution_count": null,
   "id": "e395b3b8",
   "metadata": {},
   "outputs": [],
   "source": [
    "# move mouse pointer to specific location\n",
    "pyautogui.moveTo(900, 600)"
   ]
  },
  {
   "cell_type": "code",
   "execution_count": null,
   "id": "a795334c",
   "metadata": {},
   "outputs": [],
   "source": [
    "# move mouse pointer to specific location and click\n",
    "pyautogui.moveTo(909390, 756)\n",
    "pyautogui.leftClick()"
   ]
  },
  {
   "cell_type": "markdown",
   "id": "721f536e",
   "metadata": {},
   "source": [
    " - library >> package >> moodule\n",
    " - module is just one python file contaning functions, variables\n",
    "- in order to create a new module in python, the first thing we do is initialize the process, or start the process by creating init.py file\n",
    "- telling python that we initialized or started creating our own modules, now every .py file we create in this folder, it will be considered as module in python"
   ]
  },
  {
   "cell_type": "code",
   "execution_count": null,
   "id": "2ec800fc",
   "metadata": {},
   "outputs": [],
   "source": [
    "# lets say we defined an amaing function or found one somehow on the internet\n",
    "# and we want to save it as module in python so that we can use it later\n",
    "# dfine an exponent or power function"
   ]
  },
  {
   "cell_type": "code",
   "execution_count": 21,
   "id": "667ad385",
   "metadata": {},
   "outputs": [
    {
     "data": {
      "text/plain": [
       "8"
      ]
     },
     "execution_count": 21,
     "metadata": {},
     "output_type": "execute_result"
    }
   ],
   "source": [
    "def power(x, y):\n",
    "    return x ** y\n",
    "\n",
    "power(2, 3)"
   ]
  },
  {
   "cell_type": "code",
   "execution_count": 22,
   "id": "531970fa",
   "metadata": {},
   "outputs": [
    {
     "data": {
      "text/plain": [
       "4.0"
      ]
     },
     "execution_count": 22,
     "metadata": {},
     "output_type": "execute_result"
    }
   ],
   "source": [
    "def sq_root(x):\n",
    "    return x ** 0.5\n",
    "\n",
    "sq_root(16)"
   ]
  },
  {
   "cell_type": "code",
   "execution_count": 1,
   "id": "ce6656d8",
   "metadata": {},
   "outputs": [],
   "source": [
    "import my_math"
   ]
  },
  {
   "cell_type": "code",
   "execution_count": null,
   "id": "50b88127",
   "metadata": {},
   "outputs": [
    {
     "data": {
      "text/plain": [
       "5.0"
      ]
     },
     "execution_count": 24,
     "metadata": {},
     "output_type": "execute_result"
    }
   ],
   "source": [
    "# sq_root_02 function imported from my_math module\n",
    "my_math.sq_root_02(25)"
   ]
  },
  {
   "cell_type": "code",
   "execution_count": 2,
   "id": "a989a2b1",
   "metadata": {},
   "outputs": [
    {
     "data": {
      "text/plain": [
       "3.14"
      ]
     },
     "execution_count": 2,
     "metadata": {},
     "output_type": "execute_result"
    }
   ],
   "source": [
    "my_math.pi"
   ]
  },
  {
   "cell_type": "code",
   "execution_count": 3,
   "id": "3cce1724",
   "metadata": {},
   "outputs": [],
   "source": [
    "import sys"
   ]
  },
  {
   "cell_type": "code",
   "execution_count": 4,
   "id": "314d1b61",
   "metadata": {},
   "outputs": [
    {
     "data": {
      "text/plain": [
       "['/Library/Frameworks/Python.framework/Versions/3.13/lib/python313.zip',\n",
       " '/Library/Frameworks/Python.framework/Versions/3.13/lib/python3.13',\n",
       " '/Library/Frameworks/Python.framework/Versions/3.13/lib/python3.13/lib-dynload',\n",
       " '',\n",
       " '/Users/VG/Library/Python/3.13/lib/python/site-packages',\n",
       " '/Library/Frameworks/Python.framework/Versions/3.13/lib/python3.13/site-packages']"
      ]
     },
     "execution_count": 4,
     "metadata": {},
     "output_type": "execute_result"
    }
   ],
   "source": [
    "sys.path"
   ]
  },
  {
   "cell_type": "markdown",
   "id": "9a1e187a",
   "metadata": {},
   "source": [
    "- if we initialize a package with multiple modules in a location and cannot import them and also we do not see it in sys.path,\n",
    "- we can add our module or packages location like following:"
   ]
  },
  {
   "cell_type": "code",
   "execution_count": null,
   "id": "fb5c1974",
   "metadata": {},
   "outputs": [],
   "source": [
    "# we can append our module or packages location like following:\n",
    "my_modules_path = '/Users/VG/Documents/TechProEducation/Data Science/Modules'\n",
    "sys.path.append(my_modules_path)"
   ]
  },
  {
   "cell_type": "code",
   "execution_count": 6,
   "id": "e041bf84",
   "metadata": {},
   "outputs": [
    {
     "data": {
      "text/plain": [
       "['/Library/Frameworks/Python.framework/Versions/3.13/lib/python313.zip',\n",
       " '/Library/Frameworks/Python.framework/Versions/3.13/lib/python3.13',\n",
       " '/Library/Frameworks/Python.framework/Versions/3.13/lib/python3.13/lib-dynload',\n",
       " '',\n",
       " '/Users/VG/Library/Python/3.13/lib/python/site-packages',\n",
       " '/Library/Frameworks/Python.framework/Versions/3.13/lib/python3.13/site-packages',\n",
       " '/Users/VG/Documents/TechProEducation/Data Science/Modules']"
      ]
     },
     "execution_count": 6,
     "metadata": {},
     "output_type": "execute_result"
    }
   ],
   "source": [
    "sys.path"
   ]
  },
  {
   "cell_type": "code",
   "execution_count": 8,
   "id": "97b94791",
   "metadata": {},
   "outputs": [],
   "source": [
    "# define a function that performs the factorial operation\n",
    "def factorial(n):\n",
    "    r = 1\n",
    "    for i in range(2, n+1):\n",
    "        r *= i\n",
    "    return r"
   ]
  },
  {
   "cell_type": "code",
   "execution_count": 9,
   "id": "c9bdae4b",
   "metadata": {},
   "outputs": [
    {
     "data": {
      "text/plain": [
       "120"
      ]
     },
     "execution_count": 9,
     "metadata": {},
     "output_type": "execute_result"
    }
   ],
   "source": [
    "factorial(5)"
   ]
  },
  {
   "cell_type": "code",
   "execution_count": 10,
   "id": "b66a8891",
   "metadata": {},
   "outputs": [],
   "source": [
    "def factorial_2(n):\n",
    "    a = 1\n",
    "    i = 1\n",
    "    while a <= n:\n",
    "        i = i * a\n",
    "        a += 1\n",
    "    return i"
   ]
  },
  {
   "cell_type": "code",
   "execution_count": 11,
   "id": "3eecc206",
   "metadata": {},
   "outputs": [
    {
     "data": {
      "text/plain": [
       "720"
      ]
     },
     "execution_count": 11,
     "metadata": {},
     "output_type": "execute_result"
    }
   ],
   "source": [
    "factorial_2(6)"
   ]
  },
  {
   "cell_type": "code",
   "execution_count": 13,
   "id": "7c66d6b5",
   "metadata": {},
   "outputs": [],
   "source": [
    "def factorial_3(x):\n",
    "    '''This function calculates factorial of a number'''\n",
    "    if x == 0:\n",
    "        return 1\n",
    "    else:\n",
    "        return x * factorial_3(x - 1)"
   ]
  },
  {
   "cell_type": "code",
   "execution_count": 14,
   "id": "f27da11c",
   "metadata": {},
   "outputs": [
    {
     "data": {
      "text/plain": [
       "5040"
      ]
     },
     "execution_count": 14,
     "metadata": {},
     "output_type": "execute_result"
    }
   ],
   "source": [
    "factorial_3(7)"
   ]
  },
  {
   "cell_type": "code",
   "execution_count": 15,
   "id": "fd2b7546",
   "metadata": {},
   "outputs": [],
   "source": [
    "# define a function that calculates n number of Fibonacci series\n",
    "def fibonacci(n):\n",
    "    fib_series = [0, 1]\n",
    "    while len(fib_series) < n:\n",
    "        next_value = fib_series[-1] + fib_series[-2]\n",
    "        fib_series.append(next_value)\n",
    "    return fib_series"
   ]
  },
  {
   "cell_type": "code",
   "execution_count": 16,
   "id": "bd3bf099",
   "metadata": {},
   "outputs": [
    {
     "data": {
      "text/plain": [
       "[0, 1, 1, 2, 3, 5, 8, 13, 21, 34]"
      ]
     },
     "execution_count": 16,
     "metadata": {},
     "output_type": "execute_result"
    }
   ],
   "source": [
    "fibonacci(10)"
   ]
  },
  {
   "cell_type": "markdown",
   "id": "aec6f450",
   "metadata": {},
   "source": [
    "### different ways of importing modules along with their respective functions, methods, and parameters or variables"
   ]
  },
  {
   "cell_type": "markdown",
   "id": "7a1b1a3f",
   "metadata": {},
   "source": [
    "#### 1st way\n",
    "\n",
    "- importing just the module"
   ]
  },
  {
   "cell_type": "code",
   "execution_count": 1,
   "id": "9daff3be",
   "metadata": {},
   "outputs": [],
   "source": [
    "# importing just the module\n",
    "import useful_functions\n",
    "# when you import just the modulem you have to call the \n",
    "# module to use the functions or variables inside it"
   ]
  },
  {
   "cell_type": "code",
   "execution_count": 2,
   "id": "3e9cae8f",
   "metadata": {},
   "outputs": [
    {
     "data": {
      "text/plain": [
       "24"
      ]
     },
     "execution_count": 2,
     "metadata": {},
     "output_type": "execute_result"
    }
   ],
   "source": [
    "useful_functions.factorial_3(4)"
   ]
  },
  {
   "cell_type": "code",
   "execution_count": 3,
   "id": "cbbc1e41",
   "metadata": {},
   "outputs": [
    {
     "ename": "NameError",
     "evalue": "name 'factorial_3' is not defined",
     "output_type": "error",
     "traceback": [
      "\u001b[31m---------------------------------------------------------------------------\u001b[39m",
      "\u001b[31mNameError\u001b[39m                                 Traceback (most recent call last)",
      "\u001b[36mCell\u001b[39m\u001b[36m \u001b[39m\u001b[32mIn[3]\u001b[39m\u001b[32m, line 2\u001b[39m\n\u001b[32m      1\u001b[39m \u001b[38;5;66;03m# as I imported module itself, I cannot call the function without the module\u001b[39;00m\n\u001b[32m----> \u001b[39m\u001b[32m2\u001b[39m \u001b[43mfactorial_3\u001b[49m(\u001b[32m4\u001b[39m)\n",
      "\u001b[31mNameError\u001b[39m: name 'factorial_3' is not defined"
     ]
    }
   ],
   "source": [
    "# as I imported module itself, I cannot call the function without the module\n",
    "factorial_3(4)"
   ]
  },
  {
   "cell_type": "markdown",
   "id": "d00f5946",
   "metadata": {},
   "source": [
    "#### 2nd way\n",
    "\n",
    "- you can call the module with a nickname or an alias"
   ]
  },
  {
   "cell_type": "code",
   "execution_count": 5,
   "id": "22851cf2",
   "metadata": {},
   "outputs": [],
   "source": [
    "# you can call the module with a nickname or an alias\n",
    "import useful_functions as us_fun\n",
    "# again, as we are only importing the module, we can access or use the functions\n",
    "# or variables though the module, the only differences is that we use the alias\n",
    "# or nickname instead of the module"
   ]
  },
  {
   "cell_type": "code",
   "execution_count": 6,
   "id": "57e97b97",
   "metadata": {},
   "outputs": [
    {
     "data": {
      "text/plain": [
       "[0, 1, 1, 2, 3, 5, 8, 13, 21, 34]"
      ]
     },
     "execution_count": 6,
     "metadata": {},
     "output_type": "execute_result"
    }
   ],
   "source": [
    "us_fun.fibonacci(10)"
   ]
  },
  {
   "cell_type": "code",
   "execution_count": 7,
   "id": "c43fd18c",
   "metadata": {},
   "outputs": [],
   "source": [
    "# you can import a specific funtion or variable from a module\n",
    "from useful_functions import pi\n",
    "# now that you are directly importing a function or variable,\n",
    "# you caont need the module itself in order to use the imported element"
   ]
  },
  {
   "cell_type": "markdown",
   "id": "f76f46d0",
   "metadata": {},
   "source": [
    "#### 3rd way\n",
    "\n",
    "- you can give a nickanme while importing specific functions or variables"
   ]
  },
  {
   "cell_type": "code",
   "execution_count": null,
   "id": "1cc4e8ac",
   "metadata": {},
   "outputs": [
    {
     "data": {
      "text/plain": [
       "[0, 1, 1, 2, 3, 5, 8, 13, 21, 34, 55, 89, 144, 233, 377]"
      ]
     },
     "execution_count": 8,
     "metadata": {},
     "output_type": "execute_result"
    }
   ],
   "source": [
    "# you can give a nickanme while importing specific functions or variables\n",
    "from useful_functions import fibonacci as fib\n",
    "\n",
    "fib(15)"
   ]
  },
  {
   "cell_type": "markdown",
   "id": "12bdd41a",
   "metadata": {},
   "source": [
    "#### 4th way\n",
    "\n",
    "- you can import multiple functions or variables from a module"
   ]
  },
  {
   "cell_type": "code",
   "execution_count": 9,
   "id": "a1e509f5",
   "metadata": {},
   "outputs": [],
   "source": [
    "# if you want to import multiple functions or variables from a module\n",
    "from useful_functions import factorial_3, pi"
   ]
  },
  {
   "cell_type": "code",
   "execution_count": 10,
   "id": "e8afdc89",
   "metadata": {},
   "outputs": [
    {
     "data": {
      "text/plain": [
       "3.14"
      ]
     },
     "execution_count": 10,
     "metadata": {},
     "output_type": "execute_result"
    }
   ],
   "source": [
    "pi"
   ]
  },
  {
   "cell_type": "code",
   "execution_count": 11,
   "id": "402e2ef6",
   "metadata": {},
   "outputs": [
    {
     "data": {
      "text/plain": [
       "120"
      ]
     },
     "execution_count": 11,
     "metadata": {},
     "output_type": "execute_result"
    }
   ],
   "source": [
    "factorial_3(5)"
   ]
  },
  {
   "cell_type": "code",
   "execution_count": null,
   "id": "d6a1f4ec",
   "metadata": {},
   "outputs": [
    {
     "ename": "NameError",
     "evalue": "name 'fibonacci' is not defined",
     "output_type": "error",
     "traceback": [
      "\u001b[31m---------------------------------------------------------------------------\u001b[39m",
      "\u001b[31mNameError\u001b[39m                                 Traceback (most recent call last)",
      "\u001b[36mCell\u001b[39m\u001b[36m \u001b[39m\u001b[32mIn[12]\u001b[39m\u001b[32m, line 1\u001b[39m\n\u001b[32m----> \u001b[39m\u001b[32m1\u001b[39m \u001b[43mfibonacci\u001b[49m(\u001b[32m15\u001b[39m)\n",
      "\u001b[31mNameError\u001b[39m: name 'fibonacci' is not defined"
     ]
    }
   ],
   "source": [
    "# because i did not import the module itself, I can directly call the function\n",
    "fibonacci(15)"
   ]
  },
  {
   "cell_type": "markdown",
   "id": "85fcc3e5",
   "metadata": {},
   "source": [
    "#### 5th way\n",
    "\n",
    "- import all functions and paramters with *"
   ]
  },
  {
   "cell_type": "code",
   "execution_count": 14,
   "id": "53fe43f0",
   "metadata": {},
   "outputs": [
    {
     "data": {
      "text/plain": [
       "[0, 1, 1, 2, 3, 5, 8, 13, 21, 34, 55, 89]"
      ]
     },
     "execution_count": 14,
     "metadata": {},
     "output_type": "execute_result"
    }
   ],
   "source": [
    "# if you want to import all functions and paramters\n",
    "# * means all\n",
    "from useful_functions import *\n",
    "\n",
    "fibonacci(12)\n",
    "# fibonacci is recognized because we imported all functions and variables"
   ]
  },
  {
   "cell_type": "code",
   "execution_count": 1,
   "id": "49f4a0e2",
   "metadata": {},
   "outputs": [],
   "source": [
    "import useful_functions"
   ]
  },
  {
   "cell_type": "code",
   "execution_count": null,
   "id": "3cf2ede7",
   "metadata": {},
   "outputs": [
    {
     "data": {
      "text/plain": [
       "'/Users/VG/Documents/TechProEducation/Data Science/Modules/useful_functions.py'"
      ]
     },
     "execution_count": 16,
     "metadata": {},
     "output_type": "execute_result"
    }
   ],
   "source": [
    "useful_functions.__file__\n",
    "# the location of the module file\n",
    "# these methods are provided by python"
   ]
  },
  {
   "cell_type": "code",
   "execution_count": 17,
   "id": "30ce70d8",
   "metadata": {},
   "outputs": [
    {
     "data": {
      "text/plain": [
       "'useful_functions'"
      ]
     },
     "execution_count": 17,
     "metadata": {},
     "output_type": "execute_result"
    }
   ],
   "source": [
    "useful_functions.__name__"
   ]
  },
  {
   "cell_type": "code",
   "execution_count": 2,
   "id": "3a3e2551",
   "metadata": {},
   "outputs": [
    {
     "data": {
      "text/plain": [
       "'This module contains some useful functions and variables'"
      ]
     },
     "execution_count": 2,
     "metadata": {},
     "output_type": "execute_result"
    }
   ],
   "source": [
    "useful_functions.__doc__"
   ]
  },
  {
   "cell_type": "code",
   "execution_count": 3,
   "id": "10496d19",
   "metadata": {},
   "outputs": [
    {
     "ename": "ModuleNotFoundError",
     "evalue": "No module named 'games'",
     "output_type": "error",
     "traceback": [
      "\u001b[31m---------------------------------------------------------------------------\u001b[39m",
      "\u001b[31mModuleNotFoundError\u001b[39m                       Traceback (most recent call last)",
      "\u001b[36mCell\u001b[39m\u001b[36m \u001b[39m\u001b[32mIn[3]\u001b[39m\u001b[32m, line 1\u001b[39m\n\u001b[32m----> \u001b[39m\u001b[32m1\u001b[39m \u001b[38;5;28;01mimport\u001b[39;00m\u001b[38;5;250m \u001b[39m\u001b[34;01mgames\u001b[39;00m\n\u001b[32m      2\u001b[39m \u001b[38;5;66;03m# as modules module is in another location, we are not able to import it directly\u001b[39;00m\n",
      "\u001b[31mModuleNotFoundError\u001b[39m: No module named 'games'"
     ]
    }
   ],
   "source": [
    "import games\n",
    "# as modules module is in another location, we are not able to import it directly"
   ]
  },
  {
   "cell_type": "code",
   "execution_count": 4,
   "id": "5fe81af8",
   "metadata": {},
   "outputs": [
    {
     "data": {
      "text/plain": [
       "['/Library/Frameworks/Python.framework/Versions/3.13/lib/python313.zip',\n",
       " '/Library/Frameworks/Python.framework/Versions/3.13/lib/python3.13',\n",
       " '/Library/Frameworks/Python.framework/Versions/3.13/lib/python3.13/lib-dynload',\n",
       " '',\n",
       " '/Users/VG/Library/Python/3.13/lib/python/site-packages',\n",
       " '/Library/Frameworks/Python.framework/Versions/3.13/lib/python3.13/site-packages']"
      ]
     },
     "execution_count": 4,
     "metadata": {},
     "output_type": "execute_result"
    }
   ],
   "source": [
    "import sys\n",
    "sys.path"
   ]
  }
 ],
 "metadata": {
  "kernelspec": {
   "display_name": "Python 3",
   "language": "python",
   "name": "python3"
  },
  "language_info": {
   "codemirror_mode": {
    "name": "ipython",
    "version": 3
   },
   "file_extension": ".py",
   "mimetype": "text/x-python",
   "name": "python",
   "nbconvert_exporter": "python",
   "pygments_lexer": "ipython3",
   "version": "3.13.7"
  }
 },
 "nbformat": 4,
 "nbformat_minor": 5
}
